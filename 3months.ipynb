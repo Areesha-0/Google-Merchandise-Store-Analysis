{
 "cells": [
  {
   "cell_type": "markdown",
   "id": "39a474f5",
   "metadata": {},
   "source": [
    "# Analysing Google Merchandise Store Website Performance"
   ]
  },
  {
   "cell_type": "code",
   "execution_count": 1,
   "id": "1b2b1e86",
   "metadata": {},
   "outputs": [],
   "source": [
    "import pandas as pd\n",
    "import numpy as np\n",
    "import matplotlib.pyplot as plt\n",
    "import warnings\n",
    "warnings.filterwarnings(\"ignore\")"
   ]
  },
  {
   "cell_type": "markdown",
   "id": "55bdcd3d",
   "metadata": {},
   "source": [
    "# Data Preprocessing and Cleaning"
   ]
  },
  {
   "cell_type": "code",
   "execution_count": 2,
   "id": "1b0be425",
   "metadata": {},
   "outputs": [],
   "source": [
    "data = pd.read_csv('ga_data.csv')"
   ]
  },
  {
   "cell_type": "code",
   "execution_count": 3,
   "id": "3b9813d5",
   "metadata": {},
   "outputs": [
    {
     "data": {
      "text/html": [
       "<div>\n",
       "<style scoped>\n",
       "    .dataframe tbody tr th:only-of-type {\n",
       "        vertical-align: middle;\n",
       "    }\n",
       "\n",
       "    .dataframe tbody tr th {\n",
       "        vertical-align: top;\n",
       "    }\n",
       "\n",
       "    .dataframe thead th {\n",
       "        text-align: right;\n",
       "    }\n",
       "</style>\n",
       "<table border=\"1\" class=\"dataframe\">\n",
       "  <thead>\n",
       "    <tr style=\"text-align: right;\">\n",
       "      <th></th>\n",
       "      <th>Unnamed: 0</th>\n",
       "      <th>event_date</th>\n",
       "      <th>event_timestamp</th>\n",
       "      <th>event_name</th>\n",
       "      <th>event_params</th>\n",
       "      <th>event_previous_timestamp</th>\n",
       "      <th>event_value_in_usd</th>\n",
       "      <th>event_bundle_sequence_id</th>\n",
       "      <th>event_server_timestamp_offset</th>\n",
       "      <th>user_id</th>\n",
       "      <th>...</th>\n",
       "      <th>user_ltv</th>\n",
       "      <th>device</th>\n",
       "      <th>geo</th>\n",
       "      <th>app_info</th>\n",
       "      <th>traffic_source</th>\n",
       "      <th>stream_id</th>\n",
       "      <th>platform</th>\n",
       "      <th>event_dimensions</th>\n",
       "      <th>ecommerce</th>\n",
       "      <th>items</th>\n",
       "    </tr>\n",
       "  </thead>\n",
       "  <tbody>\n",
       "    <tr>\n",
       "      <th>0</th>\n",
       "      <td>0</td>\n",
       "      <td>20201101</td>\n",
       "      <td>1604192073036492</td>\n",
       "      <td>page_view</td>\n",
       "      <td>[{'key': 'page_title', 'value': {'string_value...</td>\n",
       "      <td>NaN</td>\n",
       "      <td>NaN</td>\n",
       "      <td>2351439526</td>\n",
       "      <td>NaN</td>\n",
       "      <td>NaN</td>\n",
       "      <td>...</td>\n",
       "      <td>{'revenue': 0.0, 'currency': 'USD'}</td>\n",
       "      <td>{'category': 'desktop', 'mobile_brand_name': '...</td>\n",
       "      <td>{'continent': 'Asia', 'sub_continent': 'Southe...</td>\n",
       "      <td>NaN</td>\n",
       "      <td>{'medium': 'organic', 'name': '(organic)', 'so...</td>\n",
       "      <td>2100450278</td>\n",
       "      <td>WEB</td>\n",
       "      <td>NaN</td>\n",
       "      <td>{'total_item_quantity': None, 'purchase_revenu...</td>\n",
       "      <td>[]</td>\n",
       "    </tr>\n",
       "    <tr>\n",
       "      <th>1</th>\n",
       "      <td>1</td>\n",
       "      <td>20201101</td>\n",
       "      <td>1604192073036492</td>\n",
       "      <td>first_visit</td>\n",
       "      <td>[{'key': 'session_engaged', 'value': {'string_...</td>\n",
       "      <td>NaN</td>\n",
       "      <td>NaN</td>\n",
       "      <td>2351439526</td>\n",
       "      <td>NaN</td>\n",
       "      <td>NaN</td>\n",
       "      <td>...</td>\n",
       "      <td>{'revenue': 0.0, 'currency': 'USD'}</td>\n",
       "      <td>{'category': 'desktop', 'mobile_brand_name': '...</td>\n",
       "      <td>{'continent': 'Asia', 'sub_continent': 'Southe...</td>\n",
       "      <td>NaN</td>\n",
       "      <td>{'medium': 'organic', 'name': '(organic)', 'so...</td>\n",
       "      <td>2100450278</td>\n",
       "      <td>WEB</td>\n",
       "      <td>NaN</td>\n",
       "      <td>{'total_item_quantity': None, 'purchase_revenu...</td>\n",
       "      <td>[]</td>\n",
       "    </tr>\n",
       "    <tr>\n",
       "      <th>2</th>\n",
       "      <td>2</td>\n",
       "      <td>20201101</td>\n",
       "      <td>1604192082302672</td>\n",
       "      <td>user_engagement</td>\n",
       "      <td>[{'key': 'dclid', 'value': {'string_value': No...</td>\n",
       "      <td>NaN</td>\n",
       "      <td>NaN</td>\n",
       "      <td>-4853805495</td>\n",
       "      <td>NaN</td>\n",
       "      <td>NaN</td>\n",
       "      <td>...</td>\n",
       "      <td>{'revenue': 0.0, 'currency': 'USD'}</td>\n",
       "      <td>{'category': 'desktop', 'mobile_brand_name': '...</td>\n",
       "      <td>{'continent': 'Asia', 'sub_continent': 'Southe...</td>\n",
       "      <td>NaN</td>\n",
       "      <td>{'medium': 'organic', 'name': '(organic)', 'so...</td>\n",
       "      <td>2100450278</td>\n",
       "      <td>WEB</td>\n",
       "      <td>NaN</td>\n",
       "      <td>{'total_item_quantity': None, 'purchase_revenu...</td>\n",
       "      <td>[]</td>\n",
       "    </tr>\n",
       "    <tr>\n",
       "      <th>3</th>\n",
       "      <td>3</td>\n",
       "      <td>20201101</td>\n",
       "      <td>1604192073036492</td>\n",
       "      <td>session_start</td>\n",
       "      <td>[{'key': 'page_location', 'value': {'string_va...</td>\n",
       "      <td>NaN</td>\n",
       "      <td>NaN</td>\n",
       "      <td>2351439526</td>\n",
       "      <td>NaN</td>\n",
       "      <td>NaN</td>\n",
       "      <td>...</td>\n",
       "      <td>{'revenue': 0.0, 'currency': 'USD'}</td>\n",
       "      <td>{'category': 'desktop', 'mobile_brand_name': '...</td>\n",
       "      <td>{'continent': 'Asia', 'sub_continent': 'Southe...</td>\n",
       "      <td>NaN</td>\n",
       "      <td>{'medium': 'organic', 'name': '(organic)', 'so...</td>\n",
       "      <td>2100450278</td>\n",
       "      <td>WEB</td>\n",
       "      <td>NaN</td>\n",
       "      <td>{'total_item_quantity': None, 'purchase_revenu...</td>\n",
       "      <td>[]</td>\n",
       "    </tr>\n",
       "    <tr>\n",
       "      <th>4</th>\n",
       "      <td>4</td>\n",
       "      <td>20201101</td>\n",
       "      <td>1604202750089608</td>\n",
       "      <td>user_engagement</td>\n",
       "      <td>[{'key': 'all_data', 'value': {'string_value':...</td>\n",
       "      <td>NaN</td>\n",
       "      <td>NaN</td>\n",
       "      <td>7473184003</td>\n",
       "      <td>NaN</td>\n",
       "      <td>NaN</td>\n",
       "      <td>...</td>\n",
       "      <td>{'revenue': 0.0, 'currency': 'USD'}</td>\n",
       "      <td>{'category': 'mobile', 'mobile_brand_name': 'S...</td>\n",
       "      <td>{'continent': 'Americas', 'sub_continent': 'No...</td>\n",
       "      <td>NaN</td>\n",
       "      <td>{'medium': '(none)', 'name': '(direct)', 'sour...</td>\n",
       "      <td>2100450278</td>\n",
       "      <td>WEB</td>\n",
       "      <td>NaN</td>\n",
       "      <td>{'total_item_quantity': None, 'purchase_revenu...</td>\n",
       "      <td>[]</td>\n",
       "    </tr>\n",
       "  </tbody>\n",
       "</table>\n",
       "<p>5 rows × 24 columns</p>\n",
       "</div>"
      ],
      "text/plain": [
       "   Unnamed: 0  event_date   event_timestamp       event_name  \\\n",
       "0           0    20201101  1604192073036492        page_view   \n",
       "1           1    20201101  1604192073036492      first_visit   \n",
       "2           2    20201101  1604192082302672  user_engagement   \n",
       "3           3    20201101  1604192073036492    session_start   \n",
       "4           4    20201101  1604202750089608  user_engagement   \n",
       "\n",
       "                                        event_params  \\\n",
       "0  [{'key': 'page_title', 'value': {'string_value...   \n",
       "1  [{'key': 'session_engaged', 'value': {'string_...   \n",
       "2  [{'key': 'dclid', 'value': {'string_value': No...   \n",
       "3  [{'key': 'page_location', 'value': {'string_va...   \n",
       "4  [{'key': 'all_data', 'value': {'string_value':...   \n",
       "\n",
       "   event_previous_timestamp  event_value_in_usd  event_bundle_sequence_id  \\\n",
       "0                       NaN                 NaN                2351439526   \n",
       "1                       NaN                 NaN                2351439526   \n",
       "2                       NaN                 NaN               -4853805495   \n",
       "3                       NaN                 NaN                2351439526   \n",
       "4                       NaN                 NaN                7473184003   \n",
       "\n",
       "   event_server_timestamp_offset  user_id  ...  \\\n",
       "0                            NaN      NaN  ...   \n",
       "1                            NaN      NaN  ...   \n",
       "2                            NaN      NaN  ...   \n",
       "3                            NaN      NaN  ...   \n",
       "4                            NaN      NaN  ...   \n",
       "\n",
       "                              user_ltv  \\\n",
       "0  {'revenue': 0.0, 'currency': 'USD'}   \n",
       "1  {'revenue': 0.0, 'currency': 'USD'}   \n",
       "2  {'revenue': 0.0, 'currency': 'USD'}   \n",
       "3  {'revenue': 0.0, 'currency': 'USD'}   \n",
       "4  {'revenue': 0.0, 'currency': 'USD'}   \n",
       "\n",
       "                                              device  \\\n",
       "0  {'category': 'desktop', 'mobile_brand_name': '...   \n",
       "1  {'category': 'desktop', 'mobile_brand_name': '...   \n",
       "2  {'category': 'desktop', 'mobile_brand_name': '...   \n",
       "3  {'category': 'desktop', 'mobile_brand_name': '...   \n",
       "4  {'category': 'mobile', 'mobile_brand_name': 'S...   \n",
       "\n",
       "                                                 geo  app_info  \\\n",
       "0  {'continent': 'Asia', 'sub_continent': 'Southe...       NaN   \n",
       "1  {'continent': 'Asia', 'sub_continent': 'Southe...       NaN   \n",
       "2  {'continent': 'Asia', 'sub_continent': 'Southe...       NaN   \n",
       "3  {'continent': 'Asia', 'sub_continent': 'Southe...       NaN   \n",
       "4  {'continent': 'Americas', 'sub_continent': 'No...       NaN   \n",
       "\n",
       "                                      traffic_source   stream_id platform  \\\n",
       "0  {'medium': 'organic', 'name': '(organic)', 'so...  2100450278      WEB   \n",
       "1  {'medium': 'organic', 'name': '(organic)', 'so...  2100450278      WEB   \n",
       "2  {'medium': 'organic', 'name': '(organic)', 'so...  2100450278      WEB   \n",
       "3  {'medium': 'organic', 'name': '(organic)', 'so...  2100450278      WEB   \n",
       "4  {'medium': '(none)', 'name': '(direct)', 'sour...  2100450278      WEB   \n",
       "\n",
       "   event_dimensions                                          ecommerce  items  \n",
       "0               NaN  {'total_item_quantity': None, 'purchase_revenu...     []  \n",
       "1               NaN  {'total_item_quantity': None, 'purchase_revenu...     []  \n",
       "2               NaN  {'total_item_quantity': None, 'purchase_revenu...     []  \n",
       "3               NaN  {'total_item_quantity': None, 'purchase_revenu...     []  \n",
       "4               NaN  {'total_item_quantity': None, 'purchase_revenu...     []  \n",
       "\n",
       "[5 rows x 24 columns]"
      ]
     },
     "execution_count": 3,
     "metadata": {},
     "output_type": "execute_result"
    }
   ],
   "source": [
    "data.head()"
   ]
  },
  {
   "cell_type": "markdown",
   "id": "c6dda6cd",
   "metadata": {},
   "source": [
    "## Removing Columns"
   ]
  },
  {
   "cell_type": "code",
   "execution_count": 4,
   "id": "b45ac4bb",
   "metadata": {},
   "outputs": [],
   "source": [
    "# remove duplicate index column\n",
    "data.drop(['Unnamed: 0'], axis=1,inplace=True)"
   ]
  },
  {
   "cell_type": "code",
   "execution_count": 7,
   "id": "98e55c80",
   "metadata": {},
   "outputs": [
    {
     "data": {
      "text/html": [
       "<div>\n",
       "<style scoped>\n",
       "    .dataframe tbody tr th:only-of-type {\n",
       "        vertical-align: middle;\n",
       "    }\n",
       "\n",
       "    .dataframe tbody tr th {\n",
       "        vertical-align: top;\n",
       "    }\n",
       "\n",
       "    .dataframe thead th {\n",
       "        text-align: right;\n",
       "    }\n",
       "</style>\n",
       "<table border=\"1\" class=\"dataframe\">\n",
       "  <thead>\n",
       "    <tr style=\"text-align: right;\">\n",
       "      <th></th>\n",
       "      <th>event_date</th>\n",
       "      <th>event_timestamp</th>\n",
       "      <th>event_name</th>\n",
       "      <th>event_params</th>\n",
       "      <th>event_previous_timestamp</th>\n",
       "      <th>event_value_in_usd</th>\n",
       "      <th>event_bundle_sequence_id</th>\n",
       "      <th>event_server_timestamp_offset</th>\n",
       "      <th>user_id</th>\n",
       "      <th>user_pseudo_id</th>\n",
       "      <th>...</th>\n",
       "      <th>user_ltv</th>\n",
       "      <th>device</th>\n",
       "      <th>geo</th>\n",
       "      <th>app_info</th>\n",
       "      <th>traffic_source</th>\n",
       "      <th>stream_id</th>\n",
       "      <th>platform</th>\n",
       "      <th>event_dimensions</th>\n",
       "      <th>ecommerce</th>\n",
       "      <th>items</th>\n",
       "    </tr>\n",
       "  </thead>\n",
       "  <tbody>\n",
       "    <tr>\n",
       "      <th>0</th>\n",
       "      <td>20201101</td>\n",
       "      <td>1604192073036492</td>\n",
       "      <td>page_view</td>\n",
       "      <td>[{'key': 'page_title', 'value': {'string_value...</td>\n",
       "      <td>NaN</td>\n",
       "      <td>NaN</td>\n",
       "      <td>2351439526</td>\n",
       "      <td>NaN</td>\n",
       "      <td>NaN</td>\n",
       "      <td>1.005695e+06</td>\n",
       "      <td>...</td>\n",
       "      <td>{'revenue': 0.0, 'currency': 'USD'}</td>\n",
       "      <td>{'category': 'desktop', 'mobile_brand_name': '...</td>\n",
       "      <td>{'continent': 'Asia', 'sub_continent': 'Southe...</td>\n",
       "      <td>NaN</td>\n",
       "      <td>{'medium': 'organic', 'name': '(organic)', 'so...</td>\n",
       "      <td>2100450278</td>\n",
       "      <td>WEB</td>\n",
       "      <td>NaN</td>\n",
       "      <td>{'total_item_quantity': None, 'purchase_revenu...</td>\n",
       "      <td>[]</td>\n",
       "    </tr>\n",
       "    <tr>\n",
       "      <th>1</th>\n",
       "      <td>20201101</td>\n",
       "      <td>1604192073036492</td>\n",
       "      <td>first_visit</td>\n",
       "      <td>[{'key': 'session_engaged', 'value': {'string_...</td>\n",
       "      <td>NaN</td>\n",
       "      <td>NaN</td>\n",
       "      <td>2351439526</td>\n",
       "      <td>NaN</td>\n",
       "      <td>NaN</td>\n",
       "      <td>1.005695e+06</td>\n",
       "      <td>...</td>\n",
       "      <td>{'revenue': 0.0, 'currency': 'USD'}</td>\n",
       "      <td>{'category': 'desktop', 'mobile_brand_name': '...</td>\n",
       "      <td>{'continent': 'Asia', 'sub_continent': 'Southe...</td>\n",
       "      <td>NaN</td>\n",
       "      <td>{'medium': 'organic', 'name': '(organic)', 'so...</td>\n",
       "      <td>2100450278</td>\n",
       "      <td>WEB</td>\n",
       "      <td>NaN</td>\n",
       "      <td>{'total_item_quantity': None, 'purchase_revenu...</td>\n",
       "      <td>[]</td>\n",
       "    </tr>\n",
       "    <tr>\n",
       "      <th>2</th>\n",
       "      <td>20201101</td>\n",
       "      <td>1604192082302672</td>\n",
       "      <td>user_engagement</td>\n",
       "      <td>[{'key': 'dclid', 'value': {'string_value': No...</td>\n",
       "      <td>NaN</td>\n",
       "      <td>NaN</td>\n",
       "      <td>-4853805495</td>\n",
       "      <td>NaN</td>\n",
       "      <td>NaN</td>\n",
       "      <td>1.005695e+06</td>\n",
       "      <td>...</td>\n",
       "      <td>{'revenue': 0.0, 'currency': 'USD'}</td>\n",
       "      <td>{'category': 'desktop', 'mobile_brand_name': '...</td>\n",
       "      <td>{'continent': 'Asia', 'sub_continent': 'Southe...</td>\n",
       "      <td>NaN</td>\n",
       "      <td>{'medium': 'organic', 'name': '(organic)', 'so...</td>\n",
       "      <td>2100450278</td>\n",
       "      <td>WEB</td>\n",
       "      <td>NaN</td>\n",
       "      <td>{'total_item_quantity': None, 'purchase_revenu...</td>\n",
       "      <td>[]</td>\n",
       "    </tr>\n",
       "    <tr>\n",
       "      <th>3</th>\n",
       "      <td>20201101</td>\n",
       "      <td>1604192073036492</td>\n",
       "      <td>session_start</td>\n",
       "      <td>[{'key': 'page_location', 'value': {'string_va...</td>\n",
       "      <td>NaN</td>\n",
       "      <td>NaN</td>\n",
       "      <td>2351439526</td>\n",
       "      <td>NaN</td>\n",
       "      <td>NaN</td>\n",
       "      <td>1.005695e+06</td>\n",
       "      <td>...</td>\n",
       "      <td>{'revenue': 0.0, 'currency': 'USD'}</td>\n",
       "      <td>{'category': 'desktop', 'mobile_brand_name': '...</td>\n",
       "      <td>{'continent': 'Asia', 'sub_continent': 'Southe...</td>\n",
       "      <td>NaN</td>\n",
       "      <td>{'medium': 'organic', 'name': '(organic)', 'so...</td>\n",
       "      <td>2100450278</td>\n",
       "      <td>WEB</td>\n",
       "      <td>NaN</td>\n",
       "      <td>{'total_item_quantity': None, 'purchase_revenu...</td>\n",
       "      <td>[]</td>\n",
       "    </tr>\n",
       "    <tr>\n",
       "      <th>4</th>\n",
       "      <td>20201101</td>\n",
       "      <td>1604202750089608</td>\n",
       "      <td>user_engagement</td>\n",
       "      <td>[{'key': 'all_data', 'value': {'string_value':...</td>\n",
       "      <td>NaN</td>\n",
       "      <td>NaN</td>\n",
       "      <td>7473184003</td>\n",
       "      <td>NaN</td>\n",
       "      <td>NaN</td>\n",
       "      <td>1.013443e+06</td>\n",
       "      <td>...</td>\n",
       "      <td>{'revenue': 0.0, 'currency': 'USD'}</td>\n",
       "      <td>{'category': 'mobile', 'mobile_brand_name': 'S...</td>\n",
       "      <td>{'continent': 'Americas', 'sub_continent': 'No...</td>\n",
       "      <td>NaN</td>\n",
       "      <td>{'medium': '(none)', 'name': '(direct)', 'sour...</td>\n",
       "      <td>2100450278</td>\n",
       "      <td>WEB</td>\n",
       "      <td>NaN</td>\n",
       "      <td>{'total_item_quantity': None, 'purchase_revenu...</td>\n",
       "      <td>[]</td>\n",
       "    </tr>\n",
       "  </tbody>\n",
       "</table>\n",
       "<p>5 rows × 23 columns</p>\n",
       "</div>"
      ],
      "text/plain": [
       "   event_date   event_timestamp       event_name  \\\n",
       "0    20201101  1604192073036492        page_view   \n",
       "1    20201101  1604192073036492      first_visit   \n",
       "2    20201101  1604192082302672  user_engagement   \n",
       "3    20201101  1604192073036492    session_start   \n",
       "4    20201101  1604202750089608  user_engagement   \n",
       "\n",
       "                                        event_params  \\\n",
       "0  [{'key': 'page_title', 'value': {'string_value...   \n",
       "1  [{'key': 'session_engaged', 'value': {'string_...   \n",
       "2  [{'key': 'dclid', 'value': {'string_value': No...   \n",
       "3  [{'key': 'page_location', 'value': {'string_va...   \n",
       "4  [{'key': 'all_data', 'value': {'string_value':...   \n",
       "\n",
       "   event_previous_timestamp  event_value_in_usd  event_bundle_sequence_id  \\\n",
       "0                       NaN                 NaN                2351439526   \n",
       "1                       NaN                 NaN                2351439526   \n",
       "2                       NaN                 NaN               -4853805495   \n",
       "3                       NaN                 NaN                2351439526   \n",
       "4                       NaN                 NaN                7473184003   \n",
       "\n",
       "   event_server_timestamp_offset  user_id  user_pseudo_id  ...  \\\n",
       "0                            NaN      NaN    1.005695e+06  ...   \n",
       "1                            NaN      NaN    1.005695e+06  ...   \n",
       "2                            NaN      NaN    1.005695e+06  ...   \n",
       "3                            NaN      NaN    1.005695e+06  ...   \n",
       "4                            NaN      NaN    1.013443e+06  ...   \n",
       "\n",
       "                              user_ltv  \\\n",
       "0  {'revenue': 0.0, 'currency': 'USD'}   \n",
       "1  {'revenue': 0.0, 'currency': 'USD'}   \n",
       "2  {'revenue': 0.0, 'currency': 'USD'}   \n",
       "3  {'revenue': 0.0, 'currency': 'USD'}   \n",
       "4  {'revenue': 0.0, 'currency': 'USD'}   \n",
       "\n",
       "                                              device  \\\n",
       "0  {'category': 'desktop', 'mobile_brand_name': '...   \n",
       "1  {'category': 'desktop', 'mobile_brand_name': '...   \n",
       "2  {'category': 'desktop', 'mobile_brand_name': '...   \n",
       "3  {'category': 'desktop', 'mobile_brand_name': '...   \n",
       "4  {'category': 'mobile', 'mobile_brand_name': 'S...   \n",
       "\n",
       "                                                 geo app_info  \\\n",
       "0  {'continent': 'Asia', 'sub_continent': 'Southe...      NaN   \n",
       "1  {'continent': 'Asia', 'sub_continent': 'Southe...      NaN   \n",
       "2  {'continent': 'Asia', 'sub_continent': 'Southe...      NaN   \n",
       "3  {'continent': 'Asia', 'sub_continent': 'Southe...      NaN   \n",
       "4  {'continent': 'Americas', 'sub_continent': 'No...      NaN   \n",
       "\n",
       "                                      traffic_source   stream_id  platform  \\\n",
       "0  {'medium': 'organic', 'name': '(organic)', 'so...  2100450278       WEB   \n",
       "1  {'medium': 'organic', 'name': '(organic)', 'so...  2100450278       WEB   \n",
       "2  {'medium': 'organic', 'name': '(organic)', 'so...  2100450278       WEB   \n",
       "3  {'medium': 'organic', 'name': '(organic)', 'so...  2100450278       WEB   \n",
       "4  {'medium': '(none)', 'name': '(direct)', 'sour...  2100450278       WEB   \n",
       "\n",
       "  event_dimensions                                          ecommerce items  \n",
       "0              NaN  {'total_item_quantity': None, 'purchase_revenu...    []  \n",
       "1              NaN  {'total_item_quantity': None, 'purchase_revenu...    []  \n",
       "2              NaN  {'total_item_quantity': None, 'purchase_revenu...    []  \n",
       "3              NaN  {'total_item_quantity': None, 'purchase_revenu...    []  \n",
       "4              NaN  {'total_item_quantity': None, 'purchase_revenu...    []  \n",
       "\n",
       "[5 rows x 23 columns]"
      ]
     },
     "execution_count": 7,
     "metadata": {},
     "output_type": "execute_result"
    }
   ],
   "source": [
    "data.head()"
   ]
  },
  {
   "cell_type": "code",
   "execution_count": 8,
   "id": "186eddc2",
   "metadata": {},
   "outputs": [
    {
     "data": {
      "text/plain": [
       "Index(['event_date', 'event_timestamp', 'event_name', 'event_params',\n",
       "       'event_previous_timestamp', 'event_value_in_usd',\n",
       "       'event_bundle_sequence_id', 'event_server_timestamp_offset', 'user_id',\n",
       "       'user_pseudo_id', 'privacy_info', 'user_properties',\n",
       "       'user_first_touch_timestamp', 'user_ltv', 'device', 'geo', 'app_info',\n",
       "       'traffic_source', 'stream_id', 'platform', 'event_dimensions',\n",
       "       'ecommerce', 'items'],\n",
       "      dtype='object')"
      ]
     },
     "execution_count": 8,
     "metadata": {},
     "output_type": "execute_result"
    }
   ],
   "source": [
    "data.columns"
   ]
  },
  {
   "cell_type": "code",
   "execution_count": 9,
   "id": "6b5c4512",
   "metadata": {},
   "outputs": [
    {
     "data": {
      "text/plain": [
       "array([nan])"
      ]
     },
     "execution_count": 9,
     "metadata": {},
     "output_type": "execute_result"
    }
   ],
   "source": [
    "data['event_previous_timestamp'].unique()"
   ]
  },
  {
   "cell_type": "code",
   "execution_count": 10,
   "id": "f736abb7",
   "metadata": {},
   "outputs": [
    {
     "data": {
      "text/plain": [
       "array([     nan, 2.50e+01, 1.30e+01, 5.50e+01, 5.90e+01, 3.20e+01,\n",
       "       1.20e+02, 7.20e+01, 3.40e+01, 6.00e+01, 8.70e+01, 4.60e+01,\n",
       "       4.80e+01, 6.30e+01, 3.80e+01, 1.00e+01, 4.20e+01, 2.40e+01,\n",
       "       1.92e+02, 5.60e+01, 1.03e+02, 3.50e+01, 2.80e+01, 5.80e+01,\n",
       "       5.00e+01, 6.50e+01, 8.30e+01, 1.75e+02, 1.33e+02, 1.91e+02,\n",
       "       9.30e+01, 2.12e+02, 1.51e+02, 8.60e+01, 1.37e+02, 2.00e+01,\n",
       "       8.50e+01, 4.90e+01, 6.70e+01, 1.70e+02, 6.60e+01, 5.10e+01,\n",
       "       1.40e+02, 1.27e+02, 9.98e+02, 9.00e+01, 1.62e+02, 1.64e+02,\n",
       "       1.10e+01, 3.00e+01, 1.20e+01, 3.70e+01, 1.30e+02, 2.20e+01,\n",
       "       1.11e+02, 1.70e+01, 2.70e+01, 5.40e+01, 7.40e+01, 8.80e+01,\n",
       "       4.40e+01, 4.00e+01, 5.20e+01, 1.41e+02, 6.80e+01, 8.10e+01,\n",
       "       3.60e+01, 2.19e+02, 1.16e+02, 2.79e+02, 1.83e+02, 4.70e+01,\n",
       "       6.90e+01, 1.80e+01, 1.60e+01, 9.60e+01, 2.30e+01, 8.40e+01,\n",
       "       3.30e+01, 8.00e+00, 1.10e+02, 1.06e+02, 1.28e+02, 9.70e+01,\n",
       "       4.00e+00, 9.20e+01, 1.40e+01, 7.00e+01, 5.30e+01, 7.10e+01,\n",
       "       1.17e+02, 1.45e+02, 8.90e+01, 2.65e+02, 1.00e+02, 6.10e+01,\n",
       "       1.50e+01, 2.10e+01, 4.10e+01, 4.30e+01, 1.12e+02, 1.22e+02,\n",
       "       9.40e+01, 3.90e+01, 1.99e+02, 3.05e+02, 1.38e+02, 1.44e+02,\n",
       "       2.20e+02, 1.35e+02, 1.39e+02, 7.90e+01, 1.82e+02, 2.24e+02,\n",
       "       2.04e+02, 2.35e+02, 2.60e+01, 8.20e+01, 7.30e+01, 1.93e+02,\n",
       "       2.06e+02, 2.72e+02, 1.04e+02, 2.92e+02, 1.15e+02, 1.49e+02,\n",
       "       7.18e+02, 3.00e+00, 2.90e+01, 6.40e+01, 9.80e+01, 1.90e+01,\n",
       "       1.77e+02, 6.20e+01, 5.70e+01, 9.90e+01, 3.10e+01, 7.60e+01,\n",
       "       8.00e+01, 1.55e+02, 2.00e+02, 2.99e+02, 3.11e+02, 1.00e+00,\n",
       "       7.00e+00, 7.80e+01, 1.36e+02, 4.50e+01, 1.19e+02, 6.05e+02,\n",
       "       1.01e+02, 3.01e+02, 1.21e+02, 1.65e+02, 4.01e+02, 9.10e+01,\n",
       "       1.08e+02, 1.32e+02, 1.69e+02, 1.52e+02, 1.68e+02, 1.84e+02,\n",
       "       6.00e+00, 1.24e+02, 2.88e+02, 1.17e+03, 1.43e+02, 1.02e+02,\n",
       "       2.87e+02, 1.46e+02, 3.54e+02, 2.62e+02, 1.74e+02, 1.29e+02,\n",
       "       1.25e+02, 2.14e+02, 9.50e+01, 3.25e+02, 4.06e+02, 2.31e+02,\n",
       "       2.11e+02, 1.71e+02, 1.26e+02, 1.98e+02, 1.54e+02, 2.47e+02,\n",
       "       1.09e+02, 1.31e+02, 2.03e+02, 2.09e+02, 1.88e+02, 5.00e+00,\n",
       "       1.76e+02, 1.42e+02, 1.18e+02, 4.77e+02, 5.14e+02, 2.63e+02,\n",
       "       3.39e+02, 3.40e+02, 2.54e+02, 3.23e+02, 4.52e+02, 1.85e+02,\n",
       "       1.61e+02, 2.85e+02, 7.70e+01, 1.72e+02, 1.23e+02, 3.09e+02,\n",
       "       2.45e+02, 9.00e+00, 2.70e+02, 2.00e+00, 2.48e+02, 2.80e+02,\n",
       "       1.66e+02, 1.53e+02, 3.52e+02, 1.56e+02, 1.47e+02, 4.74e+02,\n",
       "       1.13e+02, 2.28e+02, 1.78e+02, 2.07e+02, 1.59e+02, 5.88e+02,\n",
       "       2.66e+02, 8.06e+02, 2.91e+02, 7.50e+01, 2.26e+02, 1.89e+02,\n",
       "       1.81e+02, 2.98e+02, 1.57e+02, 2.15e+02, 1.63e+02, 1.50e+02,\n",
       "       1.67e+02, 2.18e+02, 5.22e+02, 3.77e+02, 2.08e+02, 2.33e+02,\n",
       "       2.43e+02, 2.39e+02, 2.10e+02, 1.34e+02, 1.14e+02, 1.07e+02,\n",
       "       1.86e+02, 1.94e+02, 1.60e+02, 2.16e+02, 8.57e+02, 4.70e+02,\n",
       "       4.43e+02, 3.71e+02, 4.49e+02, 2.71e+02, 2.13e+02, 1.05e+02,\n",
       "       5.87e+02, 2.73e+02, 2.58e+02, 1.80e+02, 2.78e+02, 3.26e+02,\n",
       "       2.37e+02, 3.07e+02, 2.36e+02, 1.97e+02, 3.94e+02, 2.75e+02,\n",
       "       6.71e+02, 2.23e+02, 4.17e+02, 3.86e+02, 4.04e+02, 3.62e+02,\n",
       "       2.53e+02, 6.73e+02, 3.76e+02, 1.48e+02, 5.51e+02, 4.46e+02,\n",
       "       3.61e+02, 1.73e+02, 8.40e+02, 1.90e+02, 3.45e+02, 5.18e+02,\n",
       "       4.84e+02, 3.75e+02, 4.00e+02, 5.76e+02, 3.20e+02, 3.14e+02,\n",
       "       3.42e+02, 2.27e+02, 1.53e+03, 2.46e+02, 7.84e+02, 5.25e+02,\n",
       "       2.42e+02, 2.95e+02, 4.14e+02, 3.24e+02, 6.83e+02, 6.00e+02,\n",
       "       3.63e+02, 3.46e+02, 2.56e+02, 4.12e+02, 2.82e+02, 2.69e+02,\n",
       "       1.79e+02, 7.12e+02, 6.56e+02, 1.96e+02, 2.94e+02, 2.40e+02,\n",
       "       4.80e+02, 1.58e+02, 3.31e+02, 4.86e+02, 6.07e+02, 3.41e+02,\n",
       "       2.17e+02, 2.76e+02, 2.21e+02, 2.05e+02, 2.02e+02, 8.65e+02,\n",
       "       1.20e+03, 2.30e+02, 3.95e+02, 3.64e+02, 3.47e+02, 3.55e+02,\n",
       "       3.00e+02])"
      ]
     },
     "execution_count": 10,
     "metadata": {},
     "output_type": "execute_result"
    }
   ],
   "source": [
    "data['event_value_in_usd'].unique()"
   ]
  },
  {
   "cell_type": "code",
   "execution_count": 11,
   "id": "a3657704",
   "metadata": {},
   "outputs": [
    {
     "data": {
      "text/plain": [
       "event_date                             0\n",
       "event_timestamp                        0\n",
       "event_name                             0\n",
       "event_params                           0\n",
       "event_previous_timestamp         4295584\n",
       "event_value_in_usd               4290342\n",
       "event_bundle_sequence_id               0\n",
       "event_server_timestamp_offset    4295584\n",
       "user_id                          4295584\n",
       "user_pseudo_id                         0\n",
       "privacy_info                           0\n",
       "user_properties                        0\n",
       "user_first_touch_timestamp         86048\n",
       "user_ltv                               0\n",
       "device                                 0\n",
       "geo                                    0\n",
       "app_info                         4295584\n",
       "traffic_source                         0\n",
       "stream_id                              0\n",
       "platform                               0\n",
       "event_dimensions                 4295584\n",
       "ecommerce                              0\n",
       "items                                  0\n",
       "dtype: int64"
      ]
     },
     "execution_count": 11,
     "metadata": {},
     "output_type": "execute_result"
    }
   ],
   "source": [
    "data.isnull().sum() # number of null values in each column"
   ]
  },
  {
   "cell_type": "code",
   "execution_count": 12,
   "id": "2aa6e327",
   "metadata": {},
   "outputs": [
    {
     "data": {
      "text/plain": [
       "(4295584, 23)"
      ]
     },
     "execution_count": 12,
     "metadata": {},
     "output_type": "execute_result"
    }
   ],
   "source": [
    "data.shape"
   ]
  },
  {
   "cell_type": "markdown",
   "id": "8908d619",
   "metadata": {},
   "source": [
    "This shows that columns event_dimensions,app_info,user_id,event_server_timestamp_offset, event_previous_timestamp,event_value_in_usd are all empty, hence they need to be droppped.Similarly event_value_in_usd is almost empty, the values available are not enough to provide sound results, hence that column needs to be dropped"
   ]
  },
  {
   "cell_type": "code",
   "execution_count": 13,
   "id": "8062ada2",
   "metadata": {},
   "outputs": [
    {
     "data": {
      "text/plain": [
       "Index(['event_date', 'event_timestamp', 'event_name', 'event_params',\n",
       "       'event_bundle_sequence_id', 'user_pseudo_id', 'privacy_info',\n",
       "       'user_properties', 'user_first_touch_timestamp', 'user_ltv', 'device',\n",
       "       'geo', 'traffic_source', 'stream_id', 'platform', 'ecommerce', 'items'],\n",
       "      dtype='object')"
      ]
     },
     "execution_count": 13,
     "metadata": {},
     "output_type": "execute_result"
    }
   ],
   "source": [
    "data.drop(['event_dimensions', 'app_info', 'user_id', 'event_server_timestamp_offset', 'event_previous_timestamp',\n",
    "          'event_value_in_usd'], axis=1, inplace=True)\n",
    "data.columns"
   ]
  },
  {
   "cell_type": "markdown",
   "id": "3617c118",
   "metadata": {},
   "source": [
    "As visible, the selected columns are dropped"
   ]
  },
  {
   "cell_type": "code",
   "execution_count": 14,
   "id": "9d73169b",
   "metadata": {},
   "outputs": [
    {
     "data": {
      "text/html": [
       "<div>\n",
       "<style scoped>\n",
       "    .dataframe tbody tr th:only-of-type {\n",
       "        vertical-align: middle;\n",
       "    }\n",
       "\n",
       "    .dataframe tbody tr th {\n",
       "        vertical-align: top;\n",
       "    }\n",
       "\n",
       "    .dataframe thead th {\n",
       "        text-align: right;\n",
       "    }\n",
       "</style>\n",
       "<table border=\"1\" class=\"dataframe\">\n",
       "  <thead>\n",
       "    <tr style=\"text-align: right;\">\n",
       "      <th></th>\n",
       "      <th>event_date</th>\n",
       "      <th>event_timestamp</th>\n",
       "      <th>event_name</th>\n",
       "      <th>event_params</th>\n",
       "      <th>event_bundle_sequence_id</th>\n",
       "      <th>user_pseudo_id</th>\n",
       "      <th>privacy_info</th>\n",
       "      <th>user_properties</th>\n",
       "      <th>user_first_touch_timestamp</th>\n",
       "      <th>user_ltv</th>\n",
       "      <th>device</th>\n",
       "      <th>geo</th>\n",
       "      <th>traffic_source</th>\n",
       "      <th>stream_id</th>\n",
       "      <th>platform</th>\n",
       "      <th>ecommerce</th>\n",
       "      <th>items</th>\n",
       "    </tr>\n",
       "  </thead>\n",
       "  <tbody>\n",
       "    <tr>\n",
       "      <th>0</th>\n",
       "      <td>20201101</td>\n",
       "      <td>1604192073036492</td>\n",
       "      <td>page_view</td>\n",
       "      <td>[{'key': 'page_title', 'value': {'string_value...</td>\n",
       "      <td>2351439526</td>\n",
       "      <td>1.005695e+06</td>\n",
       "      <td>{'analytics_storage': None, 'ads_storage': Non...</td>\n",
       "      <td>[]</td>\n",
       "      <td>1.604192e+15</td>\n",
       "      <td>{'revenue': 0.0, 'currency': 'USD'}</td>\n",
       "      <td>{'category': 'desktop', 'mobile_brand_name': '...</td>\n",
       "      <td>{'continent': 'Asia', 'sub_continent': 'Southe...</td>\n",
       "      <td>{'medium': 'organic', 'name': '(organic)', 'so...</td>\n",
       "      <td>2100450278</td>\n",
       "      <td>WEB</td>\n",
       "      <td>{'total_item_quantity': None, 'purchase_revenu...</td>\n",
       "      <td>[]</td>\n",
       "    </tr>\n",
       "    <tr>\n",
       "      <th>1</th>\n",
       "      <td>20201101</td>\n",
       "      <td>1604192073036492</td>\n",
       "      <td>first_visit</td>\n",
       "      <td>[{'key': 'session_engaged', 'value': {'string_...</td>\n",
       "      <td>2351439526</td>\n",
       "      <td>1.005695e+06</td>\n",
       "      <td>{'analytics_storage': None, 'ads_storage': Non...</td>\n",
       "      <td>[]</td>\n",
       "      <td>1.604192e+15</td>\n",
       "      <td>{'revenue': 0.0, 'currency': 'USD'}</td>\n",
       "      <td>{'category': 'desktop', 'mobile_brand_name': '...</td>\n",
       "      <td>{'continent': 'Asia', 'sub_continent': 'Southe...</td>\n",
       "      <td>{'medium': 'organic', 'name': '(organic)', 'so...</td>\n",
       "      <td>2100450278</td>\n",
       "      <td>WEB</td>\n",
       "      <td>{'total_item_quantity': None, 'purchase_revenu...</td>\n",
       "      <td>[]</td>\n",
       "    </tr>\n",
       "    <tr>\n",
       "      <th>2</th>\n",
       "      <td>20201101</td>\n",
       "      <td>1604192082302672</td>\n",
       "      <td>user_engagement</td>\n",
       "      <td>[{'key': 'dclid', 'value': {'string_value': No...</td>\n",
       "      <td>-4853805495</td>\n",
       "      <td>1.005695e+06</td>\n",
       "      <td>{'analytics_storage': None, 'ads_storage': Non...</td>\n",
       "      <td>[]</td>\n",
       "      <td>1.604192e+15</td>\n",
       "      <td>{'revenue': 0.0, 'currency': 'USD'}</td>\n",
       "      <td>{'category': 'desktop', 'mobile_brand_name': '...</td>\n",
       "      <td>{'continent': 'Asia', 'sub_continent': 'Southe...</td>\n",
       "      <td>{'medium': 'organic', 'name': '(organic)', 'so...</td>\n",
       "      <td>2100450278</td>\n",
       "      <td>WEB</td>\n",
       "      <td>{'total_item_quantity': None, 'purchase_revenu...</td>\n",
       "      <td>[]</td>\n",
       "    </tr>\n",
       "    <tr>\n",
       "      <th>3</th>\n",
       "      <td>20201101</td>\n",
       "      <td>1604192073036492</td>\n",
       "      <td>session_start</td>\n",
       "      <td>[{'key': 'page_location', 'value': {'string_va...</td>\n",
       "      <td>2351439526</td>\n",
       "      <td>1.005695e+06</td>\n",
       "      <td>{'analytics_storage': None, 'ads_storage': Non...</td>\n",
       "      <td>[]</td>\n",
       "      <td>1.604192e+15</td>\n",
       "      <td>{'revenue': 0.0, 'currency': 'USD'}</td>\n",
       "      <td>{'category': 'desktop', 'mobile_brand_name': '...</td>\n",
       "      <td>{'continent': 'Asia', 'sub_continent': 'Southe...</td>\n",
       "      <td>{'medium': 'organic', 'name': '(organic)', 'so...</td>\n",
       "      <td>2100450278</td>\n",
       "      <td>WEB</td>\n",
       "      <td>{'total_item_quantity': None, 'purchase_revenu...</td>\n",
       "      <td>[]</td>\n",
       "    </tr>\n",
       "    <tr>\n",
       "      <th>4</th>\n",
       "      <td>20201101</td>\n",
       "      <td>1604202750089608</td>\n",
       "      <td>user_engagement</td>\n",
       "      <td>[{'key': 'all_data', 'value': {'string_value':...</td>\n",
       "      <td>7473184003</td>\n",
       "      <td>1.013443e+06</td>\n",
       "      <td>{'analytics_storage': None, 'ads_storage': Non...</td>\n",
       "      <td>[]</td>\n",
       "      <td>1.604203e+15</td>\n",
       "      <td>{'revenue': 0.0, 'currency': 'USD'}</td>\n",
       "      <td>{'category': 'mobile', 'mobile_brand_name': 'S...</td>\n",
       "      <td>{'continent': 'Americas', 'sub_continent': 'No...</td>\n",
       "      <td>{'medium': '(none)', 'name': '(direct)', 'sour...</td>\n",
       "      <td>2100450278</td>\n",
       "      <td>WEB</td>\n",
       "      <td>{'total_item_quantity': None, 'purchase_revenu...</td>\n",
       "      <td>[]</td>\n",
       "    </tr>\n",
       "  </tbody>\n",
       "</table>\n",
       "</div>"
      ],
      "text/plain": [
       "   event_date   event_timestamp       event_name  \\\n",
       "0    20201101  1604192073036492        page_view   \n",
       "1    20201101  1604192073036492      first_visit   \n",
       "2    20201101  1604192082302672  user_engagement   \n",
       "3    20201101  1604192073036492    session_start   \n",
       "4    20201101  1604202750089608  user_engagement   \n",
       "\n",
       "                                        event_params  \\\n",
       "0  [{'key': 'page_title', 'value': {'string_value...   \n",
       "1  [{'key': 'session_engaged', 'value': {'string_...   \n",
       "2  [{'key': 'dclid', 'value': {'string_value': No...   \n",
       "3  [{'key': 'page_location', 'value': {'string_va...   \n",
       "4  [{'key': 'all_data', 'value': {'string_value':...   \n",
       "\n",
       "   event_bundle_sequence_id  user_pseudo_id  \\\n",
       "0                2351439526    1.005695e+06   \n",
       "1                2351439526    1.005695e+06   \n",
       "2               -4853805495    1.005695e+06   \n",
       "3                2351439526    1.005695e+06   \n",
       "4                7473184003    1.013443e+06   \n",
       "\n",
       "                                        privacy_info user_properties  \\\n",
       "0  {'analytics_storage': None, 'ads_storage': Non...              []   \n",
       "1  {'analytics_storage': None, 'ads_storage': Non...              []   \n",
       "2  {'analytics_storage': None, 'ads_storage': Non...              []   \n",
       "3  {'analytics_storage': None, 'ads_storage': Non...              []   \n",
       "4  {'analytics_storage': None, 'ads_storage': Non...              []   \n",
       "\n",
       "   user_first_touch_timestamp                             user_ltv  \\\n",
       "0                1.604192e+15  {'revenue': 0.0, 'currency': 'USD'}   \n",
       "1                1.604192e+15  {'revenue': 0.0, 'currency': 'USD'}   \n",
       "2                1.604192e+15  {'revenue': 0.0, 'currency': 'USD'}   \n",
       "3                1.604192e+15  {'revenue': 0.0, 'currency': 'USD'}   \n",
       "4                1.604203e+15  {'revenue': 0.0, 'currency': 'USD'}   \n",
       "\n",
       "                                              device  \\\n",
       "0  {'category': 'desktop', 'mobile_brand_name': '...   \n",
       "1  {'category': 'desktop', 'mobile_brand_name': '...   \n",
       "2  {'category': 'desktop', 'mobile_brand_name': '...   \n",
       "3  {'category': 'desktop', 'mobile_brand_name': '...   \n",
       "4  {'category': 'mobile', 'mobile_brand_name': 'S...   \n",
       "\n",
       "                                                 geo  \\\n",
       "0  {'continent': 'Asia', 'sub_continent': 'Southe...   \n",
       "1  {'continent': 'Asia', 'sub_continent': 'Southe...   \n",
       "2  {'continent': 'Asia', 'sub_continent': 'Southe...   \n",
       "3  {'continent': 'Asia', 'sub_continent': 'Southe...   \n",
       "4  {'continent': 'Americas', 'sub_continent': 'No...   \n",
       "\n",
       "                                      traffic_source   stream_id platform  \\\n",
       "0  {'medium': 'organic', 'name': '(organic)', 'so...  2100450278      WEB   \n",
       "1  {'medium': 'organic', 'name': '(organic)', 'so...  2100450278      WEB   \n",
       "2  {'medium': 'organic', 'name': '(organic)', 'so...  2100450278      WEB   \n",
       "3  {'medium': 'organic', 'name': '(organic)', 'so...  2100450278      WEB   \n",
       "4  {'medium': '(none)', 'name': '(direct)', 'sour...  2100450278      WEB   \n",
       "\n",
       "                                           ecommerce items  \n",
       "0  {'total_item_quantity': None, 'purchase_revenu...    []  \n",
       "1  {'total_item_quantity': None, 'purchase_revenu...    []  \n",
       "2  {'total_item_quantity': None, 'purchase_revenu...    []  \n",
       "3  {'total_item_quantity': None, 'purchase_revenu...    []  \n",
       "4  {'total_item_quantity': None, 'purchase_revenu...    []  "
      ]
     },
     "execution_count": 14,
     "metadata": {},
     "output_type": "execute_result"
    }
   ],
   "source": [
    "data.head(5)"
   ]
  },
  {
   "cell_type": "markdown",
   "id": "7a2aba0e",
   "metadata": {},
   "source": [
    "The columns user_properties and items seems to have special characters which is not understandable"
   ]
  },
  {
   "cell_type": "code",
   "execution_count": 15,
   "id": "59d23ce6",
   "metadata": {},
   "outputs": [
    {
     "data": {
      "text/plain": [
       "0    []\n",
       "1    []\n",
       "2    []\n",
       "3    []\n",
       "Name: user_properties, dtype: object"
      ]
     },
     "execution_count": 15,
     "metadata": {},
     "output_type": "execute_result"
    }
   ],
   "source": [
    "data['user_properties'][:4]"
   ]
  },
  {
   "cell_type": "markdown",
   "id": "f0fc806e",
   "metadata": {},
   "source": [
    "These look like empty arrays, we need to see if the whole column consists of empty arrays. If yes, these columns need to be dropped"
   ]
  },
  {
   "cell_type": "code",
   "execution_count": 16,
   "id": "14fa48c8",
   "metadata": {},
   "outputs": [
    {
     "data": {
      "text/plain": [
       "array(['[]',\n",
       "       \"[{'key': None, 'value': {'string_value': None, 'int_value': None, 'float_value': None, 'double_value': None, 'set_timestamp_micros': None}}]\",\n",
       "       \"[{'key': None, 'value': {'string_value': None, 'int_value': None, 'float_value': None, 'double_value': None, 'set_timestamp_micros': None}}\\n {'key': None, 'value': {'string_value': None, 'int_value': None, 'float_value': None, 'double_value': None, 'set_timestamp_micros': None}}]\"],\n",
       "      dtype=object)"
      ]
     },
     "execution_count": 16,
     "metadata": {},
     "output_type": "execute_result"
    }
   ],
   "source": [
    "data['user_properties'].unique()"
   ]
  },
  {
   "cell_type": "code",
   "execution_count": 17,
   "id": "49915d79",
   "metadata": {},
   "outputs": [
    {
     "data": {
      "text/plain": [
       "array(['[]',\n",
       "       \"[{'item_id': 'fall_campaign', 'item_name': '(not set)', 'item_brand': '(not set)', 'item_variant': '(not set)', 'item_category': '(not set)', 'item_category2': '(not set)', 'item_category3': '(not set)', 'item_category4': '(not set)', 'item_category5': '(not set)', 'price_in_usd': None, 'price': None, 'quantity': None, 'item_revenue_in_usd': None, 'item_revenue': None, 'item_refund_in_usd': None, 'item_refund': None, 'coupon': '(not set)', 'affiliation': '(not set)', 'location_id': '(not set)', 'item_list_id': '(not set)', 'item_list_name': '(not set)', 'item_list_index': 'Slide 1', 'promotion_id': '(not set)', 'promotion_name': 'Reach New Heights', 'creative_name': 'Front Page Carousel', 'creative_slot': '(not set)'}]\",\n",
       "       \"[{'item_id': 'fall_campaign', 'item_name': '(not set)', 'item_brand': '(not set)', 'item_variant': '(not set)', 'item_category': '(not set)', 'item_category2': '(not set)', 'item_category3': '(not set)', 'item_category4': '(not set)', 'item_category5': '(not set)', 'price_in_usd': None, 'price': None, 'quantity': None, 'item_revenue_in_usd': None, 'item_revenue': None, 'item_refund_in_usd': None, 'item_refund': None, 'coupon': '(not set)', 'affiliation': '(not set)', 'location_id': '(not set)', 'item_list_id': '(not set)', 'item_list_name': '(not set)', 'item_list_index': 'Slide 1', 'promotion_id': '(not set)', 'promotion_name': 'Google Mural Collection', 'creative_name': 'Front Page Carousel', 'creative_slot': '(not set)'}]\",\n",
       "       ...,\n",
       "       \"[{'item_id': 'GGOEGBJJ099699', 'item_name': 'Google Flat Front Bag Grey', 'item_brand': '(not set)', 'item_variant': '(not set)', 'item_category': 'Lifestyle/Bags/', 'item_category2': '(not set)', 'item_category3': '(not set)', 'item_category4': '(not set)', 'item_category5': '(not set)', 'price_in_usd': None, 'price': 30.0, 'quantity': None, 'item_revenue_in_usd': None, 'item_revenue': None, 'item_refund_in_usd': None, 'item_refund': None, 'coupon': '(not set)', 'affiliation': '(not set)', 'location_id': '(not set)', 'item_list_id': '(not set)', 'item_list_name': '(not set)', 'item_list_index': '3', 'promotion_id': '(not set)', 'promotion_name': '(not set)', 'creative_name': '(not set)', 'creative_slot': '(not set)'}\\n {'item_id': 'GGOEGBRJ114199', 'item_name': 'Google Utility BackPack', 'item_brand': '(not set)', 'item_variant': '(not set)', 'item_category': 'Lifestyle/Bags/', 'item_category2': '(not set)', 'item_category3': '(not set)', 'item_category4': '(not set)', 'item_category5': '(not set)', 'price_in_usd': None, 'price': 120.0, 'quantity': None, 'item_revenue_in_usd': None, 'item_revenue': None, 'item_refund_in_usd': None, 'item_refund': None, 'coupon': '(not set)', 'affiliation': '(not set)', 'location_id': '(not set)', 'item_list_id': '(not set)', 'item_list_name': '(not set)', 'item_list_index': '10', 'promotion_id': '(not set)', 'promotion_name': '(not set)', 'creative_name': '(not set)', 'creative_slot': '(not set)'}\\n {'item_id': 'GGOEGBJJ099499', 'item_name': 'Google Utility Bag Grey', 'item_brand': '(not set)', 'item_variant': '(not set)', 'item_category': 'Lifestyle/Bags/', 'item_category2': '(not set)', 'item_category3': '(not set)', 'item_category4': '(not set)', 'item_category5': '(not set)', 'price_in_usd': None, 'price': 10.0, 'quantity': None, 'item_revenue_in_usd': None, 'item_revenue': None, 'item_refund_in_usd': None, 'item_refund': None, 'coupon': '(not set)', 'affiliation': '(not set)', 'location_id': '(not set)', 'item_list_id': '(not set)', 'item_list_name': '(not set)', 'item_list_index': '4', 'promotion_id': '(not set)', 'promotion_name': '(not set)', 'creative_name': '(not set)', 'creative_slot': '(not set)'}\\n {'item_id': 'GGOEGBJC122399', 'item_name': 'Google Campus Bike Tote Navy', 'item_brand': '(not set)', 'item_variant': '(not set)', 'item_category': 'Lifestyle/Bags/', 'item_category2': '(not set)', 'item_category3': '(not set)', 'item_category4': '(not set)', 'item_category5': '(not set)', 'price_in_usd': None, 'price': 11.0, 'quantity': None, 'item_revenue_in_usd': None, 'item_revenue': None, 'item_refund_in_usd': None, 'item_refund': None, 'coupon': '(not set)', 'affiliation': '(not set)', 'location_id': '(not set)', 'item_list_id': '(not set)', 'item_list_name': '(not set)', 'item_list_index': '6', 'promotion_id': '(not set)', 'promotion_name': '(not set)', 'creative_name': '(not set)', 'creative_slot': '(not set)'}\\n {'item_id': 'GGOEGBJC100199', 'item_name': 'Google Mesh Bag Blue', 'item_brand': '(not set)', 'item_variant': '(not set)', 'item_category': 'Lifestyle/Bags/', 'item_category2': '(not set)', 'item_category3': '(not set)', 'item_category4': '(not set)', 'item_category5': '(not set)', 'price_in_usd': None, 'price': 6.0, 'quantity': None, 'item_revenue_in_usd': None, 'item_revenue': None, 'item_refund_in_usd': None, 'item_refund': None, 'coupon': '(not set)', 'affiliation': '(not set)', 'location_id': '(not set)', 'item_list_id': '(not set)', 'item_list_name': '(not set)', 'item_list_index': '2', 'promotion_id': '(not set)', 'promotion_name': '(not set)', 'creative_name': '(not set)', 'creative_slot': '(not set)'}\\n {'item_id': 'GGOEGBBD122099', 'item_name': 'Google Confetti Accessory Pouch', 'item_brand': '(not set)', 'item_variant': '(not set)', 'item_category': 'Lifestyle/Bags/', 'item_category2': '(not set)', 'item_category3': '(not set)', 'item_category4': '(not set)', 'item_category5': '(not set)', 'price_in_usd': None, 'price': 12.0, 'quantity': None, 'item_revenue_in_usd': None, 'item_revenue': None, 'item_refund_in_usd': None, 'item_refund': None, 'coupon': '(not set)', 'affiliation': '(not set)', 'location_id': '(not set)', 'item_list_id': '(not set)', 'item_list_name': '(not set)', 'item_list_index': '5', 'promotion_id': '(not set)', 'promotion_name': '(not set)', 'creative_name': '(not set)', 'creative_slot': '(not set)'}\\n {'item_id': 'GGOEGBBC122499', 'item_name': 'Google Campus Bike Carry Pouch', 'item_brand': '(not set)', 'item_variant': '(not set)', 'item_category': 'Lifestyle/Bags/', 'item_category2': '(not set)', 'item_category3': '(not set)', 'item_category4': '(not set)', 'item_category5': '(not set)', 'price_in_usd': None, 'price': 8.0, 'quantity': None, 'item_revenue_in_usd': None, 'item_revenue': None, 'item_refund_in_usd': None, 'item_refund': None, 'coupon': '(not set)', 'affiliation': '(not set)', 'location_id': '(not set)', 'item_list_id': '(not set)', 'item_list_name': '(not set)', 'item_list_index': '7', 'promotion_id': '(not set)', 'promotion_name': '(not set)', 'creative_name': '(not set)', 'creative_slot': '(not set)'}\\n {'item_id': 'GGOEGBRC128299', 'item_name': 'Google Incognito Dopp Kit V2', 'item_brand': '(not set)', 'item_variant': '(not set)', 'item_category': 'Bags', 'item_category2': '(not set)', 'item_category3': '(not set)', 'item_category4': '(not set)', 'item_category5': '(not set)', 'price_in_usd': None, 'price': 48.0, 'quantity': None, 'item_revenue_in_usd': None, 'item_revenue': None, 'item_refund_in_usd': None, 'item_refund': None, 'coupon': '(not set)', 'affiliation': '(not set)', 'location_id': '(not set)', 'item_list_id': '(not set)', 'item_list_name': 'Not available in demo dataset', 'item_list_index': '13', 'promotion_id': '(not set)', 'promotion_name': '(not set)', 'creative_name': '(not set)', 'creative_slot': '(not set)'}\\n {'item_id': 'GGOEGABJ099599', 'item_name': 'Google Laptop Sleeve Charcoal', 'item_brand': '(not set)', 'item_variant': '(not set)', 'item_category': 'Lifestyle/Bags/', 'item_category2': '(not set)', 'item_category3': '(not set)', 'item_category4': '(not set)', 'item_category5': '(not set)', 'price_in_usd': None, 'price': 20.0, 'quantity': None, 'item_revenue_in_usd': None, 'item_revenue': None, 'item_refund_in_usd': None, 'item_refund': None, 'coupon': '(not set)', 'affiliation': '(not set)', 'location_id': '(not set)', 'item_list_id': '(not set)', 'item_list_name': '(not set)', 'item_list_index': '8', 'promotion_id': '(not set)', 'promotion_name': '(not set)', 'creative_name': '(not set)', 'creative_slot': '(not set)'}\\n {'item_id': 'GGOEGBJQ125099', 'item_name': 'Google Large Tote White', 'item_brand': '(not set)', 'item_variant': '(not set)', 'item_category': 'Lifestyle/Bags/', 'item_category2': '(not set)', 'item_category3': '(not set)', 'item_category4': '(not set)', 'item_category5': '(not set)', 'price_in_usd': None, 'price': 13.0, 'quantity': None, 'item_revenue_in_usd': None, 'item_revenue': None, 'item_refund_in_usd': None, 'item_refund': None, 'coupon': '(not set)', 'affiliation': '(not set)', 'location_id': '(not set)', 'item_list_id': '(not set)', 'item_list_name': '(not set)', 'item_list_index': '11', 'promotion_id': '(not set)', 'promotion_name': '(not set)', 'creative_name': '(not set)', 'creative_slot': '(not set)'}\\n {'item_id': 'GGOEGBJJ103799', 'item_name': 'Google Incognito Messenger Bag', 'item_brand': '(not set)', 'item_variant': '(not set)', 'item_category': 'Lifestyle/Bags/', 'item_category2': '(not set)', 'item_category3': '(not set)', 'item_category4': '(not set)', 'item_category5': '(not set)', 'price_in_usd': None, 'price': 75.0, 'quantity': None, 'item_revenue_in_usd': None, 'item_revenue': None, 'item_refund_in_usd': None, 'item_refund': None, 'coupon': '(not set)', 'affiliation': '(not set)', 'location_id': '(not set)', 'item_list_id': '(not set)', 'item_list_name': '(not set)', 'item_list_index': '9', 'promotion_id': '(not set)', 'promotion_name': '(not set)', 'creative_name': '(not set)', 'creative_slot': '(not set)'}\\n {'item_id': 'GGOEGBJR100099', 'item_name': 'Google Mesh Bag Red', 'item_brand': '(not set)', 'item_variant': '(not set)', 'item_category': 'Lifestyle/Bags/', 'item_category2': '(not set)', 'item_category3': '(not set)', 'item_category4': '(not set)', 'item_category5': '(not set)', 'price_in_usd': None, 'price': 6.0, 'quantity': None, 'item_revenue_in_usd': None, 'item_revenue': None, 'item_refund_in_usd': None, 'item_refund': None, 'coupon': '(not set)', 'affiliation': '(not set)', 'location_id': '(not set)', 'item_list_id': '(not set)', 'item_list_name': '(not set)', 'item_list_index': '12', 'promotion_id': '(not set)', 'promotion_name': '(not set)', 'creative_name': '(not set)', 'creative_slot': '(not set)'}]\",\n",
       "       \"[{'item_id': 'GGOECDHQ163999', 'item_name': 'Google Shoreline Water Bottle', 'item_brand': '(not set)', 'item_variant': '(not set)', 'item_category': 'Home/Shop by Brand/Google/', 'item_category2': '(not set)', 'item_category3': '(not set)', 'item_category4': '(not set)', 'item_category5': '(not set)', 'price_in_usd': None, 'price': 26.0, 'quantity': None, 'item_revenue_in_usd': None, 'item_revenue': None, 'item_refund_in_usd': None, 'item_refund': None, 'coupon': '(not set)', 'affiliation': '(not set)', 'location_id': '(not set)', 'item_list_id': '(not set)', 'item_list_name': '(not set)', 'item_list_index': '2', 'promotion_id': '(not set)', 'promotion_name': '(not set)', 'creative_name': '(not set)', 'creative_slot': '(not set)'}\\n {'item_id': 'GGOECXXX1630', 'item_name': 'Google Cloud  Unisex Zip Hoodie', 'item_brand': '(not set)', 'item_variant': '(not set)', 'item_category': 'Home/Shop by Brand/Google/', 'item_category2': '(not set)', 'item_category3': '(not set)', 'item_category4': '(not set)', 'item_category5': '(not set)', 'price_in_usd': None, 'price': 69.0, 'quantity': None, 'item_revenue_in_usd': None, 'item_revenue': None, 'item_refund_in_usd': None, 'item_refund': None, 'coupon': '(not set)', 'affiliation': '(not set)', 'location_id': '(not set)', 'item_list_id': '(not set)', 'item_list_name': '(not set)', 'item_list_index': '6', 'promotion_id': '(not set)', 'promotion_name': '(not set)', 'creative_name': '(not set)', 'creative_slot': '(not set)'}\\n {'item_id': 'GGOEGDWH162399', 'item_name': 'Google Land & Sea Mug', 'item_brand': '(not set)', 'item_variant': '(not set)', 'item_category': 'Home/Shop by Brand/Google/', 'item_category2': '(not set)', 'item_category3': '(not set)', 'item_category4': '(not set)', 'item_category5': '(not set)', 'price_in_usd': None, 'price': 17.0, 'quantity': None, 'item_revenue_in_usd': None, 'item_revenue': None, 'item_refund_in_usd': None, 'item_refund': None, 'coupon': '(not set)', 'affiliation': '(not set)', 'location_id': '(not set)', 'item_list_id': '(not set)', 'item_list_name': '(not set)', 'item_list_index': '12', 'promotion_id': '(not set)', 'promotion_name': '(not set)', 'creative_name': '(not set)', 'creative_slot': '(not set)'}\\n {'item_id': 'GGOEGCBT136699', 'item_name': 'Google Yellow YoYo', 'item_brand': '(not set)', 'item_variant': '(not set)', 'item_category': 'Google', 'item_category2': '(not set)', 'item_category3': '(not set)', 'item_category4': '(not set)', 'item_category5': '(not set)', 'price_in_usd': None, 'price': 4.0, 'quantity': None, 'item_revenue_in_usd': None, 'item_revenue': None, 'item_refund_in_usd': None, 'item_refund': None, 'coupon': '(not set)', 'affiliation': '(not set)', 'location_id': '(not set)', 'item_list_id': '(not set)', 'item_list_name': 'Not available in demo dataset', 'item_list_index': '16', 'promotion_id': '(not set)', 'promotion_name': '(not set)', 'creative_name': '(not set)', 'creative_slot': '(not set)'}\\n {'item_id': 'GGOEGDHB163199', 'item_name': 'Google Chrome Dino Light Up Water Bottle', 'item_brand': '(not set)', 'item_variant': '(not set)', 'item_category': 'Home/Shop by Brand/Google/', 'item_category2': '(not set)', 'item_category3': '(not set)', 'item_category4': '(not set)', 'item_category5': '(not set)', 'price_in_usd': None, 'price': 24.0, 'quantity': None, 'item_revenue_in_usd': None, 'item_revenue': None, 'item_refund_in_usd': None, 'item_refund': None, 'coupon': '(not set)', 'affiliation': '(not set)', 'location_id': '(not set)', 'item_list_id': '(not set)', 'item_list_name': '(not set)', 'item_list_index': '4', 'promotion_id': '(not set)', 'promotion_name': '(not set)', 'creative_name': '(not set)', 'creative_slot': '(not set)'}\\n {'item_id': 'GGOECOAQ163799', 'item_name': 'Google Cloud Pen', 'item_brand': '(not set)', 'item_variant': '(not set)', 'item_category': 'Home/Shop by Brand/Google/', 'item_category2': '(not set)', 'item_category3': '(not set)', 'item_category4': '(not set)', 'item_category5': '(not set)', 'price_in_usd': None, 'price': 3.0, 'quantity': None, 'item_revenue_in_usd': None, 'item_revenue': None, 'item_refund_in_usd': None, 'item_refund': None, 'coupon': '(not set)', 'affiliation': '(not set)', 'location_id': '(not set)', 'item_list_id': '(not set)', 'item_list_name': '(not set)', 'item_list_index': '3', 'promotion_id': '(not set)', 'promotion_name': '(not set)', 'creative_name': '(not set)', 'creative_slot': '(not set)'}\\n {'item_id': 'GGOEGXXX1613', 'item_name': 'Super G Unisex Joggers', 'item_brand': '(not set)', 'item_variant': '(not set)', 'item_category': 'Home/Shop by Brand/Google/', 'item_category2': '(not set)', 'item_category3': '(not set)', 'item_category4': '(not set)', 'item_category5': '(not set)', 'price_in_usd': None, 'price': 37.0, 'quantity': None, 'item_revenue_in_usd': None, 'item_revenue': None, 'item_refund_in_usd': None, 'item_refund': None, 'coupon': '(not set)', 'affiliation': '(not set)', 'location_id': '(not set)', 'item_list_id': '(not set)', 'item_list_name': '(not set)', 'item_list_index': '9', 'promotion_id': '(not set)', 'promotion_name': '(not set)', 'creative_name': '(not set)', 'creative_slot': '(not set)'}\\n {'item_id': 'GGCOGDHC161299', 'item_name': 'Google Blue Stojo Cup', 'item_brand': '(not set)', 'item_variant': '(not set)', 'item_category': 'Home/Shop by Brand/Google/', 'item_category2': '(not set)', 'item_category3': '(not set)', 'item_category4': '(not set)', 'item_category5': '(not set)', 'price_in_usd': None, 'price': 25.0, 'quantity': None, 'item_revenue_in_usd': None, 'item_revenue': None, 'item_refund_in_usd': None, 'item_refund': None, 'coupon': '(not set)', 'affiliation': '(not set)', 'location_id': '(not set)', 'item_list_id': '(not set)', 'item_list_name': '(not set)', 'item_list_index': '11', 'promotion_id': '(not set)', 'promotion_name': '(not set)', 'creative_name': '(not set)', 'creative_slot': '(not set)'}\\n {'item_id': 'GGOEGDWJ141799', 'item_name': 'Google Camp Mug Gray', 'item_brand': '(not set)', 'item_variant': '(not set)', 'item_category': 'Home/Shop by Brand/Google/', 'item_category2': '(not set)', 'item_category3': '(not set)', 'item_category4': '(not set)', 'item_category5': '(not set)', 'price_in_usd': None, 'price': 13.0, 'quantity': None, 'item_revenue_in_usd': None, 'item_revenue': None, 'item_refund_in_usd': None, 'item_refund': None, 'coupon': '(not set)', 'affiliation': '(not set)', 'location_id': '(not set)', 'item_list_id': '(not set)', 'item_list_name': '(not set)', 'item_list_index': '7', 'promotion_id': '(not set)', 'promotion_name': '(not set)', 'creative_name': '(not set)', 'creative_slot': '(not set)'}\\n {'item_id': 'GGOEGDHR162799', 'item_name': 'Google Aluminum Bottle Red', 'item_brand': '(not set)', 'item_variant': '(not set)', 'item_category': 'Home/Shop by Brand/Google/', 'item_category2': '(not set)', 'item_category3': '(not set)', 'item_category4': '(not set)', 'item_category5': '(not set)', 'price_in_usd': None, 'price': 8.0, 'quantity': None, 'item_revenue_in_usd': None, 'item_revenue': None, 'item_refund_in_usd': None, 'item_refund': None, 'coupon': '(not set)', 'affiliation': '(not set)', 'location_id': '(not set)', 'item_list_id': '(not set)', 'item_list_name': '(not set)', 'item_list_index': '5', 'promotion_id': '(not set)', 'promotion_name': '(not set)', 'creative_name': '(not set)', 'creative_slot': '(not set)'}\\n {'item_id': 'GGCOGCBD162999', 'item_name': 'Google Bear Baby Blanket Beige', 'item_brand': '(not set)', 'item_variant': '(not set)', 'item_category': 'Home/Shop by Brand/Google/', 'item_category2': '(not set)', 'item_category3': '(not set)', 'item_category4': '(not set)', 'item_category5': '(not set)', 'price_in_usd': None, 'price': 24.0, 'quantity': None, 'item_revenue_in_usd': None, 'item_revenue': None, 'item_refund_in_usd': None, 'item_refund': None, 'coupon': '(not set)', 'affiliation': '(not set)', 'location_id': '(not set)', 'item_list_id': '(not set)', 'item_list_name': '(not set)', 'item_list_index': '8', 'promotion_id': '(not set)', 'promotion_name': '(not set)', 'creative_name': '(not set)', 'creative_slot': '(not set)'}\\n {'item_id': 'GGCOGCBA161199', 'item_name': 'Google Land & Sea Tech Taco', 'item_brand': '(not set)', 'item_variant': '(not set)', 'item_category': 'Home/Shop by Brand/Google/', 'item_category2': '(not set)', 'item_category3': '(not set)', 'item_category4': '(not set)', 'item_category5': '(not set)', 'price_in_usd': None, 'price': 4.0, 'quantity': None, 'item_revenue_in_usd': None, 'item_revenue': None, 'item_refund_in_usd': None, 'item_refund': None, 'coupon': '(not set)', 'affiliation': '(not set)', 'location_id': '(not set)', 'item_list_id': '(not set)', 'item_list_name': '(not set)', 'item_list_index': '10', 'promotion_id': '(not set)', 'promotion_name': '(not set)', 'creative_name': '(not set)', 'creative_slot': '(not set)'}]\",\n",
       "       \"[{'item_id': 'GGOEGBJJ103799', 'item_name': 'Google Incognito Messenger Bag', 'item_brand': '(not set)', 'item_variant': '(not set)', 'item_category': 'Lifestyle/Bags/', 'item_category2': '(not set)', 'item_category3': '(not set)', 'item_category4': '(not set)', 'item_category5': '(not set)', 'price_in_usd': None, 'price': 75.0, 'quantity': None, 'item_revenue_in_usd': None, 'item_revenue': None, 'item_refund_in_usd': None, 'item_refund': None, 'coupon': '(not set)', 'affiliation': '(not set)', 'location_id': '(not set)', 'item_list_id': '(not set)', 'item_list_name': '(not set)', 'item_list_index': '9', 'promotion_id': '(not set)', 'promotion_name': '(not set)', 'creative_name': '(not set)', 'creative_slot': '(not set)'}\\n {'item_id': 'GGOEGBJC100199', 'item_name': 'Google Mesh Bag Blue', 'item_brand': '(not set)', 'item_variant': '(not set)', 'item_category': 'Lifestyle/Bags/', 'item_category2': '(not set)', 'item_category3': '(not set)', 'item_category4': '(not set)', 'item_category5': '(not set)', 'price_in_usd': None, 'price': 6.0, 'quantity': None, 'item_revenue_in_usd': None, 'item_revenue': None, 'item_refund_in_usd': None, 'item_refund': None, 'coupon': '(not set)', 'affiliation': '(not set)', 'location_id': '(not set)', 'item_list_id': '(not set)', 'item_list_name': '(not set)', 'item_list_index': '2', 'promotion_id': '(not set)', 'promotion_name': '(not set)', 'creative_name': '(not set)', 'creative_slot': '(not set)'}\\n {'item_id': 'GGOEGBJR100099', 'item_name': 'Google Mesh Bag Red', 'item_brand': '(not set)', 'item_variant': '(not set)', 'item_category': 'Lifestyle/Bags/', 'item_category2': '(not set)', 'item_category3': '(not set)', 'item_category4': '(not set)', 'item_category5': '(not set)', 'price_in_usd': None, 'price': 6.0, 'quantity': None, 'item_revenue_in_usd': None, 'item_revenue': None, 'item_refund_in_usd': None, 'item_refund': None, 'coupon': '(not set)', 'affiliation': '(not set)', 'location_id': '(not set)', 'item_list_id': '(not set)', 'item_list_name': '(not set)', 'item_list_index': '12', 'promotion_id': '(not set)', 'promotion_name': '(not set)', 'creative_name': '(not set)', 'creative_slot': '(not set)'}\\n {'item_id': 'GGOEGBJJ099499', 'item_name': 'Google Utility Bag Grey', 'item_brand': '(not set)', 'item_variant': '(not set)', 'item_category': 'Lifestyle/Bags/', 'item_category2': '(not set)', 'item_category3': '(not set)', 'item_category4': '(not set)', 'item_category5': '(not set)', 'price_in_usd': None, 'price': 10.0, 'quantity': None, 'item_revenue_in_usd': None, 'item_revenue': None, 'item_refund_in_usd': None, 'item_refund': None, 'coupon': '(not set)', 'affiliation': '(not set)', 'location_id': '(not set)', 'item_list_id': '(not set)', 'item_list_name': '(not set)', 'item_list_index': '4', 'promotion_id': '(not set)', 'promotion_name': '(not set)', 'creative_name': '(not set)', 'creative_slot': '(not set)'}\\n {'item_id': 'GGOEGBJQ125099', 'item_name': 'Google Large Tote White', 'item_brand': '(not set)', 'item_variant': '(not set)', 'item_category': 'Lifestyle/Bags/', 'item_category2': '(not set)', 'item_category3': '(not set)', 'item_category4': '(not set)', 'item_category5': '(not set)', 'price_in_usd': None, 'price': 13.0, 'quantity': None, 'item_revenue_in_usd': None, 'item_revenue': None, 'item_refund_in_usd': None, 'item_refund': None, 'coupon': '(not set)', 'affiliation': '(not set)', 'location_id': '(not set)', 'item_list_id': '(not set)', 'item_list_name': '(not set)', 'item_list_index': '11', 'promotion_id': '(not set)', 'promotion_name': '(not set)', 'creative_name': '(not set)', 'creative_slot': '(not set)'}\\n {'item_id': 'GGOEGABJ099599', 'item_name': 'Google Laptop Sleeve Charcoal', 'item_brand': '(not set)', 'item_variant': '(not set)', 'item_category': 'Lifestyle/Bags/', 'item_category2': '(not set)', 'item_category3': '(not set)', 'item_category4': '(not set)', 'item_category5': '(not set)', 'price_in_usd': None, 'price': 20.0, 'quantity': None, 'item_revenue_in_usd': None, 'item_revenue': None, 'item_refund_in_usd': None, 'item_refund': None, 'coupon': '(not set)', 'affiliation': '(not set)', 'location_id': '(not set)', 'item_list_id': '(not set)', 'item_list_name': '(not set)', 'item_list_index': '8', 'promotion_id': '(not set)', 'promotion_name': '(not set)', 'creative_name': '(not set)', 'creative_slot': '(not set)'}\\n {'item_id': 'GGOEGBBC122499', 'item_name': 'Google Campus Bike Carry Pouch', 'item_brand': '(not set)', 'item_variant': '(not set)', 'item_category': 'Lifestyle/Bags/', 'item_category2': '(not set)', 'item_category3': '(not set)', 'item_category4': '(not set)', 'item_category5': '(not set)', 'price_in_usd': None, 'price': 8.0, 'quantity': None, 'item_revenue_in_usd': None, 'item_revenue': None, 'item_refund_in_usd': None, 'item_refund': None, 'coupon': '(not set)', 'affiliation': '(not set)', 'location_id': '(not set)', 'item_list_id': '(not set)', 'item_list_name': '(not set)', 'item_list_index': '7', 'promotion_id': '(not set)', 'promotion_name': '(not set)', 'creative_name': '(not set)', 'creative_slot': '(not set)'}\\n {'item_id': 'GGOEGBJJ099699', 'item_name': 'Google Flat Front Bag Grey', 'item_brand': '(not set)', 'item_variant': '(not set)', 'item_category': 'Lifestyle/Bags/', 'item_category2': '(not set)', 'item_category3': '(not set)', 'item_category4': '(not set)', 'item_category5': '(not set)', 'price_in_usd': None, 'price': 30.0, 'quantity': None, 'item_revenue_in_usd': None, 'item_revenue': None, 'item_refund_in_usd': None, 'item_refund': None, 'coupon': '(not set)', 'affiliation': '(not set)', 'location_id': '(not set)', 'item_list_id': '(not set)', 'item_list_name': '(not set)', 'item_list_index': '3', 'promotion_id': '(not set)', 'promotion_name': '(not set)', 'creative_name': '(not set)', 'creative_slot': '(not set)'}\\n {'item_id': 'GGOEGBRJ114199', 'item_name': 'Google Utility BackPack', 'item_brand': '(not set)', 'item_variant': '(not set)', 'item_category': 'Lifestyle/Bags/', 'item_category2': '(not set)', 'item_category3': '(not set)', 'item_category4': '(not set)', 'item_category5': '(not set)', 'price_in_usd': None, 'price': 120.0, 'quantity': None, 'item_revenue_in_usd': None, 'item_revenue': None, 'item_refund_in_usd': None, 'item_refund': None, 'coupon': '(not set)', 'affiliation': '(not set)', 'location_id': '(not set)', 'item_list_id': '(not set)', 'item_list_name': '(not set)', 'item_list_index': '10', 'promotion_id': '(not set)', 'promotion_name': '(not set)', 'creative_name': '(not set)', 'creative_slot': '(not set)'}\\n {'item_id': 'GGOEGBBD122099', 'item_name': 'Google Confetti Accessory Pouch', 'item_brand': '(not set)', 'item_variant': '(not set)', 'item_category': 'Lifestyle/Bags/', 'item_category2': '(not set)', 'item_category3': '(not set)', 'item_category4': '(not set)', 'item_category5': '(not set)', 'price_in_usd': None, 'price': 12.0, 'quantity': None, 'item_revenue_in_usd': None, 'item_revenue': None, 'item_refund_in_usd': None, 'item_refund': None, 'coupon': '(not set)', 'affiliation': '(not set)', 'location_id': '(not set)', 'item_list_id': '(not set)', 'item_list_name': '(not set)', 'item_list_index': '5', 'promotion_id': '(not set)', 'promotion_name': '(not set)', 'creative_name': '(not set)', 'creative_slot': '(not set)'}\\n {'item_id': 'GGOEGBJC122399', 'item_name': 'Google Campus Bike Tote Navy', 'item_brand': '(not set)', 'item_variant': '(not set)', 'item_category': 'Lifestyle/Bags/', 'item_category2': '(not set)', 'item_category3': '(not set)', 'item_category4': '(not set)', 'item_category5': '(not set)', 'price_in_usd': None, 'price': 11.0, 'quantity': None, 'item_revenue_in_usd': None, 'item_revenue': None, 'item_refund_in_usd': None, 'item_refund': None, 'coupon': '(not set)', 'affiliation': '(not set)', 'location_id': '(not set)', 'item_list_id': '(not set)', 'item_list_name': '(not set)', 'item_list_index': '6', 'promotion_id': '(not set)', 'promotion_name': '(not set)', 'creative_name': '(not set)', 'creative_slot': '(not set)'}\\n {'item_id': 'GGOEGBRJ114199', 'item_name': 'Google Utility BackPack', 'item_brand': 'Google', 'item_variant': '(not set)', 'item_category': 'Lifestyle/Bags/', 'item_category2': '(not set)', 'item_category3': '(not set)', 'item_category4': '(not set)', 'item_category5': '(not set)', 'price_in_usd': None, 'price': 120.0, 'quantity': None, 'item_revenue_in_usd': None, 'item_revenue': None, 'item_refund_in_usd': None, 'item_refund': None, 'coupon': '(not set)', 'affiliation': '(not set)', 'location_id': '(not set)', 'item_list_id': '(not set)', 'item_list_name': '(not set)', 'item_list_index': '10', 'promotion_id': '(not set)', 'promotion_name': '(not set)', 'creative_name': '(not set)', 'creative_slot': '(not set)'}]\"],\n",
       "      dtype=object)"
      ]
     },
     "execution_count": 17,
     "metadata": {},
     "output_type": "execute_result"
    }
   ],
   "source": [
    "data['items'].unique()"
   ]
  },
  {
   "cell_type": "markdown",
   "id": "46597792",
   "metadata": {},
   "source": [
    "The items column contains valuabke information, however the user_properties column is mostly empty and the cells that are not empty, contain a dictionary with all values set to None. It needs to be removed."
   ]
  },
  {
   "cell_type": "code",
   "execution_count": 18,
   "id": "54ca6a2a",
   "metadata": {},
   "outputs": [
    {
     "data": {
      "text/plain": [
       "Index(['event_date', 'event_timestamp', 'event_name', 'event_params',\n",
       "       'event_bundle_sequence_id', 'user_pseudo_id', 'privacy_info',\n",
       "       'user_first_touch_timestamp', 'user_ltv', 'device', 'geo',\n",
       "       'traffic_source', 'stream_id', 'platform', 'ecommerce', 'items'],\n",
       "      dtype='object')"
      ]
     },
     "execution_count": 18,
     "metadata": {},
     "output_type": "execute_result"
    }
   ],
   "source": [
    "data.drop(['user_properties'], axis=1, inplace=True)\n",
    "data.columns # user_properties column is deleted"
   ]
  },
  {
   "cell_type": "markdown",
   "id": "526be9d4",
   "metadata": {},
   "source": [
    "## Handling Timestamps"
   ]
  },
  {
   "cell_type": "code",
   "execution_count": 19,
   "id": "f4347a65",
   "metadata": {},
   "outputs": [
    {
     "data": {
      "text/html": [
       "<div>\n",
       "<style scoped>\n",
       "    .dataframe tbody tr th:only-of-type {\n",
       "        vertical-align: middle;\n",
       "    }\n",
       "\n",
       "    .dataframe tbody tr th {\n",
       "        vertical-align: top;\n",
       "    }\n",
       "\n",
       "    .dataframe thead th {\n",
       "        text-align: right;\n",
       "    }\n",
       "</style>\n",
       "<table border=\"1\" class=\"dataframe\">\n",
       "  <thead>\n",
       "    <tr style=\"text-align: right;\">\n",
       "      <th></th>\n",
       "      <th>event_date</th>\n",
       "      <th>event_timestamp</th>\n",
       "      <th>event_name</th>\n",
       "      <th>event_params</th>\n",
       "      <th>event_bundle_sequence_id</th>\n",
       "      <th>user_pseudo_id</th>\n",
       "      <th>privacy_info</th>\n",
       "      <th>user_first_touch_timestamp</th>\n",
       "      <th>user_ltv</th>\n",
       "      <th>device</th>\n",
       "      <th>geo</th>\n",
       "      <th>traffic_source</th>\n",
       "      <th>stream_id</th>\n",
       "      <th>platform</th>\n",
       "      <th>ecommerce</th>\n",
       "      <th>items</th>\n",
       "    </tr>\n",
       "  </thead>\n",
       "  <tbody>\n",
       "    <tr>\n",
       "      <th>0</th>\n",
       "      <td>20201101</td>\n",
       "      <td>1604192073036492</td>\n",
       "      <td>page_view</td>\n",
       "      <td>[{'key': 'page_title', 'value': {'string_value...</td>\n",
       "      <td>2351439526</td>\n",
       "      <td>1.005695e+06</td>\n",
       "      <td>{'analytics_storage': None, 'ads_storage': Non...</td>\n",
       "      <td>1.604192e+15</td>\n",
       "      <td>{'revenue': 0.0, 'currency': 'USD'}</td>\n",
       "      <td>{'category': 'desktop', 'mobile_brand_name': '...</td>\n",
       "      <td>{'continent': 'Asia', 'sub_continent': 'Southe...</td>\n",
       "      <td>{'medium': 'organic', 'name': '(organic)', 'so...</td>\n",
       "      <td>2100450278</td>\n",
       "      <td>WEB</td>\n",
       "      <td>{'total_item_quantity': None, 'purchase_revenu...</td>\n",
       "      <td>[]</td>\n",
       "    </tr>\n",
       "    <tr>\n",
       "      <th>1</th>\n",
       "      <td>20201101</td>\n",
       "      <td>1604192073036492</td>\n",
       "      <td>first_visit</td>\n",
       "      <td>[{'key': 'session_engaged', 'value': {'string_...</td>\n",
       "      <td>2351439526</td>\n",
       "      <td>1.005695e+06</td>\n",
       "      <td>{'analytics_storage': None, 'ads_storage': Non...</td>\n",
       "      <td>1.604192e+15</td>\n",
       "      <td>{'revenue': 0.0, 'currency': 'USD'}</td>\n",
       "      <td>{'category': 'desktop', 'mobile_brand_name': '...</td>\n",
       "      <td>{'continent': 'Asia', 'sub_continent': 'Southe...</td>\n",
       "      <td>{'medium': 'organic', 'name': '(organic)', 'so...</td>\n",
       "      <td>2100450278</td>\n",
       "      <td>WEB</td>\n",
       "      <td>{'total_item_quantity': None, 'purchase_revenu...</td>\n",
       "      <td>[]</td>\n",
       "    </tr>\n",
       "  </tbody>\n",
       "</table>\n",
       "</div>"
      ],
      "text/plain": [
       "   event_date   event_timestamp   event_name  \\\n",
       "0    20201101  1604192073036492    page_view   \n",
       "1    20201101  1604192073036492  first_visit   \n",
       "\n",
       "                                        event_params  \\\n",
       "0  [{'key': 'page_title', 'value': {'string_value...   \n",
       "1  [{'key': 'session_engaged', 'value': {'string_...   \n",
       "\n",
       "   event_bundle_sequence_id  user_pseudo_id  \\\n",
       "0                2351439526    1.005695e+06   \n",
       "1                2351439526    1.005695e+06   \n",
       "\n",
       "                                        privacy_info  \\\n",
       "0  {'analytics_storage': None, 'ads_storage': Non...   \n",
       "1  {'analytics_storage': None, 'ads_storage': Non...   \n",
       "\n",
       "   user_first_touch_timestamp                             user_ltv  \\\n",
       "0                1.604192e+15  {'revenue': 0.0, 'currency': 'USD'}   \n",
       "1                1.604192e+15  {'revenue': 0.0, 'currency': 'USD'}   \n",
       "\n",
       "                                              device  \\\n",
       "0  {'category': 'desktop', 'mobile_brand_name': '...   \n",
       "1  {'category': 'desktop', 'mobile_brand_name': '...   \n",
       "\n",
       "                                                 geo  \\\n",
       "0  {'continent': 'Asia', 'sub_continent': 'Southe...   \n",
       "1  {'continent': 'Asia', 'sub_continent': 'Southe...   \n",
       "\n",
       "                                      traffic_source   stream_id platform  \\\n",
       "0  {'medium': 'organic', 'name': '(organic)', 'so...  2100450278      WEB   \n",
       "1  {'medium': 'organic', 'name': '(organic)', 'so...  2100450278      WEB   \n",
       "\n",
       "                                           ecommerce items  \n",
       "0  {'total_item_quantity': None, 'purchase_revenu...    []  \n",
       "1  {'total_item_quantity': None, 'purchase_revenu...    []  "
      ]
     },
     "execution_count": 19,
     "metadata": {},
     "output_type": "execute_result"
    }
   ],
   "source": [
    "data.head(2)"
   ]
  },
  {
   "cell_type": "code",
   "execution_count": 20,
   "id": "fc9228f3",
   "metadata": {},
   "outputs": [],
   "source": [
    "from datetime import datetime"
   ]
  },
  {
   "cell_type": "code",
   "execution_count": 19,
   "id": "7b4ef569",
   "metadata": {},
   "outputs": [
    {
     "name": "stdout",
     "output_type": "stream",
     "text": [
      "int64\n"
     ]
    },
    {
     "data": {
      "text/html": [
       "<div>\n",
       "<style scoped>\n",
       "    .dataframe tbody tr th:only-of-type {\n",
       "        vertical-align: middle;\n",
       "    }\n",
       "\n",
       "    .dataframe tbody tr th {\n",
       "        vertical-align: top;\n",
       "    }\n",
       "\n",
       "    .dataframe thead th {\n",
       "        text-align: right;\n",
       "    }\n",
       "</style>\n",
       "<table border=\"1\" class=\"dataframe\">\n",
       "  <thead>\n",
       "    <tr style=\"text-align: right;\">\n",
       "      <th></th>\n",
       "      <th>event_date</th>\n",
       "      <th>event_timestamp</th>\n",
       "      <th>event_name</th>\n",
       "      <th>event_params</th>\n",
       "      <th>event_bundle_sequence_id</th>\n",
       "      <th>user_pseudo_id</th>\n",
       "      <th>privacy_info</th>\n",
       "      <th>user_first_touch_timestamp</th>\n",
       "      <th>user_ltv</th>\n",
       "      <th>device</th>\n",
       "      <th>geo</th>\n",
       "      <th>traffic_source</th>\n",
       "      <th>stream_id</th>\n",
       "      <th>platform</th>\n",
       "      <th>ecommerce</th>\n",
       "      <th>items</th>\n",
       "    </tr>\n",
       "  </thead>\n",
       "  <tbody>\n",
       "    <tr>\n",
       "      <th>0</th>\n",
       "      <td>2020-11-01</td>\n",
       "      <td>1604192073036492</td>\n",
       "      <td>page_view</td>\n",
       "      <td>[{'key': 'page_title', 'value': {'string_value...</td>\n",
       "      <td>2351439526</td>\n",
       "      <td>1.005695e+06</td>\n",
       "      <td>{'analytics_storage': None, 'ads_storage': Non...</td>\n",
       "      <td>1.604192e+15</td>\n",
       "      <td>{'revenue': 0.0, 'currency': 'USD'}</td>\n",
       "      <td>{'category': 'desktop', 'mobile_brand_name': '...</td>\n",
       "      <td>{'continent': 'Asia', 'sub_continent': 'Southe...</td>\n",
       "      <td>{'medium': 'organic', 'name': '(organic)', 'so...</td>\n",
       "      <td>2100450278</td>\n",
       "      <td>WEB</td>\n",
       "      <td>{'total_item_quantity': None, 'purchase_revenu...</td>\n",
       "      <td>[]</td>\n",
       "    </tr>\n",
       "    <tr>\n",
       "      <th>1</th>\n",
       "      <td>2020-11-01</td>\n",
       "      <td>1604192073036492</td>\n",
       "      <td>first_visit</td>\n",
       "      <td>[{'key': 'session_engaged', 'value': {'string_...</td>\n",
       "      <td>2351439526</td>\n",
       "      <td>1.005695e+06</td>\n",
       "      <td>{'analytics_storage': None, 'ads_storage': Non...</td>\n",
       "      <td>1.604192e+15</td>\n",
       "      <td>{'revenue': 0.0, 'currency': 'USD'}</td>\n",
       "      <td>{'category': 'desktop', 'mobile_brand_name': '...</td>\n",
       "      <td>{'continent': 'Asia', 'sub_continent': 'Southe...</td>\n",
       "      <td>{'medium': 'organic', 'name': '(organic)', 'so...</td>\n",
       "      <td>2100450278</td>\n",
       "      <td>WEB</td>\n",
       "      <td>{'total_item_quantity': None, 'purchase_revenu...</td>\n",
       "      <td>[]</td>\n",
       "    </tr>\n",
       "  </tbody>\n",
       "</table>\n",
       "</div>"
      ],
      "text/plain": [
       "   event_date   event_timestamp   event_name  \\\n",
       "0  2020-11-01  1604192073036492    page_view   \n",
       "1  2020-11-01  1604192073036492  first_visit   \n",
       "\n",
       "                                        event_params  \\\n",
       "0  [{'key': 'page_title', 'value': {'string_value...   \n",
       "1  [{'key': 'session_engaged', 'value': {'string_...   \n",
       "\n",
       "   event_bundle_sequence_id  user_pseudo_id  \\\n",
       "0                2351439526    1.005695e+06   \n",
       "1                2351439526    1.005695e+06   \n",
       "\n",
       "                                        privacy_info  \\\n",
       "0  {'analytics_storage': None, 'ads_storage': Non...   \n",
       "1  {'analytics_storage': None, 'ads_storage': Non...   \n",
       "\n",
       "   user_first_touch_timestamp                             user_ltv  \\\n",
       "0                1.604192e+15  {'revenue': 0.0, 'currency': 'USD'}   \n",
       "1                1.604192e+15  {'revenue': 0.0, 'currency': 'USD'}   \n",
       "\n",
       "                                              device  \\\n",
       "0  {'category': 'desktop', 'mobile_brand_name': '...   \n",
       "1  {'category': 'desktop', 'mobile_brand_name': '...   \n",
       "\n",
       "                                                 geo  \\\n",
       "0  {'continent': 'Asia', 'sub_continent': 'Southe...   \n",
       "1  {'continent': 'Asia', 'sub_continent': 'Southe...   \n",
       "\n",
       "                                      traffic_source   stream_id platform  \\\n",
       "0  {'medium': 'organic', 'name': '(organic)', 'so...  2100450278      WEB   \n",
       "1  {'medium': 'organic', 'name': '(organic)', 'so...  2100450278      WEB   \n",
       "\n",
       "                                           ecommerce items  \n",
       "0  {'total_item_quantity': None, 'purchase_revenu...    []  \n",
       "1  {'total_item_quantity': None, 'purchase_revenu...    []  "
      ]
     },
     "execution_count": 19,
     "metadata": {},
     "output_type": "execute_result"
    }
   ],
   "source": [
    "# event date needs to be segmented to make it in a readable format\n",
    "print(data['event_date'].dtype) # this column dtype is not appropriate as it does not reprsent microseconds\n",
    "\n",
    "# saving dates into a list\n",
    "dates = []\n",
    "for i in data['event_date']:\n",
    "    dates.append(str(i))\n",
    "# print(dates)\n",
    "\n",
    "# conversion of string to date format from 20210131 to 2021-01-31\n",
    "new_dates = []\n",
    "for i in dates:\n",
    "    new_dates.append(i[:4] + '-' + i[4:6] + '-' + i[6:])\n",
    "\n",
    "\n",
    "# # assigning these dates back to the event_date column\n",
    "data['event_date']=new_dates\n",
    "data.head(2)"
   ]
  },
  {
   "cell_type": "code",
   "execution_count": 21,
   "id": "4eaade90",
   "metadata": {},
   "outputs": [],
   "source": [
    "data['event_timestamp'] = data['event_timestamp'].astype('datetime64[ns]')"
   ]
  },
  {
   "cell_type": "code",
   "execution_count": 22,
   "id": "2aede95e",
   "metadata": {},
   "outputs": [
    {
     "data": {
      "text/html": [
       "<div>\n",
       "<style scoped>\n",
       "    .dataframe tbody tr th:only-of-type {\n",
       "        vertical-align: middle;\n",
       "    }\n",
       "\n",
       "    .dataframe tbody tr th {\n",
       "        vertical-align: top;\n",
       "    }\n",
       "\n",
       "    .dataframe thead th {\n",
       "        text-align: right;\n",
       "    }\n",
       "</style>\n",
       "<table border=\"1\" class=\"dataframe\">\n",
       "  <thead>\n",
       "    <tr style=\"text-align: right;\">\n",
       "      <th></th>\n",
       "      <th>event_date</th>\n",
       "      <th>event_timestamp</th>\n",
       "      <th>event_name</th>\n",
       "      <th>event_params</th>\n",
       "      <th>event_bundle_sequence_id</th>\n",
       "      <th>user_pseudo_id</th>\n",
       "      <th>privacy_info</th>\n",
       "      <th>user_first_touch_timestamp</th>\n",
       "      <th>user_ltv</th>\n",
       "      <th>device</th>\n",
       "      <th>geo</th>\n",
       "      <th>traffic_source</th>\n",
       "      <th>stream_id</th>\n",
       "      <th>platform</th>\n",
       "      <th>ecommerce</th>\n",
       "      <th>items</th>\n",
       "    </tr>\n",
       "  </thead>\n",
       "  <tbody>\n",
       "    <tr>\n",
       "      <th>0</th>\n",
       "      <td>20201101</td>\n",
       "      <td>1970-01-19 13:36:32.073036492</td>\n",
       "      <td>page_view</td>\n",
       "      <td>[{'key': 'page_title', 'value': {'string_value...</td>\n",
       "      <td>2351439526</td>\n",
       "      <td>1.005695e+06</td>\n",
       "      <td>{'analytics_storage': None, 'ads_storage': Non...</td>\n",
       "      <td>1.604192e+15</td>\n",
       "      <td>{'revenue': 0.0, 'currency': 'USD'}</td>\n",
       "      <td>{'category': 'desktop', 'mobile_brand_name': '...</td>\n",
       "      <td>{'continent': 'Asia', 'sub_continent': 'Southe...</td>\n",
       "      <td>{'medium': 'organic', 'name': '(organic)', 'so...</td>\n",
       "      <td>2100450278</td>\n",
       "      <td>WEB</td>\n",
       "      <td>{'total_item_quantity': None, 'purchase_revenu...</td>\n",
       "      <td>[]</td>\n",
       "    </tr>\n",
       "    <tr>\n",
       "      <th>1</th>\n",
       "      <td>20201101</td>\n",
       "      <td>1970-01-19 13:36:32.073036492</td>\n",
       "      <td>first_visit</td>\n",
       "      <td>[{'key': 'session_engaged', 'value': {'string_...</td>\n",
       "      <td>2351439526</td>\n",
       "      <td>1.005695e+06</td>\n",
       "      <td>{'analytics_storage': None, 'ads_storage': Non...</td>\n",
       "      <td>1.604192e+15</td>\n",
       "      <td>{'revenue': 0.0, 'currency': 'USD'}</td>\n",
       "      <td>{'category': 'desktop', 'mobile_brand_name': '...</td>\n",
       "      <td>{'continent': 'Asia', 'sub_continent': 'Southe...</td>\n",
       "      <td>{'medium': 'organic', 'name': '(organic)', 'so...</td>\n",
       "      <td>2100450278</td>\n",
       "      <td>WEB</td>\n",
       "      <td>{'total_item_quantity': None, 'purchase_revenu...</td>\n",
       "      <td>[]</td>\n",
       "    </tr>\n",
       "  </tbody>\n",
       "</table>\n",
       "</div>"
      ],
      "text/plain": [
       "   event_date               event_timestamp   event_name  \\\n",
       "0    20201101 1970-01-19 13:36:32.073036492    page_view   \n",
       "1    20201101 1970-01-19 13:36:32.073036492  first_visit   \n",
       "\n",
       "                                        event_params  \\\n",
       "0  [{'key': 'page_title', 'value': {'string_value...   \n",
       "1  [{'key': 'session_engaged', 'value': {'string_...   \n",
       "\n",
       "   event_bundle_sequence_id  user_pseudo_id  \\\n",
       "0                2351439526    1.005695e+06   \n",
       "1                2351439526    1.005695e+06   \n",
       "\n",
       "                                        privacy_info  \\\n",
       "0  {'analytics_storage': None, 'ads_storage': Non...   \n",
       "1  {'analytics_storage': None, 'ads_storage': Non...   \n",
       "\n",
       "   user_first_touch_timestamp                             user_ltv  \\\n",
       "0                1.604192e+15  {'revenue': 0.0, 'currency': 'USD'}   \n",
       "1                1.604192e+15  {'revenue': 0.0, 'currency': 'USD'}   \n",
       "\n",
       "                                              device  \\\n",
       "0  {'category': 'desktop', 'mobile_brand_name': '...   \n",
       "1  {'category': 'desktop', 'mobile_brand_name': '...   \n",
       "\n",
       "                                                 geo  \\\n",
       "0  {'continent': 'Asia', 'sub_continent': 'Southe...   \n",
       "1  {'continent': 'Asia', 'sub_continent': 'Southe...   \n",
       "\n",
       "                                      traffic_source   stream_id platform  \\\n",
       "0  {'medium': 'organic', 'name': '(organic)', 'so...  2100450278      WEB   \n",
       "1  {'medium': 'organic', 'name': '(organic)', 'so...  2100450278      WEB   \n",
       "\n",
       "                                           ecommerce items  \n",
       "0  {'total_item_quantity': None, 'purchase_revenu...    []  \n",
       "1  {'total_item_quantity': None, 'purchase_revenu...    []  "
      ]
     },
     "execution_count": 22,
     "metadata": {},
     "output_type": "execute_result"
    }
   ],
   "source": [
    "data.head(2)"
   ]
  },
  {
   "cell_type": "markdown",
   "id": "fecb1e96",
   "metadata": {},
   "source": [
    "Event timestamp is not providing the right results hence we will only consider event_date for further analysis\n",
    "\n",
    "## Handling Cells with String Dictionaries\n",
    "Conversion of such cells to separate column of dataframe will help in understanding the dataset better and improve its quality"
   ]
  },
  {
   "cell_type": "code",
   "execution_count": 23,
   "id": "131e0914",
   "metadata": {},
   "outputs": [
    {
     "data": {
      "text/plain": [
       "\"{'analytics_storage': None, 'ads_storage': None, 'uses_transient_token': 'No'}\""
      ]
     },
     "execution_count": 23,
     "metadata": {},
     "output_type": "execute_result"
    }
   ],
   "source": [
    "data['privacy_info'][699]"
   ]
  },
  {
   "cell_type": "code",
   "execution_count": 24,
   "id": "59fb253e",
   "metadata": {},
   "outputs": [],
   "source": [
    "import ast"
   ]
  },
  {
   "cell_type": "code",
   "execution_count": 25,
   "id": "b7fed121",
   "metadata": {},
   "outputs": [
    {
     "data": {
      "text/html": [
       "<div>\n",
       "<style scoped>\n",
       "    .dataframe tbody tr th:only-of-type {\n",
       "        vertical-align: middle;\n",
       "    }\n",
       "\n",
       "    .dataframe tbody tr th {\n",
       "        vertical-align: top;\n",
       "    }\n",
       "\n",
       "    .dataframe thead th {\n",
       "        text-align: right;\n",
       "    }\n",
       "</style>\n",
       "<table border=\"1\" class=\"dataframe\">\n",
       "  <thead>\n",
       "    <tr style=\"text-align: right;\">\n",
       "      <th></th>\n",
       "      <th>analytics_storage</th>\n",
       "      <th>ads_storage</th>\n",
       "      <th>uses_transient_token</th>\n",
       "    </tr>\n",
       "  </thead>\n",
       "  <tbody>\n",
       "    <tr>\n",
       "      <th>0</th>\n",
       "      <td>None</td>\n",
       "      <td>None</td>\n",
       "      <td>No</td>\n",
       "    </tr>\n",
       "    <tr>\n",
       "      <th>1</th>\n",
       "      <td>None</td>\n",
       "      <td>None</td>\n",
       "      <td>No</td>\n",
       "    </tr>\n",
       "    <tr>\n",
       "      <th>2</th>\n",
       "      <td>None</td>\n",
       "      <td>None</td>\n",
       "      <td>No</td>\n",
       "    </tr>\n",
       "    <tr>\n",
       "      <th>3</th>\n",
       "      <td>None</td>\n",
       "      <td>None</td>\n",
       "      <td>No</td>\n",
       "    </tr>\n",
       "    <tr>\n",
       "      <th>4</th>\n",
       "      <td>None</td>\n",
       "      <td>None</td>\n",
       "      <td>No</td>\n",
       "    </tr>\n",
       "    <tr>\n",
       "      <th>...</th>\n",
       "      <td>...</td>\n",
       "      <td>...</td>\n",
       "      <td>...</td>\n",
       "    </tr>\n",
       "    <tr>\n",
       "      <th>4295579</th>\n",
       "      <td>None</td>\n",
       "      <td>None</td>\n",
       "      <td>No</td>\n",
       "    </tr>\n",
       "    <tr>\n",
       "      <th>4295580</th>\n",
       "      <td>None</td>\n",
       "      <td>None</td>\n",
       "      <td>No</td>\n",
       "    </tr>\n",
       "    <tr>\n",
       "      <th>4295581</th>\n",
       "      <td>None</td>\n",
       "      <td>None</td>\n",
       "      <td>No</td>\n",
       "    </tr>\n",
       "    <tr>\n",
       "      <th>4295582</th>\n",
       "      <td>None</td>\n",
       "      <td>None</td>\n",
       "      <td>No</td>\n",
       "    </tr>\n",
       "    <tr>\n",
       "      <th>4295583</th>\n",
       "      <td>None</td>\n",
       "      <td>None</td>\n",
       "      <td>No</td>\n",
       "    </tr>\n",
       "  </tbody>\n",
       "</table>\n",
       "<p>4295584 rows × 3 columns</p>\n",
       "</div>"
      ],
      "text/plain": [
       "        analytics_storage ads_storage uses_transient_token\n",
       "0                    None        None                   No\n",
       "1                    None        None                   No\n",
       "2                    None        None                   No\n",
       "3                    None        None                   No\n",
       "4                    None        None                   No\n",
       "...                   ...         ...                  ...\n",
       "4295579              None        None                   No\n",
       "4295580              None        None                   No\n",
       "4295581              None        None                   No\n",
       "4295582              None        None                   No\n",
       "4295583              None        None                   No\n",
       "\n",
       "[4295584 rows x 3 columns]"
      ]
     },
     "execution_count": 25,
     "metadata": {},
     "output_type": "execute_result"
    }
   ],
   "source": [
    "# converting string to dictionary\n",
    "dict_list = []\n",
    "for i in data['privacy_info']:\n",
    "    dict_list.append(ast.literal_eval(i)) # creating list of dictionaries representing each cell\n",
    "\n",
    "# conversion of list to series in form of a dataset\n",
    "data['privacy_info'] = dict_list\n",
    "privacy_info = data['privacy_info'].apply(pd.Series)\n",
    "privacy_info "
   ]
  },
  {
   "cell_type": "code",
   "execution_count": 26,
   "id": "9abc920f",
   "metadata": {},
   "outputs": [],
   "source": [
    "# Adding columns to orignal dataset\n",
    "data['analytics_storage'] = privacy_info['analytics_storage']\n",
    "data['ads_storage'] = privacy_info['ads_storage']\n",
    "data['uses_transient_token'] = privacy_info['uses_transient_token']"
   ]
  },
  {
   "cell_type": "code",
   "execution_count": 27,
   "id": "30df9bfa",
   "metadata": {},
   "outputs": [
    {
     "data": {
      "text/html": [
       "<div>\n",
       "<style scoped>\n",
       "    .dataframe tbody tr th:only-of-type {\n",
       "        vertical-align: middle;\n",
       "    }\n",
       "\n",
       "    .dataframe tbody tr th {\n",
       "        vertical-align: top;\n",
       "    }\n",
       "\n",
       "    .dataframe thead th {\n",
       "        text-align: right;\n",
       "    }\n",
       "</style>\n",
       "<table border=\"1\" class=\"dataframe\">\n",
       "  <thead>\n",
       "    <tr style=\"text-align: right;\">\n",
       "      <th></th>\n",
       "      <th>revenue</th>\n",
       "      <th>currency</th>\n",
       "    </tr>\n",
       "  </thead>\n",
       "  <tbody>\n",
       "    <tr>\n",
       "      <th>0</th>\n",
       "      <td>0.0</td>\n",
       "      <td>USD</td>\n",
       "    </tr>\n",
       "    <tr>\n",
       "      <th>1</th>\n",
       "      <td>0.0</td>\n",
       "      <td>USD</td>\n",
       "    </tr>\n",
       "    <tr>\n",
       "      <th>2</th>\n",
       "      <td>0.0</td>\n",
       "      <td>USD</td>\n",
       "    </tr>\n",
       "    <tr>\n",
       "      <th>3</th>\n",
       "      <td>0.0</td>\n",
       "      <td>USD</td>\n",
       "    </tr>\n",
       "    <tr>\n",
       "      <th>4</th>\n",
       "      <td>0.0</td>\n",
       "      <td>USD</td>\n",
       "    </tr>\n",
       "    <tr>\n",
       "      <th>...</th>\n",
       "      <td>...</td>\n",
       "      <td>...</td>\n",
       "    </tr>\n",
       "    <tr>\n",
       "      <th>4295579</th>\n",
       "      <td>0.0</td>\n",
       "      <td>USD</td>\n",
       "    </tr>\n",
       "    <tr>\n",
       "      <th>4295580</th>\n",
       "      <td>0.0</td>\n",
       "      <td>USD</td>\n",
       "    </tr>\n",
       "    <tr>\n",
       "      <th>4295581</th>\n",
       "      <td>0.0</td>\n",
       "      <td>USD</td>\n",
       "    </tr>\n",
       "    <tr>\n",
       "      <th>4295582</th>\n",
       "      <td>0.0</td>\n",
       "      <td>USD</td>\n",
       "    </tr>\n",
       "    <tr>\n",
       "      <th>4295583</th>\n",
       "      <td>0.0</td>\n",
       "      <td>USD</td>\n",
       "    </tr>\n",
       "  </tbody>\n",
       "</table>\n",
       "<p>4295584 rows × 2 columns</p>\n",
       "</div>"
      ],
      "text/plain": [
       "         revenue currency\n",
       "0            0.0      USD\n",
       "1            0.0      USD\n",
       "2            0.0      USD\n",
       "3            0.0      USD\n",
       "4            0.0      USD\n",
       "...          ...      ...\n",
       "4295579      0.0      USD\n",
       "4295580      0.0      USD\n",
       "4295581      0.0      USD\n",
       "4295582      0.0      USD\n",
       "4295583      0.0      USD\n",
       "\n",
       "[4295584 rows x 2 columns]"
      ]
     },
     "execution_count": 27,
     "metadata": {},
     "output_type": "execute_result"
    }
   ],
   "source": [
    "# converting string to dictionary\n",
    "dict_list = []\n",
    "for i in data['user_ltv']:\n",
    "    dict_list.append(ast.literal_eval(i)) # creating list of dictionaries representing each cell\n",
    "\n",
    "# conversion of list to series in form of a dataset\n",
    "data['user_ltv'] = dict_list\n",
    "user_ltv = data['user_ltv'].apply(pd.Series)\n",
    "user_ltv"
   ]
  },
  {
   "cell_type": "code",
   "execution_count": 28,
   "id": "eeba069e",
   "metadata": {},
   "outputs": [],
   "source": [
    "# Adding columns to orignal dataset\n",
    "data['revenue'] = user_ltv['revenue']\n",
    "data['currency'] = user_ltv['currency']"
   ]
  },
  {
   "cell_type": "code",
   "execution_count": 29,
   "id": "3b2ea43c",
   "metadata": {},
   "outputs": [
    {
     "data": {
      "text/html": [
       "<div>\n",
       "<style scoped>\n",
       "    .dataframe tbody tr th:only-of-type {\n",
       "        vertical-align: middle;\n",
       "    }\n",
       "\n",
       "    .dataframe tbody tr th {\n",
       "        vertical-align: top;\n",
       "    }\n",
       "\n",
       "    .dataframe thead th {\n",
       "        text-align: right;\n",
       "    }\n",
       "</style>\n",
       "<table border=\"1\" class=\"dataframe\">\n",
       "  <thead>\n",
       "    <tr style=\"text-align: right;\">\n",
       "      <th></th>\n",
       "      <th>event_date</th>\n",
       "      <th>event_timestamp</th>\n",
       "      <th>event_name</th>\n",
       "      <th>event_params</th>\n",
       "      <th>event_bundle_sequence_id</th>\n",
       "      <th>user_pseudo_id</th>\n",
       "      <th>privacy_info</th>\n",
       "      <th>user_first_touch_timestamp</th>\n",
       "      <th>user_ltv</th>\n",
       "      <th>device</th>\n",
       "      <th>...</th>\n",
       "      <th>traffic_source</th>\n",
       "      <th>stream_id</th>\n",
       "      <th>platform</th>\n",
       "      <th>ecommerce</th>\n",
       "      <th>items</th>\n",
       "      <th>analytics_storage</th>\n",
       "      <th>ads_storage</th>\n",
       "      <th>uses_transient_token</th>\n",
       "      <th>revenue</th>\n",
       "      <th>currency</th>\n",
       "    </tr>\n",
       "  </thead>\n",
       "  <tbody>\n",
       "    <tr>\n",
       "      <th>0</th>\n",
       "      <td>20201101</td>\n",
       "      <td>1970-01-19 13:36:32.073036492</td>\n",
       "      <td>page_view</td>\n",
       "      <td>[{'key': 'page_title', 'value': {'string_value...</td>\n",
       "      <td>2351439526</td>\n",
       "      <td>1.005695e+06</td>\n",
       "      <td>{'analytics_storage': None, 'ads_storage': Non...</td>\n",
       "      <td>1.604192e+15</td>\n",
       "      <td>{'revenue': 0.0, 'currency': 'USD'}</td>\n",
       "      <td>{'category': 'desktop', 'mobile_brand_name': '...</td>\n",
       "      <td>...</td>\n",
       "      <td>{'medium': 'organic', 'name': '(organic)', 'so...</td>\n",
       "      <td>2100450278</td>\n",
       "      <td>WEB</td>\n",
       "      <td>{'total_item_quantity': None, 'purchase_revenu...</td>\n",
       "      <td>[]</td>\n",
       "      <td>None</td>\n",
       "      <td>None</td>\n",
       "      <td>No</td>\n",
       "      <td>0.0</td>\n",
       "      <td>USD</td>\n",
       "    </tr>\n",
       "    <tr>\n",
       "      <th>1</th>\n",
       "      <td>20201101</td>\n",
       "      <td>1970-01-19 13:36:32.073036492</td>\n",
       "      <td>first_visit</td>\n",
       "      <td>[{'key': 'session_engaged', 'value': {'string_...</td>\n",
       "      <td>2351439526</td>\n",
       "      <td>1.005695e+06</td>\n",
       "      <td>{'analytics_storage': None, 'ads_storage': Non...</td>\n",
       "      <td>1.604192e+15</td>\n",
       "      <td>{'revenue': 0.0, 'currency': 'USD'}</td>\n",
       "      <td>{'category': 'desktop', 'mobile_brand_name': '...</td>\n",
       "      <td>...</td>\n",
       "      <td>{'medium': 'organic', 'name': '(organic)', 'so...</td>\n",
       "      <td>2100450278</td>\n",
       "      <td>WEB</td>\n",
       "      <td>{'total_item_quantity': None, 'purchase_revenu...</td>\n",
       "      <td>[]</td>\n",
       "      <td>None</td>\n",
       "      <td>None</td>\n",
       "      <td>No</td>\n",
       "      <td>0.0</td>\n",
       "      <td>USD</td>\n",
       "    </tr>\n",
       "  </tbody>\n",
       "</table>\n",
       "<p>2 rows × 21 columns</p>\n",
       "</div>"
      ],
      "text/plain": [
       "   event_date               event_timestamp   event_name  \\\n",
       "0    20201101 1970-01-19 13:36:32.073036492    page_view   \n",
       "1    20201101 1970-01-19 13:36:32.073036492  first_visit   \n",
       "\n",
       "                                        event_params  \\\n",
       "0  [{'key': 'page_title', 'value': {'string_value...   \n",
       "1  [{'key': 'session_engaged', 'value': {'string_...   \n",
       "\n",
       "   event_bundle_sequence_id  user_pseudo_id  \\\n",
       "0                2351439526    1.005695e+06   \n",
       "1                2351439526    1.005695e+06   \n",
       "\n",
       "                                        privacy_info  \\\n",
       "0  {'analytics_storage': None, 'ads_storage': Non...   \n",
       "1  {'analytics_storage': None, 'ads_storage': Non...   \n",
       "\n",
       "   user_first_touch_timestamp                             user_ltv  \\\n",
       "0                1.604192e+15  {'revenue': 0.0, 'currency': 'USD'}   \n",
       "1                1.604192e+15  {'revenue': 0.0, 'currency': 'USD'}   \n",
       "\n",
       "                                              device  ...  \\\n",
       "0  {'category': 'desktop', 'mobile_brand_name': '...  ...   \n",
       "1  {'category': 'desktop', 'mobile_brand_name': '...  ...   \n",
       "\n",
       "                                      traffic_source   stream_id  platform  \\\n",
       "0  {'medium': 'organic', 'name': '(organic)', 'so...  2100450278       WEB   \n",
       "1  {'medium': 'organic', 'name': '(organic)', 'so...  2100450278       WEB   \n",
       "\n",
       "                                           ecommerce items analytics_storage  \\\n",
       "0  {'total_item_quantity': None, 'purchase_revenu...    []              None   \n",
       "1  {'total_item_quantity': None, 'purchase_revenu...    []              None   \n",
       "\n",
       "  ads_storage uses_transient_token revenue  currency  \n",
       "0        None                   No     0.0       USD  \n",
       "1        None                   No     0.0       USD  \n",
       "\n",
       "[2 rows x 21 columns]"
      ]
     },
     "execution_count": 29,
     "metadata": {},
     "output_type": "execute_result"
    }
   ],
   "source": [
    "data.head(2)"
   ]
  },
  {
   "cell_type": "code",
   "execution_count": 30,
   "id": "10c48b1a",
   "metadata": {},
   "outputs": [
    {
     "data": {
      "text/html": [
       "<div>\n",
       "<style scoped>\n",
       "    .dataframe tbody tr th:only-of-type {\n",
       "        vertical-align: middle;\n",
       "    }\n",
       "\n",
       "    .dataframe tbody tr th {\n",
       "        vertical-align: top;\n",
       "    }\n",
       "\n",
       "    .dataframe thead th {\n",
       "        text-align: right;\n",
       "    }\n",
       "</style>\n",
       "<table border=\"1\" class=\"dataframe\">\n",
       "  <thead>\n",
       "    <tr style=\"text-align: right;\">\n",
       "      <th></th>\n",
       "      <th>category</th>\n",
       "      <th>mobile_brand_name</th>\n",
       "      <th>mobile_model_name</th>\n",
       "      <th>mobile_marketing_name</th>\n",
       "      <th>mobile_os_hardware_model</th>\n",
       "      <th>operating_system</th>\n",
       "      <th>operating_system_version</th>\n",
       "      <th>vendor_id</th>\n",
       "      <th>advertising_id</th>\n",
       "      <th>language</th>\n",
       "      <th>is_limited_ad_tracking</th>\n",
       "      <th>time_zone_offset_seconds</th>\n",
       "      <th>web_info</th>\n",
       "    </tr>\n",
       "  </thead>\n",
       "  <tbody>\n",
       "    <tr>\n",
       "      <th>0</th>\n",
       "      <td>desktop</td>\n",
       "      <td>Google</td>\n",
       "      <td>Chrome</td>\n",
       "      <td>&lt;Other&gt;</td>\n",
       "      <td>None</td>\n",
       "      <td>Web</td>\n",
       "      <td>10</td>\n",
       "      <td>None</td>\n",
       "      <td>None</td>\n",
       "      <td>zh</td>\n",
       "      <td>No</td>\n",
       "      <td>None</td>\n",
       "      <td>{'browser': 'Chrome', 'browser_version': '86.0'}</td>\n",
       "    </tr>\n",
       "    <tr>\n",
       "      <th>1</th>\n",
       "      <td>desktop</td>\n",
       "      <td>Google</td>\n",
       "      <td>Chrome</td>\n",
       "      <td>&lt;Other&gt;</td>\n",
       "      <td>None</td>\n",
       "      <td>Web</td>\n",
       "      <td>10</td>\n",
       "      <td>None</td>\n",
       "      <td>None</td>\n",
       "      <td>zh</td>\n",
       "      <td>No</td>\n",
       "      <td>None</td>\n",
       "      <td>{'browser': 'Chrome', 'browser_version': '86.0'}</td>\n",
       "    </tr>\n",
       "    <tr>\n",
       "      <th>2</th>\n",
       "      <td>desktop</td>\n",
       "      <td>Google</td>\n",
       "      <td>Chrome</td>\n",
       "      <td>&lt;Other&gt;</td>\n",
       "      <td>None</td>\n",
       "      <td>Web</td>\n",
       "      <td>10</td>\n",
       "      <td>None</td>\n",
       "      <td>None</td>\n",
       "      <td>zh</td>\n",
       "      <td>No</td>\n",
       "      <td>None</td>\n",
       "      <td>{'browser': 'Chrome', 'browser_version': '86.0'}</td>\n",
       "    </tr>\n",
       "    <tr>\n",
       "      <th>3</th>\n",
       "      <td>desktop</td>\n",
       "      <td>Google</td>\n",
       "      <td>Chrome</td>\n",
       "      <td>&lt;Other&gt;</td>\n",
       "      <td>None</td>\n",
       "      <td>Web</td>\n",
       "      <td>10</td>\n",
       "      <td>None</td>\n",
       "      <td>None</td>\n",
       "      <td>zh</td>\n",
       "      <td>No</td>\n",
       "      <td>None</td>\n",
       "      <td>{'browser': 'Chrome', 'browser_version': '86.0'}</td>\n",
       "    </tr>\n",
       "    <tr>\n",
       "      <th>4</th>\n",
       "      <td>mobile</td>\n",
       "      <td>Samsung</td>\n",
       "      <td>&lt;Other&gt;</td>\n",
       "      <td>&lt;Other&gt;</td>\n",
       "      <td>None</td>\n",
       "      <td>Android</td>\n",
       "      <td>Android 9</td>\n",
       "      <td>None</td>\n",
       "      <td>None</td>\n",
       "      <td>en-us</td>\n",
       "      <td>No</td>\n",
       "      <td>None</td>\n",
       "      <td>{'browser': 'Chrome', 'browser_version': '86.0'}</td>\n",
       "    </tr>\n",
       "    <tr>\n",
       "      <th>...</th>\n",
       "      <td>...</td>\n",
       "      <td>...</td>\n",
       "      <td>...</td>\n",
       "      <td>...</td>\n",
       "      <td>...</td>\n",
       "      <td>...</td>\n",
       "      <td>...</td>\n",
       "      <td>...</td>\n",
       "      <td>...</td>\n",
       "      <td>...</td>\n",
       "      <td>...</td>\n",
       "      <td>...</td>\n",
       "      <td>...</td>\n",
       "    </tr>\n",
       "    <tr>\n",
       "      <th>4295579</th>\n",
       "      <td>mobile</td>\n",
       "      <td>Apple</td>\n",
       "      <td>iPhone</td>\n",
       "      <td>&lt;Other&gt;</td>\n",
       "      <td>None</td>\n",
       "      <td>iOS</td>\n",
       "      <td>iOS 14.2</td>\n",
       "      <td>None</td>\n",
       "      <td>None</td>\n",
       "      <td>en-us</td>\n",
       "      <td>No</td>\n",
       "      <td>None</td>\n",
       "      <td>{'browser': 'Safari', 'browser_version': '14.0'}</td>\n",
       "    </tr>\n",
       "    <tr>\n",
       "      <th>4295580</th>\n",
       "      <td>mobile</td>\n",
       "      <td>Apple</td>\n",
       "      <td>iPhone</td>\n",
       "      <td>&lt;Other&gt;</td>\n",
       "      <td>None</td>\n",
       "      <td>iOS</td>\n",
       "      <td>iOS 14.2</td>\n",
       "      <td>None</td>\n",
       "      <td>None</td>\n",
       "      <td>en-us</td>\n",
       "      <td>No</td>\n",
       "      <td>None</td>\n",
       "      <td>{'browser': 'Safari', 'browser_version': '14.0'}</td>\n",
       "    </tr>\n",
       "    <tr>\n",
       "      <th>4295581</th>\n",
       "      <td>mobile</td>\n",
       "      <td>Apple</td>\n",
       "      <td>iPhone</td>\n",
       "      <td>&lt;Other&gt;</td>\n",
       "      <td>None</td>\n",
       "      <td>iOS</td>\n",
       "      <td>iOS 14.2</td>\n",
       "      <td>None</td>\n",
       "      <td>None</td>\n",
       "      <td>en-us</td>\n",
       "      <td>No</td>\n",
       "      <td>None</td>\n",
       "      <td>{'browser': 'Safari', 'browser_version': '14.0'}</td>\n",
       "    </tr>\n",
       "    <tr>\n",
       "      <th>4295582</th>\n",
       "      <td>mobile</td>\n",
       "      <td>Apple</td>\n",
       "      <td>iPhone</td>\n",
       "      <td>&lt;Other&gt;</td>\n",
       "      <td>None</td>\n",
       "      <td>iOS</td>\n",
       "      <td>iOS 14.2</td>\n",
       "      <td>None</td>\n",
       "      <td>None</td>\n",
       "      <td>en-us</td>\n",
       "      <td>No</td>\n",
       "      <td>None</td>\n",
       "      <td>{'browser': 'Safari', 'browser_version': '14.0'}</td>\n",
       "    </tr>\n",
       "    <tr>\n",
       "      <th>4295583</th>\n",
       "      <td>desktop</td>\n",
       "      <td>Google</td>\n",
       "      <td>Chrome</td>\n",
       "      <td>&lt;Other&gt;</td>\n",
       "      <td>None</td>\n",
       "      <td>Web</td>\n",
       "      <td>10</td>\n",
       "      <td>None</td>\n",
       "      <td>None</td>\n",
       "      <td>en-us</td>\n",
       "      <td>No</td>\n",
       "      <td>None</td>\n",
       "      <td>{'browser': 'Chrome', 'browser_version': '86.0'}</td>\n",
       "    </tr>\n",
       "  </tbody>\n",
       "</table>\n",
       "<p>4295584 rows × 13 columns</p>\n",
       "</div>"
      ],
      "text/plain": [
       "        category mobile_brand_name mobile_model_name mobile_marketing_name  \\\n",
       "0        desktop            Google            Chrome               <Other>   \n",
       "1        desktop            Google            Chrome               <Other>   \n",
       "2        desktop            Google            Chrome               <Other>   \n",
       "3        desktop            Google            Chrome               <Other>   \n",
       "4         mobile           Samsung           <Other>               <Other>   \n",
       "...          ...               ...               ...                   ...   \n",
       "4295579   mobile             Apple            iPhone               <Other>   \n",
       "4295580   mobile             Apple            iPhone               <Other>   \n",
       "4295581   mobile             Apple            iPhone               <Other>   \n",
       "4295582   mobile             Apple            iPhone               <Other>   \n",
       "4295583  desktop            Google            Chrome               <Other>   \n",
       "\n",
       "        mobile_os_hardware_model operating_system operating_system_version  \\\n",
       "0                           None              Web                       10   \n",
       "1                           None              Web                       10   \n",
       "2                           None              Web                       10   \n",
       "3                           None              Web                       10   \n",
       "4                           None          Android                Android 9   \n",
       "...                          ...              ...                      ...   \n",
       "4295579                     None              iOS                 iOS 14.2   \n",
       "4295580                     None              iOS                 iOS 14.2   \n",
       "4295581                     None              iOS                 iOS 14.2   \n",
       "4295582                     None              iOS                 iOS 14.2   \n",
       "4295583                     None              Web                       10   \n",
       "\n",
       "        vendor_id advertising_id language is_limited_ad_tracking  \\\n",
       "0            None           None       zh                     No   \n",
       "1            None           None       zh                     No   \n",
       "2            None           None       zh                     No   \n",
       "3            None           None       zh                     No   \n",
       "4            None           None    en-us                     No   \n",
       "...           ...            ...      ...                    ...   \n",
       "4295579      None           None    en-us                     No   \n",
       "4295580      None           None    en-us                     No   \n",
       "4295581      None           None    en-us                     No   \n",
       "4295582      None           None    en-us                     No   \n",
       "4295583      None           None    en-us                     No   \n",
       "\n",
       "        time_zone_offset_seconds  \\\n",
       "0                           None   \n",
       "1                           None   \n",
       "2                           None   \n",
       "3                           None   \n",
       "4                           None   \n",
       "...                          ...   \n",
       "4295579                     None   \n",
       "4295580                     None   \n",
       "4295581                     None   \n",
       "4295582                     None   \n",
       "4295583                     None   \n",
       "\n",
       "                                                 web_info  \n",
       "0        {'browser': 'Chrome', 'browser_version': '86.0'}  \n",
       "1        {'browser': 'Chrome', 'browser_version': '86.0'}  \n",
       "2        {'browser': 'Chrome', 'browser_version': '86.0'}  \n",
       "3        {'browser': 'Chrome', 'browser_version': '86.0'}  \n",
       "4        {'browser': 'Chrome', 'browser_version': '86.0'}  \n",
       "...                                                   ...  \n",
       "4295579  {'browser': 'Safari', 'browser_version': '14.0'}  \n",
       "4295580  {'browser': 'Safari', 'browser_version': '14.0'}  \n",
       "4295581  {'browser': 'Safari', 'browser_version': '14.0'}  \n",
       "4295582  {'browser': 'Safari', 'browser_version': '14.0'}  \n",
       "4295583  {'browser': 'Chrome', 'browser_version': '86.0'}  \n",
       "\n",
       "[4295584 rows x 13 columns]"
      ]
     },
     "execution_count": 30,
     "metadata": {},
     "output_type": "execute_result"
    }
   ],
   "source": [
    "# converting string to dictionary\n",
    "dict_list = []\n",
    "for i in data['device']:\n",
    "    dict_list.append(ast.literal_eval(i)) # creating list of dictionaries representing each cell\n",
    "\n",
    "# conversion of list to series in form of a dataset\n",
    "data['device'] = dict_list\n",
    "device = data['device'].apply(pd.Series)\n",
    "device"
   ]
  },
  {
   "cell_type": "code",
   "execution_count": 31,
   "id": "e6be4795",
   "metadata": {},
   "outputs": [
    {
     "data": {
      "text/html": [
       "<div>\n",
       "<style scoped>\n",
       "    .dataframe tbody tr th:only-of-type {\n",
       "        vertical-align: middle;\n",
       "    }\n",
       "\n",
       "    .dataframe tbody tr th {\n",
       "        vertical-align: top;\n",
       "    }\n",
       "\n",
       "    .dataframe thead th {\n",
       "        text-align: right;\n",
       "    }\n",
       "</style>\n",
       "<table border=\"1\" class=\"dataframe\">\n",
       "  <thead>\n",
       "    <tr style=\"text-align: right;\">\n",
       "      <th></th>\n",
       "      <th>category</th>\n",
       "      <th>mobile_brand_name</th>\n",
       "      <th>mobile_model_name</th>\n",
       "      <th>mobile_marketing_name</th>\n",
       "      <th>mobile_os_hardware_model</th>\n",
       "      <th>operating_system</th>\n",
       "      <th>operating_system_version</th>\n",
       "      <th>vendor_id</th>\n",
       "      <th>advertising_id</th>\n",
       "      <th>language</th>\n",
       "      <th>is_limited_ad_tracking</th>\n",
       "      <th>time_zone_offset_seconds</th>\n",
       "      <th>web_info</th>\n",
       "    </tr>\n",
       "  </thead>\n",
       "  <tbody>\n",
       "    <tr>\n",
       "      <th>0</th>\n",
       "      <td>desktop</td>\n",
       "      <td>Google</td>\n",
       "      <td>Chrome</td>\n",
       "      <td>&lt;Other&gt;</td>\n",
       "      <td>None</td>\n",
       "      <td>Web</td>\n",
       "      <td>10</td>\n",
       "      <td>None</td>\n",
       "      <td>None</td>\n",
       "      <td>zh</td>\n",
       "      <td>No</td>\n",
       "      <td>None</td>\n",
       "      <td>{'browser': 'Chrome', 'browser_version': '86.0'}</td>\n",
       "    </tr>\n",
       "    <tr>\n",
       "      <th>1</th>\n",
       "      <td>desktop</td>\n",
       "      <td>Google</td>\n",
       "      <td>Chrome</td>\n",
       "      <td>&lt;Other&gt;</td>\n",
       "      <td>None</td>\n",
       "      <td>Web</td>\n",
       "      <td>10</td>\n",
       "      <td>None</td>\n",
       "      <td>None</td>\n",
       "      <td>zh</td>\n",
       "      <td>No</td>\n",
       "      <td>None</td>\n",
       "      <td>{'browser': 'Chrome', 'browser_version': '86.0'}</td>\n",
       "    </tr>\n",
       "    <tr>\n",
       "      <th>2</th>\n",
       "      <td>desktop</td>\n",
       "      <td>Google</td>\n",
       "      <td>Chrome</td>\n",
       "      <td>&lt;Other&gt;</td>\n",
       "      <td>None</td>\n",
       "      <td>Web</td>\n",
       "      <td>10</td>\n",
       "      <td>None</td>\n",
       "      <td>None</td>\n",
       "      <td>zh</td>\n",
       "      <td>No</td>\n",
       "      <td>None</td>\n",
       "      <td>{'browser': 'Chrome', 'browser_version': '86.0'}</td>\n",
       "    </tr>\n",
       "    <tr>\n",
       "      <th>3</th>\n",
       "      <td>desktop</td>\n",
       "      <td>Google</td>\n",
       "      <td>Chrome</td>\n",
       "      <td>&lt;Other&gt;</td>\n",
       "      <td>None</td>\n",
       "      <td>Web</td>\n",
       "      <td>10</td>\n",
       "      <td>None</td>\n",
       "      <td>None</td>\n",
       "      <td>zh</td>\n",
       "      <td>No</td>\n",
       "      <td>None</td>\n",
       "      <td>{'browser': 'Chrome', 'browser_version': '86.0'}</td>\n",
       "    </tr>\n",
       "    <tr>\n",
       "      <th>4</th>\n",
       "      <td>mobile</td>\n",
       "      <td>Samsung</td>\n",
       "      <td>&lt;Other&gt;</td>\n",
       "      <td>&lt;Other&gt;</td>\n",
       "      <td>None</td>\n",
       "      <td>Android</td>\n",
       "      <td>Android 9</td>\n",
       "      <td>None</td>\n",
       "      <td>None</td>\n",
       "      <td>en-us</td>\n",
       "      <td>No</td>\n",
       "      <td>None</td>\n",
       "      <td>{'browser': 'Chrome', 'browser_version': '86.0'}</td>\n",
       "    </tr>\n",
       "    <tr>\n",
       "      <th>...</th>\n",
       "      <td>...</td>\n",
       "      <td>...</td>\n",
       "      <td>...</td>\n",
       "      <td>...</td>\n",
       "      <td>...</td>\n",
       "      <td>...</td>\n",
       "      <td>...</td>\n",
       "      <td>...</td>\n",
       "      <td>...</td>\n",
       "      <td>...</td>\n",
       "      <td>...</td>\n",
       "      <td>...</td>\n",
       "      <td>...</td>\n",
       "    </tr>\n",
       "    <tr>\n",
       "      <th>4295579</th>\n",
       "      <td>mobile</td>\n",
       "      <td>Apple</td>\n",
       "      <td>iPhone</td>\n",
       "      <td>&lt;Other&gt;</td>\n",
       "      <td>None</td>\n",
       "      <td>iOS</td>\n",
       "      <td>iOS 14.2</td>\n",
       "      <td>None</td>\n",
       "      <td>None</td>\n",
       "      <td>en-us</td>\n",
       "      <td>No</td>\n",
       "      <td>None</td>\n",
       "      <td>{'browser': 'Safari', 'browser_version': '14.0'}</td>\n",
       "    </tr>\n",
       "    <tr>\n",
       "      <th>4295580</th>\n",
       "      <td>mobile</td>\n",
       "      <td>Apple</td>\n",
       "      <td>iPhone</td>\n",
       "      <td>&lt;Other&gt;</td>\n",
       "      <td>None</td>\n",
       "      <td>iOS</td>\n",
       "      <td>iOS 14.2</td>\n",
       "      <td>None</td>\n",
       "      <td>None</td>\n",
       "      <td>en-us</td>\n",
       "      <td>No</td>\n",
       "      <td>None</td>\n",
       "      <td>{'browser': 'Safari', 'browser_version': '14.0'}</td>\n",
       "    </tr>\n",
       "    <tr>\n",
       "      <th>4295581</th>\n",
       "      <td>mobile</td>\n",
       "      <td>Apple</td>\n",
       "      <td>iPhone</td>\n",
       "      <td>&lt;Other&gt;</td>\n",
       "      <td>None</td>\n",
       "      <td>iOS</td>\n",
       "      <td>iOS 14.2</td>\n",
       "      <td>None</td>\n",
       "      <td>None</td>\n",
       "      <td>en-us</td>\n",
       "      <td>No</td>\n",
       "      <td>None</td>\n",
       "      <td>{'browser': 'Safari', 'browser_version': '14.0'}</td>\n",
       "    </tr>\n",
       "    <tr>\n",
       "      <th>4295582</th>\n",
       "      <td>mobile</td>\n",
       "      <td>Apple</td>\n",
       "      <td>iPhone</td>\n",
       "      <td>&lt;Other&gt;</td>\n",
       "      <td>None</td>\n",
       "      <td>iOS</td>\n",
       "      <td>iOS 14.2</td>\n",
       "      <td>None</td>\n",
       "      <td>None</td>\n",
       "      <td>en-us</td>\n",
       "      <td>No</td>\n",
       "      <td>None</td>\n",
       "      <td>{'browser': 'Safari', 'browser_version': '14.0'}</td>\n",
       "    </tr>\n",
       "    <tr>\n",
       "      <th>4295583</th>\n",
       "      <td>desktop</td>\n",
       "      <td>Google</td>\n",
       "      <td>Chrome</td>\n",
       "      <td>&lt;Other&gt;</td>\n",
       "      <td>None</td>\n",
       "      <td>Web</td>\n",
       "      <td>10</td>\n",
       "      <td>None</td>\n",
       "      <td>None</td>\n",
       "      <td>en-us</td>\n",
       "      <td>No</td>\n",
       "      <td>None</td>\n",
       "      <td>{'browser': 'Chrome', 'browser_version': '86.0'}</td>\n",
       "    </tr>\n",
       "  </tbody>\n",
       "</table>\n",
       "<p>4295584 rows × 13 columns</p>\n",
       "</div>"
      ],
      "text/plain": [
       "        category mobile_brand_name mobile_model_name mobile_marketing_name  \\\n",
       "0        desktop            Google            Chrome               <Other>   \n",
       "1        desktop            Google            Chrome               <Other>   \n",
       "2        desktop            Google            Chrome               <Other>   \n",
       "3        desktop            Google            Chrome               <Other>   \n",
       "4         mobile           Samsung           <Other>               <Other>   \n",
       "...          ...               ...               ...                   ...   \n",
       "4295579   mobile             Apple            iPhone               <Other>   \n",
       "4295580   mobile             Apple            iPhone               <Other>   \n",
       "4295581   mobile             Apple            iPhone               <Other>   \n",
       "4295582   mobile             Apple            iPhone               <Other>   \n",
       "4295583  desktop            Google            Chrome               <Other>   \n",
       "\n",
       "        mobile_os_hardware_model operating_system operating_system_version  \\\n",
       "0                           None              Web                       10   \n",
       "1                           None              Web                       10   \n",
       "2                           None              Web                       10   \n",
       "3                           None              Web                       10   \n",
       "4                           None          Android                Android 9   \n",
       "...                          ...              ...                      ...   \n",
       "4295579                     None              iOS                 iOS 14.2   \n",
       "4295580                     None              iOS                 iOS 14.2   \n",
       "4295581                     None              iOS                 iOS 14.2   \n",
       "4295582                     None              iOS                 iOS 14.2   \n",
       "4295583                     None              Web                       10   \n",
       "\n",
       "        vendor_id advertising_id language is_limited_ad_tracking  \\\n",
       "0            None           None       zh                     No   \n",
       "1            None           None       zh                     No   \n",
       "2            None           None       zh                     No   \n",
       "3            None           None       zh                     No   \n",
       "4            None           None    en-us                     No   \n",
       "...           ...            ...      ...                    ...   \n",
       "4295579      None           None    en-us                     No   \n",
       "4295580      None           None    en-us                     No   \n",
       "4295581      None           None    en-us                     No   \n",
       "4295582      None           None    en-us                     No   \n",
       "4295583      None           None    en-us                     No   \n",
       "\n",
       "        time_zone_offset_seconds  \\\n",
       "0                           None   \n",
       "1                           None   \n",
       "2                           None   \n",
       "3                           None   \n",
       "4                           None   \n",
       "...                          ...   \n",
       "4295579                     None   \n",
       "4295580                     None   \n",
       "4295581                     None   \n",
       "4295582                     None   \n",
       "4295583                     None   \n",
       "\n",
       "                                                 web_info  \n",
       "0        {'browser': 'Chrome', 'browser_version': '86.0'}  \n",
       "1        {'browser': 'Chrome', 'browser_version': '86.0'}  \n",
       "2        {'browser': 'Chrome', 'browser_version': '86.0'}  \n",
       "3        {'browser': 'Chrome', 'browser_version': '86.0'}  \n",
       "4        {'browser': 'Chrome', 'browser_version': '86.0'}  \n",
       "...                                                   ...  \n",
       "4295579  {'browser': 'Safari', 'browser_version': '14.0'}  \n",
       "4295580  {'browser': 'Safari', 'browser_version': '14.0'}  \n",
       "4295581  {'browser': 'Safari', 'browser_version': '14.0'}  \n",
       "4295582  {'browser': 'Safari', 'browser_version': '14.0'}  \n",
       "4295583  {'browser': 'Chrome', 'browser_version': '86.0'}  \n",
       "\n",
       "[4295584 rows x 13 columns]"
      ]
     },
     "execution_count": 31,
     "metadata": {},
     "output_type": "execute_result"
    }
   ],
   "source": [
    "device"
   ]
  },
  {
   "cell_type": "markdown",
   "id": "eb09a44d",
   "metadata": {},
   "source": [
    "As you can see web info is a column that further contains dictionaries, hence these also need to be broken down"
   ]
  },
  {
   "cell_type": "code",
   "execution_count": 32,
   "id": "19e956e6",
   "metadata": {},
   "outputs": [
    {
     "data": {
      "text/html": [
       "<div>\n",
       "<style scoped>\n",
       "    .dataframe tbody tr th:only-of-type {\n",
       "        vertical-align: middle;\n",
       "    }\n",
       "\n",
       "    .dataframe tbody tr th {\n",
       "        vertical-align: top;\n",
       "    }\n",
       "\n",
       "    .dataframe thead th {\n",
       "        text-align: right;\n",
       "    }\n",
       "</style>\n",
       "<table border=\"1\" class=\"dataframe\">\n",
       "  <thead>\n",
       "    <tr style=\"text-align: right;\">\n",
       "      <th></th>\n",
       "      <th>browser</th>\n",
       "      <th>browser_version</th>\n",
       "    </tr>\n",
       "  </thead>\n",
       "  <tbody>\n",
       "    <tr>\n",
       "      <th>0</th>\n",
       "      <td>Chrome</td>\n",
       "      <td>86.0</td>\n",
       "    </tr>\n",
       "    <tr>\n",
       "      <th>1</th>\n",
       "      <td>Chrome</td>\n",
       "      <td>86.0</td>\n",
       "    </tr>\n",
       "    <tr>\n",
       "      <th>2</th>\n",
       "      <td>Chrome</td>\n",
       "      <td>86.0</td>\n",
       "    </tr>\n",
       "    <tr>\n",
       "      <th>3</th>\n",
       "      <td>Chrome</td>\n",
       "      <td>86.0</td>\n",
       "    </tr>\n",
       "    <tr>\n",
       "      <th>4</th>\n",
       "      <td>Chrome</td>\n",
       "      <td>86.0</td>\n",
       "    </tr>\n",
       "    <tr>\n",
       "      <th>...</th>\n",
       "      <td>...</td>\n",
       "      <td>...</td>\n",
       "    </tr>\n",
       "    <tr>\n",
       "      <th>4295579</th>\n",
       "      <td>Safari</td>\n",
       "      <td>14.0</td>\n",
       "    </tr>\n",
       "    <tr>\n",
       "      <th>4295580</th>\n",
       "      <td>Safari</td>\n",
       "      <td>14.0</td>\n",
       "    </tr>\n",
       "    <tr>\n",
       "      <th>4295581</th>\n",
       "      <td>Safari</td>\n",
       "      <td>14.0</td>\n",
       "    </tr>\n",
       "    <tr>\n",
       "      <th>4295582</th>\n",
       "      <td>Safari</td>\n",
       "      <td>14.0</td>\n",
       "    </tr>\n",
       "    <tr>\n",
       "      <th>4295583</th>\n",
       "      <td>Chrome</td>\n",
       "      <td>86.0</td>\n",
       "    </tr>\n",
       "  </tbody>\n",
       "</table>\n",
       "<p>4295584 rows × 2 columns</p>\n",
       "</div>"
      ],
      "text/plain": [
       "        browser browser_version\n",
       "0        Chrome            86.0\n",
       "1        Chrome            86.0\n",
       "2        Chrome            86.0\n",
       "3        Chrome            86.0\n",
       "4        Chrome            86.0\n",
       "...         ...             ...\n",
       "4295579  Safari            14.0\n",
       "4295580  Safari            14.0\n",
       "4295581  Safari            14.0\n",
       "4295582  Safari            14.0\n",
       "4295583  Chrome            86.0\n",
       "\n",
       "[4295584 rows x 2 columns]"
      ]
     },
     "execution_count": 32,
     "metadata": {},
     "output_type": "execute_result"
    }
   ],
   "source": [
    "web_info = device['web_info'].apply(pd.Series)\n",
    "web_info"
   ]
  },
  {
   "cell_type": "code",
   "execution_count": 37,
   "id": "d6047b0f",
   "metadata": {},
   "outputs": [
    {
     "name": "stdout",
     "output_type": "stream",
     "text": [
      "['category', 'mobile_brand_name', 'mobile_model_name', 'mobile_marketing_name', 'mobile_os_hardware_model', 'operating_system', 'operating_system_version', 'vendor_id', 'advertising_id', 'language', 'is_limited_ad_tracking', 'time_zone_offset_seconds']\n"
     ]
    }
   ],
   "source": [
    "# Removing web info column as it has been processed\n",
    "cols = device.columns.to_list()\n",
    "cols.pop(-1)\n",
    "print(cols)"
   ]
  },
  {
   "cell_type": "code",
   "execution_count": 38,
   "id": "4b97d1d0",
   "metadata": {},
   "outputs": [
    {
     "data": {
      "text/html": [
       "<div>\n",
       "<style scoped>\n",
       "    .dataframe tbody tr th:only-of-type {\n",
       "        vertical-align: middle;\n",
       "    }\n",
       "\n",
       "    .dataframe tbody tr th {\n",
       "        vertical-align: top;\n",
       "    }\n",
       "\n",
       "    .dataframe thead th {\n",
       "        text-align: right;\n",
       "    }\n",
       "</style>\n",
       "<table border=\"1\" class=\"dataframe\">\n",
       "  <thead>\n",
       "    <tr style=\"text-align: right;\">\n",
       "      <th></th>\n",
       "      <th>event_date</th>\n",
       "      <th>event_timestamp</th>\n",
       "      <th>event_name</th>\n",
       "      <th>event_params</th>\n",
       "      <th>event_bundle_sequence_id</th>\n",
       "      <th>user_pseudo_id</th>\n",
       "      <th>privacy_info</th>\n",
       "      <th>user_first_touch_timestamp</th>\n",
       "      <th>user_ltv</th>\n",
       "      <th>device</th>\n",
       "      <th>...</th>\n",
       "      <th>mobile_os_hardware_model</th>\n",
       "      <th>operating_system</th>\n",
       "      <th>operating_system_version</th>\n",
       "      <th>vendor_id</th>\n",
       "      <th>advertising_id</th>\n",
       "      <th>language</th>\n",
       "      <th>is_limited_ad_tracking</th>\n",
       "      <th>time_zone_offset_seconds</th>\n",
       "      <th>browser</th>\n",
       "      <th>browser_version</th>\n",
       "    </tr>\n",
       "  </thead>\n",
       "  <tbody>\n",
       "    <tr>\n",
       "      <th>0</th>\n",
       "      <td>20201101</td>\n",
       "      <td>1970-01-19 13:36:32.073036492</td>\n",
       "      <td>page_view</td>\n",
       "      <td>[{'key': 'page_title', 'value': {'string_value...</td>\n",
       "      <td>2351439526</td>\n",
       "      <td>1.005695e+06</td>\n",
       "      <td>{'analytics_storage': None, 'ads_storage': Non...</td>\n",
       "      <td>1.604192e+15</td>\n",
       "      <td>{'revenue': 0.0, 'currency': 'USD'}</td>\n",
       "      <td>{'category': 'desktop', 'mobile_brand_name': '...</td>\n",
       "      <td>...</td>\n",
       "      <td>None</td>\n",
       "      <td>Web</td>\n",
       "      <td>10</td>\n",
       "      <td>None</td>\n",
       "      <td>None</td>\n",
       "      <td>zh</td>\n",
       "      <td>No</td>\n",
       "      <td>None</td>\n",
       "      <td>Chrome</td>\n",
       "      <td>86.0</td>\n",
       "    </tr>\n",
       "    <tr>\n",
       "      <th>1</th>\n",
       "      <td>20201101</td>\n",
       "      <td>1970-01-19 13:36:32.073036492</td>\n",
       "      <td>first_visit</td>\n",
       "      <td>[{'key': 'session_engaged', 'value': {'string_...</td>\n",
       "      <td>2351439526</td>\n",
       "      <td>1.005695e+06</td>\n",
       "      <td>{'analytics_storage': None, 'ads_storage': Non...</td>\n",
       "      <td>1.604192e+15</td>\n",
       "      <td>{'revenue': 0.0, 'currency': 'USD'}</td>\n",
       "      <td>{'category': 'desktop', 'mobile_brand_name': '...</td>\n",
       "      <td>...</td>\n",
       "      <td>None</td>\n",
       "      <td>Web</td>\n",
       "      <td>10</td>\n",
       "      <td>None</td>\n",
       "      <td>None</td>\n",
       "      <td>zh</td>\n",
       "      <td>No</td>\n",
       "      <td>None</td>\n",
       "      <td>Chrome</td>\n",
       "      <td>86.0</td>\n",
       "    </tr>\n",
       "  </tbody>\n",
       "</table>\n",
       "<p>2 rows × 35 columns</p>\n",
       "</div>"
      ],
      "text/plain": [
       "   event_date               event_timestamp   event_name  \\\n",
       "0    20201101 1970-01-19 13:36:32.073036492    page_view   \n",
       "1    20201101 1970-01-19 13:36:32.073036492  first_visit   \n",
       "\n",
       "                                        event_params  \\\n",
       "0  [{'key': 'page_title', 'value': {'string_value...   \n",
       "1  [{'key': 'session_engaged', 'value': {'string_...   \n",
       "\n",
       "   event_bundle_sequence_id  user_pseudo_id  \\\n",
       "0                2351439526    1.005695e+06   \n",
       "1                2351439526    1.005695e+06   \n",
       "\n",
       "                                        privacy_info  \\\n",
       "0  {'analytics_storage': None, 'ads_storage': Non...   \n",
       "1  {'analytics_storage': None, 'ads_storage': Non...   \n",
       "\n",
       "   user_first_touch_timestamp                             user_ltv  \\\n",
       "0                1.604192e+15  {'revenue': 0.0, 'currency': 'USD'}   \n",
       "1                1.604192e+15  {'revenue': 0.0, 'currency': 'USD'}   \n",
       "\n",
       "                                              device  ...  \\\n",
       "0  {'category': 'desktop', 'mobile_brand_name': '...  ...   \n",
       "1  {'category': 'desktop', 'mobile_brand_name': '...  ...   \n",
       "\n",
       "  mobile_os_hardware_model operating_system  operating_system_version  \\\n",
       "0                     None              Web                        10   \n",
       "1                     None              Web                        10   \n",
       "\n",
       "  vendor_id advertising_id language is_limited_ad_tracking  \\\n",
       "0      None           None       zh                     No   \n",
       "1      None           None       zh                     No   \n",
       "\n",
       "  time_zone_offset_seconds browser  browser_version  \n",
       "0                     None  Chrome             86.0  \n",
       "1                     None  Chrome             86.0  \n",
       "\n",
       "[2 rows x 35 columns]"
      ]
     },
     "execution_count": 38,
     "metadata": {},
     "output_type": "execute_result"
    }
   ],
   "source": [
    "for i in cols: # adding columns\n",
    "    data[i] = device[i]\n",
    "data.head(2)"
   ]
  },
  {
   "cell_type": "code",
   "execution_count": 39,
   "id": "58e8b831",
   "metadata": {},
   "outputs": [],
   "source": [
    "data['browser'] = web_info['browser']\n",
    "data['browser_version'] = web_info['browser_version']"
   ]
  },
  {
   "cell_type": "code",
   "execution_count": 40,
   "id": "f9481667",
   "metadata": {},
   "outputs": [
    {
     "data": {
      "text/html": [
       "<div>\n",
       "<style scoped>\n",
       "    .dataframe tbody tr th:only-of-type {\n",
       "        vertical-align: middle;\n",
       "    }\n",
       "\n",
       "    .dataframe tbody tr th {\n",
       "        vertical-align: top;\n",
       "    }\n",
       "\n",
       "    .dataframe thead th {\n",
       "        text-align: right;\n",
       "    }\n",
       "</style>\n",
       "<table border=\"1\" class=\"dataframe\">\n",
       "  <thead>\n",
       "    <tr style=\"text-align: right;\">\n",
       "      <th></th>\n",
       "      <th>medium</th>\n",
       "      <th>name</th>\n",
       "      <th>source</th>\n",
       "    </tr>\n",
       "  </thead>\n",
       "  <tbody>\n",
       "    <tr>\n",
       "      <th>0</th>\n",
       "      <td>organic</td>\n",
       "      <td>(organic)</td>\n",
       "      <td>google</td>\n",
       "    </tr>\n",
       "    <tr>\n",
       "      <th>1</th>\n",
       "      <td>organic</td>\n",
       "      <td>(organic)</td>\n",
       "      <td>google</td>\n",
       "    </tr>\n",
       "    <tr>\n",
       "      <th>2</th>\n",
       "      <td>organic</td>\n",
       "      <td>(organic)</td>\n",
       "      <td>google</td>\n",
       "    </tr>\n",
       "    <tr>\n",
       "      <th>3</th>\n",
       "      <td>organic</td>\n",
       "      <td>(organic)</td>\n",
       "      <td>google</td>\n",
       "    </tr>\n",
       "    <tr>\n",
       "      <th>4</th>\n",
       "      <td>(none)</td>\n",
       "      <td>(direct)</td>\n",
       "      <td>(direct)</td>\n",
       "    </tr>\n",
       "    <tr>\n",
       "      <th>...</th>\n",
       "      <td>...</td>\n",
       "      <td>...</td>\n",
       "      <td>...</td>\n",
       "    </tr>\n",
       "    <tr>\n",
       "      <th>4295579</th>\n",
       "      <td>referral</td>\n",
       "      <td>(referral)</td>\n",
       "      <td>shop.googlemerchandisestore.com</td>\n",
       "    </tr>\n",
       "    <tr>\n",
       "      <th>4295580</th>\n",
       "      <td>referral</td>\n",
       "      <td>(referral)</td>\n",
       "      <td>shop.googlemerchandisestore.com</td>\n",
       "    </tr>\n",
       "    <tr>\n",
       "      <th>4295581</th>\n",
       "      <td>referral</td>\n",
       "      <td>(referral)</td>\n",
       "      <td>shop.googlemerchandisestore.com</td>\n",
       "    </tr>\n",
       "    <tr>\n",
       "      <th>4295582</th>\n",
       "      <td>referral</td>\n",
       "      <td>(referral)</td>\n",
       "      <td>shop.googlemerchandisestore.com</td>\n",
       "    </tr>\n",
       "    <tr>\n",
       "      <th>4295583</th>\n",
       "      <td>organic</td>\n",
       "      <td>(organic)</td>\n",
       "      <td>google</td>\n",
       "    </tr>\n",
       "  </tbody>\n",
       "</table>\n",
       "<p>4295584 rows × 3 columns</p>\n",
       "</div>"
      ],
      "text/plain": [
       "           medium        name                           source\n",
       "0         organic   (organic)                           google\n",
       "1         organic   (organic)                           google\n",
       "2         organic   (organic)                           google\n",
       "3         organic   (organic)                           google\n",
       "4          (none)    (direct)                         (direct)\n",
       "...           ...         ...                              ...\n",
       "4295579  referral  (referral)  shop.googlemerchandisestore.com\n",
       "4295580  referral  (referral)  shop.googlemerchandisestore.com\n",
       "4295581  referral  (referral)  shop.googlemerchandisestore.com\n",
       "4295582  referral  (referral)  shop.googlemerchandisestore.com\n",
       "4295583   organic   (organic)                           google\n",
       "\n",
       "[4295584 rows x 3 columns]"
      ]
     },
     "execution_count": 40,
     "metadata": {},
     "output_type": "execute_result"
    }
   ],
   "source": [
    "# converting string to dictionary\n",
    "dict_list = []\n",
    "for i in data['traffic_source']:\n",
    "    dict_list.append(ast.literal_eval(i)) # creating list of dictionaries representing each cell\n",
    "\n",
    "# conversion of list to series in form of a dataset\n",
    "data['traffic_source'] = dict_list\n",
    "traffic = data['traffic_source'].apply(pd.Series)\n",
    "traffic"
   ]
  },
  {
   "cell_type": "code",
   "execution_count": 41,
   "id": "7f4d822a",
   "metadata": {},
   "outputs": [],
   "source": [
    "data['medium'] = traffic['medium']\n",
    "data['name'] = traffic['name']\n",
    "data['source'] = traffic['source']"
   ]
  },
  {
   "cell_type": "code",
   "execution_count": 42,
   "id": "fdac0715",
   "metadata": {},
   "outputs": [
    {
     "data": {
      "text/html": [
       "<div>\n",
       "<style scoped>\n",
       "    .dataframe tbody tr th:only-of-type {\n",
       "        vertical-align: middle;\n",
       "    }\n",
       "\n",
       "    .dataframe tbody tr th {\n",
       "        vertical-align: top;\n",
       "    }\n",
       "\n",
       "    .dataframe thead th {\n",
       "        text-align: right;\n",
       "    }\n",
       "</style>\n",
       "<table border=\"1\" class=\"dataframe\">\n",
       "  <thead>\n",
       "    <tr style=\"text-align: right;\">\n",
       "      <th></th>\n",
       "      <th>total_item_quantity</th>\n",
       "      <th>purchase_revenue_in_usd</th>\n",
       "      <th>purchase_revenue</th>\n",
       "      <th>refund_value_in_usd</th>\n",
       "      <th>refund_value</th>\n",
       "      <th>shipping_value_in_usd</th>\n",
       "      <th>shipping_value</th>\n",
       "      <th>tax_value_in_usd</th>\n",
       "      <th>tax_value</th>\n",
       "      <th>unique_items</th>\n",
       "      <th>transaction_id</th>\n",
       "    </tr>\n",
       "  </thead>\n",
       "  <tbody>\n",
       "    <tr>\n",
       "      <th>0</th>\n",
       "      <td>NaN</td>\n",
       "      <td>NaN</td>\n",
       "      <td>NaN</td>\n",
       "      <td>NaN</td>\n",
       "      <td>NaN</td>\n",
       "      <td>NaN</td>\n",
       "      <td>NaN</td>\n",
       "      <td>NaN</td>\n",
       "      <td>NaN</td>\n",
       "      <td>NaN</td>\n",
       "      <td>None</td>\n",
       "    </tr>\n",
       "    <tr>\n",
       "      <th>1</th>\n",
       "      <td>NaN</td>\n",
       "      <td>NaN</td>\n",
       "      <td>NaN</td>\n",
       "      <td>NaN</td>\n",
       "      <td>NaN</td>\n",
       "      <td>NaN</td>\n",
       "      <td>NaN</td>\n",
       "      <td>NaN</td>\n",
       "      <td>NaN</td>\n",
       "      <td>NaN</td>\n",
       "      <td>None</td>\n",
       "    </tr>\n",
       "    <tr>\n",
       "      <th>2</th>\n",
       "      <td>NaN</td>\n",
       "      <td>NaN</td>\n",
       "      <td>NaN</td>\n",
       "      <td>NaN</td>\n",
       "      <td>NaN</td>\n",
       "      <td>NaN</td>\n",
       "      <td>NaN</td>\n",
       "      <td>NaN</td>\n",
       "      <td>NaN</td>\n",
       "      <td>NaN</td>\n",
       "      <td>None</td>\n",
       "    </tr>\n",
       "    <tr>\n",
       "      <th>3</th>\n",
       "      <td>NaN</td>\n",
       "      <td>NaN</td>\n",
       "      <td>NaN</td>\n",
       "      <td>NaN</td>\n",
       "      <td>NaN</td>\n",
       "      <td>NaN</td>\n",
       "      <td>NaN</td>\n",
       "      <td>NaN</td>\n",
       "      <td>NaN</td>\n",
       "      <td>NaN</td>\n",
       "      <td>None</td>\n",
       "    </tr>\n",
       "    <tr>\n",
       "      <th>4</th>\n",
       "      <td>NaN</td>\n",
       "      <td>NaN</td>\n",
       "      <td>NaN</td>\n",
       "      <td>NaN</td>\n",
       "      <td>NaN</td>\n",
       "      <td>NaN</td>\n",
       "      <td>NaN</td>\n",
       "      <td>NaN</td>\n",
       "      <td>NaN</td>\n",
       "      <td>NaN</td>\n",
       "      <td>None</td>\n",
       "    </tr>\n",
       "    <tr>\n",
       "      <th>...</th>\n",
       "      <td>...</td>\n",
       "      <td>...</td>\n",
       "      <td>...</td>\n",
       "      <td>...</td>\n",
       "      <td>...</td>\n",
       "      <td>...</td>\n",
       "      <td>...</td>\n",
       "      <td>...</td>\n",
       "      <td>...</td>\n",
       "      <td>...</td>\n",
       "      <td>...</td>\n",
       "    </tr>\n",
       "    <tr>\n",
       "      <th>4295579</th>\n",
       "      <td>NaN</td>\n",
       "      <td>NaN</td>\n",
       "      <td>NaN</td>\n",
       "      <td>NaN</td>\n",
       "      <td>NaN</td>\n",
       "      <td>NaN</td>\n",
       "      <td>NaN</td>\n",
       "      <td>NaN</td>\n",
       "      <td>NaN</td>\n",
       "      <td>1.0</td>\n",
       "      <td>(not set)</td>\n",
       "    </tr>\n",
       "    <tr>\n",
       "      <th>4295580</th>\n",
       "      <td>NaN</td>\n",
       "      <td>NaN</td>\n",
       "      <td>NaN</td>\n",
       "      <td>NaN</td>\n",
       "      <td>NaN</td>\n",
       "      <td>NaN</td>\n",
       "      <td>NaN</td>\n",
       "      <td>NaN</td>\n",
       "      <td>NaN</td>\n",
       "      <td>1.0</td>\n",
       "      <td>(not set)</td>\n",
       "    </tr>\n",
       "    <tr>\n",
       "      <th>4295581</th>\n",
       "      <td>NaN</td>\n",
       "      <td>NaN</td>\n",
       "      <td>NaN</td>\n",
       "      <td>NaN</td>\n",
       "      <td>NaN</td>\n",
       "      <td>NaN</td>\n",
       "      <td>NaN</td>\n",
       "      <td>NaN</td>\n",
       "      <td>NaN</td>\n",
       "      <td>1.0</td>\n",
       "      <td>(not set)</td>\n",
       "    </tr>\n",
       "    <tr>\n",
       "      <th>4295582</th>\n",
       "      <td>NaN</td>\n",
       "      <td>NaN</td>\n",
       "      <td>NaN</td>\n",
       "      <td>NaN</td>\n",
       "      <td>NaN</td>\n",
       "      <td>NaN</td>\n",
       "      <td>NaN</td>\n",
       "      <td>NaN</td>\n",
       "      <td>NaN</td>\n",
       "      <td>1.0</td>\n",
       "      <td>(not set)</td>\n",
       "    </tr>\n",
       "    <tr>\n",
       "      <th>4295583</th>\n",
       "      <td>NaN</td>\n",
       "      <td>NaN</td>\n",
       "      <td>NaN</td>\n",
       "      <td>NaN</td>\n",
       "      <td>NaN</td>\n",
       "      <td>NaN</td>\n",
       "      <td>NaN</td>\n",
       "      <td>NaN</td>\n",
       "      <td>NaN</td>\n",
       "      <td>1.0</td>\n",
       "      <td>(not set)</td>\n",
       "    </tr>\n",
       "  </tbody>\n",
       "</table>\n",
       "<p>4295584 rows × 11 columns</p>\n",
       "</div>"
      ],
      "text/plain": [
       "         total_item_quantity  purchase_revenue_in_usd  purchase_revenue  \\\n",
       "0                        NaN                      NaN               NaN   \n",
       "1                        NaN                      NaN               NaN   \n",
       "2                        NaN                      NaN               NaN   \n",
       "3                        NaN                      NaN               NaN   \n",
       "4                        NaN                      NaN               NaN   \n",
       "...                      ...                      ...               ...   \n",
       "4295579                  NaN                      NaN               NaN   \n",
       "4295580                  NaN                      NaN               NaN   \n",
       "4295581                  NaN                      NaN               NaN   \n",
       "4295582                  NaN                      NaN               NaN   \n",
       "4295583                  NaN                      NaN               NaN   \n",
       "\n",
       "         refund_value_in_usd  refund_value  shipping_value_in_usd  \\\n",
       "0                        NaN           NaN                    NaN   \n",
       "1                        NaN           NaN                    NaN   \n",
       "2                        NaN           NaN                    NaN   \n",
       "3                        NaN           NaN                    NaN   \n",
       "4                        NaN           NaN                    NaN   \n",
       "...                      ...           ...                    ...   \n",
       "4295579                  NaN           NaN                    NaN   \n",
       "4295580                  NaN           NaN                    NaN   \n",
       "4295581                  NaN           NaN                    NaN   \n",
       "4295582                  NaN           NaN                    NaN   \n",
       "4295583                  NaN           NaN                    NaN   \n",
       "\n",
       "         shipping_value  tax_value_in_usd  tax_value  unique_items  \\\n",
       "0                   NaN               NaN        NaN           NaN   \n",
       "1                   NaN               NaN        NaN           NaN   \n",
       "2                   NaN               NaN        NaN           NaN   \n",
       "3                   NaN               NaN        NaN           NaN   \n",
       "4                   NaN               NaN        NaN           NaN   \n",
       "...                 ...               ...        ...           ...   \n",
       "4295579             NaN               NaN        NaN           1.0   \n",
       "4295580             NaN               NaN        NaN           1.0   \n",
       "4295581             NaN               NaN        NaN           1.0   \n",
       "4295582             NaN               NaN        NaN           1.0   \n",
       "4295583             NaN               NaN        NaN           1.0   \n",
       "\n",
       "        transaction_id  \n",
       "0                 None  \n",
       "1                 None  \n",
       "2                 None  \n",
       "3                 None  \n",
       "4                 None  \n",
       "...                ...  \n",
       "4295579      (not set)  \n",
       "4295580      (not set)  \n",
       "4295581      (not set)  \n",
       "4295582      (not set)  \n",
       "4295583      (not set)  \n",
       "\n",
       "[4295584 rows x 11 columns]"
      ]
     },
     "execution_count": 42,
     "metadata": {},
     "output_type": "execute_result"
    }
   ],
   "source": [
    "# converting string to dictionary\n",
    "dict_list = []\n",
    "for i in data['ecommerce']:\n",
    "    dict_list.append(ast.literal_eval(i)) # creating list of dictionaries representing each cell\n",
    "\n",
    "# conversion of list to series in form of a dataset\n",
    "data['ecommerce'] = dict_list\n",
    "ecommerce = data['ecommerce'].apply(pd.Series)\n",
    "ecommerce"
   ]
  },
  {
   "cell_type": "code",
   "execution_count": 43,
   "id": "42921f50",
   "metadata": {},
   "outputs": [
    {
     "data": {
      "text/html": [
       "<div>\n",
       "<style scoped>\n",
       "    .dataframe tbody tr th:only-of-type {\n",
       "        vertical-align: middle;\n",
       "    }\n",
       "\n",
       "    .dataframe tbody tr th {\n",
       "        vertical-align: top;\n",
       "    }\n",
       "\n",
       "    .dataframe thead th {\n",
       "        text-align: right;\n",
       "    }\n",
       "</style>\n",
       "<table border=\"1\" class=\"dataframe\">\n",
       "  <thead>\n",
       "    <tr style=\"text-align: right;\">\n",
       "      <th></th>\n",
       "      <th>event_date</th>\n",
       "      <th>event_timestamp</th>\n",
       "      <th>event_name</th>\n",
       "      <th>event_params</th>\n",
       "      <th>event_bundle_sequence_id</th>\n",
       "      <th>user_pseudo_id</th>\n",
       "      <th>privacy_info</th>\n",
       "      <th>user_first_touch_timestamp</th>\n",
       "      <th>user_ltv</th>\n",
       "      <th>device</th>\n",
       "      <th>...</th>\n",
       "      <th>purchase_revenue_in_usd</th>\n",
       "      <th>purchase_revenue</th>\n",
       "      <th>refund_value_in_usd</th>\n",
       "      <th>refund_value</th>\n",
       "      <th>shipping_value_in_usd</th>\n",
       "      <th>shipping_value</th>\n",
       "      <th>tax_value_in_usd</th>\n",
       "      <th>tax_value</th>\n",
       "      <th>unique_items</th>\n",
       "      <th>transaction_id</th>\n",
       "    </tr>\n",
       "  </thead>\n",
       "  <tbody>\n",
       "    <tr>\n",
       "      <th>0</th>\n",
       "      <td>20201101</td>\n",
       "      <td>1970-01-19 13:36:32.073036492</td>\n",
       "      <td>page_view</td>\n",
       "      <td>[{'key': 'page_title', 'value': {'string_value...</td>\n",
       "      <td>2351439526</td>\n",
       "      <td>1.005695e+06</td>\n",
       "      <td>{'analytics_storage': None, 'ads_storage': Non...</td>\n",
       "      <td>1.604192e+15</td>\n",
       "      <td>{'revenue': 0.0, 'currency': 'USD'}</td>\n",
       "      <td>{'category': 'desktop', 'mobile_brand_name': '...</td>\n",
       "      <td>...</td>\n",
       "      <td>NaN</td>\n",
       "      <td>NaN</td>\n",
       "      <td>NaN</td>\n",
       "      <td>NaN</td>\n",
       "      <td>NaN</td>\n",
       "      <td>NaN</td>\n",
       "      <td>NaN</td>\n",
       "      <td>NaN</td>\n",
       "      <td>NaN</td>\n",
       "      <td>None</td>\n",
       "    </tr>\n",
       "    <tr>\n",
       "      <th>1</th>\n",
       "      <td>20201101</td>\n",
       "      <td>1970-01-19 13:36:32.073036492</td>\n",
       "      <td>first_visit</td>\n",
       "      <td>[{'key': 'session_engaged', 'value': {'string_...</td>\n",
       "      <td>2351439526</td>\n",
       "      <td>1.005695e+06</td>\n",
       "      <td>{'analytics_storage': None, 'ads_storage': Non...</td>\n",
       "      <td>1.604192e+15</td>\n",
       "      <td>{'revenue': 0.0, 'currency': 'USD'}</td>\n",
       "      <td>{'category': 'desktop', 'mobile_brand_name': '...</td>\n",
       "      <td>...</td>\n",
       "      <td>NaN</td>\n",
       "      <td>NaN</td>\n",
       "      <td>NaN</td>\n",
       "      <td>NaN</td>\n",
       "      <td>NaN</td>\n",
       "      <td>NaN</td>\n",
       "      <td>NaN</td>\n",
       "      <td>NaN</td>\n",
       "      <td>NaN</td>\n",
       "      <td>None</td>\n",
       "    </tr>\n",
       "  </tbody>\n",
       "</table>\n",
       "<p>2 rows × 49 columns</p>\n",
       "</div>"
      ],
      "text/plain": [
       "   event_date               event_timestamp   event_name  \\\n",
       "0    20201101 1970-01-19 13:36:32.073036492    page_view   \n",
       "1    20201101 1970-01-19 13:36:32.073036492  first_visit   \n",
       "\n",
       "                                        event_params  \\\n",
       "0  [{'key': 'page_title', 'value': {'string_value...   \n",
       "1  [{'key': 'session_engaged', 'value': {'string_...   \n",
       "\n",
       "   event_bundle_sequence_id  user_pseudo_id  \\\n",
       "0                2351439526    1.005695e+06   \n",
       "1                2351439526    1.005695e+06   \n",
       "\n",
       "                                        privacy_info  \\\n",
       "0  {'analytics_storage': None, 'ads_storage': Non...   \n",
       "1  {'analytics_storage': None, 'ads_storage': Non...   \n",
       "\n",
       "   user_first_touch_timestamp                             user_ltv  \\\n",
       "0                1.604192e+15  {'revenue': 0.0, 'currency': 'USD'}   \n",
       "1                1.604192e+15  {'revenue': 0.0, 'currency': 'USD'}   \n",
       "\n",
       "                                              device  ...  \\\n",
       "0  {'category': 'desktop', 'mobile_brand_name': '...  ...   \n",
       "1  {'category': 'desktop', 'mobile_brand_name': '...  ...   \n",
       "\n",
       "  purchase_revenue_in_usd purchase_revenue  refund_value_in_usd refund_value  \\\n",
       "0                     NaN              NaN                  NaN          NaN   \n",
       "1                     NaN              NaN                  NaN          NaN   \n",
       "\n",
       "  shipping_value_in_usd shipping_value tax_value_in_usd tax_value  \\\n",
       "0                   NaN            NaN              NaN       NaN   \n",
       "1                   NaN            NaN              NaN       NaN   \n",
       "\n",
       "  unique_items  transaction_id  \n",
       "0          NaN            None  \n",
       "1          NaN            None  \n",
       "\n",
       "[2 rows x 49 columns]"
      ]
     },
     "execution_count": 43,
     "metadata": {},
     "output_type": "execute_result"
    }
   ],
   "source": [
    "for i in ecommerce.columns: # adding columns\n",
    "    data[i] = ecommerce[i]\n",
    "data.head(2)"
   ]
  },
  {
   "cell_type": "code",
   "execution_count": 44,
   "id": "3538a792",
   "metadata": {},
   "outputs": [
    {
     "data": {
      "text/plain": [
       "Index(['event_date', 'event_timestamp', 'event_name', 'event_params',\n",
       "       'event_bundle_sequence_id', 'user_pseudo_id', 'privacy_info',\n",
       "       'user_first_touch_timestamp', 'user_ltv', 'device', 'geo',\n",
       "       'traffic_source', 'stream_id', 'platform', 'ecommerce', 'items',\n",
       "       'analytics_storage', 'ads_storage', 'uses_transient_token', 'revenue',\n",
       "       'currency', 'category', 'mobile_brand_name', 'mobile_model_name',\n",
       "       'mobile_marketing_name', 'mobile_os_hardware_model', 'operating_system',\n",
       "       'operating_system_version', 'vendor_id', 'advertising_id', 'language',\n",
       "       'is_limited_ad_tracking', 'time_zone_offset_seconds', 'browser',\n",
       "       'browser_version', 'medium', 'name', 'source', 'total_item_quantity',\n",
       "       'purchase_revenue_in_usd', 'purchase_revenue', 'refund_value_in_usd',\n",
       "       'refund_value', 'shipping_value_in_usd', 'shipping_value',\n",
       "       'tax_value_in_usd', 'tax_value', 'unique_items', 'transaction_id'],\n",
       "      dtype='object')"
      ]
     },
     "execution_count": 44,
     "metadata": {},
     "output_type": "execute_result"
    }
   ],
   "source": [
    "data.columns"
   ]
  },
  {
   "cell_type": "code",
   "execution_count": 45,
   "id": "7c754825",
   "metadata": {},
   "outputs": [
    {
     "data": {
      "text/plain": [
       "0          {'continent': 'Asia', 'sub_continent': 'Southe...\n",
       "1          {'continent': 'Asia', 'sub_continent': 'Southe...\n",
       "2          {'continent': 'Asia', 'sub_continent': 'Southe...\n",
       "3          {'continent': 'Asia', 'sub_continent': 'Southe...\n",
       "4          {'continent': 'Americas', 'sub_continent': 'No...\n",
       "                                 ...                        \n",
       "4295579    {'continent': 'Americas', 'sub_continent': 'No...\n",
       "4295580    {'continent': 'Americas', 'sub_continent': 'No...\n",
       "4295581    {'continent': 'Americas', 'sub_continent': 'No...\n",
       "4295582    {'continent': 'Americas', 'sub_continent': 'No...\n",
       "4295583    {'continent': 'Americas', 'sub_continent': 'No...\n",
       "Name: geo, Length: 4295584, dtype: object"
      ]
     },
     "execution_count": 45,
     "metadata": {},
     "output_type": "execute_result"
    }
   ],
   "source": [
    "data['geo']"
   ]
  },
  {
   "cell_type": "code",
   "execution_count": 46,
   "id": "71bdb8d3",
   "metadata": {},
   "outputs": [
    {
     "data": {
      "text/plain": [
       "0          [{'key': 'page_title', 'value': {'string_value...\n",
       "1          [{'key': 'session_engaged', 'value': {'string_...\n",
       "2          [{'key': 'dclid', 'value': {'string_value': No...\n",
       "3          [{'key': 'page_location', 'value': {'string_va...\n",
       "4          [{'key': 'all_data', 'value': {'string_value':...\n",
       "                                 ...                        \n",
       "4295579    [{'key': 'engaged_session_event', 'value': {'s...\n",
       "4295580    [{'key': 'engaged_session_event', 'value': {'s...\n",
       "4295581    [{'key': 'session_engaged', 'value': {'string_...\n",
       "4295582    [{'key': 'page_location', 'value': {'string_va...\n",
       "4295583    [{'key': 'page_title', 'value': {'string_value...\n",
       "Name: event_params, Length: 4295584, dtype: object"
      ]
     },
     "execution_count": 46,
     "metadata": {},
     "output_type": "execute_result"
    }
   ],
   "source": [
    "data['event_params']"
   ]
  },
  {
   "cell_type": "code",
   "execution_count": 47,
   "id": "05a5a6dd",
   "metadata": {},
   "outputs": [
    {
     "data": {
      "text/plain": [
       "0                                                         []\n",
       "1                                                         []\n",
       "2                                                         []\n",
       "3                                                         []\n",
       "4                                                         []\n",
       "                                 ...                        \n",
       "4295579    [{'item_id': '(not set)', 'item_name': '(not s...\n",
       "4295580    [{'item_id': '(not set)', 'item_name': '(not s...\n",
       "4295581    [{'item_id': '(not set)', 'item_name': '(not s...\n",
       "4295582    [{'item_id': '(not set)', 'item_name': '(not s...\n",
       "4295583    [{'item_id': '(not set)', 'item_name': '(not s...\n",
       "Name: items, Length: 4295584, dtype: object"
      ]
     },
     "execution_count": 47,
     "metadata": {},
     "output_type": "execute_result"
    }
   ],
   "source": [
    "data['items']"
   ]
  },
  {
   "cell_type": "code",
   "execution_count": 48,
   "id": "30555fa6",
   "metadata": {},
   "outputs": [
    {
     "data": {
      "text/html": [
       "<div>\n",
       "<style scoped>\n",
       "    .dataframe tbody tr th:only-of-type {\n",
       "        vertical-align: middle;\n",
       "    }\n",
       "\n",
       "    .dataframe tbody tr th {\n",
       "        vertical-align: top;\n",
       "    }\n",
       "\n",
       "    .dataframe thead th {\n",
       "        text-align: right;\n",
       "    }\n",
       "</style>\n",
       "<table border=\"1\" class=\"dataframe\">\n",
       "  <thead>\n",
       "    <tr style=\"text-align: right;\">\n",
       "      <th></th>\n",
       "      <th>continent</th>\n",
       "      <th>sub_continent</th>\n",
       "      <th>country</th>\n",
       "      <th>region</th>\n",
       "      <th>city</th>\n",
       "      <th>metro</th>\n",
       "    </tr>\n",
       "  </thead>\n",
       "  <tbody>\n",
       "    <tr>\n",
       "      <th>0</th>\n",
       "      <td>Asia</td>\n",
       "      <td>Southern Asia</td>\n",
       "      <td>India</td>\n",
       "      <td>Delhi</td>\n",
       "      <td>Delhi</td>\n",
       "      <td>(not set)</td>\n",
       "    </tr>\n",
       "    <tr>\n",
       "      <th>1</th>\n",
       "      <td>Asia</td>\n",
       "      <td>Southern Asia</td>\n",
       "      <td>India</td>\n",
       "      <td>Delhi</td>\n",
       "      <td>Delhi</td>\n",
       "      <td>(not set)</td>\n",
       "    </tr>\n",
       "    <tr>\n",
       "      <th>2</th>\n",
       "      <td>Asia</td>\n",
       "      <td>Southern Asia</td>\n",
       "      <td>India</td>\n",
       "      <td>Delhi</td>\n",
       "      <td>Delhi</td>\n",
       "      <td>(not set)</td>\n",
       "    </tr>\n",
       "    <tr>\n",
       "      <th>3</th>\n",
       "      <td>Asia</td>\n",
       "      <td>Southern Asia</td>\n",
       "      <td>India</td>\n",
       "      <td>Delhi</td>\n",
       "      <td>Delhi</td>\n",
       "      <td>(not set)</td>\n",
       "    </tr>\n",
       "    <tr>\n",
       "      <th>4</th>\n",
       "      <td>Americas</td>\n",
       "      <td>Northern America</td>\n",
       "      <td>United States</td>\n",
       "      <td>Washington</td>\n",
       "      <td>(not set)</td>\n",
       "      <td>(not set)</td>\n",
       "    </tr>\n",
       "    <tr>\n",
       "      <th>...</th>\n",
       "      <td>...</td>\n",
       "      <td>...</td>\n",
       "      <td>...</td>\n",
       "      <td>...</td>\n",
       "      <td>...</td>\n",
       "      <td>...</td>\n",
       "    </tr>\n",
       "    <tr>\n",
       "      <th>4295579</th>\n",
       "      <td>Americas</td>\n",
       "      <td>Northern America</td>\n",
       "      <td>United States</td>\n",
       "      <td>Maine</td>\n",
       "      <td>Turner</td>\n",
       "      <td>(not set)</td>\n",
       "    </tr>\n",
       "    <tr>\n",
       "      <th>4295580</th>\n",
       "      <td>Americas</td>\n",
       "      <td>Northern America</td>\n",
       "      <td>United States</td>\n",
       "      <td>Maine</td>\n",
       "      <td>Turner</td>\n",
       "      <td>(not set)</td>\n",
       "    </tr>\n",
       "    <tr>\n",
       "      <th>4295581</th>\n",
       "      <td>Americas</td>\n",
       "      <td>Northern America</td>\n",
       "      <td>United States</td>\n",
       "      <td>Maine</td>\n",
       "      <td>Turner</td>\n",
       "      <td>(not set)</td>\n",
       "    </tr>\n",
       "    <tr>\n",
       "      <th>4295582</th>\n",
       "      <td>Americas</td>\n",
       "      <td>Northern America</td>\n",
       "      <td>United States</td>\n",
       "      <td>Maine</td>\n",
       "      <td>Turner</td>\n",
       "      <td>(not set)</td>\n",
       "    </tr>\n",
       "    <tr>\n",
       "      <th>4295583</th>\n",
       "      <td>Americas</td>\n",
       "      <td>Northern America</td>\n",
       "      <td>United States</td>\n",
       "      <td>California</td>\n",
       "      <td>San Francisco</td>\n",
       "      <td>(not set)</td>\n",
       "    </tr>\n",
       "  </tbody>\n",
       "</table>\n",
       "<p>4295584 rows × 6 columns</p>\n",
       "</div>"
      ],
      "text/plain": [
       "        continent     sub_continent        country      region           city  \\\n",
       "0            Asia     Southern Asia          India       Delhi          Delhi   \n",
       "1            Asia     Southern Asia          India       Delhi          Delhi   \n",
       "2            Asia     Southern Asia          India       Delhi          Delhi   \n",
       "3            Asia     Southern Asia          India       Delhi          Delhi   \n",
       "4        Americas  Northern America  United States  Washington      (not set)   \n",
       "...           ...               ...            ...         ...            ...   \n",
       "4295579  Americas  Northern America  United States       Maine         Turner   \n",
       "4295580  Americas  Northern America  United States       Maine         Turner   \n",
       "4295581  Americas  Northern America  United States       Maine         Turner   \n",
       "4295582  Americas  Northern America  United States       Maine         Turner   \n",
       "4295583  Americas  Northern America  United States  California  San Francisco   \n",
       "\n",
       "             metro  \n",
       "0        (not set)  \n",
       "1        (not set)  \n",
       "2        (not set)  \n",
       "3        (not set)  \n",
       "4        (not set)  \n",
       "...            ...  \n",
       "4295579  (not set)  \n",
       "4295580  (not set)  \n",
       "4295581  (not set)  \n",
       "4295582  (not set)  \n",
       "4295583  (not set)  \n",
       "\n",
       "[4295584 rows x 6 columns]"
      ]
     },
     "execution_count": 48,
     "metadata": {},
     "output_type": "execute_result"
    }
   ],
   "source": [
    "# converting string to dictionary\n",
    "dict_list = []\n",
    "for i in data['geo']:\n",
    "    dict_list.append(ast.literal_eval(i)) # creating list of dictionaries representing each cell\n",
    "\n",
    "# conversion of list to series in form of a dataset\n",
    "data['geo'] = dict_list\n",
    "geo = data['geo'].apply(pd.Series)\n",
    "geo"
   ]
  },
  {
   "cell_type": "code",
   "execution_count": 49,
   "id": "4c937d3f",
   "metadata": {},
   "outputs": [],
   "source": [
    "data['continent'] = geo['continent']\n",
    "data['sub_continent'] = geo['sub_continent']\n",
    "data['country'] = geo['country']\n",
    "data['region'] = geo['region']\n",
    "data['city'] = geo['city']\n",
    "data['metro'] = geo['metro']"
   ]
  },
  {
   "cell_type": "markdown",
   "id": "0817adb1",
   "metadata": {},
   "source": [
    "As seen below the event_params column contains information that is not decodeable without background knowledge hence we can omit this column"
   ]
  },
  {
   "cell_type": "code",
   "execution_count": 50,
   "id": "0a135102",
   "metadata": {},
   "outputs": [
    {
     "data": {
      "text/plain": [
       "\"[{'key': 'session_engaged', 'value': {'string_value': None, 'int_value': 1.0, 'float_value': None, 'double_value': None}}\\n {'key': 'ga_session_number', 'value': {'string_value': None, 'int_value': 1.0, 'float_value': None, 'double_value': None}}\\n {'key': 'page_location', 'value': {'string_value': 'https://shop.googlemerchandisestore.com/Google+Redesign/Lifestyle/Drinkware', 'int_value': None, 'float_value': None, 'double_value': None}}\\n {'key': 'ga_session_id', 'value': {'string_value': None, 'int_value': 4863244888.0, 'float_value': None, 'double_value': None}}\\n {'key': 'engaged_session_event', 'value': {'string_value': None, 'int_value': 1.0, 'float_value': None, 'double_value': None}}\\n {'key': 'page_title', 'value': {'string_value': 'Drinkware | Lifestyle | Google Merchandise Store', 'int_value': None, 'float_value': None, 'double_value': None}}]\""
      ]
     },
     "execution_count": 50,
     "metadata": {},
     "output_type": "execute_result"
    }
   ],
   "source": [
    "data['event_params'][1] "
   ]
  },
  {
   "cell_type": "markdown",
   "id": "fd6ca637",
   "metadata": {},
   "source": [
    "Now we can drop all the columns converted from dictionaries to columns"
   ]
  },
  {
   "cell_type": "code",
   "execution_count": 51,
   "id": "4cbbffe9",
   "metadata": {},
   "outputs": [
    {
     "data": {
      "text/plain": [
       "Index(['event_date', 'event_timestamp', 'event_name',\n",
       "       'event_bundle_sequence_id', 'user_pseudo_id',\n",
       "       'user_first_touch_timestamp', 'stream_id', 'platform', 'items',\n",
       "       'analytics_storage', 'ads_storage', 'uses_transient_token', 'revenue',\n",
       "       'currency', 'category', 'mobile_brand_name', 'mobile_model_name',\n",
       "       'mobile_marketing_name', 'mobile_os_hardware_model', 'operating_system',\n",
       "       'operating_system_version', 'vendor_id', 'advertising_id', 'language',\n",
       "       'is_limited_ad_tracking', 'time_zone_offset_seconds', 'browser',\n",
       "       'browser_version', 'medium', 'name', 'source', 'total_item_quantity',\n",
       "       'purchase_revenue_in_usd', 'purchase_revenue', 'refund_value_in_usd',\n",
       "       'refund_value', 'shipping_value_in_usd', 'shipping_value',\n",
       "       'tax_value_in_usd', 'tax_value', 'unique_items', 'transaction_id',\n",
       "       'continent', 'sub_continent', 'country', 'region', 'city', 'metro'],\n",
       "      dtype='object')"
      ]
     },
     "execution_count": 51,
     "metadata": {},
     "output_type": "execute_result"
    }
   ],
   "source": [
    "data.drop(['geo', 'event_params', 'ecommerce', 'device', 'privacy_info',\"user_ltv\", \"traffic_source\"], axis=1, inplace=True)\n",
    "data.columns"
   ]
  },
  {
   "cell_type": "markdown",
   "id": "110ff263",
   "metadata": {},
   "source": [
    "From these columns, the ones that are empty need to be removed"
   ]
  },
  {
   "cell_type": "code",
   "execution_count": 52,
   "id": "410b31d8",
   "metadata": {},
   "outputs": [
    {
     "data": {
      "text/plain": [
       "event_date                          0\n",
       "event_timestamp                     0\n",
       "event_name                          0\n",
       "event_bundle_sequence_id            0\n",
       "user_pseudo_id                      0\n",
       "user_first_touch_timestamp      86048\n",
       "stream_id                           0\n",
       "platform                            0\n",
       "items                               0\n",
       "analytics_storage             4295584\n",
       "ads_storage                   4295584\n",
       "uses_transient_token                0\n",
       "revenue                             0\n",
       "currency                            0\n",
       "category                            0\n",
       "mobile_brand_name                   0\n",
       "mobile_model_name                   0\n",
       "mobile_marketing_name               0\n",
       "mobile_os_hardware_model      4295584\n",
       "operating_system                    0\n",
       "operating_system_version            0\n",
       "vendor_id                     4295584\n",
       "advertising_id                4295584\n",
       "language                      1829035\n",
       "is_limited_ad_tracking              0\n",
       "time_zone_offset_seconds      4295584\n",
       "browser                             0\n",
       "browser_version                     0\n",
       "medium                              0\n",
       "name                                0\n",
       "source                              0\n",
       "total_item_quantity           4201585\n",
       "purchase_revenue_in_usd       4289892\n",
       "purchase_revenue              4290342\n",
       "refund_value_in_usd           4295584\n",
       "refund_value                  4295584\n",
       "shipping_value_in_usd         4295584\n",
       "shipping_value                4295584\n",
       "tax_value_in_usd              4290342\n",
       "tax_value                     4290342\n",
       "unique_items                  3783238\n",
       "transaction_id                3549275\n",
       "continent                           0\n",
       "sub_continent                       0\n",
       "country                             0\n",
       "region                              0\n",
       "city                                0\n",
       "metro                               0\n",
       "dtype: int64"
      ]
     },
     "execution_count": 52,
     "metadata": {},
     "output_type": "execute_result"
    }
   ],
   "source": [
    "data.isnull().sum() # number of null values in each column"
   ]
  },
  {
   "cell_type": "markdown",
   "id": "5927441c",
   "metadata": {},
   "source": [
    "As visible analytics_storage, ads_storage, vendor_id, advertising_id, time_zone_offset_seconds, purchase_revenue, refund_value_in_usd,refund_value, shipping_value_in_usd, shipping_value, tax_value_in_usd, tax_value need to be removed since these columns are empty"
   ]
  },
  {
   "cell_type": "code",
   "execution_count": 53,
   "id": "cb95fb04",
   "metadata": {},
   "outputs": [
    {
     "data": {
      "text/plain": [
       "Index(['event_date', 'event_timestamp', 'event_name',\n",
       "       'event_bundle_sequence_id', 'user_pseudo_id',\n",
       "       'user_first_touch_timestamp', 'stream_id', 'platform', 'items',\n",
       "       'uses_transient_token', 'revenue', 'currency', 'category',\n",
       "       'mobile_brand_name', 'mobile_model_name', 'mobile_marketing_name',\n",
       "       'mobile_os_hardware_model', 'operating_system',\n",
       "       'operating_system_version', 'language', 'is_limited_ad_tracking',\n",
       "       'browser', 'browser_version', 'medium', 'name', 'source',\n",
       "       'total_item_quantity', 'purchase_revenue_in_usd', 'unique_items',\n",
       "       'transaction_id', 'continent', 'sub_continent', 'country', 'region',\n",
       "       'city', 'metro'],\n",
       "      dtype='object')"
      ]
     },
     "execution_count": 53,
     "metadata": {},
     "output_type": "execute_result"
    }
   ],
   "source": [
    "data.drop(['analytics_storage', 'ads_storage', 'vendor_id', 'advertising_id', 'time_zone_offset_seconds', \n",
    "           'purchase_revenue','refund_value_in_usd','refund_value', 'shipping_value_in_usd', 'shipping_value', \n",
    "           'tax_value_in_usd', 'tax_value'], axis=1, inplace=True)\n",
    "data.columns # user_properties column is deleted"
   ]
  },
  {
   "cell_type": "code",
   "execution_count": 54,
   "id": "b116d053",
   "metadata": {},
   "outputs": [
    {
     "data": {
      "text/plain": [
       "event_date                          0\n",
       "event_timestamp                     0\n",
       "event_name                          0\n",
       "event_bundle_sequence_id            0\n",
       "user_pseudo_id                      0\n",
       "user_first_touch_timestamp      86048\n",
       "stream_id                           0\n",
       "platform                            0\n",
       "items                               0\n",
       "uses_transient_token                0\n",
       "revenue                             0\n",
       "currency                            0\n",
       "category                            0\n",
       "mobile_brand_name                   0\n",
       "mobile_model_name                   0\n",
       "mobile_marketing_name               0\n",
       "mobile_os_hardware_model      4295584\n",
       "operating_system                    0\n",
       "operating_system_version            0\n",
       "language                      1829035\n",
       "is_limited_ad_tracking              0\n",
       "browser                             0\n",
       "browser_version                     0\n",
       "medium                              0\n",
       "name                                0\n",
       "source                              0\n",
       "total_item_quantity           4201585\n",
       "purchase_revenue_in_usd       4289892\n",
       "unique_items                  3783238\n",
       "transaction_id                3549275\n",
       "continent                           0\n",
       "sub_continent                       0\n",
       "country                             0\n",
       "region                              0\n",
       "city                                0\n",
       "metro                               0\n",
       "dtype: int64"
      ]
     },
     "execution_count": 54,
     "metadata": {},
     "output_type": "execute_result"
    }
   ],
   "source": [
    "data.isnull().sum() # number of null values in each column"
   ]
  },
  {
   "cell_type": "markdown",
   "id": "92b34189",
   "metadata": {},
   "source": [
    "Now we try and explore items column of the dataset since most of it is empty but the records themselves provide useful information regarding the items that were sold and their relevant information. Hence, it is important to retreive whatever information we can so that in future, if needed during analysis, it can help in providing insights."
   ]
  },
  {
   "cell_type": "code",
   "execution_count": 55,
   "id": "89a628f3",
   "metadata": {},
   "outputs": [],
   "source": [
    "dict_list = []\n",
    "for i in data['items']:\n",
    "    dict_list.append(i.replace(\"[\",\"\").replace(\"]\",\"\"))\n",
    "data['items']=dict_list"
   ]
  },
  {
   "cell_type": "code",
   "execution_count": 56,
   "id": "1fc9ce9d",
   "metadata": {},
   "outputs": [
    {
     "data": {
      "text/plain": [
       "array([\"{'item_id': 'fall_campaign', 'item_name': '(not set)', 'item_brand': '(not set)', 'item_variant': '(not set)', 'item_category': '(not set)', 'item_category2': '(not set)', 'item_category3': '(not set)', 'item_category4': '(not set)', 'item_category5': '(not set)', 'price_in_usd': None, 'price': None, 'quantity': None, 'item_revenue_in_usd': None, 'item_revenue': None, 'item_refund_in_usd': None, 'item_refund': None, 'coupon': '(not set)', 'affiliation': '(not set)', 'location_id': '(not set)', 'item_list_id': '(not set)', 'item_list_name': '(not set)', 'item_list_index': 'Slide 1', 'promotion_id': '(not set)', 'promotion_name': 'Reach New Heights', 'creative_name': 'Front Page Carousel', 'creative_slot': '(not set)'}\",\n",
       "       \"{'item_id': 'fall_campaign', 'item_name': '(not set)', 'item_brand': '(not set)', 'item_variant': '(not set)', 'item_category': '(not set)', 'item_category2': '(not set)', 'item_category3': '(not set)', 'item_category4': '(not set)', 'item_category5': '(not set)', 'price_in_usd': None, 'price': None, 'quantity': None, 'item_revenue_in_usd': None, 'item_revenue': None, 'item_refund_in_usd': None, 'item_refund': None, 'coupon': '(not set)', 'affiliation': '(not set)', 'location_id': '(not set)', 'item_list_id': '(not set)', 'item_list_name': '(not set)', 'item_list_index': 'Slide 1', 'promotion_id': '(not set)', 'promotion_name': 'Google Mural Collection', 'creative_name': 'Front Page Carousel', 'creative_slot': '(not set)'}\",\n",
       "       \"{'item_id': 'fall_campaign', 'item_name': '(not set)', 'item_brand': '(not set)', 'item_variant': '(not set)', 'item_category': '(not set)', 'item_category2': '(not set)', 'item_category3': '(not set)', 'item_category4': '(not set)', 'item_category5': '(not set)', 'price_in_usd': None, 'price': None, 'quantity': None, 'item_revenue_in_usd': None, 'item_revenue': None, 'item_refund_in_usd': None, 'item_refund': None, 'coupon': '(not set)', 'affiliation': '(not set)', 'location_id': '(not set)', 'item_list_id': '(not set)', 'item_list_name': '(not set)', 'item_list_index': 'Slide 1', 'promotion_id': '(not set)', 'promotion_name': 'Complete Your Collection', 'creative_name': 'Front Page Carousel', 'creative_slot': '(not set)'}\",\n",
       "       ...,\n",
       "       \"{'item_id': 'GGOEGBJJ099699', 'item_name': 'Google Flat Front Bag Grey', 'item_brand': '(not set)', 'item_variant': '(not set)', 'item_category': 'Lifestyle/Bags/', 'item_category2': '(not set)', 'item_category3': '(not set)', 'item_category4': '(not set)', 'item_category5': '(not set)', 'price_in_usd': None, 'price': 30.0, 'quantity': None, 'item_revenue_in_usd': None, 'item_revenue': None, 'item_refund_in_usd': None, 'item_refund': None, 'coupon': '(not set)', 'affiliation': '(not set)', 'location_id': '(not set)', 'item_list_id': '(not set)', 'item_list_name': '(not set)', 'item_list_index': '3', 'promotion_id': '(not set)', 'promotion_name': '(not set)', 'creative_name': '(not set)', 'creative_slot': '(not set)'}\\n {'item_id': 'GGOEGBRJ114199', 'item_name': 'Google Utility BackPack', 'item_brand': '(not set)', 'item_variant': '(not set)', 'item_category': 'Lifestyle/Bags/', 'item_category2': '(not set)', 'item_category3': '(not set)', 'item_category4': '(not set)', 'item_category5': '(not set)', 'price_in_usd': None, 'price': 120.0, 'quantity': None, 'item_revenue_in_usd': None, 'item_revenue': None, 'item_refund_in_usd': None, 'item_refund': None, 'coupon': '(not set)', 'affiliation': '(not set)', 'location_id': '(not set)', 'item_list_id': '(not set)', 'item_list_name': '(not set)', 'item_list_index': '10', 'promotion_id': '(not set)', 'promotion_name': '(not set)', 'creative_name': '(not set)', 'creative_slot': '(not set)'}\\n {'item_id': 'GGOEGBJJ099499', 'item_name': 'Google Utility Bag Grey', 'item_brand': '(not set)', 'item_variant': '(not set)', 'item_category': 'Lifestyle/Bags/', 'item_category2': '(not set)', 'item_category3': '(not set)', 'item_category4': '(not set)', 'item_category5': '(not set)', 'price_in_usd': None, 'price': 10.0, 'quantity': None, 'item_revenue_in_usd': None, 'item_revenue': None, 'item_refund_in_usd': None, 'item_refund': None, 'coupon': '(not set)', 'affiliation': '(not set)', 'location_id': '(not set)', 'item_list_id': '(not set)', 'item_list_name': '(not set)', 'item_list_index': '4', 'promotion_id': '(not set)', 'promotion_name': '(not set)', 'creative_name': '(not set)', 'creative_slot': '(not set)'}\\n {'item_id': 'GGOEGBJC122399', 'item_name': 'Google Campus Bike Tote Navy', 'item_brand': '(not set)', 'item_variant': '(not set)', 'item_category': 'Lifestyle/Bags/', 'item_category2': '(not set)', 'item_category3': '(not set)', 'item_category4': '(not set)', 'item_category5': '(not set)', 'price_in_usd': None, 'price': 11.0, 'quantity': None, 'item_revenue_in_usd': None, 'item_revenue': None, 'item_refund_in_usd': None, 'item_refund': None, 'coupon': '(not set)', 'affiliation': '(not set)', 'location_id': '(not set)', 'item_list_id': '(not set)', 'item_list_name': '(not set)', 'item_list_index': '6', 'promotion_id': '(not set)', 'promotion_name': '(not set)', 'creative_name': '(not set)', 'creative_slot': '(not set)'}\\n {'item_id': 'GGOEGBJC100199', 'item_name': 'Google Mesh Bag Blue', 'item_brand': '(not set)', 'item_variant': '(not set)', 'item_category': 'Lifestyle/Bags/', 'item_category2': '(not set)', 'item_category3': '(not set)', 'item_category4': '(not set)', 'item_category5': '(not set)', 'price_in_usd': None, 'price': 6.0, 'quantity': None, 'item_revenue_in_usd': None, 'item_revenue': None, 'item_refund_in_usd': None, 'item_refund': None, 'coupon': '(not set)', 'affiliation': '(not set)', 'location_id': '(not set)', 'item_list_id': '(not set)', 'item_list_name': '(not set)', 'item_list_index': '2', 'promotion_id': '(not set)', 'promotion_name': '(not set)', 'creative_name': '(not set)', 'creative_slot': '(not set)'}\\n {'item_id': 'GGOEGBBD122099', 'item_name': 'Google Confetti Accessory Pouch', 'item_brand': '(not set)', 'item_variant': '(not set)', 'item_category': 'Lifestyle/Bags/', 'item_category2': '(not set)', 'item_category3': '(not set)', 'item_category4': '(not set)', 'item_category5': '(not set)', 'price_in_usd': None, 'price': 12.0, 'quantity': None, 'item_revenue_in_usd': None, 'item_revenue': None, 'item_refund_in_usd': None, 'item_refund': None, 'coupon': '(not set)', 'affiliation': '(not set)', 'location_id': '(not set)', 'item_list_id': '(not set)', 'item_list_name': '(not set)', 'item_list_index': '5', 'promotion_id': '(not set)', 'promotion_name': '(not set)', 'creative_name': '(not set)', 'creative_slot': '(not set)'}\\n {'item_id': 'GGOEGBBC122499', 'item_name': 'Google Campus Bike Carry Pouch', 'item_brand': '(not set)', 'item_variant': '(not set)', 'item_category': 'Lifestyle/Bags/', 'item_category2': '(not set)', 'item_category3': '(not set)', 'item_category4': '(not set)', 'item_category5': '(not set)', 'price_in_usd': None, 'price': 8.0, 'quantity': None, 'item_revenue_in_usd': None, 'item_revenue': None, 'item_refund_in_usd': None, 'item_refund': None, 'coupon': '(not set)', 'affiliation': '(not set)', 'location_id': '(not set)', 'item_list_id': '(not set)', 'item_list_name': '(not set)', 'item_list_index': '7', 'promotion_id': '(not set)', 'promotion_name': '(not set)', 'creative_name': '(not set)', 'creative_slot': '(not set)'}\\n {'item_id': 'GGOEGBRC128299', 'item_name': 'Google Incognito Dopp Kit V2', 'item_brand': '(not set)', 'item_variant': '(not set)', 'item_category': 'Bags', 'item_category2': '(not set)', 'item_category3': '(not set)', 'item_category4': '(not set)', 'item_category5': '(not set)', 'price_in_usd': None, 'price': 48.0, 'quantity': None, 'item_revenue_in_usd': None, 'item_revenue': None, 'item_refund_in_usd': None, 'item_refund': None, 'coupon': '(not set)', 'affiliation': '(not set)', 'location_id': '(not set)', 'item_list_id': '(not set)', 'item_list_name': 'Not available in demo dataset', 'item_list_index': '13', 'promotion_id': '(not set)', 'promotion_name': '(not set)', 'creative_name': '(not set)', 'creative_slot': '(not set)'}\\n {'item_id': 'GGOEGABJ099599', 'item_name': 'Google Laptop Sleeve Charcoal', 'item_brand': '(not set)', 'item_variant': '(not set)', 'item_category': 'Lifestyle/Bags/', 'item_category2': '(not set)', 'item_category3': '(not set)', 'item_category4': '(not set)', 'item_category5': '(not set)', 'price_in_usd': None, 'price': 20.0, 'quantity': None, 'item_revenue_in_usd': None, 'item_revenue': None, 'item_refund_in_usd': None, 'item_refund': None, 'coupon': '(not set)', 'affiliation': '(not set)', 'location_id': '(not set)', 'item_list_id': '(not set)', 'item_list_name': '(not set)', 'item_list_index': '8', 'promotion_id': '(not set)', 'promotion_name': '(not set)', 'creative_name': '(not set)', 'creative_slot': '(not set)'}\\n {'item_id': 'GGOEGBJQ125099', 'item_name': 'Google Large Tote White', 'item_brand': '(not set)', 'item_variant': '(not set)', 'item_category': 'Lifestyle/Bags/', 'item_category2': '(not set)', 'item_category3': '(not set)', 'item_category4': '(not set)', 'item_category5': '(not set)', 'price_in_usd': None, 'price': 13.0, 'quantity': None, 'item_revenue_in_usd': None, 'item_revenue': None, 'item_refund_in_usd': None, 'item_refund': None, 'coupon': '(not set)', 'affiliation': '(not set)', 'location_id': '(not set)', 'item_list_id': '(not set)', 'item_list_name': '(not set)', 'item_list_index': '11', 'promotion_id': '(not set)', 'promotion_name': '(not set)', 'creative_name': '(not set)', 'creative_slot': '(not set)'}\\n {'item_id': 'GGOEGBJJ103799', 'item_name': 'Google Incognito Messenger Bag', 'item_brand': '(not set)', 'item_variant': '(not set)', 'item_category': 'Lifestyle/Bags/', 'item_category2': '(not set)', 'item_category3': '(not set)', 'item_category4': '(not set)', 'item_category5': '(not set)', 'price_in_usd': None, 'price': 75.0, 'quantity': None, 'item_revenue_in_usd': None, 'item_revenue': None, 'item_refund_in_usd': None, 'item_refund': None, 'coupon': '(not set)', 'affiliation': '(not set)', 'location_id': '(not set)', 'item_list_id': '(not set)', 'item_list_name': '(not set)', 'item_list_index': '9', 'promotion_id': '(not set)', 'promotion_name': '(not set)', 'creative_name': '(not set)', 'creative_slot': '(not set)'}\\n {'item_id': 'GGOEGBJR100099', 'item_name': 'Google Mesh Bag Red', 'item_brand': '(not set)', 'item_variant': '(not set)', 'item_category': 'Lifestyle/Bags/', 'item_category2': '(not set)', 'item_category3': '(not set)', 'item_category4': '(not set)', 'item_category5': '(not set)', 'price_in_usd': None, 'price': 6.0, 'quantity': None, 'item_revenue_in_usd': None, 'item_revenue': None, 'item_refund_in_usd': None, 'item_refund': None, 'coupon': '(not set)', 'affiliation': '(not set)', 'location_id': '(not set)', 'item_list_id': '(not set)', 'item_list_name': '(not set)', 'item_list_index': '12', 'promotion_id': '(not set)', 'promotion_name': '(not set)', 'creative_name': '(not set)', 'creative_slot': '(not set)'}\",\n",
       "       \"{'item_id': 'GGOECDHQ163999', 'item_name': 'Google Shoreline Water Bottle', 'item_brand': '(not set)', 'item_variant': '(not set)', 'item_category': 'Home/Shop by Brand/Google/', 'item_category2': '(not set)', 'item_category3': '(not set)', 'item_category4': '(not set)', 'item_category5': '(not set)', 'price_in_usd': None, 'price': 26.0, 'quantity': None, 'item_revenue_in_usd': None, 'item_revenue': None, 'item_refund_in_usd': None, 'item_refund': None, 'coupon': '(not set)', 'affiliation': '(not set)', 'location_id': '(not set)', 'item_list_id': '(not set)', 'item_list_name': '(not set)', 'item_list_index': '2', 'promotion_id': '(not set)', 'promotion_name': '(not set)', 'creative_name': '(not set)', 'creative_slot': '(not set)'}\\n {'item_id': 'GGOECXXX1630', 'item_name': 'Google Cloud  Unisex Zip Hoodie', 'item_brand': '(not set)', 'item_variant': '(not set)', 'item_category': 'Home/Shop by Brand/Google/', 'item_category2': '(not set)', 'item_category3': '(not set)', 'item_category4': '(not set)', 'item_category5': '(not set)', 'price_in_usd': None, 'price': 69.0, 'quantity': None, 'item_revenue_in_usd': None, 'item_revenue': None, 'item_refund_in_usd': None, 'item_refund': None, 'coupon': '(not set)', 'affiliation': '(not set)', 'location_id': '(not set)', 'item_list_id': '(not set)', 'item_list_name': '(not set)', 'item_list_index': '6', 'promotion_id': '(not set)', 'promotion_name': '(not set)', 'creative_name': '(not set)', 'creative_slot': '(not set)'}\\n {'item_id': 'GGOEGDWH162399', 'item_name': 'Google Land & Sea Mug', 'item_brand': '(not set)', 'item_variant': '(not set)', 'item_category': 'Home/Shop by Brand/Google/', 'item_category2': '(not set)', 'item_category3': '(not set)', 'item_category4': '(not set)', 'item_category5': '(not set)', 'price_in_usd': None, 'price': 17.0, 'quantity': None, 'item_revenue_in_usd': None, 'item_revenue': None, 'item_refund_in_usd': None, 'item_refund': None, 'coupon': '(not set)', 'affiliation': '(not set)', 'location_id': '(not set)', 'item_list_id': '(not set)', 'item_list_name': '(not set)', 'item_list_index': '12', 'promotion_id': '(not set)', 'promotion_name': '(not set)', 'creative_name': '(not set)', 'creative_slot': '(not set)'}\\n {'item_id': 'GGOEGCBT136699', 'item_name': 'Google Yellow YoYo', 'item_brand': '(not set)', 'item_variant': '(not set)', 'item_category': 'Google', 'item_category2': '(not set)', 'item_category3': '(not set)', 'item_category4': '(not set)', 'item_category5': '(not set)', 'price_in_usd': None, 'price': 4.0, 'quantity': None, 'item_revenue_in_usd': None, 'item_revenue': None, 'item_refund_in_usd': None, 'item_refund': None, 'coupon': '(not set)', 'affiliation': '(not set)', 'location_id': '(not set)', 'item_list_id': '(not set)', 'item_list_name': 'Not available in demo dataset', 'item_list_index': '16', 'promotion_id': '(not set)', 'promotion_name': '(not set)', 'creative_name': '(not set)', 'creative_slot': '(not set)'}\\n {'item_id': 'GGOEGDHB163199', 'item_name': 'Google Chrome Dino Light Up Water Bottle', 'item_brand': '(not set)', 'item_variant': '(not set)', 'item_category': 'Home/Shop by Brand/Google/', 'item_category2': '(not set)', 'item_category3': '(not set)', 'item_category4': '(not set)', 'item_category5': '(not set)', 'price_in_usd': None, 'price': 24.0, 'quantity': None, 'item_revenue_in_usd': None, 'item_revenue': None, 'item_refund_in_usd': None, 'item_refund': None, 'coupon': '(not set)', 'affiliation': '(not set)', 'location_id': '(not set)', 'item_list_id': '(not set)', 'item_list_name': '(not set)', 'item_list_index': '4', 'promotion_id': '(not set)', 'promotion_name': '(not set)', 'creative_name': '(not set)', 'creative_slot': '(not set)'}\\n {'item_id': 'GGOECOAQ163799', 'item_name': 'Google Cloud Pen', 'item_brand': '(not set)', 'item_variant': '(not set)', 'item_category': 'Home/Shop by Brand/Google/', 'item_category2': '(not set)', 'item_category3': '(not set)', 'item_category4': '(not set)', 'item_category5': '(not set)', 'price_in_usd': None, 'price': 3.0, 'quantity': None, 'item_revenue_in_usd': None, 'item_revenue': None, 'item_refund_in_usd': None, 'item_refund': None, 'coupon': '(not set)', 'affiliation': '(not set)', 'location_id': '(not set)', 'item_list_id': '(not set)', 'item_list_name': '(not set)', 'item_list_index': '3', 'promotion_id': '(not set)', 'promotion_name': '(not set)', 'creative_name': '(not set)', 'creative_slot': '(not set)'}\\n {'item_id': 'GGOEGXXX1613', 'item_name': 'Super G Unisex Joggers', 'item_brand': '(not set)', 'item_variant': '(not set)', 'item_category': 'Home/Shop by Brand/Google/', 'item_category2': '(not set)', 'item_category3': '(not set)', 'item_category4': '(not set)', 'item_category5': '(not set)', 'price_in_usd': None, 'price': 37.0, 'quantity': None, 'item_revenue_in_usd': None, 'item_revenue': None, 'item_refund_in_usd': None, 'item_refund': None, 'coupon': '(not set)', 'affiliation': '(not set)', 'location_id': '(not set)', 'item_list_id': '(not set)', 'item_list_name': '(not set)', 'item_list_index': '9', 'promotion_id': '(not set)', 'promotion_name': '(not set)', 'creative_name': '(not set)', 'creative_slot': '(not set)'}\\n {'item_id': 'GGCOGDHC161299', 'item_name': 'Google Blue Stojo Cup', 'item_brand': '(not set)', 'item_variant': '(not set)', 'item_category': 'Home/Shop by Brand/Google/', 'item_category2': '(not set)', 'item_category3': '(not set)', 'item_category4': '(not set)', 'item_category5': '(not set)', 'price_in_usd': None, 'price': 25.0, 'quantity': None, 'item_revenue_in_usd': None, 'item_revenue': None, 'item_refund_in_usd': None, 'item_refund': None, 'coupon': '(not set)', 'affiliation': '(not set)', 'location_id': '(not set)', 'item_list_id': '(not set)', 'item_list_name': '(not set)', 'item_list_index': '11', 'promotion_id': '(not set)', 'promotion_name': '(not set)', 'creative_name': '(not set)', 'creative_slot': '(not set)'}\\n {'item_id': 'GGOEGDWJ141799', 'item_name': 'Google Camp Mug Gray', 'item_brand': '(not set)', 'item_variant': '(not set)', 'item_category': 'Home/Shop by Brand/Google/', 'item_category2': '(not set)', 'item_category3': '(not set)', 'item_category4': '(not set)', 'item_category5': '(not set)', 'price_in_usd': None, 'price': 13.0, 'quantity': None, 'item_revenue_in_usd': None, 'item_revenue': None, 'item_refund_in_usd': None, 'item_refund': None, 'coupon': '(not set)', 'affiliation': '(not set)', 'location_id': '(not set)', 'item_list_id': '(not set)', 'item_list_name': '(not set)', 'item_list_index': '7', 'promotion_id': '(not set)', 'promotion_name': '(not set)', 'creative_name': '(not set)', 'creative_slot': '(not set)'}\\n {'item_id': 'GGOEGDHR162799', 'item_name': 'Google Aluminum Bottle Red', 'item_brand': '(not set)', 'item_variant': '(not set)', 'item_category': 'Home/Shop by Brand/Google/', 'item_category2': '(not set)', 'item_category3': '(not set)', 'item_category4': '(not set)', 'item_category5': '(not set)', 'price_in_usd': None, 'price': 8.0, 'quantity': None, 'item_revenue_in_usd': None, 'item_revenue': None, 'item_refund_in_usd': None, 'item_refund': None, 'coupon': '(not set)', 'affiliation': '(not set)', 'location_id': '(not set)', 'item_list_id': '(not set)', 'item_list_name': '(not set)', 'item_list_index': '5', 'promotion_id': '(not set)', 'promotion_name': '(not set)', 'creative_name': '(not set)', 'creative_slot': '(not set)'}\\n {'item_id': 'GGCOGCBD162999', 'item_name': 'Google Bear Baby Blanket Beige', 'item_brand': '(not set)', 'item_variant': '(not set)', 'item_category': 'Home/Shop by Brand/Google/', 'item_category2': '(not set)', 'item_category3': '(not set)', 'item_category4': '(not set)', 'item_category5': '(not set)', 'price_in_usd': None, 'price': 24.0, 'quantity': None, 'item_revenue_in_usd': None, 'item_revenue': None, 'item_refund_in_usd': None, 'item_refund': None, 'coupon': '(not set)', 'affiliation': '(not set)', 'location_id': '(not set)', 'item_list_id': '(not set)', 'item_list_name': '(not set)', 'item_list_index': '8', 'promotion_id': '(not set)', 'promotion_name': '(not set)', 'creative_name': '(not set)', 'creative_slot': '(not set)'}\\n {'item_id': 'GGCOGCBA161199', 'item_name': 'Google Land & Sea Tech Taco', 'item_brand': '(not set)', 'item_variant': '(not set)', 'item_category': 'Home/Shop by Brand/Google/', 'item_category2': '(not set)', 'item_category3': '(not set)', 'item_category4': '(not set)', 'item_category5': '(not set)', 'price_in_usd': None, 'price': 4.0, 'quantity': None, 'item_revenue_in_usd': None, 'item_revenue': None, 'item_refund_in_usd': None, 'item_refund': None, 'coupon': '(not set)', 'affiliation': '(not set)', 'location_id': '(not set)', 'item_list_id': '(not set)', 'item_list_name': '(not set)', 'item_list_index': '10', 'promotion_id': '(not set)', 'promotion_name': '(not set)', 'creative_name': '(not set)', 'creative_slot': '(not set)'}\",\n",
       "       \"{'item_id': 'GGOEGBJJ103799', 'item_name': 'Google Incognito Messenger Bag', 'item_brand': '(not set)', 'item_variant': '(not set)', 'item_category': 'Lifestyle/Bags/', 'item_category2': '(not set)', 'item_category3': '(not set)', 'item_category4': '(not set)', 'item_category5': '(not set)', 'price_in_usd': None, 'price': 75.0, 'quantity': None, 'item_revenue_in_usd': None, 'item_revenue': None, 'item_refund_in_usd': None, 'item_refund': None, 'coupon': '(not set)', 'affiliation': '(not set)', 'location_id': '(not set)', 'item_list_id': '(not set)', 'item_list_name': '(not set)', 'item_list_index': '9', 'promotion_id': '(not set)', 'promotion_name': '(not set)', 'creative_name': '(not set)', 'creative_slot': '(not set)'}\\n {'item_id': 'GGOEGBJC100199', 'item_name': 'Google Mesh Bag Blue', 'item_brand': '(not set)', 'item_variant': '(not set)', 'item_category': 'Lifestyle/Bags/', 'item_category2': '(not set)', 'item_category3': '(not set)', 'item_category4': '(not set)', 'item_category5': '(not set)', 'price_in_usd': None, 'price': 6.0, 'quantity': None, 'item_revenue_in_usd': None, 'item_revenue': None, 'item_refund_in_usd': None, 'item_refund': None, 'coupon': '(not set)', 'affiliation': '(not set)', 'location_id': '(not set)', 'item_list_id': '(not set)', 'item_list_name': '(not set)', 'item_list_index': '2', 'promotion_id': '(not set)', 'promotion_name': '(not set)', 'creative_name': '(not set)', 'creative_slot': '(not set)'}\\n {'item_id': 'GGOEGBJR100099', 'item_name': 'Google Mesh Bag Red', 'item_brand': '(not set)', 'item_variant': '(not set)', 'item_category': 'Lifestyle/Bags/', 'item_category2': '(not set)', 'item_category3': '(not set)', 'item_category4': '(not set)', 'item_category5': '(not set)', 'price_in_usd': None, 'price': 6.0, 'quantity': None, 'item_revenue_in_usd': None, 'item_revenue': None, 'item_refund_in_usd': None, 'item_refund': None, 'coupon': '(not set)', 'affiliation': '(not set)', 'location_id': '(not set)', 'item_list_id': '(not set)', 'item_list_name': '(not set)', 'item_list_index': '12', 'promotion_id': '(not set)', 'promotion_name': '(not set)', 'creative_name': '(not set)', 'creative_slot': '(not set)'}\\n {'item_id': 'GGOEGBJJ099499', 'item_name': 'Google Utility Bag Grey', 'item_brand': '(not set)', 'item_variant': '(not set)', 'item_category': 'Lifestyle/Bags/', 'item_category2': '(not set)', 'item_category3': '(not set)', 'item_category4': '(not set)', 'item_category5': '(not set)', 'price_in_usd': None, 'price': 10.0, 'quantity': None, 'item_revenue_in_usd': None, 'item_revenue': None, 'item_refund_in_usd': None, 'item_refund': None, 'coupon': '(not set)', 'affiliation': '(not set)', 'location_id': '(not set)', 'item_list_id': '(not set)', 'item_list_name': '(not set)', 'item_list_index': '4', 'promotion_id': '(not set)', 'promotion_name': '(not set)', 'creative_name': '(not set)', 'creative_slot': '(not set)'}\\n {'item_id': 'GGOEGBJQ125099', 'item_name': 'Google Large Tote White', 'item_brand': '(not set)', 'item_variant': '(not set)', 'item_category': 'Lifestyle/Bags/', 'item_category2': '(not set)', 'item_category3': '(not set)', 'item_category4': '(not set)', 'item_category5': '(not set)', 'price_in_usd': None, 'price': 13.0, 'quantity': None, 'item_revenue_in_usd': None, 'item_revenue': None, 'item_refund_in_usd': None, 'item_refund': None, 'coupon': '(not set)', 'affiliation': '(not set)', 'location_id': '(not set)', 'item_list_id': '(not set)', 'item_list_name': '(not set)', 'item_list_index': '11', 'promotion_id': '(not set)', 'promotion_name': '(not set)', 'creative_name': '(not set)', 'creative_slot': '(not set)'}\\n {'item_id': 'GGOEGABJ099599', 'item_name': 'Google Laptop Sleeve Charcoal', 'item_brand': '(not set)', 'item_variant': '(not set)', 'item_category': 'Lifestyle/Bags/', 'item_category2': '(not set)', 'item_category3': '(not set)', 'item_category4': '(not set)', 'item_category5': '(not set)', 'price_in_usd': None, 'price': 20.0, 'quantity': None, 'item_revenue_in_usd': None, 'item_revenue': None, 'item_refund_in_usd': None, 'item_refund': None, 'coupon': '(not set)', 'affiliation': '(not set)', 'location_id': '(not set)', 'item_list_id': '(not set)', 'item_list_name': '(not set)', 'item_list_index': '8', 'promotion_id': '(not set)', 'promotion_name': '(not set)', 'creative_name': '(not set)', 'creative_slot': '(not set)'}\\n {'item_id': 'GGOEGBBC122499', 'item_name': 'Google Campus Bike Carry Pouch', 'item_brand': '(not set)', 'item_variant': '(not set)', 'item_category': 'Lifestyle/Bags/', 'item_category2': '(not set)', 'item_category3': '(not set)', 'item_category4': '(not set)', 'item_category5': '(not set)', 'price_in_usd': None, 'price': 8.0, 'quantity': None, 'item_revenue_in_usd': None, 'item_revenue': None, 'item_refund_in_usd': None, 'item_refund': None, 'coupon': '(not set)', 'affiliation': '(not set)', 'location_id': '(not set)', 'item_list_id': '(not set)', 'item_list_name': '(not set)', 'item_list_index': '7', 'promotion_id': '(not set)', 'promotion_name': '(not set)', 'creative_name': '(not set)', 'creative_slot': '(not set)'}\\n {'item_id': 'GGOEGBJJ099699', 'item_name': 'Google Flat Front Bag Grey', 'item_brand': '(not set)', 'item_variant': '(not set)', 'item_category': 'Lifestyle/Bags/', 'item_category2': '(not set)', 'item_category3': '(not set)', 'item_category4': '(not set)', 'item_category5': '(not set)', 'price_in_usd': None, 'price': 30.0, 'quantity': None, 'item_revenue_in_usd': None, 'item_revenue': None, 'item_refund_in_usd': None, 'item_refund': None, 'coupon': '(not set)', 'affiliation': '(not set)', 'location_id': '(not set)', 'item_list_id': '(not set)', 'item_list_name': '(not set)', 'item_list_index': '3', 'promotion_id': '(not set)', 'promotion_name': '(not set)', 'creative_name': '(not set)', 'creative_slot': '(not set)'}\\n {'item_id': 'GGOEGBRJ114199', 'item_name': 'Google Utility BackPack', 'item_brand': '(not set)', 'item_variant': '(not set)', 'item_category': 'Lifestyle/Bags/', 'item_category2': '(not set)', 'item_category3': '(not set)', 'item_category4': '(not set)', 'item_category5': '(not set)', 'price_in_usd': None, 'price': 120.0, 'quantity': None, 'item_revenue_in_usd': None, 'item_revenue': None, 'item_refund_in_usd': None, 'item_refund': None, 'coupon': '(not set)', 'affiliation': '(not set)', 'location_id': '(not set)', 'item_list_id': '(not set)', 'item_list_name': '(not set)', 'item_list_index': '10', 'promotion_id': '(not set)', 'promotion_name': '(not set)', 'creative_name': '(not set)', 'creative_slot': '(not set)'}\\n {'item_id': 'GGOEGBBD122099', 'item_name': 'Google Confetti Accessory Pouch', 'item_brand': '(not set)', 'item_variant': '(not set)', 'item_category': 'Lifestyle/Bags/', 'item_category2': '(not set)', 'item_category3': '(not set)', 'item_category4': '(not set)', 'item_category5': '(not set)', 'price_in_usd': None, 'price': 12.0, 'quantity': None, 'item_revenue_in_usd': None, 'item_revenue': None, 'item_refund_in_usd': None, 'item_refund': None, 'coupon': '(not set)', 'affiliation': '(not set)', 'location_id': '(not set)', 'item_list_id': '(not set)', 'item_list_name': '(not set)', 'item_list_index': '5', 'promotion_id': '(not set)', 'promotion_name': '(not set)', 'creative_name': '(not set)', 'creative_slot': '(not set)'}\\n {'item_id': 'GGOEGBJC122399', 'item_name': 'Google Campus Bike Tote Navy', 'item_brand': '(not set)', 'item_variant': '(not set)', 'item_category': 'Lifestyle/Bags/', 'item_category2': '(not set)', 'item_category3': '(not set)', 'item_category4': '(not set)', 'item_category5': '(not set)', 'price_in_usd': None, 'price': 11.0, 'quantity': None, 'item_revenue_in_usd': None, 'item_revenue': None, 'item_refund_in_usd': None, 'item_refund': None, 'coupon': '(not set)', 'affiliation': '(not set)', 'location_id': '(not set)', 'item_list_id': '(not set)', 'item_list_name': '(not set)', 'item_list_index': '6', 'promotion_id': '(not set)', 'promotion_name': '(not set)', 'creative_name': '(not set)', 'creative_slot': '(not set)'}\\n {'item_id': 'GGOEGBRJ114199', 'item_name': 'Google Utility BackPack', 'item_brand': 'Google', 'item_variant': '(not set)', 'item_category': 'Lifestyle/Bags/', 'item_category2': '(not set)', 'item_category3': '(not set)', 'item_category4': '(not set)', 'item_category5': '(not set)', 'price_in_usd': None, 'price': 120.0, 'quantity': None, 'item_revenue_in_usd': None, 'item_revenue': None, 'item_refund_in_usd': None, 'item_refund': None, 'coupon': '(not set)', 'affiliation': '(not set)', 'location_id': '(not set)', 'item_list_id': '(not set)', 'item_list_name': '(not set)', 'item_list_index': '10', 'promotion_id': '(not set)', 'promotion_name': '(not set)', 'creative_name': '(not set)', 'creative_slot': '(not set)'}\"],\n",
       "      dtype=object)"
      ]
     },
     "execution_count": 56,
     "metadata": {},
     "output_type": "execute_result"
    }
   ],
   "source": [
    "# keeping only non null cells\n",
    "items = data['items'].unique()\n",
    "items = np.delete(items,0)\n",
    "items"
   ]
  },
  {
   "cell_type": "code",
   "execution_count": 57,
   "id": "1e702786",
   "metadata": {},
   "outputs": [
    {
     "data": {
      "text/html": [
       "<div>\n",
       "<style scoped>\n",
       "    .dataframe tbody tr th:only-of-type {\n",
       "        vertical-align: middle;\n",
       "    }\n",
       "\n",
       "    .dataframe tbody tr th {\n",
       "        vertical-align: top;\n",
       "    }\n",
       "\n",
       "    .dataframe thead th {\n",
       "        text-align: right;\n",
       "    }\n",
       "</style>\n",
       "<table border=\"1\" class=\"dataframe\">\n",
       "  <thead>\n",
       "    <tr style=\"text-align: right;\">\n",
       "      <th></th>\n",
       "      <th>0</th>\n",
       "    </tr>\n",
       "  </thead>\n",
       "  <tbody>\n",
       "    <tr>\n",
       "      <th>0</th>\n",
       "      <td>{'item_id': 'fall_campaign', 'item_name': '(no...</td>\n",
       "    </tr>\n",
       "    <tr>\n",
       "      <th>1</th>\n",
       "      <td>{'item_id': 'fall_campaign', 'item_name': '(no...</td>\n",
       "    </tr>\n",
       "    <tr>\n",
       "      <th>2</th>\n",
       "      <td>{'item_id': 'fall_campaign', 'item_name': '(no...</td>\n",
       "    </tr>\n",
       "    <tr>\n",
       "      <th>3</th>\n",
       "      <td>{'item_id': '9196843', 'item_name': 'Android I...</td>\n",
       "    </tr>\n",
       "    <tr>\n",
       "      <th>4</th>\n",
       "      <td>{'item_id': 'fall_campaign', 'item_name': '(no...</td>\n",
       "    </tr>\n",
       "    <tr>\n",
       "      <th>...</th>\n",
       "      <td>...</td>\n",
       "    </tr>\n",
       "    <tr>\n",
       "      <th>338105</th>\n",
       "      <td>{'item_id': 'GGOEGBJR100099', 'item_name': 'Go...</td>\n",
       "    </tr>\n",
       "    <tr>\n",
       "      <th>338106</th>\n",
       "      <td>{'item_id': 'GGOEGBJQ125099', 'item_name': 'Go...</td>\n",
       "    </tr>\n",
       "    <tr>\n",
       "      <th>338107</th>\n",
       "      <td>{'item_id': 'GGOEGBJJ099699', 'item_name': 'Go...</td>\n",
       "    </tr>\n",
       "    <tr>\n",
       "      <th>338108</th>\n",
       "      <td>{'item_id': 'GGOECDHQ163999', 'item_name': 'Go...</td>\n",
       "    </tr>\n",
       "    <tr>\n",
       "      <th>338109</th>\n",
       "      <td>{'item_id': 'GGOEGBJJ103799', 'item_name': 'Go...</td>\n",
       "    </tr>\n",
       "  </tbody>\n",
       "</table>\n",
       "<p>338110 rows × 1 columns</p>\n",
       "</div>"
      ],
      "text/plain": [
       "                                                        0\n",
       "0       {'item_id': 'fall_campaign', 'item_name': '(no...\n",
       "1       {'item_id': 'fall_campaign', 'item_name': '(no...\n",
       "2       {'item_id': 'fall_campaign', 'item_name': '(no...\n",
       "3       {'item_id': '9196843', 'item_name': 'Android I...\n",
       "4       {'item_id': 'fall_campaign', 'item_name': '(no...\n",
       "...                                                   ...\n",
       "338105  {'item_id': 'GGOEGBJR100099', 'item_name': 'Go...\n",
       "338106  {'item_id': 'GGOEGBJQ125099', 'item_name': 'Go...\n",
       "338107  {'item_id': 'GGOEGBJJ099699', 'item_name': 'Go...\n",
       "338108  {'item_id': 'GGOECDHQ163999', 'item_name': 'Go...\n",
       "338109  {'item_id': 'GGOEGBJJ103799', 'item_name': 'Go...\n",
       "\n",
       "[338110 rows x 1 columns]"
      ]
     },
     "execution_count": 57,
     "metadata": {},
     "output_type": "execute_result"
    }
   ],
   "source": [
    "# convert items to series\n",
    "items = pd.DataFrame(items)\n",
    "items"
   ]
  },
  {
   "cell_type": "code",
   "execution_count": 58,
   "id": "28a3becd",
   "metadata": {},
   "outputs": [
    {
     "name": "stdout",
     "output_type": "stream",
     "text": [
      "{'item_id': 'fall_campaign', 'item_name': '(not set)', 'item_brand': '(not set)', 'item_variant': '(not set)', 'item_category': '(not set)', 'item_category2': '(not set)', 'item_category3': '(not set)', 'item_category4': '(not set)', 'item_category5': '(not set)', 'price_in_usd': None, 'price': None, 'quantity': None, 'item_revenue_in_usd': None, 'item_revenue': None, 'item_refund_in_usd': None, 'item_refund': None, 'coupon': '(not set)', 'affiliation': '(not set)', 'location_id': '(not set)', 'item_list_id': '(not set)', 'item_list_name': '(not set)', 'item_list_index': 'Slide 1', 'promotion_id': '(not set)', 'promotion_name': 'Reach New Heights', 'creative_name': 'Front Page Carousel', 'creative_slot': '(not set)'}\n"
     ]
    }
   ],
   "source": [
    "# formation of column\n",
    "for i in items[0]:\n",
    "    print(i)\n",
    "    break"
   ]
  },
  {
   "cell_type": "code",
   "execution_count": 75,
   "id": "3c5b6f3e",
   "metadata": {},
   "outputs": [],
   "source": [
    "data.to_csv('3months.csv')"
   ]
  },
  {
   "cell_type": "code",
   "execution_count": null,
   "id": "f615974a",
   "metadata": {},
   "outputs": [],
   "source": []
  },
  {
   "cell_type": "markdown",
   "id": "b2909941",
   "metadata": {},
   "source": [
    "## Website Performance"
   ]
  },
  {
   "cell_type": "code",
   "execution_count": 59,
   "id": "94dc7f24",
   "metadata": {},
   "outputs": [
    {
     "data": {
      "text/plain": [
       "Index(['event_date', 'event_timestamp', 'event_name',\n",
       "       'event_bundle_sequence_id', 'user_pseudo_id',\n",
       "       'user_first_touch_timestamp', 'stream_id', 'platform', 'items',\n",
       "       'uses_transient_token', 'revenue', 'currency', 'category',\n",
       "       'mobile_brand_name', 'mobile_model_name', 'mobile_marketing_name',\n",
       "       'mobile_os_hardware_model', 'operating_system',\n",
       "       'operating_system_version', 'language', 'is_limited_ad_tracking',\n",
       "       'browser', 'browser_version', 'medium', 'name', 'source',\n",
       "       'total_item_quantity', 'purchase_revenue_in_usd', 'unique_items',\n",
       "       'transaction_id', 'continent', 'sub_continent', 'country', 'region',\n",
       "       'city', 'metro'],\n",
       "      dtype='object')"
      ]
     },
     "execution_count": 59,
     "metadata": {},
     "output_type": "execute_result"
    }
   ],
   "source": [
    "data.columns"
   ]
  },
  {
   "cell_type": "markdown",
   "id": "8f78a819",
   "metadata": {},
   "source": [
    "### Variation of Revenue Over Time"
   ]
  },
  {
   "cell_type": "code",
   "execution_count": 60,
   "id": "8d6de22f",
   "metadata": {},
   "outputs": [
    {
     "data": {
      "image/png": "[encoded data removed]",
      "text/plain": [
       "<Figure size 1440x576 with 1 Axes>"
      ]
     },
     "metadata": {
      "needs_background": "light"
     },
     "output_type": "display_data"
    }
   ],
   "source": [
    "# plotting the trend using line graph\n",
    "plt.figure(figsize=(20, 8))\n",
    "plt.scatter(data['event_date'], data['revenue'])\n",
    "\n",
    "#add horizontal line at mean,max and min value of y\n",
    "plt.axhline(y=np.nanmean(data['revenue']),color='red', linestyle='--', linewidth=3, label='Avg')\n",
    "plt.axhline(y=max(data['revenue']),color='blue', linestyle='--', linewidth=3, label='Max')\n",
    "plt.axhline(y=min(data['revenue']),color='green', linestyle='--', linewidth=3, label='Min')\n",
    "\n",
    "plt.title('Revenue Over Time', fontsize=14)\n",
    "plt.xlabel('Date', fontsize=14)\n",
    "plt.ylabel('Revenue', fontsize=14)\n",
    "plt.grid(True)\n",
    "plt.show()"
   ]
  },
  {
   "cell_type": "code",
   "execution_count": 61,
   "id": "3a2d11b9",
   "metadata": {},
   "outputs": [
    {
     "name": "stdout",
     "output_type": "stream",
     "text": [
      "4.648126773914792\n",
      "3360.0\n",
      "0.0\n"
     ]
    }
   ],
   "source": [
    "print(np.nanmean(data['revenue']))# average\n",
    "print(max(data['revenue'])) #max\n",
    "print(min(data['revenue'])) #min"
   ]
  },
  {
   "cell_type": "code",
   "execution_count": 62,
   "id": "ff887eaf",
   "metadata": {},
   "outputs": [
    {
     "data": {
      "text/plain": [
       "array([20201101, 20201102, 20201103, 20201104, 20201105, 20201106,\n",
       "       20201107, 20201108, 20201109, 20201110, 20201111, 20201112,\n",
       "       20201113, 20201114, 20201115, 20201116, 20201117, 20201118,\n",
       "       20201119, 20201120, 20201121, 20201122, 20201123, 20201124,\n",
       "       20201125, 20201126, 20201127, 20201128, 20201129, 20201130,\n",
       "       20201201, 20201202, 20201203, 20201204, 20201205, 20201206,\n",
       "       20201207, 20201208, 20201209, 20201210, 20201211, 20201212,\n",
       "       20201213, 20201214, 20201215, 20201216, 20201217, 20201218,\n",
       "       20201219, 20201220, 20201221, 20201222, 20201223, 20201224,\n",
       "       20201225, 20201226, 20201227, 20201228, 20201229, 20201230,\n",
       "       20201231, 20210101, 20210102, 20210103, 20210104, 20210105,\n",
       "       20210106, 20210107, 20210108, 20210109, 20210110, 20210111,\n",
       "       20210112, 20210113, 20210114, 20210115, 20210116, 20210117,\n",
       "       20210118, 20210119, 20210120, 20210121, 20210122, 20210123,\n",
       "       20210124, 20210125, 20210126, 20210127, 20210128, 20210129,\n",
       "       20210130, 20210131], dtype=int64)"
      ]
     },
     "execution_count": 62,
     "metadata": {},
     "output_type": "execute_result"
    }
   ],
   "source": [
    "data['event_date'].unique()"
   ]
  },
  {
   "cell_type": "code",
   "execution_count": 63,
   "id": "66f52659",
   "metadata": {},
   "outputs": [
    {
     "data": {
      "text/plain": [
       "35000      20201102\n",
       "35001      20201102\n",
       "35002      20201102\n",
       "35003      20201102\n",
       "35004      20201102\n",
       "             ...   \n",
       "1409072    20201130\n",
       "1409073    20201130\n",
       "1409074    20201130\n",
       "1409075    20201130\n",
       "1470911    20201130\n",
       "Name: event_date, Length: 226, dtype: int64"
      ]
     },
     "execution_count": 63,
     "metadata": {},
     "output_type": "execute_result"
    }
   ],
   "source": [
    "data.loc[data['revenue'] == max(data['revenue']), 'event_date']"
   ]
  },
  {
   "cell_type": "code",
   "execution_count": 64,
   "id": "63fa9675",
   "metadata": {},
   "outputs": [
    {
     "data": {
      "text/plain": [
       "0          20201101\n",
       "1          20201101\n",
       "2          20201101\n",
       "3          20201101\n",
       "4          20201101\n",
       "             ...   \n",
       "4295579    20210131\n",
       "4295580    20210131\n",
       "4295581    20210131\n",
       "4295582    20210131\n",
       "4295583    20210131\n",
       "Name: event_date, Length: 4122257, dtype: int64"
      ]
     },
     "execution_count": 64,
     "metadata": {},
     "output_type": "execute_result"
    }
   ],
   "source": [
    "data.loc[data['revenue'] == min(data['revenue']), 'event_date']"
   ]
  },
  {
   "cell_type": "code",
   "execution_count": 65,
   "id": "d7ff4148",
   "metadata": {},
   "outputs": [
    {
     "data": {
      "text/plain": [
       "array(['USD'], dtype=object)"
      ]
     },
     "execution_count": 65,
     "metadata": {},
     "output_type": "execute_result"
    }
   ],
   "source": [
    "data['currency'].unique() # revenue is in usd"
   ]
  },
  {
   "cell_type": "markdown",
   "id": "eed85465",
   "metadata": {},
   "source": [
    "From above we can conclude that over time during the day, the revenue was at it's maximum of 209 dollars on on 15:48, with no revenue generated at 15:47. This line graph does not provide us enough useful information because the timestamps consist of the same day with a slight variation in time from 15:47 to 15:48 which is just a minute long. Hence this cannot be trusted to provide us with sound information."
   ]
  },
  {
   "cell_type": "markdown",
   "id": "76c7cf90",
   "metadata": {},
   "source": [
    "### Revenue Per Product Category"
   ]
  },
  {
   "cell_type": "code",
   "execution_count": 66,
   "id": "8d9c6af1",
   "metadata": {},
   "outputs": [
    {
     "data": {
      "text/html": [
       "<div>\n",
       "<style scoped>\n",
       "    .dataframe tbody tr th:only-of-type {\n",
       "        vertical-align: middle;\n",
       "    }\n",
       "\n",
       "    .dataframe tbody tr th {\n",
       "        vertical-align: top;\n",
       "    }\n",
       "\n",
       "    .dataframe thead th {\n",
       "        text-align: right;\n",
       "    }\n",
       "</style>\n",
       "<table border=\"1\" class=\"dataframe\">\n",
       "  <thead>\n",
       "    <tr style=\"text-align: right;\">\n",
       "      <th></th>\n",
       "      <th>event_date</th>\n",
       "      <th>event_bundle_sequence_id</th>\n",
       "      <th>user_pseudo_id</th>\n",
       "      <th>user_first_touch_timestamp</th>\n",
       "      <th>stream_id</th>\n",
       "      <th>revenue</th>\n",
       "      <th>total_item_quantity</th>\n",
       "      <th>purchase_revenue_in_usd</th>\n",
       "      <th>unique_items</th>\n",
       "    </tr>\n",
       "    <tr>\n",
       "      <th>category</th>\n",
       "      <th></th>\n",
       "      <th></th>\n",
       "      <th></th>\n",
       "      <th></th>\n",
       "      <th></th>\n",
       "      <th></th>\n",
       "      <th></th>\n",
       "      <th></th>\n",
       "      <th></th>\n",
       "    </tr>\n",
       "  </thead>\n",
       "  <tbody>\n",
       "    <tr>\n",
       "      <th>desktop</th>\n",
       "      <td>2.020370e+07</td>\n",
       "      <td>-8.594355e+05</td>\n",
       "      <td>2.571269e+08</td>\n",
       "      <td>1.607022e+15</td>\n",
       "      <td>2.100450e+09</td>\n",
       "      <td>4.646263</td>\n",
       "      <td>44645.566150</td>\n",
       "      <td>64.728766</td>\n",
       "      <td>7.785276</td>\n",
       "    </tr>\n",
       "    <tr>\n",
       "      <th>mobile</th>\n",
       "      <td>2.020367e+07</td>\n",
       "      <td>-1.323124e+06</td>\n",
       "      <td>2.600400e+08</td>\n",
       "      <td>1.606936e+15</td>\n",
       "      <td>2.100450e+09</td>\n",
       "      <td>4.708056</td>\n",
       "      <td>2650.549298</td>\n",
       "      <td>62.321868</td>\n",
       "      <td>7.755741</td>\n",
       "    </tr>\n",
       "    <tr>\n",
       "      <th>tablet</th>\n",
       "      <td>2.020374e+07</td>\n",
       "      <td>-3.127780e+07</td>\n",
       "      <td>2.564243e+08</td>\n",
       "      <td>1.606880e+15</td>\n",
       "      <td>2.100450e+09</td>\n",
       "      <td>3.602178</td>\n",
       "      <td>2.535433</td>\n",
       "      <td>59.297297</td>\n",
       "      <td>7.751346</td>\n",
       "    </tr>\n",
       "  </tbody>\n",
       "</table>\n",
       "</div>"
      ],
      "text/plain": [
       "            event_date  event_bundle_sequence_id  user_pseudo_id  \\\n",
       "category                                                           \n",
       "desktop   2.020370e+07             -8.594355e+05    2.571269e+08   \n",
       "mobile    2.020367e+07             -1.323124e+06    2.600400e+08   \n",
       "tablet    2.020374e+07             -3.127780e+07    2.564243e+08   \n",
       "\n",
       "          user_first_touch_timestamp     stream_id   revenue  \\\n",
       "category                                                       \n",
       "desktop                 1.607022e+15  2.100450e+09  4.646263   \n",
       "mobile                  1.606936e+15  2.100450e+09  4.708056   \n",
       "tablet                  1.606880e+15  2.100450e+09  3.602178   \n",
       "\n",
       "          total_item_quantity  purchase_revenue_in_usd  unique_items  \n",
       "category                                                              \n",
       "desktop          44645.566150                64.728766      7.785276  \n",
       "mobile            2650.549298                62.321868      7.755741  \n",
       "tablet               2.535433                59.297297      7.751346  "
      ]
     },
     "execution_count": 66,
     "metadata": {},
     "output_type": "execute_result"
    }
   ],
   "source": [
    "products = data.groupby('category').agg(np.mean)\n",
    "products"
   ]
  },
  {
   "cell_type": "code",
   "execution_count": 67,
   "id": "06efe95a",
   "metadata": {},
   "outputs": [
    {
     "data": {
      "text/plain": [
       "category\n",
       "desktop    4.646263\n",
       "mobile     4.708056\n",
       "tablet     3.602178\n",
       "Name: revenue, dtype: float64"
      ]
     },
     "execution_count": 67,
     "metadata": {},
     "output_type": "execute_result"
    }
   ],
   "source": [
    "products['revenue']"
   ]
  },
  {
   "cell_type": "code",
   "execution_count": 68,
   "id": "adbeae86",
   "metadata": {},
   "outputs": [
    {
     "data": {
      "text/plain": [
       "array(['WEB'], dtype=object)"
      ]
     },
     "execution_count": 68,
     "metadata": {},
     "output_type": "execute_result"
    }
   ],
   "source": [
    "data['platform'].unique()"
   ]
  },
  {
   "cell_type": "markdown",
   "id": "62dcb268",
   "metadata": {},
   "source": [
    "As seen here the average revenue from orders on the website under desktop cateogry is 4.64 dollars, 4.7 dollars for mobile cateogory and 3.6 dollars for tablet cateogry. This shows that mobile and desktop is the most popular category on the website"
   ]
  },
  {
   "cell_type": "markdown",
   "id": "b0dd3e34",
   "metadata": {},
   "source": [
    "### Website Performance Across Operating Systems"
   ]
  },
  {
   "cell_type": "code",
   "execution_count": 69,
   "id": "08391809",
   "metadata": {},
   "outputs": [
    {
     "data": {
      "text/html": [
       "<div>\n",
       "<style scoped>\n",
       "    .dataframe tbody tr th:only-of-type {\n",
       "        vertical-align: middle;\n",
       "    }\n",
       "\n",
       "    .dataframe tbody tr th {\n",
       "        vertical-align: top;\n",
       "    }\n",
       "\n",
       "    .dataframe thead th {\n",
       "        text-align: right;\n",
       "    }\n",
       "</style>\n",
       "<table border=\"1\" class=\"dataframe\">\n",
       "  <thead>\n",
       "    <tr style=\"text-align: right;\">\n",
       "      <th></th>\n",
       "      <th>event_date</th>\n",
       "      <th>event_bundle_sequence_id</th>\n",
       "      <th>user_pseudo_id</th>\n",
       "      <th>user_first_touch_timestamp</th>\n",
       "      <th>stream_id</th>\n",
       "      <th>revenue</th>\n",
       "      <th>total_item_quantity</th>\n",
       "      <th>purchase_revenue_in_usd</th>\n",
       "      <th>unique_items</th>\n",
       "    </tr>\n",
       "    <tr>\n",
       "      <th>operating_system</th>\n",
       "      <th></th>\n",
       "      <th></th>\n",
       "      <th></th>\n",
       "      <th></th>\n",
       "      <th></th>\n",
       "      <th></th>\n",
       "      <th></th>\n",
       "      <th></th>\n",
       "      <th></th>\n",
       "    </tr>\n",
       "  </thead>\n",
       "  <tbody>\n",
       "    <tr>\n",
       "      <th>&lt;Other&gt;</th>\n",
       "      <td>2.020374e+07</td>\n",
       "      <td>-5.355070e+07</td>\n",
       "      <td>2.680774e+08</td>\n",
       "      <td>1.607079e+15</td>\n",
       "      <td>2.100450e+09</td>\n",
       "      <td>5.123410</td>\n",
       "      <td>2.800327</td>\n",
       "      <td>78.571429</td>\n",
       "      <td>7.776895</td>\n",
       "    </tr>\n",
       "    <tr>\n",
       "      <th>Android</th>\n",
       "      <td>2.020373e+07</td>\n",
       "      <td>7.931238e+06</td>\n",
       "      <td>2.365539e+08</td>\n",
       "      <td>1.607014e+15</td>\n",
       "      <td>2.100450e+09</td>\n",
       "      <td>3.798712</td>\n",
       "      <td>2.534330</td>\n",
       "      <td>59.547131</td>\n",
       "      <td>7.747302</td>\n",
       "    </tr>\n",
       "    <tr>\n",
       "      <th>Macintosh</th>\n",
       "      <td>2.020375e+07</td>\n",
       "      <td>3.095179e+06</td>\n",
       "      <td>2.780821e+08</td>\n",
       "      <td>1.607113e+15</td>\n",
       "      <td>2.100450e+09</td>\n",
       "      <td>3.587488</td>\n",
       "      <td>2.999436</td>\n",
       "      <td>70.311905</td>\n",
       "      <td>7.730658</td>\n",
       "    </tr>\n",
       "    <tr>\n",
       "      <th>Web</th>\n",
       "      <td>2.020369e+07</td>\n",
       "      <td>-2.193059e+06</td>\n",
       "      <td>2.651177e+08</td>\n",
       "      <td>1.606947e+15</td>\n",
       "      <td>2.100450e+09</td>\n",
       "      <td>4.730186</td>\n",
       "      <td>44328.807106</td>\n",
       "      <td>63.391304</td>\n",
       "      <td>7.791576</td>\n",
       "    </tr>\n",
       "    <tr>\n",
       "      <th>Windows</th>\n",
       "      <td>2.020369e+07</td>\n",
       "      <td>4.639538e+06</td>\n",
       "      <td>2.338349e+08</td>\n",
       "      <td>1.607036e+15</td>\n",
       "      <td>2.100450e+09</td>\n",
       "      <td>4.338249</td>\n",
       "      <td>3.065922</td>\n",
       "      <td>63.641148</td>\n",
       "      <td>7.778001</td>\n",
       "    </tr>\n",
       "    <tr>\n",
       "      <th>iOS</th>\n",
       "      <td>2.020361e+07</td>\n",
       "      <td>-4.205921e+06</td>\n",
       "      <td>2.492374e+08</td>\n",
       "      <td>1.606999e+15</td>\n",
       "      <td>2.100450e+09</td>\n",
       "      <td>5.738570</td>\n",
       "      <td>9411.493037</td>\n",
       "      <td>60.043860</td>\n",
       "      <td>7.718179</td>\n",
       "    </tr>\n",
       "  </tbody>\n",
       "</table>\n",
       "</div>"
      ],
      "text/plain": [
       "                    event_date  event_bundle_sequence_id  user_pseudo_id  \\\n",
       "operating_system                                                           \n",
       "<Other>           2.020374e+07             -5.355070e+07    2.680774e+08   \n",
       "Android           2.020373e+07              7.931238e+06    2.365539e+08   \n",
       "Macintosh         2.020375e+07              3.095179e+06    2.780821e+08   \n",
       "Web               2.020369e+07             -2.193059e+06    2.651177e+08   \n",
       "Windows           2.020369e+07              4.639538e+06    2.338349e+08   \n",
       "iOS               2.020361e+07             -4.205921e+06    2.492374e+08   \n",
       "\n",
       "                  user_first_touch_timestamp     stream_id   revenue  \\\n",
       "operating_system                                                       \n",
       "<Other>                         1.607079e+15  2.100450e+09  5.123410   \n",
       "Android                         1.607014e+15  2.100450e+09  3.798712   \n",
       "Macintosh                       1.607113e+15  2.100450e+09  3.587488   \n",
       "Web                             1.606947e+15  2.100450e+09  4.730186   \n",
       "Windows                         1.607036e+15  2.100450e+09  4.338249   \n",
       "iOS                             1.606999e+15  2.100450e+09  5.738570   \n",
       "\n",
       "                  total_item_quantity  purchase_revenue_in_usd  unique_items  \n",
       "operating_system                                                              \n",
       "<Other>                      2.800327                78.571429      7.776895  \n",
       "Android                      2.534330                59.547131      7.747302  \n",
       "Macintosh                    2.999436                70.311905      7.730658  \n",
       "Web                      44328.807106                63.391304      7.791576  \n",
       "Windows                      3.065922                63.641148      7.778001  \n",
       "iOS                       9411.493037                60.043860      7.718179  "
      ]
     },
     "execution_count": 69,
     "metadata": {},
     "output_type": "execute_result"
    }
   ],
   "source": [
    "os = data.groupby('operating_system').agg(np.mean)\n",
    "os"
   ]
  },
  {
   "cell_type": "code",
   "execution_count": 70,
   "id": "879234e3",
   "metadata": {},
   "outputs": [
    {
     "data": {
      "text/plain": [
       "operating_system\n",
       "<Other>      5.123410\n",
       "Android      3.798712\n",
       "Macintosh    3.587488\n",
       "Web          4.730186\n",
       "Windows      4.338249\n",
       "iOS          5.738570\n",
       "Name: revenue, dtype: float64"
      ]
     },
     "execution_count": 70,
     "metadata": {},
     "output_type": "execute_result"
    }
   ],
   "source": [
    "os['revenue']"
   ]
  },
  {
   "cell_type": "markdown",
   "id": "a8f26a47",
   "metadata": {},
   "source": [
    "This shows that users with iOS operating system contribute most to the revenue generated by the website, meaning that most orders are placed by iPhone users. However, Macintosh users contribute the minimum to generating revenue.\n",
    "\n",
    "### Measuring Performance based on Event"
   ]
  },
  {
   "cell_type": "code",
   "execution_count": 71,
   "id": "21f9db1c",
   "metadata": {},
   "outputs": [
    {
     "data": {
      "text/plain": [
       "Index(['event_date', 'event_timestamp', 'event_name',\n",
       "       'event_bundle_sequence_id', 'user_pseudo_id',\n",
       "       'user_first_touch_timestamp', 'stream_id', 'platform', 'items',\n",
       "       'uses_transient_token', 'revenue', 'currency', 'category',\n",
       "       'mobile_brand_name', 'mobile_model_name', 'mobile_marketing_name',\n",
       "       'mobile_os_hardware_model', 'operating_system',\n",
       "       'operating_system_version', 'language', 'is_limited_ad_tracking',\n",
       "       'browser', 'browser_version', 'medium', 'name', 'source',\n",
       "       'total_item_quantity', 'purchase_revenue_in_usd', 'unique_items',\n",
       "       'transaction_id', 'continent', 'sub_continent', 'country', 'region',\n",
       "       'city', 'metro'],\n",
       "      dtype='object')"
      ]
     },
     "execution_count": 71,
     "metadata": {},
     "output_type": "execute_result"
    }
   ],
   "source": [
    "data.columns"
   ]
  },
  {
   "cell_type": "code",
   "execution_count": 72,
   "id": "4a9f6a97",
   "metadata": {},
   "outputs": [
    {
     "data": {
      "text/plain": [
       "page_view              1350428\n",
       "user_engagement        1058721\n",
       "scroll                  493072\n",
       "view_item               386068\n",
       "session_start           354970\n",
       "first_visit             257462\n",
       "view_promotion          190104\n",
       "add_to_cart              58543\n",
       "begin_checkout           38757\n",
       "select_item              31007\n",
       "view_search_results      26172\n",
       "add_shipping_info        19722\n",
       "add_payment_info         13899\n",
       "select_promotion          9450\n",
       "purchase                  5692\n",
       "click                     1446\n",
       "view_item_list              71\n",
       "Name: event_name, dtype: int64"
      ]
     },
     "execution_count": 72,
     "metadata": {},
     "output_type": "execute_result"
    }
   ],
   "source": [
    "event_counts = data['event_name'].value_counts()\n",
    "event_counts"
   ]
  },
  {
   "cell_type": "markdown",
   "id": "c35ac4f4",
   "metadata": {},
   "source": [
    "Here we can consider that events named begin_checkout, select_promotion and add_payment_info all lead to increased probability of the client placing the order. Here first_event shall  be used to detect any new customer traffic on the website. While view_promotion and select_promotion events can be used to see how much traffic is on the website due to the promotions. "
   ]
  },
  {
   "cell_type": "code",
   "execution_count": 73,
   "id": "6a05c5f9",
   "metadata": {},
   "outputs": [
    {
     "data": {
      "image/png": "[encoded data removed]",
      "text/plain": [
       "<Figure size 2160x576 with 1 Axes>"
      ]
     },
     "metadata": {},
     "output_type": "display_data"
    }
   ],
   "source": [
    "plt.figure(figsize=(30, 8))\n",
    "y = (event_counts/event_counts.sum()) * 100\n",
    "mylabels = event_counts.index\n",
    "labels = ['{0} - {1:1.2f} %'.format(i,j) for i,j in zip(mylabels, y)]\n",
    "plt.pie(y)\n",
    "plt.legend(labels,title = \"Event Type\",loc='right',bbox_to_anchor=(0, 0.5))\n",
    "plt.title('User Traffic According to Event Type',fontdict={'fontsize': 19})\n",
    "plt.show() "
   ]
  },
  {
   "cell_type": "markdown",
   "id": "8dc19faf",
   "metadata": {},
   "source": [
    "As explained above following observations can be made:<br>\n",
    "    - Only 1.44% of the users that visit the website have increased chances of making a purchase <br>\n",
    "    - Of all the users, 5.99% are new customers that the store has acquired<br>\n",
    "    - Due to the promotions 4.43% of the users visit the website of the store<br>\n",
    "    - Only 5692 out of 4,295,584 users make a purchase which eventually shows that most visitors on the website do not place an order. There is only 0.13% purchases out of all the events users carry out<br>\n",
    "    \n",
    "## Conversion Rate Analysis\n",
    "This section will judge conversion of events on the website to purchases to assess the performance of the store\n",
    "### Overall Conversion rate"
   ]
  },
  {
   "cell_type": "code",
   "execution_count": 76,
   "id": "f2722019",
   "metadata": {},
   "outputs": [
    {
     "data": {
      "text/plain": [
       "0.13250817583825622"
      ]
     },
     "execution_count": 76,
     "metadata": {},
     "output_type": "execute_result"
    }
   ],
   "source": [
    "conversion_rate = event_counts['purchase']/event_counts.sum()\n",
    "conversion_rate*100"
   ]
  },
  {
   "cell_type": "markdown",
   "id": "d4f0e441",
   "metadata": {},
   "source": [
    "As seen above, only 5692 orders were placed which makes it 0.13% percent of the users placing an order on the website\n",
    "### Conversion Rates According to Location\n",
    "#### Location: Continent"
   ]
  },
  {
   "cell_type": "code",
   "execution_count": 77,
   "id": "7ac4aa4d",
   "metadata": {},
   "outputs": [
    {
     "data": {
      "text/plain": [
       "event_name       continent\n",
       "page_view        Americas     756537\n",
       "user_engagement  Americas     594198\n",
       "page_view        Asia         313713\n",
       "scroll           Americas     275295\n",
       "page_view        Europe       249030\n",
       "                               ...  \n",
       "purchase         (not set)        12\n",
       "click            Africa           11\n",
       "                 (not set)         6\n",
       "view_item_list   Asia              6\n",
       "                 Oceania           3\n",
       "Length: 100, dtype: int64"
      ]
     },
     "execution_count": 77,
     "metadata": {},
     "output_type": "execute_result"
    }
   ],
   "source": [
    "continent = data[['event_name', 'continent']].value_counts(dropna=False)\n",
    "continent"
   ]
  },
  {
   "cell_type": "code",
   "execution_count": 78,
   "id": "c737313b",
   "metadata": {},
   "outputs": [
    {
     "data": {
      "text/plain": [
       "event_name        continent\n",
       "purchase          Americas      3210\n",
       "                  Asia          1329\n",
       "                  Europe        1037\n",
       "                  Oceania         58\n",
       "                  Africa          46\n",
       "                  (not set)       12\n",
       "begin_checkout    Americas     21751\n",
       "                  Asia          8690\n",
       "                  Europe        7250\n",
       "                  Oceania        529\n",
       "                  Africa         401\n",
       "                  (not set)      136\n",
       "select_promotion  Americas      5219\n",
       "                  Asia          2254\n",
       "                  Europe        1777\n",
       "                  Oceania         96\n",
       "                  Africa          85\n",
       "                  (not set)       19\n",
       "add_payment_info  Americas      7757\n",
       "                  Asia          3201\n",
       "                  Europe        2568\n",
       "                  Oceania        182\n",
       "                  Africa         139\n",
       "                  (not set)       52\n",
       "dtype: int64"
      ]
     },
     "execution_count": 78,
     "metadata": {},
     "output_type": "execute_result"
    }
   ],
   "source": [
    "continent[['purchase', 'begin_checkout', 'select_promotion', 'add_payment_info']]"
   ]
  },
  {
   "cell_type": "code",
   "execution_count": 79,
   "id": "deb0f3a6",
   "metadata": {},
   "outputs": [],
   "source": [
    "def form_bins(locations, events):\n",
    "    '''This function is a utility function that creates a list for each location with its elements representing\n",
    "    [begin_checkout user count wrt location,select_promotion user count wrt location,add_payment_info user count wrt\n",
    "    location]'''\n",
    "    america = []\n",
    "    asia=[]\n",
    "    europe=[]\n",
    "    africa=[]\n",
    "    oceania=[]\n",
    "    for i in locations:\n",
    "        for j in events:\n",
    "            if i == 'Americas':\n",
    "                america.append(continent[j][i])\n",
    "            elif i == 'Asia':\n",
    "                asia.append(continent[j][i])\n",
    "            elif i == 'Europe':\n",
    "                europe.append(continent[j][i])\n",
    "            elif i == 'Africa':\n",
    "                africa.append(continent[j][i])\n",
    "            else:\n",
    "                oceania.append(continent[j][i])\n",
    "    \n",
    "    # for each location you get counts of the three events selected \n",
    "    # ex: america = [120,38,21]\n",
    "    return america,asia,europe,africa,oceania"
   ]
  },
  {
   "cell_type": "code",
   "execution_count": 80,
   "id": "6124146e",
   "metadata": {},
   "outputs": [
    {
     "data": {
      "text/plain": [
       "[21751, 5219, 7757]"
      ]
     },
     "execution_count": 80,
     "metadata": {},
     "output_type": "execute_result"
    }
   ],
   "source": [
    "locations = ['Americas','Asia','Europe','Africa','Oceania']\n",
    "events = ['begin_checkout', 'select_promotion', 'add_payment_info']\n",
    "\n",
    "# Each of these lists is used to create the grouped bar chart below by segmenting user counts according to locations\n",
    "america,asia,europe,africa,oceania = form_bins(locations,events)\n",
    "america"
   ]
  },
  {
   "cell_type": "code",
   "execution_count": 86,
   "id": "f49735b8",
   "metadata": {},
   "outputs": [
    {
     "data": {
      "text/plain": [
       "<Figure size 1440x576 with 0 Axes>"
      ]
     },
     "metadata": {},
     "output_type": "display_data"
    },
    {
     "data": {
      "image/png": "[encoded data removed]",
      "text/plain": [
       "<Figure size 720x432 with 1 Axes>"
      ]
     },
     "metadata": {
      "needs_background": "light"
     },
     "output_type": "display_data"
    }
   ],
   "source": [
    "plt.figure(figsize=(20, 8))\n",
    "locs = {\n",
    "    'Americas': america,\n",
    "    'Asia': asia,\n",
    "    'Europe': europe,\n",
    "    'Africa': africa,\n",
    "    'Oceania': oceania\n",
    "}\n",
    "\n",
    "x = np.arange(len(events))  # the label locations\n",
    "width = 0.15  # the width of the bars\n",
    "multiplier = 0\n",
    "\n",
    "fig, ax = plt.subplots(layout='constrained',figsize = (10,6))\n",
    "\n",
    "for attribute, measurement in locs.items():\n",
    "    offset = width * multiplier\n",
    "    rects = ax.bar(x + offset, measurement, width, label=attribute)\n",
    "    ax.bar_label(rects, padding=5)\n",
    "    multiplier += 1\n",
    "\n",
    "# Add some text for labels, title and custom x-axis tick labels, etc.\n",
    "ax.set_ylabel('User Count')\n",
    "ax.set_title('Contribution of Continents to Increase Chances of Purchase',fontsize=20)\n",
    "ax.set_xticks(x + width, events)\n",
    "ax.legend(loc='upper left')\n",
    "ax.set_ylim(0, 25000)\n",
    "\n",
    "plt.show()"
   ]
  },
  {
   "cell_type": "markdown",
   "id": "2ffe99a4",
   "metadata": {},
   "source": [
    "Here it can be observed that most people in america begin to checkout which is an indicator of increased chances of making a purchase.On second, it would be Asia. It must also be noticed that Oceania and Africa are contributing almost nothing to increase chances of a purchase."
   ]
  },
  {
   "cell_type": "code",
   "execution_count": 87,
   "id": "c781c7c4",
   "metadata": {},
   "outputs": [
    {
     "data": {
      "text/plain": [
       "Text(0.5, 1.0, 'Contribution of Continents to Purchases')"
      ]
     },
     "execution_count": 87,
     "metadata": {},
     "output_type": "execute_result"
    },
    {
     "data": {
      "image/png": "[encoded data removed]",
      "text/plain": [
       "<Figure size 504x360 with 1 Axes>"
      ]
     },
     "metadata": {
      "needs_background": "light"
     },
     "output_type": "display_data"
    }
   ],
   "source": [
    "plt.figure(figsize=(7, 5))\n",
    "counts =[6,11,2,0,0]\n",
    "plt.bar(locations,counts)\n",
    "plt.ylabel('User Count')\n",
    "plt.xlabel('Continent')\n",
    "plt.title('Contribution of Continents to Purchases',fontsize=15)\n"
   ]
  },
  {
   "cell_type": "markdown",
   "id": "9398eee0",
   "metadata": {},
   "source": [
    "As noticeable Asia contributes the most to conversion rate and then on second is America. It can also be seen that no purchases have been made from Africa and Oceania, hence they donot contribute anything to the conversion rate\n",
    "\n",
    "#### Location: Country"
   ]
  },
  {
   "cell_type": "code",
   "execution_count": 88,
   "id": "9883683c",
   "metadata": {},
   "outputs": [
    {
     "data": {
      "text/plain": [
       "event_name       country      \n",
       "page_view        United States    601809\n",
       "user_engagement  United States    472361\n",
       "scroll           United States    218203\n",
       "view_item        United States    174796\n",
       "session_start    United States    155887\n",
       "                                   ...  \n",
       "click            Guatemala             1\n",
       "purchase         Albania               1\n",
       "click            Iraq                  1\n",
       "                 Israel                1\n",
       "view_item_list   Denmark               1\n",
       "Length: 1701, dtype: int64"
      ]
     },
     "execution_count": 88,
     "metadata": {},
     "output_type": "execute_result"
    }
   ],
   "source": [
    "country = data[['event_name', 'country']].value_counts(dropna=False)\n",
    "country"
   ]
  },
  {
   "cell_type": "code",
   "execution_count": 89,
   "id": "9c64fcff",
   "metadata": {},
   "outputs": [
    {
     "data": {
      "text/plain": [
       "country\n",
       "United States           2481\n",
       "India                    530\n",
       "Canada                   466\n",
       "United Kingdom           177\n",
       "Spain                    131\n",
       "                        ... \n",
       "Bosnia & Herzegovina       1\n",
       "Bahrain                    1\n",
       "Bahamas                    1\n",
       "Armenia                    1\n",
       "Albania                    1\n",
       "Length: 101, dtype: int64"
      ]
     },
     "execution_count": 89,
     "metadata": {},
     "output_type": "execute_result"
    }
   ],
   "source": [
    "country['purchase']"
   ]
  },
  {
   "cell_type": "code",
   "execution_count": 90,
   "id": "9aea56e8",
   "metadata": {},
   "outputs": [
    {
     "data": {
      "text/plain": [
       "Text(0.5, 1.0, 'Contribution of Countries to Purchases')"
      ]
     },
     "execution_count": 90,
     "metadata": {},
     "output_type": "execute_result"
    },
    {
     "data": {
      "image/png": "[encoded data removed]",
      "text/plain": [
       "<Figure size 720x360 with 1 Axes>"
      ]
     },
     "metadata": {
      "needs_background": "light"
     },
     "output_type": "display_data"
    }
   ],
   "source": [
    "plt.figure(figsize=(25, 7))\n",
    "\n",
    "plt.bar(country['purchase'].index,country['purchase'])\n",
    "\n",
    "plt.ylabel('User Count')\n",
    "plt.xlabel('Country')\n",
    "plt.title('Contribution of Countries to Purchases',fontsize=15)"
   ]
  },
  {
   "cell_type": "markdown",
   "id": "41a1a8bf",
   "metadata": {},
   "source": [
    "As observed here, customers from US purchase most products and then on second is Japan. \n",
    "#### Location: Region"
   ]
  },
  {
   "cell_type": "code",
   "execution_count": 91,
   "id": "d1e7f57c",
   "metadata": {},
   "outputs": [
    {
     "data": {
      "text/plain": [
       "event_name        region        \n",
       "page_view         California        129422\n",
       "                  (not set)         126912\n",
       "user_engagement   California        102602\n",
       "                  (not set)          99381\n",
       "page_view         Texas              46161\n",
       "                                     ...  \n",
       "view_item_list    Ile-de-France          1\n",
       "                  Lombardy               1\n",
       "                  Missouri               1\n",
       "                  North Carolina         1\n",
       "add_payment_info  Viken                  1\n",
       "Length: 5612, dtype: int64"
      ]
     },
     "execution_count": 91,
     "metadata": {},
     "output_type": "execute_result"
    }
   ],
   "source": [
    "region = data[['event_name', 'region']].value_counts(dropna=False)\n",
    "region"
   ]
  },
  {
   "cell_type": "code",
   "execution_count": 92,
   "id": "be518acb",
   "metadata": {},
   "outputs": [
    {
     "data": {
      "text/plain": [
       "region\n",
       "(not set)        557\n",
       "California       527\n",
       "Texas            230\n",
       "Ontario          183\n",
       "Virginia         166\n",
       "                ... \n",
       "Phnom Penh         1\n",
       "Penang             1\n",
       "Odessa Oblast      1\n",
       "Banten             1\n",
       "Overijssel         1\n",
       "Length: 316, dtype: int64"
      ]
     },
     "execution_count": 92,
     "metadata": {},
     "output_type": "execute_result"
    }
   ],
   "source": [
    "region['purchase']"
   ]
  },
  {
   "cell_type": "markdown",
   "id": "eed7368c",
   "metadata": {},
   "source": [
    "As observed from the data, the region with most purchases is not labelled and on second is California. Moreover, alot of regions like Banten consist of a single purchase which doesn't contribute to our understanding of the data. Hence we donot proceed with this perspective"
   ]
  },
  {
   "cell_type": "markdown",
   "id": "e4dbaac8",
   "metadata": {},
   "source": [
    "### Conversion Rates According to Mediums and Sources"
   ]
  },
  {
   "cell_type": "code",
   "execution_count": 93,
   "id": "f8a8e588",
   "metadata": {},
   "outputs": [
    {
     "data": {
      "text/plain": [
       "array(['organic', '(none)', '<Other>', 'referral', '(data deleted)',\n",
       "       'cpc'], dtype=object)"
      ]
     },
     "execution_count": 93,
     "metadata": {},
     "output_type": "execute_result"
    }
   ],
   "source": [
    "data['medium'].unique()"
   ]
  },
  {
   "cell_type": "markdown",
   "id": "fd0c3f9b",
   "metadata": {},
   "source": [
    "Medium: Every referral to a website also has a medium. Possible medium include: “organic” (unpaid search), “cpc” (cost per click, i.e. paid search), “referral” (referral), “email” (the name of a custom medium you have created), “none” (direct traffic has a medium of “none”)."
   ]
  },
  {
   "cell_type": "code",
   "execution_count": 94,
   "id": "5281d82b",
   "metadata": {},
   "outputs": [
    {
     "data": {
      "text/plain": [
       "array(['google', '(direct)', '<Other>', '(data deleted)',\n",
       "       'shop.googlemerchandisestore.com'], dtype=object)"
      ]
     },
     "execution_count": 94,
     "metadata": {},
     "output_type": "execute_result"
    }
   ],
   "source": [
    "data['source'].unique()"
   ]
  },
  {
   "cell_type": "markdown",
   "id": "5dc75608",
   "metadata": {},
   "source": [
    "Direct traffic can come from different sources:<br>\n",
    "If a visitor knows your URL and enters it directly into his/her browser's address bar <br>\n",
    "If a visitor has bookmarked your site or saved it as a favourite in his/her browser <br>\n",
    "If a visitor clicks on a link contained in an email (the URL has been shared by a third person.<br>"
   ]
  },
  {
   "cell_type": "code",
   "execution_count": 95,
   "id": "063773df",
   "metadata": {},
   "outputs": [
    {
     "data": {
      "text/plain": [
       "event_name       medium        \n",
       "page_view        organic           455265\n",
       "user_engagement  organic           350421\n",
       "page_view        (none)            311461\n",
       "                 referral          243054\n",
       "user_engagement  (none)            242954\n",
       "                                    ...  \n",
       "view_item_list   (none)                17\n",
       "                 organic               16\n",
       "                 (data deleted)         8\n",
       "                 <Other>                7\n",
       "                 cpc                    4\n",
       "Length: 102, dtype: int64"
      ]
     },
     "execution_count": 95,
     "metadata": {},
     "output_type": "execute_result"
    }
   ],
   "source": [
    "medium = data[['event_name', 'medium']].value_counts(dropna=False)\n",
    "medium"
   ]
  },
  {
   "cell_type": "code",
   "execution_count": 96,
   "id": "d44b4d36",
   "metadata": {},
   "outputs": [
    {
     "data": {
      "text/plain": [
       "medium\n",
       "organic           1572\n",
       "referral          1258\n",
       "(none)            1251\n",
       "(data deleted)     839\n",
       "<Other>            606\n",
       "cpc                166\n",
       "dtype: int64"
      ]
     },
     "execution_count": 96,
     "metadata": {},
     "output_type": "execute_result"
    }
   ],
   "source": [
    "medium['purchase']"
   ]
  },
  {
   "cell_type": "markdown",
   "id": "cd7ad753",
   "metadata": {},
   "source": [
    "It can be observed that the purchases made on the website were majorly organic but comparitively other mediums also seem to play a part in brining in the orders especially referral. It also needs to be highlighted that cpc medium is contributing the least, indicating that the advertising done for the website is not bringing in orders."
   ]
  },
  {
   "cell_type": "code",
   "execution_count": 97,
   "id": "f181a106",
   "metadata": {},
   "outputs": [
    {
     "data": {
      "text/plain": [
       "event_name       source                         \n",
       "page_view        google                             474525\n",
       "user_engagement  google                             364649\n",
       "page_view        <Other>                            355998\n",
       "                 (direct)                           311461\n",
       "user_engagement  <Other>                            273829\n",
       "                                                     ...  \n",
       "view_item_list   google                                 19\n",
       "                 (direct)                               17\n",
       "                 <Other>                                16\n",
       "                 shop.googlemerchandisestore.com        11\n",
       "                 (data deleted)                          8\n",
       "Length: 85, dtype: int64"
      ]
     },
     "execution_count": 97,
     "metadata": {},
     "output_type": "execute_result"
    }
   ],
   "source": [
    "source = data[['event_name', 'source']].value_counts(dropna=False)\n",
    "source"
   ]
  },
  {
   "cell_type": "code",
   "execution_count": 98,
   "id": "7bcebfde",
   "metadata": {},
   "outputs": [
    {
     "data": {
      "text/plain": [
       "source\n",
       "google                             1620\n",
       "<Other>                            1290\n",
       "(direct)                           1251\n",
       "(data deleted)                      830\n",
       "shop.googlemerchandisestore.com     701\n",
       "dtype: int64"
      ]
     },
     "execution_count": 98,
     "metadata": {},
     "output_type": "execute_result"
    }
   ],
   "source": [
    "source['purchase']"
   ]
  },
  {
   "cell_type": "markdown",
   "id": "f63ac52e",
   "metadata": {},
   "source": [
    "Google which is also equivalent to organic traffic that is through a search engine and naturally earned contributed to most of the purchases made at the website. Direct sources also contribute majorly to purchases which is also an indicator of regular and loyal customers of the store. Hence we can conclude that the conversion rate is boosted through purchases made by organic and direct sources. Moreover, the store website contributes the least to the purchases, hence the marketting and UI needs to be improved to get customers to buy at the store.\n",
    "\n",
    "## User Traffic/Engagement Analysis"
   ]
  },
  {
   "cell_type": "code",
   "execution_count": 99,
   "id": "08edfabd",
   "metadata": {},
   "outputs": [
    {
     "data": {
      "text/plain": [
       "organic           1439399\n",
       "(none)             989684\n",
       "referral           778087\n",
       "<Other>            597482\n",
       "(data deleted)     313917\n",
       "cpc                177015\n",
       "Name: medium, dtype: int64"
      ]
     },
     "execution_count": 99,
     "metadata": {},
     "output_type": "execute_result"
    }
   ],
   "source": [
    "data['medium'].value_counts()"
   ]
  },
  {
   "cell_type": "code",
   "execution_count": 100,
   "id": "7e89f476",
   "metadata": {},
   "outputs": [
    {
     "data": {
      "text/plain": [
       "Text(0.5, 1.0, 'User Traffic From Different Mediums')"
      ]
     },
     "execution_count": 100,
     "metadata": {},
     "output_type": "execute_result"
    },
    {
     "data": {
      "image/png": "[encoded data removed]",
      "text/plain": [
       "<Figure size 720x360 with 1 Axes>"
      ]
     },
     "metadata": {
      "needs_background": "light"
     },
     "output_type": "display_data"
    }
   ],
   "source": [
    "plt.figure(figsize=(10, 5))\n",
    "\n",
    "plt.bar(data['medium'].value_counts().index,data['medium'].value_counts())\n",
    "\n",
    "plt.ylabel('User Count')\n",
    "plt.xlabel('Medium')\n",
    "plt.title('User Traffic From Different Mediums',fontsize=15)"
   ]
  },
  {
   "cell_type": "code",
   "execution_count": 101,
   "id": "eaabef8b",
   "metadata": {},
   "outputs": [
    {
     "data": {
      "text/plain": [
       "18.113648807705772"
      ]
     },
     "execution_count": 101,
     "metadata": {},
     "output_type": "execute_result"
    }
   ],
   "source": [
    "# percentage of users that come by reference\n",
    "data['medium'].value_counts()['referral']/data['medium'].value_counts().sum() * 100"
   ]
  },
  {
   "cell_type": "code",
   "execution_count": 102,
   "id": "2ffcb70d",
   "metadata": {},
   "outputs": [
    {
     "data": {
      "text/plain": [
       "4.120859934295313"
      ]
     },
     "execution_count": 102,
     "metadata": {},
     "output_type": "execute_result"
    }
   ],
   "source": [
    "# percentage of users that come through paid ads\n",
    "data['medium'].value_counts()['cpc']/data['medium'].value_counts().sum() * 100"
   ]
  },
  {
   "cell_type": "markdown",
   "id": "4e311b09",
   "metadata": {},
   "source": [
    "As obseved, most users that engage on the website are organic users while only 18% users visit the website through referral.It is also significant to note that only 4.12% of the traffic on the website is due to cost per click ads, hence indicating that the advertising strategy of the store is not able to bring customers let alone purchases and the store will be losing money by investing in the ads currently being advertised."
   ]
  },
  {
   "cell_type": "code",
   "execution_count": 103,
   "id": "26776c31",
   "metadata": {},
   "outputs": [
    {
     "data": {
      "text/plain": [
       "google                             1500418\n",
       "<Other>                            1131013\n",
       "(direct)                            989684\n",
       "shop.googlemerchandisestore.com     365774\n",
       "(data deleted)                      308695\n",
       "Name: source, dtype: int64"
      ]
     },
     "execution_count": 103,
     "metadata": {},
     "output_type": "execute_result"
    }
   ],
   "source": [
    "src = data['source'].value_counts()\n",
    "src"
   ]
  },
  {
   "cell_type": "code",
   "execution_count": 104,
   "id": "64a789a7",
   "metadata": {
    "scrolled": false
   },
   "outputs": [
    {
     "data": {
      "image/png": "[encoded data removed]",
      "text/plain": [
       "<Figure size 2160x576 with 1 Axes>"
      ]
     },
     "metadata": {},
     "output_type": "display_data"
    }
   ],
   "source": [
    "plt.figure(figsize=(30, 8))\n",
    "y = (src/src.sum())*100\n",
    "mylabels = src.index\n",
    "labels = ['{0} - {1:1.2f} %'.format(i,j) for i,j in zip(mylabels, y)]\n",
    "plt.pie(y)\n",
    "plt.legend(labels,title = \"Source\",loc='right',bbox_to_anchor=(0, 0.5))\n",
    "plt.title('User Traffic From Different Sources',fontdict={'fontsize': 19})\n",
    "plt.show() "
   ]
  },
  {
   "cell_type": "markdown",
   "id": "30e28b5e",
   "metadata": {},
   "source": [
    "As observed most people access the website through direct and organic sources like google which is a search engine\n",
    "\n",
    "## Mobile Optimization\n",
    "Mobile optimization refers to the process of designing and adapting a website, application, or digital content to provide an optimal and seamless user experience on mobile devices, such as smartphones and tablets. It involves optimizing the layout, design, functionality, and performance of the digital asset to ensure it is easily accessible, usable, and visually appealing on smaller screens with touch-based interactions.<br><br>\n",
    "Here we will analyse data to see what needs to be done when it comes to mobile optimization"
   ]
  },
  {
   "cell_type": "code",
   "execution_count": 105,
   "id": "e86e08af",
   "metadata": {},
   "outputs": [
    {
     "data": {
      "text/plain": [
       "array(['Google', 'Samsung', 'Apple', '<Other>', 'Microsoft', 'Mozilla',\n",
       "       'Huawei', 'Xiaomi'], dtype=object)"
      ]
     },
     "execution_count": 105,
     "metadata": {},
     "output_type": "execute_result"
    }
   ],
   "source": [
    "data['mobile_brand_name'].unique() #all available brand categories"
   ]
  },
  {
   "cell_type": "code",
   "execution_count": 106,
   "id": "8fee4048",
   "metadata": {},
   "outputs": [
    {
     "data": {
      "text/plain": [
       "array(['<Other>'], dtype=object)"
      ]
     },
     "execution_count": 106,
     "metadata": {},
     "output_type": "execute_result"
    }
   ],
   "source": [
    "data['mobile_marketing_name'].unique()"
   ]
  },
  {
   "cell_type": "code",
   "execution_count": 107,
   "id": "1c8ac783",
   "metadata": {},
   "outputs": [
    {
     "data": {
      "text/plain": [
       "array(['Chrome', '<Other>', 'Safari', 'iPad', 'iPhone', 'Edge',\n",
       "       'ChromeBook', 'Firefox', 'Pixel 4 XL', 'Pixel 3'], dtype=object)"
      ]
     },
     "execution_count": 107,
     "metadata": {},
     "output_type": "execute_result"
    }
   ],
   "source": [
    "data['mobile_model_name'].unique()"
   ]
  },
  {
   "cell_type": "code",
   "execution_count": 108,
   "id": "aee3fef8",
   "metadata": {},
   "outputs": [
    {
     "data": {
      "text/plain": [
       "array([None], dtype=object)"
      ]
     },
     "execution_count": 108,
     "metadata": {},
     "output_type": "execute_result"
    }
   ],
   "source": [
    "data['mobile_os_hardware_model'].unique()"
   ]
  },
  {
   "cell_type": "markdown",
   "id": "d49d1020",
   "metadata": {},
   "source": [
    "This reveals that mobile_model_name and mobile_brand_name columns can be used to look for user traffic"
   ]
  },
  {
   "cell_type": "code",
   "execution_count": 109,
   "id": "f451776c",
   "metadata": {},
   "outputs": [
    {
     "data": {
      "text/plain": [
       "Apple        1827605\n",
       "Google       1507494\n",
       "<Other>       329271\n",
       "Samsung       312217\n",
       "Microsoft     104988\n",
       "Xiaomi         95651\n",
       "Huawei         59690\n",
       "Mozilla        58668\n",
       "Name: mobile_brand_name, dtype: int64"
      ]
     },
     "execution_count": 109,
     "metadata": {},
     "output_type": "execute_result"
    }
   ],
   "source": [
    "mob = data['mobile_brand_name'].value_counts()\n",
    "mob"
   ]
  },
  {
   "cell_type": "code",
   "execution_count": 110,
   "id": "980eac0a",
   "metadata": {},
   "outputs": [
    {
     "data": {
      "image/png": "[encoded data removed]",
      "text/plain": [
       "<Figure size 648x360 with 1 Axes>"
      ]
     },
     "metadata": {
      "needs_background": "light"
     },
     "output_type": "display_data"
    }
   ],
   "source": [
    "plt.figure(figsize=(9, 5))\n",
    "# Plot horizontal bar chart\n",
    "bars = plt.barh(mob.index,mob)\n",
    "\n",
    "# To get data labels\n",
    "for  bar in bars:\n",
    "    width = bar.get_width()\n",
    "    label_y = bar.get_y() + bar.get_height() / 2\n",
    "    plt.text(width, label_y, s=f'{width}')\n",
    "\n",
    "# Define axes labels\n",
    "plt.xlabel(\"No. of Users\")\n",
    "plt.ylabel(\"Mobile Brand\")\n",
    "plt.title('Mobile Brands in Use by Customers',fontdict={'fontsize': 15})\n",
    "\n",
    "# Display a bar chart   \n",
    "plt.show()"
   ]
  },
  {
   "cell_type": "markdown",
   "id": "aa0a3b7e",
   "metadata": {},
   "source": [
    "As observed most customers own mobile phone of Apple and at Second of Google. Hence, it is important to invest in mobile optimization of website for users with phones from these brands "
   ]
  },
  {
   "cell_type": "code",
   "execution_count": 111,
   "id": "12a461e9",
   "metadata": {},
   "outputs": [
    {
     "data": {
      "text/plain": [
       "Chrome        1182295\n",
       "iPhone         891231\n",
       "<Other>        880093\n",
       "Safari         869738\n",
       "ChromeBook     239025\n",
       "Edge            93016\n",
       "Firefox         58631\n",
       "iPad            58544\n",
       "Pixel 4 XL      12254\n",
       "Pixel 3         10757\n",
       "Name: mobile_model_name, dtype: int64"
      ]
     },
     "execution_count": 111,
     "metadata": {},
     "output_type": "execute_result"
    }
   ],
   "source": [
    "mod = data['mobile_model_name'].value_counts()\n",
    "mod"
   ]
  },
  {
   "cell_type": "code",
   "execution_count": 112,
   "id": "4689ea56",
   "metadata": {},
   "outputs": [
    {
     "data": {
      "image/png": "[encoded data removed]",
      "text/plain": [
       "<Figure size 648x360 with 1 Axes>"
      ]
     },
     "metadata": {
      "needs_background": "light"
     },
     "output_type": "display_data"
    }
   ],
   "source": [
    "plt.figure(figsize=(9, 5))\n",
    "# Plot horizontal bar chart\n",
    "bars = plt.barh(mod.index,mod)\n",
    "\n",
    "# To get data labels\n",
    "for  bar in bars:\n",
    "    width = bar.get_width()\n",
    "    label_y = bar.get_y() + bar.get_height() / 2\n",
    "    plt.text(width, label_y, s=f'{width}')\n",
    "\n",
    "# Define axes labels\n",
    "plt.xlabel(\"No. of Users\")\n",
    "plt.ylabel(\"Mobile Model\")\n",
    "plt.title('Mobile Models in Use by Customers',fontdict={'fontsize': 15})\n",
    "\n",
    "# Display a bar chart   \n",
    "plt.show()"
   ]
  },
  {
   "cell_type": "markdown",
   "id": "1def300a",
   "metadata": {},
   "source": [
    "As observed most customers use chrome to access the website, hence most investment should be directed towards optimizing website for chrome users. Secondly, Safari and iPhone users also need attention in order to direct more customers to the website because as it was seen earlier most customers own Apple phones.This will be a great way to generate more traffic and eventually increasing chances of purchase."
   ]
  },
  {
   "cell_type": "code",
   "execution_count": null,
   "id": "24bee21b",
   "metadata": {},
   "outputs": [],
   "source": []
  }
 ],
 "metadata": {
  "kernelspec": {
   "display_name": "Python 3 (ipykernel)",
   "language": "python",
   "name": "python3"
  },
  "language_info": {
   "codemirror_mode": {
    "name": "ipython",
    "version": 3
   },
   "file_extension": ".py",
   "mimetype": "text/x-python",
   "name": "python",
   "nbconvert_exporter": "python",
   "pygments_lexer": "ipython3",
   "version": "3.10.5"
  }
 },
 "nbformat": 4,
 "nbformat_minor": 5
}
