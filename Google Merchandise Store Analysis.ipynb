{
 "cells": [
  {
   "cell_type": "markdown",
   "id": "39a474f5",
   "metadata": {},
   "source": [
    "# Analysing Google Merchandise Store Website Performance"
   ]
  },
  {
   "cell_type": "code",
   "execution_count": 1,
   "id": "1b2b1e86",
   "metadata": {},
   "outputs": [],
   "source": [
    "import pandas as pd\n",
    "import numpy as np\n",
    "import matplotlib.pyplot as plt\n",
    "import warnings\n",
    "warnings.filterwarnings(\"ignore\")"
   ]
  },
  {
   "cell_type": "markdown",
   "id": "55bdcd3d",
   "metadata": {},
   "source": [
    "# Data Preprocessing and Cleaning"
   ]
  },
  {
   "cell_type": "code",
   "execution_count": 2,
   "id": "1b0be425",
   "metadata": {},
   "outputs": [],
   "source": [
    "data = pd.read_csv('gadata.csv')"
   ]
  },
  {
   "cell_type": "code",
   "execution_count": 3,
   "id": "3b9813d5",
   "metadata": {},
   "outputs": [
    {
     "data": {
      "text/html": [
       "<div>\n",
       "<style scoped>\n",
       "    .dataframe tbody tr th:only-of-type {\n",
       "        vertical-align: middle;\n",
       "    }\n",
       "\n",
       "    .dataframe tbody tr th {\n",
       "        vertical-align: top;\n",
       "    }\n",
       "\n",
       "    .dataframe thead th {\n",
       "        text-align: right;\n",
       "    }\n",
       "</style>\n",
       "<table border=\"1\" class=\"dataframe\">\n",
       "  <thead>\n",
       "    <tr style=\"text-align: right;\">\n",
       "      <th></th>\n",
       "      <th>Unnamed: 0</th>\n",
       "      <th>event_date</th>\n",
       "      <th>event_timestamp</th>\n",
       "      <th>event_name</th>\n",
       "      <th>event_params</th>\n",
       "      <th>event_previous_timestamp</th>\n",
       "      <th>event_value_in_usd</th>\n",
       "      <th>event_bundle_sequence_id</th>\n",
       "      <th>event_server_timestamp_offset</th>\n",
       "      <th>user_id</th>\n",
       "      <th>...</th>\n",
       "      <th>user_ltv</th>\n",
       "      <th>device</th>\n",
       "      <th>geo</th>\n",
       "      <th>app_info</th>\n",
       "      <th>traffic_source</th>\n",
       "      <th>stream_id</th>\n",
       "      <th>platform</th>\n",
       "      <th>event_dimensions</th>\n",
       "      <th>ecommerce</th>\n",
       "      <th>items</th>\n",
       "    </tr>\n",
       "  </thead>\n",
       "  <tbody>\n",
       "    <tr>\n",
       "      <th>0</th>\n",
       "      <td>0</td>\n",
       "      <td>20210131</td>\n",
       "      <td>1612069510766593</td>\n",
       "      <td>page_view</td>\n",
       "      <td>[{'key': 'gclid', 'value': {'string_value': No...</td>\n",
       "      <td>NaN</td>\n",
       "      <td>NaN</td>\n",
       "      <td>6595101026</td>\n",
       "      <td>NaN</td>\n",
       "      <td>NaN</td>\n",
       "      <td>...</td>\n",
       "      <td>{'revenue': 0.0, 'currency': 'USD'}</td>\n",
       "      <td>{'category': 'mobile', 'mobile_brand_name': 'A...</td>\n",
       "      <td>{'continent': 'Americas', 'sub_continent': 'No...</td>\n",
       "      <td>NaN</td>\n",
       "      <td>{'medium': 'organic', 'name': '(organic)', 'so...</td>\n",
       "      <td>2100450278</td>\n",
       "      <td>WEB</td>\n",
       "      <td>NaN</td>\n",
       "      <td>{'total_item_quantity': None, 'purchase_revenu...</td>\n",
       "      <td>[]</td>\n",
       "    </tr>\n",
       "    <tr>\n",
       "      <th>1</th>\n",
       "      <td>1</td>\n",
       "      <td>20210131</td>\n",
       "      <td>1612069529243877</td>\n",
       "      <td>scroll</td>\n",
       "      <td>[{'key': 'debug_mode', 'value': {'string_value...</td>\n",
       "      <td>NaN</td>\n",
       "      <td>NaN</td>\n",
       "      <td>9011338476</td>\n",
       "      <td>NaN</td>\n",
       "      <td>NaN</td>\n",
       "      <td>...</td>\n",
       "      <td>{'revenue': 0.0, 'currency': 'USD'}</td>\n",
       "      <td>{'category': 'mobile', 'mobile_brand_name': 'A...</td>\n",
       "      <td>{'continent': 'Americas', 'sub_continent': 'No...</td>\n",
       "      <td>NaN</td>\n",
       "      <td>{'medium': 'organic', 'name': '(organic)', 'so...</td>\n",
       "      <td>2100450278</td>\n",
       "      <td>WEB</td>\n",
       "      <td>NaN</td>\n",
       "      <td>{'total_item_quantity': None, 'purchase_revenu...</td>\n",
       "      <td>[]</td>\n",
       "    </tr>\n",
       "    <tr>\n",
       "      <th>2</th>\n",
       "      <td>2</td>\n",
       "      <td>20210131</td>\n",
       "      <td>1612069515781635</td>\n",
       "      <td>page_view</td>\n",
       "      <td>[{'key': 'debug_mode', 'value': {'string_value...</td>\n",
       "      <td>NaN</td>\n",
       "      <td>NaN</td>\n",
       "      <td>-6830522854</td>\n",
       "      <td>NaN</td>\n",
       "      <td>NaN</td>\n",
       "      <td>...</td>\n",
       "      <td>{'revenue': 0.0, 'currency': 'USD'}</td>\n",
       "      <td>{'category': 'mobile', 'mobile_brand_name': 'A...</td>\n",
       "      <td>{'continent': 'Americas', 'sub_continent': 'No...</td>\n",
       "      <td>NaN</td>\n",
       "      <td>{'medium': 'organic', 'name': '(organic)', 'so...</td>\n",
       "      <td>2100450278</td>\n",
       "      <td>WEB</td>\n",
       "      <td>NaN</td>\n",
       "      <td>{'total_item_quantity': None, 'purchase_revenu...</td>\n",
       "      <td>[]</td>\n",
       "    </tr>\n",
       "    <tr>\n",
       "      <th>3</th>\n",
       "      <td>3</td>\n",
       "      <td>20210131</td>\n",
       "      <td>1612069530073506</td>\n",
       "      <td>user_engagement</td>\n",
       "      <td>[{'key': 'page_location', 'value': {'string_va...</td>\n",
       "      <td>NaN</td>\n",
       "      <td>NaN</td>\n",
       "      <td>-8264942910</td>\n",
       "      <td>NaN</td>\n",
       "      <td>NaN</td>\n",
       "      <td>...</td>\n",
       "      <td>{'revenue': 0.0, 'currency': 'USD'}</td>\n",
       "      <td>{'category': 'mobile', 'mobile_brand_name': 'A...</td>\n",
       "      <td>{'continent': 'Americas', 'sub_continent': 'No...</td>\n",
       "      <td>NaN</td>\n",
       "      <td>{'medium': 'organic', 'name': '(organic)', 'so...</td>\n",
       "      <td>2100450278</td>\n",
       "      <td>WEB</td>\n",
       "      <td>NaN</td>\n",
       "      <td>{'total_item_quantity': None, 'purchase_revenu...</td>\n",
       "      <td>[]</td>\n",
       "    </tr>\n",
       "    <tr>\n",
       "      <th>4</th>\n",
       "      <td>4</td>\n",
       "      <td>20210131</td>\n",
       "      <td>1612069510766593</td>\n",
       "      <td>session_start</td>\n",
       "      <td>[{'key': 'ga_session_number', 'value': {'strin...</td>\n",
       "      <td>NaN</td>\n",
       "      <td>NaN</td>\n",
       "      <td>6595101026</td>\n",
       "      <td>NaN</td>\n",
       "      <td>NaN</td>\n",
       "      <td>...</td>\n",
       "      <td>{'revenue': 0.0, 'currency': 'USD'}</td>\n",
       "      <td>{'category': 'mobile', 'mobile_brand_name': 'A...</td>\n",
       "      <td>{'continent': 'Americas', 'sub_continent': 'No...</td>\n",
       "      <td>NaN</td>\n",
       "      <td>{'medium': 'organic', 'name': '(organic)', 'so...</td>\n",
       "      <td>2100450278</td>\n",
       "      <td>WEB</td>\n",
       "      <td>NaN</td>\n",
       "      <td>{'total_item_quantity': None, 'purchase_revenu...</td>\n",
       "      <td>[]</td>\n",
       "    </tr>\n",
       "  </tbody>\n",
       "</table>\n",
       "<p>5 rows × 24 columns</p>\n",
       "</div>"
      ],
      "text/plain": [
       "   Unnamed: 0  event_date   event_timestamp       event_name  \\\n",
       "0           0    20210131  1612069510766593        page_view   \n",
       "1           1    20210131  1612069529243877           scroll   \n",
       "2           2    20210131  1612069515781635        page_view   \n",
       "3           3    20210131  1612069530073506  user_engagement   \n",
       "4           4    20210131  1612069510766593    session_start   \n",
       "\n",
       "                                        event_params  \\\n",
       "0  [{'key': 'gclid', 'value': {'string_value': No...   \n",
       "1  [{'key': 'debug_mode', 'value': {'string_value...   \n",
       "2  [{'key': 'debug_mode', 'value': {'string_value...   \n",
       "3  [{'key': 'page_location', 'value': {'string_va...   \n",
       "4  [{'key': 'ga_session_number', 'value': {'strin...   \n",
       "\n",
       "   event_previous_timestamp  event_value_in_usd  event_bundle_sequence_id  \\\n",
       "0                       NaN                 NaN                6595101026   \n",
       "1                       NaN                 NaN                9011338476   \n",
       "2                       NaN                 NaN               -6830522854   \n",
       "3                       NaN                 NaN               -8264942910   \n",
       "4                       NaN                 NaN                6595101026   \n",
       "\n",
       "   event_server_timestamp_offset  user_id  ...  \\\n",
       "0                            NaN      NaN  ...   \n",
       "1                            NaN      NaN  ...   \n",
       "2                            NaN      NaN  ...   \n",
       "3                            NaN      NaN  ...   \n",
       "4                            NaN      NaN  ...   \n",
       "\n",
       "                              user_ltv  \\\n",
       "0  {'revenue': 0.0, 'currency': 'USD'}   \n",
       "1  {'revenue': 0.0, 'currency': 'USD'}   \n",
       "2  {'revenue': 0.0, 'currency': 'USD'}   \n",
       "3  {'revenue': 0.0, 'currency': 'USD'}   \n",
       "4  {'revenue': 0.0, 'currency': 'USD'}   \n",
       "\n",
       "                                              device  \\\n",
       "0  {'category': 'mobile', 'mobile_brand_name': 'A...   \n",
       "1  {'category': 'mobile', 'mobile_brand_name': 'A...   \n",
       "2  {'category': 'mobile', 'mobile_brand_name': 'A...   \n",
       "3  {'category': 'mobile', 'mobile_brand_name': 'A...   \n",
       "4  {'category': 'mobile', 'mobile_brand_name': 'A...   \n",
       "\n",
       "                                                 geo  app_info  \\\n",
       "0  {'continent': 'Americas', 'sub_continent': 'No...       NaN   \n",
       "1  {'continent': 'Americas', 'sub_continent': 'No...       NaN   \n",
       "2  {'continent': 'Americas', 'sub_continent': 'No...       NaN   \n",
       "3  {'continent': 'Americas', 'sub_continent': 'No...       NaN   \n",
       "4  {'continent': 'Americas', 'sub_continent': 'No...       NaN   \n",
       "\n",
       "                                      traffic_source   stream_id platform  \\\n",
       "0  {'medium': 'organic', 'name': '(organic)', 'so...  2100450278      WEB   \n",
       "1  {'medium': 'organic', 'name': '(organic)', 'so...  2100450278      WEB   \n",
       "2  {'medium': 'organic', 'name': '(organic)', 'so...  2100450278      WEB   \n",
       "3  {'medium': 'organic', 'name': '(organic)', 'so...  2100450278      WEB   \n",
       "4  {'medium': 'organic', 'name': '(organic)', 'so...  2100450278      WEB   \n",
       "\n",
       "   event_dimensions                                          ecommerce  items  \n",
       "0               NaN  {'total_item_quantity': None, 'purchase_revenu...     []  \n",
       "1               NaN  {'total_item_quantity': None, 'purchase_revenu...     []  \n",
       "2               NaN  {'total_item_quantity': None, 'purchase_revenu...     []  \n",
       "3               NaN  {'total_item_quantity': None, 'purchase_revenu...     []  \n",
       "4               NaN  {'total_item_quantity': None, 'purchase_revenu...     []  \n",
       "\n",
       "[5 rows x 24 columns]"
      ]
     },
     "execution_count": 3,
     "metadata": {},
     "output_type": "execute_result"
    }
   ],
   "source": [
    "data.head()"
   ]
  },
  {
   "cell_type": "markdown",
   "id": "c6dda6cd",
   "metadata": {},
   "source": [
    "## Removing Columns"
   ]
  },
  {
   "cell_type": "code",
   "execution_count": 4,
   "id": "b45ac4bb",
   "metadata": {},
   "outputs": [],
   "source": [
    "# remove duplicate index column\n",
    "data.drop(['Unnamed: 0'], axis=1,inplace=True)"
   ]
  },
  {
   "cell_type": "code",
   "execution_count": 5,
   "id": "98e55c80",
   "metadata": {},
   "outputs": [
    {
     "data": {
      "text/html": [
       "<div>\n",
       "<style scoped>\n",
       "    .dataframe tbody tr th:only-of-type {\n",
       "        vertical-align: middle;\n",
       "    }\n",
       "\n",
       "    .dataframe tbody tr th {\n",
       "        vertical-align: top;\n",
       "    }\n",
       "\n",
       "    .dataframe thead th {\n",
       "        text-align: right;\n",
       "    }\n",
       "</style>\n",
       "<table border=\"1\" class=\"dataframe\">\n",
       "  <thead>\n",
       "    <tr style=\"text-align: right;\">\n",
       "      <th></th>\n",
       "      <th>event_date</th>\n",
       "      <th>event_timestamp</th>\n",
       "      <th>event_name</th>\n",
       "      <th>event_params</th>\n",
       "      <th>event_previous_timestamp</th>\n",
       "      <th>event_value_in_usd</th>\n",
       "      <th>event_bundle_sequence_id</th>\n",
       "      <th>event_server_timestamp_offset</th>\n",
       "      <th>user_id</th>\n",
       "      <th>user_pseudo_id</th>\n",
       "      <th>...</th>\n",
       "      <th>user_ltv</th>\n",
       "      <th>device</th>\n",
       "      <th>geo</th>\n",
       "      <th>app_info</th>\n",
       "      <th>traffic_source</th>\n",
       "      <th>stream_id</th>\n",
       "      <th>platform</th>\n",
       "      <th>event_dimensions</th>\n",
       "      <th>ecommerce</th>\n",
       "      <th>items</th>\n",
       "    </tr>\n",
       "  </thead>\n",
       "  <tbody>\n",
       "    <tr>\n",
       "      <th>0</th>\n",
       "      <td>20210131</td>\n",
       "      <td>1612069510766593</td>\n",
       "      <td>page_view</td>\n",
       "      <td>[{'key': 'gclid', 'value': {'string_value': No...</td>\n",
       "      <td>NaN</td>\n",
       "      <td>NaN</td>\n",
       "      <td>6595101026</td>\n",
       "      <td>NaN</td>\n",
       "      <td>NaN</td>\n",
       "      <td>1.026454e+06</td>\n",
       "      <td>...</td>\n",
       "      <td>{'revenue': 0.0, 'currency': 'USD'}</td>\n",
       "      <td>{'category': 'mobile', 'mobile_brand_name': 'A...</td>\n",
       "      <td>{'continent': 'Americas', 'sub_continent': 'No...</td>\n",
       "      <td>NaN</td>\n",
       "      <td>{'medium': 'organic', 'name': '(organic)', 'so...</td>\n",
       "      <td>2100450278</td>\n",
       "      <td>WEB</td>\n",
       "      <td>NaN</td>\n",
       "      <td>{'total_item_quantity': None, 'purchase_revenu...</td>\n",
       "      <td>[]</td>\n",
       "    </tr>\n",
       "    <tr>\n",
       "      <th>1</th>\n",
       "      <td>20210131</td>\n",
       "      <td>1612069529243877</td>\n",
       "      <td>scroll</td>\n",
       "      <td>[{'key': 'debug_mode', 'value': {'string_value...</td>\n",
       "      <td>NaN</td>\n",
       "      <td>NaN</td>\n",
       "      <td>9011338476</td>\n",
       "      <td>NaN</td>\n",
       "      <td>NaN</td>\n",
       "      <td>1.026454e+06</td>\n",
       "      <td>...</td>\n",
       "      <td>{'revenue': 0.0, 'currency': 'USD'}</td>\n",
       "      <td>{'category': 'mobile', 'mobile_brand_name': 'A...</td>\n",
       "      <td>{'continent': 'Americas', 'sub_continent': 'No...</td>\n",
       "      <td>NaN</td>\n",
       "      <td>{'medium': 'organic', 'name': '(organic)', 'so...</td>\n",
       "      <td>2100450278</td>\n",
       "      <td>WEB</td>\n",
       "      <td>NaN</td>\n",
       "      <td>{'total_item_quantity': None, 'purchase_revenu...</td>\n",
       "      <td>[]</td>\n",
       "    </tr>\n",
       "    <tr>\n",
       "      <th>2</th>\n",
       "      <td>20210131</td>\n",
       "      <td>1612069515781635</td>\n",
       "      <td>page_view</td>\n",
       "      <td>[{'key': 'debug_mode', 'value': {'string_value...</td>\n",
       "      <td>NaN</td>\n",
       "      <td>NaN</td>\n",
       "      <td>-6830522854</td>\n",
       "      <td>NaN</td>\n",
       "      <td>NaN</td>\n",
       "      <td>1.026454e+06</td>\n",
       "      <td>...</td>\n",
       "      <td>{'revenue': 0.0, 'currency': 'USD'}</td>\n",
       "      <td>{'category': 'mobile', 'mobile_brand_name': 'A...</td>\n",
       "      <td>{'continent': 'Americas', 'sub_continent': 'No...</td>\n",
       "      <td>NaN</td>\n",
       "      <td>{'medium': 'organic', 'name': '(organic)', 'so...</td>\n",
       "      <td>2100450278</td>\n",
       "      <td>WEB</td>\n",
       "      <td>NaN</td>\n",
       "      <td>{'total_item_quantity': None, 'purchase_revenu...</td>\n",
       "      <td>[]</td>\n",
       "    </tr>\n",
       "    <tr>\n",
       "      <th>3</th>\n",
       "      <td>20210131</td>\n",
       "      <td>1612069530073506</td>\n",
       "      <td>user_engagement</td>\n",
       "      <td>[{'key': 'page_location', 'value': {'string_va...</td>\n",
       "      <td>NaN</td>\n",
       "      <td>NaN</td>\n",
       "      <td>-8264942910</td>\n",
       "      <td>NaN</td>\n",
       "      <td>NaN</td>\n",
       "      <td>1.026454e+06</td>\n",
       "      <td>...</td>\n",
       "      <td>{'revenue': 0.0, 'currency': 'USD'}</td>\n",
       "      <td>{'category': 'mobile', 'mobile_brand_name': 'A...</td>\n",
       "      <td>{'continent': 'Americas', 'sub_continent': 'No...</td>\n",
       "      <td>NaN</td>\n",
       "      <td>{'medium': 'organic', 'name': '(organic)', 'so...</td>\n",
       "      <td>2100450278</td>\n",
       "      <td>WEB</td>\n",
       "      <td>NaN</td>\n",
       "      <td>{'total_item_quantity': None, 'purchase_revenu...</td>\n",
       "      <td>[]</td>\n",
       "    </tr>\n",
       "    <tr>\n",
       "      <th>4</th>\n",
       "      <td>20210131</td>\n",
       "      <td>1612069510766593</td>\n",
       "      <td>session_start</td>\n",
       "      <td>[{'key': 'ga_session_number', 'value': {'strin...</td>\n",
       "      <td>NaN</td>\n",
       "      <td>NaN</td>\n",
       "      <td>6595101026</td>\n",
       "      <td>NaN</td>\n",
       "      <td>NaN</td>\n",
       "      <td>1.026454e+06</td>\n",
       "      <td>...</td>\n",
       "      <td>{'revenue': 0.0, 'currency': 'USD'}</td>\n",
       "      <td>{'category': 'mobile', 'mobile_brand_name': 'A...</td>\n",
       "      <td>{'continent': 'Americas', 'sub_continent': 'No...</td>\n",
       "      <td>NaN</td>\n",
       "      <td>{'medium': 'organic', 'name': '(organic)', 'so...</td>\n",
       "      <td>2100450278</td>\n",
       "      <td>WEB</td>\n",
       "      <td>NaN</td>\n",
       "      <td>{'total_item_quantity': None, 'purchase_revenu...</td>\n",
       "      <td>[]</td>\n",
       "    </tr>\n",
       "  </tbody>\n",
       "</table>\n",
       "<p>5 rows × 23 columns</p>\n",
       "</div>"
      ],
      "text/plain": [
       "   event_date   event_timestamp       event_name  \\\n",
       "0    20210131  1612069510766593        page_view   \n",
       "1    20210131  1612069529243877           scroll   \n",
       "2    20210131  1612069515781635        page_view   \n",
       "3    20210131  1612069530073506  user_engagement   \n",
       "4    20210131  1612069510766593    session_start   \n",
       "\n",
       "                                        event_params  \\\n",
       "0  [{'key': 'gclid', 'value': {'string_value': No...   \n",
       "1  [{'key': 'debug_mode', 'value': {'string_value...   \n",
       "2  [{'key': 'debug_mode', 'value': {'string_value...   \n",
       "3  [{'key': 'page_location', 'value': {'string_va...   \n",
       "4  [{'key': 'ga_session_number', 'value': {'strin...   \n",
       "\n",
       "   event_previous_timestamp  event_value_in_usd  event_bundle_sequence_id  \\\n",
       "0                       NaN                 NaN                6595101026   \n",
       "1                       NaN                 NaN                9011338476   \n",
       "2                       NaN                 NaN               -6830522854   \n",
       "3                       NaN                 NaN               -8264942910   \n",
       "4                       NaN                 NaN                6595101026   \n",
       "\n",
       "   event_server_timestamp_offset  user_id  user_pseudo_id  ...  \\\n",
       "0                            NaN      NaN    1.026454e+06  ...   \n",
       "1                            NaN      NaN    1.026454e+06  ...   \n",
       "2                            NaN      NaN    1.026454e+06  ...   \n",
       "3                            NaN      NaN    1.026454e+06  ...   \n",
       "4                            NaN      NaN    1.026454e+06  ...   \n",
       "\n",
       "                              user_ltv  \\\n",
       "0  {'revenue': 0.0, 'currency': 'USD'}   \n",
       "1  {'revenue': 0.0, 'currency': 'USD'}   \n",
       "2  {'revenue': 0.0, 'currency': 'USD'}   \n",
       "3  {'revenue': 0.0, 'currency': 'USD'}   \n",
       "4  {'revenue': 0.0, 'currency': 'USD'}   \n",
       "\n",
       "                                              device  \\\n",
       "0  {'category': 'mobile', 'mobile_brand_name': 'A...   \n",
       "1  {'category': 'mobile', 'mobile_brand_name': 'A...   \n",
       "2  {'category': 'mobile', 'mobile_brand_name': 'A...   \n",
       "3  {'category': 'mobile', 'mobile_brand_name': 'A...   \n",
       "4  {'category': 'mobile', 'mobile_brand_name': 'A...   \n",
       "\n",
       "                                                 geo app_info  \\\n",
       "0  {'continent': 'Americas', 'sub_continent': 'No...      NaN   \n",
       "1  {'continent': 'Americas', 'sub_continent': 'No...      NaN   \n",
       "2  {'continent': 'Americas', 'sub_continent': 'No...      NaN   \n",
       "3  {'continent': 'Americas', 'sub_continent': 'No...      NaN   \n",
       "4  {'continent': 'Americas', 'sub_continent': 'No...      NaN   \n",
       "\n",
       "                                      traffic_source   stream_id  platform  \\\n",
       "0  {'medium': 'organic', 'name': '(organic)', 'so...  2100450278       WEB   \n",
       "1  {'medium': 'organic', 'name': '(organic)', 'so...  2100450278       WEB   \n",
       "2  {'medium': 'organic', 'name': '(organic)', 'so...  2100450278       WEB   \n",
       "3  {'medium': 'organic', 'name': '(organic)', 'so...  2100450278       WEB   \n",
       "4  {'medium': 'organic', 'name': '(organic)', 'so...  2100450278       WEB   \n",
       "\n",
       "  event_dimensions                                          ecommerce items  \n",
       "0              NaN  {'total_item_quantity': None, 'purchase_revenu...    []  \n",
       "1              NaN  {'total_item_quantity': None, 'purchase_revenu...    []  \n",
       "2              NaN  {'total_item_quantity': None, 'purchase_revenu...    []  \n",
       "3              NaN  {'total_item_quantity': None, 'purchase_revenu...    []  \n",
       "4              NaN  {'total_item_quantity': None, 'purchase_revenu...    []  \n",
       "\n",
       "[5 rows x 23 columns]"
      ]
     },
     "execution_count": 5,
     "metadata": {},
     "output_type": "execute_result"
    }
   ],
   "source": [
    "data.head()"
   ]
  },
  {
   "cell_type": "code",
   "execution_count": 6,
   "id": "186eddc2",
   "metadata": {},
   "outputs": [
    {
     "data": {
      "text/plain": [
       "Index(['event_date', 'event_timestamp', 'event_name', 'event_params',\n",
       "       'event_previous_timestamp', 'event_value_in_usd',\n",
       "       'event_bundle_sequence_id', 'event_server_timestamp_offset', 'user_id',\n",
       "       'user_pseudo_id', 'privacy_info', 'user_properties',\n",
       "       'user_first_touch_timestamp', 'user_ltv', 'device', 'geo', 'app_info',\n",
       "       'traffic_source', 'stream_id', 'platform', 'event_dimensions',\n",
       "       'ecommerce', 'items'],\n",
       "      dtype='object')"
      ]
     },
     "execution_count": 6,
     "metadata": {},
     "output_type": "execute_result"
    }
   ],
   "source": [
    "data.columns"
   ]
  },
  {
   "cell_type": "code",
   "execution_count": 7,
   "id": "6b5c4512",
   "metadata": {},
   "outputs": [
    {
     "data": {
      "text/plain": [
       "array([nan])"
      ]
     },
     "execution_count": 7,
     "metadata": {},
     "output_type": "execute_result"
    }
   ],
   "source": [
    "data['event_previous_timestamp'].unique()"
   ]
  },
  {
   "cell_type": "code",
   "execution_count": 8,
   "id": "f736abb7",
   "metadata": {},
   "outputs": [
    {
     "data": {
      "text/plain": [
       "array([nan])"
      ]
     },
     "execution_count": 8,
     "metadata": {},
     "output_type": "execute_result"
    }
   ],
   "source": [
    "data['event_value_in_usd'].unique()"
   ]
  },
  {
   "cell_type": "code",
   "execution_count": 9,
   "id": "a3657704",
   "metadata": {},
   "outputs": [
    {
     "data": {
      "text/plain": [
       "event_date                           0\n",
       "event_timestamp                      0\n",
       "event_name                           0\n",
       "event_params                         0\n",
       "event_previous_timestamp         26489\n",
       "event_value_in_usd               26489\n",
       "event_bundle_sequence_id             0\n",
       "event_server_timestamp_offset    26489\n",
       "user_id                          26489\n",
       "user_pseudo_id                       0\n",
       "privacy_info                         0\n",
       "user_properties                      0\n",
       "user_first_touch_timestamp         958\n",
       "user_ltv                             0\n",
       "device                               0\n",
       "geo                                  0\n",
       "app_info                         26489\n",
       "traffic_source                       0\n",
       "stream_id                            0\n",
       "platform                             0\n",
       "event_dimensions                 26489\n",
       "ecommerce                            0\n",
       "items                                0\n",
       "dtype: int64"
      ]
     },
     "execution_count": 9,
     "metadata": {},
     "output_type": "execute_result"
    }
   ],
   "source": [
    "data.isnull().sum() # number of null values in each column"
   ]
  },
  {
   "cell_type": "code",
   "execution_count": 10,
   "id": "2aa6e327",
   "metadata": {},
   "outputs": [
    {
     "data": {
      "text/plain": [
       "(26489, 23)"
      ]
     },
     "execution_count": 10,
     "metadata": {},
     "output_type": "execute_result"
    }
   ],
   "source": [
    "data.shape"
   ]
  },
  {
   "cell_type": "markdown",
   "id": "8908d619",
   "metadata": {},
   "source": [
    "This shows that columns event_dimensions,app_info,user_id,event_server_timestamp_offset, event_previous_timestamp,event_value_in_usd are all empty, hence they need to be droppped.Similarly event_value_in_usd is almost empty, the values available are not enough to provide sound results, hence that column needs to be dropped"
   ]
  },
  {
   "cell_type": "code",
   "execution_count": 11,
   "id": "8062ada2",
   "metadata": {},
   "outputs": [
    {
     "data": {
      "text/plain": [
       "Index(['event_date', 'event_timestamp', 'event_name', 'event_params',\n",
       "       'event_bundle_sequence_id', 'user_pseudo_id', 'privacy_info',\n",
       "       'user_properties', 'user_first_touch_timestamp', 'user_ltv', 'device',\n",
       "       'geo', 'traffic_source', 'stream_id', 'platform', 'ecommerce', 'items'],\n",
       "      dtype='object')"
      ]
     },
     "execution_count": 11,
     "metadata": {},
     "output_type": "execute_result"
    }
   ],
   "source": [
    "data.drop(['event_dimensions', 'app_info', 'user_id', 'event_server_timestamp_offset', 'event_previous_timestamp',\n",
    "          'event_value_in_usd'], axis=1, inplace=True)\n",
    "data.columns"
   ]
  },
  {
   "cell_type": "markdown",
   "id": "3617c118",
   "metadata": {},
   "source": [
    "As visible, the selected columns are dropped"
   ]
  },
  {
   "cell_type": "code",
   "execution_count": 12,
   "id": "9d73169b",
   "metadata": {},
   "outputs": [
    {
     "data": {
      "text/html": [
       "<div>\n",
       "<style scoped>\n",
       "    .dataframe tbody tr th:only-of-type {\n",
       "        vertical-align: middle;\n",
       "    }\n",
       "\n",
       "    .dataframe tbody tr th {\n",
       "        vertical-align: top;\n",
       "    }\n",
       "\n",
       "    .dataframe thead th {\n",
       "        text-align: right;\n",
       "    }\n",
       "</style>\n",
       "<table border=\"1\" class=\"dataframe\">\n",
       "  <thead>\n",
       "    <tr style=\"text-align: right;\">\n",
       "      <th></th>\n",
       "      <th>event_date</th>\n",
       "      <th>event_timestamp</th>\n",
       "      <th>event_name</th>\n",
       "      <th>event_params</th>\n",
       "      <th>event_bundle_sequence_id</th>\n",
       "      <th>user_pseudo_id</th>\n",
       "      <th>privacy_info</th>\n",
       "      <th>user_properties</th>\n",
       "      <th>user_first_touch_timestamp</th>\n",
       "      <th>user_ltv</th>\n",
       "      <th>device</th>\n",
       "      <th>geo</th>\n",
       "      <th>traffic_source</th>\n",
       "      <th>stream_id</th>\n",
       "      <th>platform</th>\n",
       "      <th>ecommerce</th>\n",
       "      <th>items</th>\n",
       "    </tr>\n",
       "  </thead>\n",
       "  <tbody>\n",
       "    <tr>\n",
       "      <th>0</th>\n",
       "      <td>20210131</td>\n",
       "      <td>1612069510766593</td>\n",
       "      <td>page_view</td>\n",
       "      <td>[{'key': 'gclid', 'value': {'string_value': No...</td>\n",
       "      <td>6595101026</td>\n",
       "      <td>1.026454e+06</td>\n",
       "      <td>{'analytics_storage': None, 'ads_storage': Non...</td>\n",
       "      <td>[]</td>\n",
       "      <td>1.612070e+15</td>\n",
       "      <td>{'revenue': 0.0, 'currency': 'USD'}</td>\n",
       "      <td>{'category': 'mobile', 'mobile_brand_name': 'A...</td>\n",
       "      <td>{'continent': 'Americas', 'sub_continent': 'No...</td>\n",
       "      <td>{'medium': 'organic', 'name': '(organic)', 'so...</td>\n",
       "      <td>2100450278</td>\n",
       "      <td>WEB</td>\n",
       "      <td>{'total_item_quantity': None, 'purchase_revenu...</td>\n",
       "      <td>[]</td>\n",
       "    </tr>\n",
       "    <tr>\n",
       "      <th>1</th>\n",
       "      <td>20210131</td>\n",
       "      <td>1612069529243877</td>\n",
       "      <td>scroll</td>\n",
       "      <td>[{'key': 'debug_mode', 'value': {'string_value...</td>\n",
       "      <td>9011338476</td>\n",
       "      <td>1.026454e+06</td>\n",
       "      <td>{'analytics_storage': None, 'ads_storage': Non...</td>\n",
       "      <td>[]</td>\n",
       "      <td>1.612070e+15</td>\n",
       "      <td>{'revenue': 0.0, 'currency': 'USD'}</td>\n",
       "      <td>{'category': 'mobile', 'mobile_brand_name': 'A...</td>\n",
       "      <td>{'continent': 'Americas', 'sub_continent': 'No...</td>\n",
       "      <td>{'medium': 'organic', 'name': '(organic)', 'so...</td>\n",
       "      <td>2100450278</td>\n",
       "      <td>WEB</td>\n",
       "      <td>{'total_item_quantity': None, 'purchase_revenu...</td>\n",
       "      <td>[]</td>\n",
       "    </tr>\n",
       "    <tr>\n",
       "      <th>2</th>\n",
       "      <td>20210131</td>\n",
       "      <td>1612069515781635</td>\n",
       "      <td>page_view</td>\n",
       "      <td>[{'key': 'debug_mode', 'value': {'string_value...</td>\n",
       "      <td>-6830522854</td>\n",
       "      <td>1.026454e+06</td>\n",
       "      <td>{'analytics_storage': None, 'ads_storage': Non...</td>\n",
       "      <td>[]</td>\n",
       "      <td>1.612070e+15</td>\n",
       "      <td>{'revenue': 0.0, 'currency': 'USD'}</td>\n",
       "      <td>{'category': 'mobile', 'mobile_brand_name': 'A...</td>\n",
       "      <td>{'continent': 'Americas', 'sub_continent': 'No...</td>\n",
       "      <td>{'medium': 'organic', 'name': '(organic)', 'so...</td>\n",
       "      <td>2100450278</td>\n",
       "      <td>WEB</td>\n",
       "      <td>{'total_item_quantity': None, 'purchase_revenu...</td>\n",
       "      <td>[]</td>\n",
       "    </tr>\n",
       "    <tr>\n",
       "      <th>3</th>\n",
       "      <td>20210131</td>\n",
       "      <td>1612069530073506</td>\n",
       "      <td>user_engagement</td>\n",
       "      <td>[{'key': 'page_location', 'value': {'string_va...</td>\n",
       "      <td>-8264942910</td>\n",
       "      <td>1.026454e+06</td>\n",
       "      <td>{'analytics_storage': None, 'ads_storage': Non...</td>\n",
       "      <td>[]</td>\n",
       "      <td>1.612070e+15</td>\n",
       "      <td>{'revenue': 0.0, 'currency': 'USD'}</td>\n",
       "      <td>{'category': 'mobile', 'mobile_brand_name': 'A...</td>\n",
       "      <td>{'continent': 'Americas', 'sub_continent': 'No...</td>\n",
       "      <td>{'medium': 'organic', 'name': '(organic)', 'so...</td>\n",
       "      <td>2100450278</td>\n",
       "      <td>WEB</td>\n",
       "      <td>{'total_item_quantity': None, 'purchase_revenu...</td>\n",
       "      <td>[]</td>\n",
       "    </tr>\n",
       "    <tr>\n",
       "      <th>4</th>\n",
       "      <td>20210131</td>\n",
       "      <td>1612069510766593</td>\n",
       "      <td>session_start</td>\n",
       "      <td>[{'key': 'ga_session_number', 'value': {'strin...</td>\n",
       "      <td>6595101026</td>\n",
       "      <td>1.026454e+06</td>\n",
       "      <td>{'analytics_storage': None, 'ads_storage': Non...</td>\n",
       "      <td>[]</td>\n",
       "      <td>1.612070e+15</td>\n",
       "      <td>{'revenue': 0.0, 'currency': 'USD'}</td>\n",
       "      <td>{'category': 'mobile', 'mobile_brand_name': 'A...</td>\n",
       "      <td>{'continent': 'Americas', 'sub_continent': 'No...</td>\n",
       "      <td>{'medium': 'organic', 'name': '(organic)', 'so...</td>\n",
       "      <td>2100450278</td>\n",
       "      <td>WEB</td>\n",
       "      <td>{'total_item_quantity': None, 'purchase_revenu...</td>\n",
       "      <td>[]</td>\n",
       "    </tr>\n",
       "  </tbody>\n",
       "</table>\n",
       "</div>"
      ],
      "text/plain": [
       "   event_date   event_timestamp       event_name  \\\n",
       "0    20210131  1612069510766593        page_view   \n",
       "1    20210131  1612069529243877           scroll   \n",
       "2    20210131  1612069515781635        page_view   \n",
       "3    20210131  1612069530073506  user_engagement   \n",
       "4    20210131  1612069510766593    session_start   \n",
       "\n",
       "                                        event_params  \\\n",
       "0  [{'key': 'gclid', 'value': {'string_value': No...   \n",
       "1  [{'key': 'debug_mode', 'value': {'string_value...   \n",
       "2  [{'key': 'debug_mode', 'value': {'string_value...   \n",
       "3  [{'key': 'page_location', 'value': {'string_va...   \n",
       "4  [{'key': 'ga_session_number', 'value': {'strin...   \n",
       "\n",
       "   event_bundle_sequence_id  user_pseudo_id  \\\n",
       "0                6595101026    1.026454e+06   \n",
       "1                9011338476    1.026454e+06   \n",
       "2               -6830522854    1.026454e+06   \n",
       "3               -8264942910    1.026454e+06   \n",
       "4                6595101026    1.026454e+06   \n",
       "\n",
       "                                        privacy_info user_properties  \\\n",
       "0  {'analytics_storage': None, 'ads_storage': Non...              []   \n",
       "1  {'analytics_storage': None, 'ads_storage': Non...              []   \n",
       "2  {'analytics_storage': None, 'ads_storage': Non...              []   \n",
       "3  {'analytics_storage': None, 'ads_storage': Non...              []   \n",
       "4  {'analytics_storage': None, 'ads_storage': Non...              []   \n",
       "\n",
       "   user_first_touch_timestamp                             user_ltv  \\\n",
       "0                1.612070e+15  {'revenue': 0.0, 'currency': 'USD'}   \n",
       "1                1.612070e+15  {'revenue': 0.0, 'currency': 'USD'}   \n",
       "2                1.612070e+15  {'revenue': 0.0, 'currency': 'USD'}   \n",
       "3                1.612070e+15  {'revenue': 0.0, 'currency': 'USD'}   \n",
       "4                1.612070e+15  {'revenue': 0.0, 'currency': 'USD'}   \n",
       "\n",
       "                                              device  \\\n",
       "0  {'category': 'mobile', 'mobile_brand_name': 'A...   \n",
       "1  {'category': 'mobile', 'mobile_brand_name': 'A...   \n",
       "2  {'category': 'mobile', 'mobile_brand_name': 'A...   \n",
       "3  {'category': 'mobile', 'mobile_brand_name': 'A...   \n",
       "4  {'category': 'mobile', 'mobile_brand_name': 'A...   \n",
       "\n",
       "                                                 geo  \\\n",
       "0  {'continent': 'Americas', 'sub_continent': 'No...   \n",
       "1  {'continent': 'Americas', 'sub_continent': 'No...   \n",
       "2  {'continent': 'Americas', 'sub_continent': 'No...   \n",
       "3  {'continent': 'Americas', 'sub_continent': 'No...   \n",
       "4  {'continent': 'Americas', 'sub_continent': 'No...   \n",
       "\n",
       "                                      traffic_source   stream_id platform  \\\n",
       "0  {'medium': 'organic', 'name': '(organic)', 'so...  2100450278      WEB   \n",
       "1  {'medium': 'organic', 'name': '(organic)', 'so...  2100450278      WEB   \n",
       "2  {'medium': 'organic', 'name': '(organic)', 'so...  2100450278      WEB   \n",
       "3  {'medium': 'organic', 'name': '(organic)', 'so...  2100450278      WEB   \n",
       "4  {'medium': 'organic', 'name': '(organic)', 'so...  2100450278      WEB   \n",
       "\n",
       "                                           ecommerce items  \n",
       "0  {'total_item_quantity': None, 'purchase_revenu...    []  \n",
       "1  {'total_item_quantity': None, 'purchase_revenu...    []  \n",
       "2  {'total_item_quantity': None, 'purchase_revenu...    []  \n",
       "3  {'total_item_quantity': None, 'purchase_revenu...    []  \n",
       "4  {'total_item_quantity': None, 'purchase_revenu...    []  "
      ]
     },
     "execution_count": 12,
     "metadata": {},
     "output_type": "execute_result"
    }
   ],
   "source": [
    "data.head(5)"
   ]
  },
  {
   "cell_type": "markdown",
   "id": "7a2aba0e",
   "metadata": {},
   "source": [
    "The columns user_properties and items seems to have special characters which is not understandable"
   ]
  },
  {
   "cell_type": "code",
   "execution_count": 13,
   "id": "59d23ce6",
   "metadata": {},
   "outputs": [
    {
     "data": {
      "text/plain": [
       "0    []\n",
       "1    []\n",
       "2    []\n",
       "3    []\n",
       "Name: user_properties, dtype: object"
      ]
     },
     "execution_count": 13,
     "metadata": {},
     "output_type": "execute_result"
    }
   ],
   "source": [
    "data['user_properties'][:4]"
   ]
  },
  {
   "cell_type": "markdown",
   "id": "f0fc806e",
   "metadata": {},
   "source": [
    "These look like empty arrays, we need to see if the whole column consists of empty arrays. If yes, these columns need to be dropped"
   ]
  },
  {
   "cell_type": "code",
   "execution_count": 14,
   "id": "14fa48c8",
   "metadata": {},
   "outputs": [
    {
     "data": {
      "text/plain": [
       "array(['[]'], dtype=object)"
      ]
     },
     "execution_count": 14,
     "metadata": {},
     "output_type": "execute_result"
    }
   ],
   "source": [
    "data['user_properties'].unique()"
   ]
  },
  {
   "cell_type": "code",
   "execution_count": 15,
   "id": "49915d79",
   "metadata": {},
   "outputs": [
    {
     "data": {
      "text/plain": [
       "array(['[]',\n",
       "       \"[{'item_id': 'GGOEAFBA115599', 'item_name': 'Android Super Hero 3D Framed Art', 'item_brand': 'Android', 'item_variant': '(not set)', 'item_category': '', 'item_category2': '(not set)', 'item_category3': '(not set)', 'item_category4': '(not set)', 'item_category5': '(not set)', 'price_in_usd': None, 'price': 40.0, 'quantity': None, 'item_revenue_in_usd': None, 'item_revenue': None, 'item_refund_in_usd': None, 'item_refund': None, 'coupon': '(not set)', 'affiliation': '(not set)', 'location_id': '(not set)', 'item_list_id': '(not set)', 'item_list_name': '(not set)', 'item_list_index': '4', 'promotion_id': '(not set)', 'promotion_name': '(not set)', 'creative_name': '(not set)', 'creative_slot': '(not set)'}]\",\n",
       "       \"[{'item_id': '9190330', 'item_name': 'Google Crew Socks', 'item_brand': 'Google', 'item_variant': '', 'item_category': '', 'item_category2': '(not set)', 'item_category3': '(not set)', 'item_category4': '(not set)', 'item_category5': '(not set)', 'price_in_usd': None, 'price': 16.0, 'quantity': 1, 'item_revenue_in_usd': None, 'item_revenue': None, 'item_refund_in_usd': None, 'item_refund': None, 'coupon': '(not set)', 'affiliation': '(not set)', 'location_id': '(not set)', 'item_list_id': '(not set)', 'item_list_name': '(not set)', 'item_list_index': '1', 'promotion_id': '(not set)', 'promotion_name': '(not set)', 'creative_name': '(not set)', 'creative_slot': '(not set)'}]\",\n",
       "       ...,\n",
       "       \"[{'item_id': '(not set)', 'item_name': '(not set)', 'item_brand': '(not set)', 'item_variant': '(not set)', 'item_category': '(not set)', 'item_category2': '(not set)', 'item_category3': '(not set)', 'item_category4': '(not set)', 'item_category5': '(not set)', 'price_in_usd': None, 'price': None, 'quantity': None, 'item_revenue_in_usd': None, 'item_revenue': None, 'item_refund_in_usd': None, 'item_refund': None, 'coupon': '(not set)', 'affiliation': '(not set)', 'location_id': '(not set)', 'item_list_id': '(not set)', 'item_list_name': '(not set)', 'item_list_index': 'Slide 1', 'promotion_id': '(not set)', 'promotion_name': 'Reach New Heights', 'creative_name': 'Front Page Carousel', 'creative_slot': '(not set)'}]\",\n",
       "       \"[{'item_id': '(not set)', 'item_name': '(not set)', 'item_brand': '(not set)', 'item_variant': '(not set)', 'item_category': '(not set)', 'item_category2': '(not set)', 'item_category3': '(not set)', 'item_category4': '(not set)', 'item_category5': '(not set)', 'price_in_usd': None, 'price': None, 'quantity': None, 'item_revenue_in_usd': None, 'item_revenue': None, 'item_refund_in_usd': None, 'item_refund': None, 'coupon': '(not set)', 'affiliation': '(not set)', 'location_id': '(not set)', 'item_list_id': '(not set)', 'item_list_name': '(not set)', 'item_list_index': 'Slide 4', 'promotion_id': '(not set)', 'promotion_name': 'Google Mural Collection', 'creative_name': 'Front Page Carousel', 'creative_slot': '(not set)'}]\",\n",
       "       \"[{'item_id': '(not set)', 'item_name': '(not set)', 'item_brand': '(not set)', 'item_variant': '(not set)', 'item_category': '(not set)', 'item_category2': '(not set)', 'item_category3': '(not set)', 'item_category4': '(not set)', 'item_category5': '(not set)', 'price_in_usd': None, 'price': None, 'quantity': None, 'item_revenue_in_usd': None, 'item_revenue': None, 'item_refund_in_usd': None, 'item_refund': None, 'coupon': '(not set)', 'affiliation': '(not set)', 'location_id': '(not set)', 'item_list_id': '(not set)', 'item_list_name': '(not set)', 'item_list_index': 'Slide 2', 'promotion_id': '(not set)', 'promotion_name': 'Act Responsible', 'creative_name': 'Front Page Carousel', 'creative_slot': '(not set)'}]\"],\n",
       "      dtype=object)"
      ]
     },
     "execution_count": 15,
     "metadata": {},
     "output_type": "execute_result"
    }
   ],
   "source": [
    "data['items'].unique()"
   ]
  },
  {
   "cell_type": "markdown",
   "id": "46597792",
   "metadata": {},
   "source": [
    "The items column contains valuabke information, however the user_properties column is mostly empty and the cells that are not empty, contain a dictionary with all values set to None. It needs to be removed."
   ]
  },
  {
   "cell_type": "code",
   "execution_count": 16,
   "id": "54ca6a2a",
   "metadata": {},
   "outputs": [
    {
     "data": {
      "text/plain": [
       "Index(['event_date', 'event_timestamp', 'event_name', 'event_params',\n",
       "       'event_bundle_sequence_id', 'user_pseudo_id', 'privacy_info',\n",
       "       'user_first_touch_timestamp', 'user_ltv', 'device', 'geo',\n",
       "       'traffic_source', 'stream_id', 'platform', 'ecommerce', 'items'],\n",
       "      dtype='object')"
      ]
     },
     "execution_count": 16,
     "metadata": {},
     "output_type": "execute_result"
    }
   ],
   "source": [
    "data.drop(['user_properties'], axis=1, inplace=True)\n",
    "data.columns # user_properties column is deleted"
   ]
  },
  {
   "cell_type": "markdown",
   "id": "526be9d4",
   "metadata": {},
   "source": [
    "## Handling Timestamps"
   ]
  },
  {
   "cell_type": "code",
   "execution_count": 17,
   "id": "f4347a65",
   "metadata": {},
   "outputs": [
    {
     "data": {
      "text/html": [
       "<div>\n",
       "<style scoped>\n",
       "    .dataframe tbody tr th:only-of-type {\n",
       "        vertical-align: middle;\n",
       "    }\n",
       "\n",
       "    .dataframe tbody tr th {\n",
       "        vertical-align: top;\n",
       "    }\n",
       "\n",
       "    .dataframe thead th {\n",
       "        text-align: right;\n",
       "    }\n",
       "</style>\n",
       "<table border=\"1\" class=\"dataframe\">\n",
       "  <thead>\n",
       "    <tr style=\"text-align: right;\">\n",
       "      <th></th>\n",
       "      <th>event_date</th>\n",
       "      <th>event_timestamp</th>\n",
       "      <th>event_name</th>\n",
       "      <th>event_params</th>\n",
       "      <th>event_bundle_sequence_id</th>\n",
       "      <th>user_pseudo_id</th>\n",
       "      <th>privacy_info</th>\n",
       "      <th>user_first_touch_timestamp</th>\n",
       "      <th>user_ltv</th>\n",
       "      <th>device</th>\n",
       "      <th>geo</th>\n",
       "      <th>traffic_source</th>\n",
       "      <th>stream_id</th>\n",
       "      <th>platform</th>\n",
       "      <th>ecommerce</th>\n",
       "      <th>items</th>\n",
       "    </tr>\n",
       "  </thead>\n",
       "  <tbody>\n",
       "    <tr>\n",
       "      <th>0</th>\n",
       "      <td>20210131</td>\n",
       "      <td>1612069510766593</td>\n",
       "      <td>page_view</td>\n",
       "      <td>[{'key': 'gclid', 'value': {'string_value': No...</td>\n",
       "      <td>6595101026</td>\n",
       "      <td>1.026454e+06</td>\n",
       "      <td>{'analytics_storage': None, 'ads_storage': Non...</td>\n",
       "      <td>1.612070e+15</td>\n",
       "      <td>{'revenue': 0.0, 'currency': 'USD'}</td>\n",
       "      <td>{'category': 'mobile', 'mobile_brand_name': 'A...</td>\n",
       "      <td>{'continent': 'Americas', 'sub_continent': 'No...</td>\n",
       "      <td>{'medium': 'organic', 'name': '(organic)', 'so...</td>\n",
       "      <td>2100450278</td>\n",
       "      <td>WEB</td>\n",
       "      <td>{'total_item_quantity': None, 'purchase_revenu...</td>\n",
       "      <td>[]</td>\n",
       "    </tr>\n",
       "    <tr>\n",
       "      <th>1</th>\n",
       "      <td>20210131</td>\n",
       "      <td>1612069529243877</td>\n",
       "      <td>scroll</td>\n",
       "      <td>[{'key': 'debug_mode', 'value': {'string_value...</td>\n",
       "      <td>9011338476</td>\n",
       "      <td>1.026454e+06</td>\n",
       "      <td>{'analytics_storage': None, 'ads_storage': Non...</td>\n",
       "      <td>1.612070e+15</td>\n",
       "      <td>{'revenue': 0.0, 'currency': 'USD'}</td>\n",
       "      <td>{'category': 'mobile', 'mobile_brand_name': 'A...</td>\n",
       "      <td>{'continent': 'Americas', 'sub_continent': 'No...</td>\n",
       "      <td>{'medium': 'organic', 'name': '(organic)', 'so...</td>\n",
       "      <td>2100450278</td>\n",
       "      <td>WEB</td>\n",
       "      <td>{'total_item_quantity': None, 'purchase_revenu...</td>\n",
       "      <td>[]</td>\n",
       "    </tr>\n",
       "  </tbody>\n",
       "</table>\n",
       "</div>"
      ],
      "text/plain": [
       "   event_date   event_timestamp event_name  \\\n",
       "0    20210131  1612069510766593  page_view   \n",
       "1    20210131  1612069529243877     scroll   \n",
       "\n",
       "                                        event_params  \\\n",
       "0  [{'key': 'gclid', 'value': {'string_value': No...   \n",
       "1  [{'key': 'debug_mode', 'value': {'string_value...   \n",
       "\n",
       "   event_bundle_sequence_id  user_pseudo_id  \\\n",
       "0                6595101026    1.026454e+06   \n",
       "1                9011338476    1.026454e+06   \n",
       "\n",
       "                                        privacy_info  \\\n",
       "0  {'analytics_storage': None, 'ads_storage': Non...   \n",
       "1  {'analytics_storage': None, 'ads_storage': Non...   \n",
       "\n",
       "   user_first_touch_timestamp                             user_ltv  \\\n",
       "0                1.612070e+15  {'revenue': 0.0, 'currency': 'USD'}   \n",
       "1                1.612070e+15  {'revenue': 0.0, 'currency': 'USD'}   \n",
       "\n",
       "                                              device  \\\n",
       "0  {'category': 'mobile', 'mobile_brand_name': 'A...   \n",
       "1  {'category': 'mobile', 'mobile_brand_name': 'A...   \n",
       "\n",
       "                                                 geo  \\\n",
       "0  {'continent': 'Americas', 'sub_continent': 'No...   \n",
       "1  {'continent': 'Americas', 'sub_continent': 'No...   \n",
       "\n",
       "                                      traffic_source   stream_id platform  \\\n",
       "0  {'medium': 'organic', 'name': '(organic)', 'so...  2100450278      WEB   \n",
       "1  {'medium': 'organic', 'name': '(organic)', 'so...  2100450278      WEB   \n",
       "\n",
       "                                           ecommerce items  \n",
       "0  {'total_item_quantity': None, 'purchase_revenu...    []  \n",
       "1  {'total_item_quantity': None, 'purchase_revenu...    []  "
      ]
     },
     "execution_count": 17,
     "metadata": {},
     "output_type": "execute_result"
    }
   ],
   "source": [
    "data.head(2)"
   ]
  },
  {
   "cell_type": "code",
   "execution_count": 18,
   "id": "fc9228f3",
   "metadata": {},
   "outputs": [],
   "source": [
    "from datetime import datetime"
   ]
  },
  {
   "cell_type": "code",
   "execution_count": 19,
   "id": "7b4ef569",
   "metadata": {},
   "outputs": [
    {
     "name": "stdout",
     "output_type": "stream",
     "text": [
      "int64\n"
     ]
    },
    {
     "data": {
      "text/html": [
       "<div>\n",
       "<style scoped>\n",
       "    .dataframe tbody tr th:only-of-type {\n",
       "        vertical-align: middle;\n",
       "    }\n",
       "\n",
       "    .dataframe tbody tr th {\n",
       "        vertical-align: top;\n",
       "    }\n",
       "\n",
       "    .dataframe thead th {\n",
       "        text-align: right;\n",
       "    }\n",
       "</style>\n",
       "<table border=\"1\" class=\"dataframe\">\n",
       "  <thead>\n",
       "    <tr style=\"text-align: right;\">\n",
       "      <th></th>\n",
       "      <th>event_date</th>\n",
       "      <th>event_timestamp</th>\n",
       "      <th>event_name</th>\n",
       "      <th>event_params</th>\n",
       "      <th>event_bundle_sequence_id</th>\n",
       "      <th>user_pseudo_id</th>\n",
       "      <th>privacy_info</th>\n",
       "      <th>user_first_touch_timestamp</th>\n",
       "      <th>user_ltv</th>\n",
       "      <th>device</th>\n",
       "      <th>geo</th>\n",
       "      <th>traffic_source</th>\n",
       "      <th>stream_id</th>\n",
       "      <th>platform</th>\n",
       "      <th>ecommerce</th>\n",
       "      <th>items</th>\n",
       "    </tr>\n",
       "  </thead>\n",
       "  <tbody>\n",
       "    <tr>\n",
       "      <th>0</th>\n",
       "      <td>2021-01-31</td>\n",
       "      <td>1612069510766593</td>\n",
       "      <td>page_view</td>\n",
       "      <td>[{'key': 'gclid', 'value': {'string_value': No...</td>\n",
       "      <td>6595101026</td>\n",
       "      <td>1.026454e+06</td>\n",
       "      <td>{'analytics_storage': None, 'ads_storage': Non...</td>\n",
       "      <td>1.612070e+15</td>\n",
       "      <td>{'revenue': 0.0, 'currency': 'USD'}</td>\n",
       "      <td>{'category': 'mobile', 'mobile_brand_name': 'A...</td>\n",
       "      <td>{'continent': 'Americas', 'sub_continent': 'No...</td>\n",
       "      <td>{'medium': 'organic', 'name': '(organic)', 'so...</td>\n",
       "      <td>2100450278</td>\n",
       "      <td>WEB</td>\n",
       "      <td>{'total_item_quantity': None, 'purchase_revenu...</td>\n",
       "      <td>[]</td>\n",
       "    </tr>\n",
       "    <tr>\n",
       "      <th>1</th>\n",
       "      <td>2021-01-31</td>\n",
       "      <td>1612069529243877</td>\n",
       "      <td>scroll</td>\n",
       "      <td>[{'key': 'debug_mode', 'value': {'string_value...</td>\n",
       "      <td>9011338476</td>\n",
       "      <td>1.026454e+06</td>\n",
       "      <td>{'analytics_storage': None, 'ads_storage': Non...</td>\n",
       "      <td>1.612070e+15</td>\n",
       "      <td>{'revenue': 0.0, 'currency': 'USD'}</td>\n",
       "      <td>{'category': 'mobile', 'mobile_brand_name': 'A...</td>\n",
       "      <td>{'continent': 'Americas', 'sub_continent': 'No...</td>\n",
       "      <td>{'medium': 'organic', 'name': '(organic)', 'so...</td>\n",
       "      <td>2100450278</td>\n",
       "      <td>WEB</td>\n",
       "      <td>{'total_item_quantity': None, 'purchase_revenu...</td>\n",
       "      <td>[]</td>\n",
       "    </tr>\n",
       "  </tbody>\n",
       "</table>\n",
       "</div>"
      ],
      "text/plain": [
       "   event_date   event_timestamp event_name  \\\n",
       "0  2021-01-31  1612069510766593  page_view   \n",
       "1  2021-01-31  1612069529243877     scroll   \n",
       "\n",
       "                                        event_params  \\\n",
       "0  [{'key': 'gclid', 'value': {'string_value': No...   \n",
       "1  [{'key': 'debug_mode', 'value': {'string_value...   \n",
       "\n",
       "   event_bundle_sequence_id  user_pseudo_id  \\\n",
       "0                6595101026    1.026454e+06   \n",
       "1                9011338476    1.026454e+06   \n",
       "\n",
       "                                        privacy_info  \\\n",
       "0  {'analytics_storage': None, 'ads_storage': Non...   \n",
       "1  {'analytics_storage': None, 'ads_storage': Non...   \n",
       "\n",
       "   user_first_touch_timestamp                             user_ltv  \\\n",
       "0                1.612070e+15  {'revenue': 0.0, 'currency': 'USD'}   \n",
       "1                1.612070e+15  {'revenue': 0.0, 'currency': 'USD'}   \n",
       "\n",
       "                                              device  \\\n",
       "0  {'category': 'mobile', 'mobile_brand_name': 'A...   \n",
       "1  {'category': 'mobile', 'mobile_brand_name': 'A...   \n",
       "\n",
       "                                                 geo  \\\n",
       "0  {'continent': 'Americas', 'sub_continent': 'No...   \n",
       "1  {'continent': 'Americas', 'sub_continent': 'No...   \n",
       "\n",
       "                                      traffic_source   stream_id platform  \\\n",
       "0  {'medium': 'organic', 'name': '(organic)', 'so...  2100450278      WEB   \n",
       "1  {'medium': 'organic', 'name': '(organic)', 'so...  2100450278      WEB   \n",
       "\n",
       "                                           ecommerce items  \n",
       "0  {'total_item_quantity': None, 'purchase_revenu...    []  \n",
       "1  {'total_item_quantity': None, 'purchase_revenu...    []  "
      ]
     },
     "execution_count": 19,
     "metadata": {},
     "output_type": "execute_result"
    }
   ],
   "source": [
    "# event date needs to be segmented to make it in a readable format\n",
    "print(data['event_date'].dtype) # this column dtype is not appropriate as it does not reprsent microseconds\n",
    "\n",
    "# saving dates into a list\n",
    "dates = []\n",
    "for i in data['event_date']:\n",
    "    dates.append(str(i))\n",
    "# print(dates)\n",
    "\n",
    "# conversion of string to date format from 20210131 to 2021-01-31\n",
    "new_dates = []\n",
    "for i in dates:\n",
    "    new_dates.append(i[:4] + '-' + i[4:6] + '-' + i[6:])\n",
    "\n",
    "\n",
    "# # assigning these dates back to the event_date column\n",
    "data['event_date']=new_dates\n",
    "data.head(2)"
   ]
  },
  {
   "cell_type": "code",
   "execution_count": 20,
   "id": "4eaade90",
   "metadata": {},
   "outputs": [],
   "source": [
    "\n",
    "data['event_timestamp'] = data['event_timestamp'].astype('datetime64[ns]')"
   ]
  },
  {
   "cell_type": "code",
   "execution_count": 21,
   "id": "2aede95e",
   "metadata": {},
   "outputs": [
    {
     "data": {
      "text/html": [
       "<div>\n",
       "<style scoped>\n",
       "    .dataframe tbody tr th:only-of-type {\n",
       "        vertical-align: middle;\n",
       "    }\n",
       "\n",
       "    .dataframe tbody tr th {\n",
       "        vertical-align: top;\n",
       "    }\n",
       "\n",
       "    .dataframe thead th {\n",
       "        text-align: right;\n",
       "    }\n",
       "</style>\n",
       "<table border=\"1\" class=\"dataframe\">\n",
       "  <thead>\n",
       "    <tr style=\"text-align: right;\">\n",
       "      <th></th>\n",
       "      <th>event_date</th>\n",
       "      <th>event_timestamp</th>\n",
       "      <th>event_name</th>\n",
       "      <th>event_params</th>\n",
       "      <th>event_bundle_sequence_id</th>\n",
       "      <th>user_pseudo_id</th>\n",
       "      <th>privacy_info</th>\n",
       "      <th>user_first_touch_timestamp</th>\n",
       "      <th>user_ltv</th>\n",
       "      <th>device</th>\n",
       "      <th>geo</th>\n",
       "      <th>traffic_source</th>\n",
       "      <th>stream_id</th>\n",
       "      <th>platform</th>\n",
       "      <th>ecommerce</th>\n",
       "      <th>items</th>\n",
       "    </tr>\n",
       "  </thead>\n",
       "  <tbody>\n",
       "    <tr>\n",
       "      <th>0</th>\n",
       "      <td>2021-01-31</td>\n",
       "      <td>1970-01-19 15:47:49.510766593</td>\n",
       "      <td>page_view</td>\n",
       "      <td>[{'key': 'gclid', 'value': {'string_value': No...</td>\n",
       "      <td>6595101026</td>\n",
       "      <td>1.026454e+06</td>\n",
       "      <td>{'analytics_storage': None, 'ads_storage': Non...</td>\n",
       "      <td>1.612070e+15</td>\n",
       "      <td>{'revenue': 0.0, 'currency': 'USD'}</td>\n",
       "      <td>{'category': 'mobile', 'mobile_brand_name': 'A...</td>\n",
       "      <td>{'continent': 'Americas', 'sub_continent': 'No...</td>\n",
       "      <td>{'medium': 'organic', 'name': '(organic)', 'so...</td>\n",
       "      <td>2100450278</td>\n",
       "      <td>WEB</td>\n",
       "      <td>{'total_item_quantity': None, 'purchase_revenu...</td>\n",
       "      <td>[]</td>\n",
       "    </tr>\n",
       "    <tr>\n",
       "      <th>1</th>\n",
       "      <td>2021-01-31</td>\n",
       "      <td>1970-01-19 15:47:49.529243877</td>\n",
       "      <td>scroll</td>\n",
       "      <td>[{'key': 'debug_mode', 'value': {'string_value...</td>\n",
       "      <td>9011338476</td>\n",
       "      <td>1.026454e+06</td>\n",
       "      <td>{'analytics_storage': None, 'ads_storage': Non...</td>\n",
       "      <td>1.612070e+15</td>\n",
       "      <td>{'revenue': 0.0, 'currency': 'USD'}</td>\n",
       "      <td>{'category': 'mobile', 'mobile_brand_name': 'A...</td>\n",
       "      <td>{'continent': 'Americas', 'sub_continent': 'No...</td>\n",
       "      <td>{'medium': 'organic', 'name': '(organic)', 'so...</td>\n",
       "      <td>2100450278</td>\n",
       "      <td>WEB</td>\n",
       "      <td>{'total_item_quantity': None, 'purchase_revenu...</td>\n",
       "      <td>[]</td>\n",
       "    </tr>\n",
       "  </tbody>\n",
       "</table>\n",
       "</div>"
      ],
      "text/plain": [
       "   event_date               event_timestamp event_name  \\\n",
       "0  2021-01-31 1970-01-19 15:47:49.510766593  page_view   \n",
       "1  2021-01-31 1970-01-19 15:47:49.529243877     scroll   \n",
       "\n",
       "                                        event_params  \\\n",
       "0  [{'key': 'gclid', 'value': {'string_value': No...   \n",
       "1  [{'key': 'debug_mode', 'value': {'string_value...   \n",
       "\n",
       "   event_bundle_sequence_id  user_pseudo_id  \\\n",
       "0                6595101026    1.026454e+06   \n",
       "1                9011338476    1.026454e+06   \n",
       "\n",
       "                                        privacy_info  \\\n",
       "0  {'analytics_storage': None, 'ads_storage': Non...   \n",
       "1  {'analytics_storage': None, 'ads_storage': Non...   \n",
       "\n",
       "   user_first_touch_timestamp                             user_ltv  \\\n",
       "0                1.612070e+15  {'revenue': 0.0, 'currency': 'USD'}   \n",
       "1                1.612070e+15  {'revenue': 0.0, 'currency': 'USD'}   \n",
       "\n",
       "                                              device  \\\n",
       "0  {'category': 'mobile', 'mobile_brand_name': 'A...   \n",
       "1  {'category': 'mobile', 'mobile_brand_name': 'A...   \n",
       "\n",
       "                                                 geo  \\\n",
       "0  {'continent': 'Americas', 'sub_continent': 'No...   \n",
       "1  {'continent': 'Americas', 'sub_continent': 'No...   \n",
       "\n",
       "                                      traffic_source   stream_id platform  \\\n",
       "0  {'medium': 'organic', 'name': '(organic)', 'so...  2100450278      WEB   \n",
       "1  {'medium': 'organic', 'name': '(organic)', 'so...  2100450278      WEB   \n",
       "\n",
       "                                           ecommerce items  \n",
       "0  {'total_item_quantity': None, 'purchase_revenu...    []  \n",
       "1  {'total_item_quantity': None, 'purchase_revenu...    []  "
      ]
     },
     "execution_count": 21,
     "metadata": {},
     "output_type": "execute_result"
    }
   ],
   "source": [
    "data.head(2)"
   ]
  },
  {
   "cell_type": "markdown",
   "id": "fecb1e96",
   "metadata": {},
   "source": [
    "Event timestamp is not providing the right results hence we will only consider event_date for further analysis\n",
    "\n",
    "## Handling Cells with String Dictionaries\n",
    "Conversion of such cells to separate column of dataframe will help in understanding the dataset better and improve its quality"
   ]
  },
  {
   "cell_type": "code",
   "execution_count": 22,
   "id": "131e0914",
   "metadata": {},
   "outputs": [
    {
     "data": {
      "text/plain": [
       "\"{'analytics_storage': None, 'ads_storage': None, 'uses_transient_token': 'No'}\""
      ]
     },
     "execution_count": 22,
     "metadata": {},
     "output_type": "execute_result"
    }
   ],
   "source": [
    "data['privacy_info'][699]"
   ]
  },
  {
   "cell_type": "code",
   "execution_count": 23,
   "id": "59fb253e",
   "metadata": {},
   "outputs": [],
   "source": [
    "import ast"
   ]
  },
  {
   "cell_type": "code",
   "execution_count": 24,
   "id": "b7fed121",
   "metadata": {},
   "outputs": [
    {
     "data": {
      "text/html": [
       "<div>\n",
       "<style scoped>\n",
       "    .dataframe tbody tr th:only-of-type {\n",
       "        vertical-align: middle;\n",
       "    }\n",
       "\n",
       "    .dataframe tbody tr th {\n",
       "        vertical-align: top;\n",
       "    }\n",
       "\n",
       "    .dataframe thead th {\n",
       "        text-align: right;\n",
       "    }\n",
       "</style>\n",
       "<table border=\"1\" class=\"dataframe\">\n",
       "  <thead>\n",
       "    <tr style=\"text-align: right;\">\n",
       "      <th></th>\n",
       "      <th>analytics_storage</th>\n",
       "      <th>ads_storage</th>\n",
       "      <th>uses_transient_token</th>\n",
       "    </tr>\n",
       "  </thead>\n",
       "  <tbody>\n",
       "    <tr>\n",
       "      <th>0</th>\n",
       "      <td>None</td>\n",
       "      <td>None</td>\n",
       "      <td>No</td>\n",
       "    </tr>\n",
       "    <tr>\n",
       "      <th>1</th>\n",
       "      <td>None</td>\n",
       "      <td>None</td>\n",
       "      <td>No</td>\n",
       "    </tr>\n",
       "    <tr>\n",
       "      <th>2</th>\n",
       "      <td>None</td>\n",
       "      <td>None</td>\n",
       "      <td>No</td>\n",
       "    </tr>\n",
       "    <tr>\n",
       "      <th>3</th>\n",
       "      <td>None</td>\n",
       "      <td>None</td>\n",
       "      <td>No</td>\n",
       "    </tr>\n",
       "    <tr>\n",
       "      <th>4</th>\n",
       "      <td>None</td>\n",
       "      <td>None</td>\n",
       "      <td>No</td>\n",
       "    </tr>\n",
       "    <tr>\n",
       "      <th>...</th>\n",
       "      <td>...</td>\n",
       "      <td>...</td>\n",
       "      <td>...</td>\n",
       "    </tr>\n",
       "    <tr>\n",
       "      <th>26484</th>\n",
       "      <td>None</td>\n",
       "      <td>None</td>\n",
       "      <td>No</td>\n",
       "    </tr>\n",
       "    <tr>\n",
       "      <th>26485</th>\n",
       "      <td>None</td>\n",
       "      <td>None</td>\n",
       "      <td>No</td>\n",
       "    </tr>\n",
       "    <tr>\n",
       "      <th>26486</th>\n",
       "      <td>None</td>\n",
       "      <td>None</td>\n",
       "      <td>No</td>\n",
       "    </tr>\n",
       "    <tr>\n",
       "      <th>26487</th>\n",
       "      <td>None</td>\n",
       "      <td>None</td>\n",
       "      <td>No</td>\n",
       "    </tr>\n",
       "    <tr>\n",
       "      <th>26488</th>\n",
       "      <td>None</td>\n",
       "      <td>None</td>\n",
       "      <td>No</td>\n",
       "    </tr>\n",
       "  </tbody>\n",
       "</table>\n",
       "<p>26489 rows × 3 columns</p>\n",
       "</div>"
      ],
      "text/plain": [
       "      analytics_storage ads_storage uses_transient_token\n",
       "0                  None        None                   No\n",
       "1                  None        None                   No\n",
       "2                  None        None                   No\n",
       "3                  None        None                   No\n",
       "4                  None        None                   No\n",
       "...                 ...         ...                  ...\n",
       "26484              None        None                   No\n",
       "26485              None        None                   No\n",
       "26486              None        None                   No\n",
       "26487              None        None                   No\n",
       "26488              None        None                   No\n",
       "\n",
       "[26489 rows x 3 columns]"
      ]
     },
     "execution_count": 24,
     "metadata": {},
     "output_type": "execute_result"
    }
   ],
   "source": [
    "# converting string to dictionary\n",
    "dict_list = []\n",
    "for i in data['privacy_info']:\n",
    "    dict_list.append(ast.literal_eval(i)) # creating list of dictionaries representing each cell\n",
    "\n",
    "# conversion of list to series in form of a dataset\n",
    "data['privacy_info'] = dict_list\n",
    "privacy_info = data['privacy_info'].apply(pd.Series)\n",
    "privacy_info "
   ]
  },
  {
   "cell_type": "code",
   "execution_count": 25,
   "id": "9abc920f",
   "metadata": {},
   "outputs": [],
   "source": [
    "# Adding columns to orignal dataset\n",
    "data['analytics_storage'] = privacy_info['analytics_storage']\n",
    "data['ads_storage'] = privacy_info['ads_storage']\n",
    "data['uses_transient_token'] = privacy_info['uses_transient_token']"
   ]
  },
  {
   "cell_type": "code",
   "execution_count": 26,
   "id": "30df9bfa",
   "metadata": {},
   "outputs": [
    {
     "data": {
      "text/html": [
       "<div>\n",
       "<style scoped>\n",
       "    .dataframe tbody tr th:only-of-type {\n",
       "        vertical-align: middle;\n",
       "    }\n",
       "\n",
       "    .dataframe tbody tr th {\n",
       "        vertical-align: top;\n",
       "    }\n",
       "\n",
       "    .dataframe thead th {\n",
       "        text-align: right;\n",
       "    }\n",
       "</style>\n",
       "<table border=\"1\" class=\"dataframe\">\n",
       "  <thead>\n",
       "    <tr style=\"text-align: right;\">\n",
       "      <th></th>\n",
       "      <th>revenue</th>\n",
       "      <th>currency</th>\n",
       "    </tr>\n",
       "  </thead>\n",
       "  <tbody>\n",
       "    <tr>\n",
       "      <th>0</th>\n",
       "      <td>0.0</td>\n",
       "      <td>USD</td>\n",
       "    </tr>\n",
       "    <tr>\n",
       "      <th>1</th>\n",
       "      <td>0.0</td>\n",
       "      <td>USD</td>\n",
       "    </tr>\n",
       "    <tr>\n",
       "      <th>2</th>\n",
       "      <td>0.0</td>\n",
       "      <td>USD</td>\n",
       "    </tr>\n",
       "    <tr>\n",
       "      <th>3</th>\n",
       "      <td>0.0</td>\n",
       "      <td>USD</td>\n",
       "    </tr>\n",
       "    <tr>\n",
       "      <th>4</th>\n",
       "      <td>0.0</td>\n",
       "      <td>USD</td>\n",
       "    </tr>\n",
       "    <tr>\n",
       "      <th>...</th>\n",
       "      <td>...</td>\n",
       "      <td>...</td>\n",
       "    </tr>\n",
       "    <tr>\n",
       "      <th>26484</th>\n",
       "      <td>0.0</td>\n",
       "      <td>USD</td>\n",
       "    </tr>\n",
       "    <tr>\n",
       "      <th>26485</th>\n",
       "      <td>0.0</td>\n",
       "      <td>USD</td>\n",
       "    </tr>\n",
       "    <tr>\n",
       "      <th>26486</th>\n",
       "      <td>0.0</td>\n",
       "      <td>USD</td>\n",
       "    </tr>\n",
       "    <tr>\n",
       "      <th>26487</th>\n",
       "      <td>0.0</td>\n",
       "      <td>USD</td>\n",
       "    </tr>\n",
       "    <tr>\n",
       "      <th>26488</th>\n",
       "      <td>0.0</td>\n",
       "      <td>USD</td>\n",
       "    </tr>\n",
       "  </tbody>\n",
       "</table>\n",
       "<p>26489 rows × 2 columns</p>\n",
       "</div>"
      ],
      "text/plain": [
       "       revenue currency\n",
       "0          0.0      USD\n",
       "1          0.0      USD\n",
       "2          0.0      USD\n",
       "3          0.0      USD\n",
       "4          0.0      USD\n",
       "...        ...      ...\n",
       "26484      0.0      USD\n",
       "26485      0.0      USD\n",
       "26486      0.0      USD\n",
       "26487      0.0      USD\n",
       "26488      0.0      USD\n",
       "\n",
       "[26489 rows x 2 columns]"
      ]
     },
     "execution_count": 26,
     "metadata": {},
     "output_type": "execute_result"
    }
   ],
   "source": [
    "# converting string to dictionary\n",
    "dict_list = []\n",
    "for i in data['user_ltv']:\n",
    "    dict_list.append(ast.literal_eval(i)) # creating list of dictionaries representing each cell\n",
    "\n",
    "# conversion of list to series in form of a dataset\n",
    "data['user_ltv'] = dict_list\n",
    "user_ltv = data['user_ltv'].apply(pd.Series)\n",
    "user_ltv"
   ]
  },
  {
   "cell_type": "code",
   "execution_count": 27,
   "id": "eeba069e",
   "metadata": {},
   "outputs": [],
   "source": [
    "# Adding columns to orignal dataset\n",
    "data['revenue'] = user_ltv['revenue']\n",
    "data['currency'] = user_ltv['currency']"
   ]
  },
  {
   "cell_type": "code",
   "execution_count": 28,
   "id": "3b2ea43c",
   "metadata": {},
   "outputs": [
    {
     "data": {
      "text/html": [
       "<div>\n",
       "<style scoped>\n",
       "    .dataframe tbody tr th:only-of-type {\n",
       "        vertical-align: middle;\n",
       "    }\n",
       "\n",
       "    .dataframe tbody tr th {\n",
       "        vertical-align: top;\n",
       "    }\n",
       "\n",
       "    .dataframe thead th {\n",
       "        text-align: right;\n",
       "    }\n",
       "</style>\n",
       "<table border=\"1\" class=\"dataframe\">\n",
       "  <thead>\n",
       "    <tr style=\"text-align: right;\">\n",
       "      <th></th>\n",
       "      <th>event_date</th>\n",
       "      <th>event_timestamp</th>\n",
       "      <th>event_name</th>\n",
       "      <th>event_params</th>\n",
       "      <th>event_bundle_sequence_id</th>\n",
       "      <th>user_pseudo_id</th>\n",
       "      <th>privacy_info</th>\n",
       "      <th>user_first_touch_timestamp</th>\n",
       "      <th>user_ltv</th>\n",
       "      <th>device</th>\n",
       "      <th>...</th>\n",
       "      <th>traffic_source</th>\n",
       "      <th>stream_id</th>\n",
       "      <th>platform</th>\n",
       "      <th>ecommerce</th>\n",
       "      <th>items</th>\n",
       "      <th>analytics_storage</th>\n",
       "      <th>ads_storage</th>\n",
       "      <th>uses_transient_token</th>\n",
       "      <th>revenue</th>\n",
       "      <th>currency</th>\n",
       "    </tr>\n",
       "  </thead>\n",
       "  <tbody>\n",
       "    <tr>\n",
       "      <th>0</th>\n",
       "      <td>2021-01-31</td>\n",
       "      <td>1970-01-19 15:47:49.510766593</td>\n",
       "      <td>page_view</td>\n",
       "      <td>[{'key': 'gclid', 'value': {'string_value': No...</td>\n",
       "      <td>6595101026</td>\n",
       "      <td>1.026454e+06</td>\n",
       "      <td>{'analytics_storage': None, 'ads_storage': Non...</td>\n",
       "      <td>1.612070e+15</td>\n",
       "      <td>{'revenue': 0.0, 'currency': 'USD'}</td>\n",
       "      <td>{'category': 'mobile', 'mobile_brand_name': 'A...</td>\n",
       "      <td>...</td>\n",
       "      <td>{'medium': 'organic', 'name': '(organic)', 'so...</td>\n",
       "      <td>2100450278</td>\n",
       "      <td>WEB</td>\n",
       "      <td>{'total_item_quantity': None, 'purchase_revenu...</td>\n",
       "      <td>[]</td>\n",
       "      <td>None</td>\n",
       "      <td>None</td>\n",
       "      <td>No</td>\n",
       "      <td>0.0</td>\n",
       "      <td>USD</td>\n",
       "    </tr>\n",
       "    <tr>\n",
       "      <th>1</th>\n",
       "      <td>2021-01-31</td>\n",
       "      <td>1970-01-19 15:47:49.529243877</td>\n",
       "      <td>scroll</td>\n",
       "      <td>[{'key': 'debug_mode', 'value': {'string_value...</td>\n",
       "      <td>9011338476</td>\n",
       "      <td>1.026454e+06</td>\n",
       "      <td>{'analytics_storage': None, 'ads_storage': Non...</td>\n",
       "      <td>1.612070e+15</td>\n",
       "      <td>{'revenue': 0.0, 'currency': 'USD'}</td>\n",
       "      <td>{'category': 'mobile', 'mobile_brand_name': 'A...</td>\n",
       "      <td>...</td>\n",
       "      <td>{'medium': 'organic', 'name': '(organic)', 'so...</td>\n",
       "      <td>2100450278</td>\n",
       "      <td>WEB</td>\n",
       "      <td>{'total_item_quantity': None, 'purchase_revenu...</td>\n",
       "      <td>[]</td>\n",
       "      <td>None</td>\n",
       "      <td>None</td>\n",
       "      <td>No</td>\n",
       "      <td>0.0</td>\n",
       "      <td>USD</td>\n",
       "    </tr>\n",
       "  </tbody>\n",
       "</table>\n",
       "<p>2 rows × 21 columns</p>\n",
       "</div>"
      ],
      "text/plain": [
       "   event_date               event_timestamp event_name  \\\n",
       "0  2021-01-31 1970-01-19 15:47:49.510766593  page_view   \n",
       "1  2021-01-31 1970-01-19 15:47:49.529243877     scroll   \n",
       "\n",
       "                                        event_params  \\\n",
       "0  [{'key': 'gclid', 'value': {'string_value': No...   \n",
       "1  [{'key': 'debug_mode', 'value': {'string_value...   \n",
       "\n",
       "   event_bundle_sequence_id  user_pseudo_id  \\\n",
       "0                6595101026    1.026454e+06   \n",
       "1                9011338476    1.026454e+06   \n",
       "\n",
       "                                        privacy_info  \\\n",
       "0  {'analytics_storage': None, 'ads_storage': Non...   \n",
       "1  {'analytics_storage': None, 'ads_storage': Non...   \n",
       "\n",
       "   user_first_touch_timestamp                             user_ltv  \\\n",
       "0                1.612070e+15  {'revenue': 0.0, 'currency': 'USD'}   \n",
       "1                1.612070e+15  {'revenue': 0.0, 'currency': 'USD'}   \n",
       "\n",
       "                                              device  ...  \\\n",
       "0  {'category': 'mobile', 'mobile_brand_name': 'A...  ...   \n",
       "1  {'category': 'mobile', 'mobile_brand_name': 'A...  ...   \n",
       "\n",
       "                                      traffic_source   stream_id  platform  \\\n",
       "0  {'medium': 'organic', 'name': '(organic)', 'so...  2100450278       WEB   \n",
       "1  {'medium': 'organic', 'name': '(organic)', 'so...  2100450278       WEB   \n",
       "\n",
       "                                           ecommerce items analytics_storage  \\\n",
       "0  {'total_item_quantity': None, 'purchase_revenu...    []              None   \n",
       "1  {'total_item_quantity': None, 'purchase_revenu...    []              None   \n",
       "\n",
       "  ads_storage uses_transient_token revenue  currency  \n",
       "0        None                   No     0.0       USD  \n",
       "1        None                   No     0.0       USD  \n",
       "\n",
       "[2 rows x 21 columns]"
      ]
     },
     "execution_count": 28,
     "metadata": {},
     "output_type": "execute_result"
    }
   ],
   "source": [
    "data.head(2)"
   ]
  },
  {
   "cell_type": "code",
   "execution_count": 29,
   "id": "10c48b1a",
   "metadata": {},
   "outputs": [
    {
     "data": {
      "text/html": [
       "<div>\n",
       "<style scoped>\n",
       "    .dataframe tbody tr th:only-of-type {\n",
       "        vertical-align: middle;\n",
       "    }\n",
       "\n",
       "    .dataframe tbody tr th {\n",
       "        vertical-align: top;\n",
       "    }\n",
       "\n",
       "    .dataframe thead th {\n",
       "        text-align: right;\n",
       "    }\n",
       "</style>\n",
       "<table border=\"1\" class=\"dataframe\">\n",
       "  <thead>\n",
       "    <tr style=\"text-align: right;\">\n",
       "      <th></th>\n",
       "      <th>category</th>\n",
       "      <th>mobile_brand_name</th>\n",
       "      <th>mobile_model_name</th>\n",
       "      <th>mobile_marketing_name</th>\n",
       "      <th>mobile_os_hardware_model</th>\n",
       "      <th>operating_system</th>\n",
       "      <th>operating_system_version</th>\n",
       "      <th>vendor_id</th>\n",
       "      <th>advertising_id</th>\n",
       "      <th>language</th>\n",
       "      <th>is_limited_ad_tracking</th>\n",
       "      <th>time_zone_offset_seconds</th>\n",
       "      <th>web_info</th>\n",
       "    </tr>\n",
       "  </thead>\n",
       "  <tbody>\n",
       "    <tr>\n",
       "      <th>0</th>\n",
       "      <td>mobile</td>\n",
       "      <td>Apple</td>\n",
       "      <td>iPhone</td>\n",
       "      <td>&lt;Other&gt;</td>\n",
       "      <td>None</td>\n",
       "      <td>Web</td>\n",
       "      <td>&lt;Other&gt;</td>\n",
       "      <td>None</td>\n",
       "      <td>None</td>\n",
       "      <td>en-us</td>\n",
       "      <td>No</td>\n",
       "      <td>None</td>\n",
       "      <td>{'browser': 'Safari', 'browser_version': '13.1'}</td>\n",
       "    </tr>\n",
       "    <tr>\n",
       "      <th>1</th>\n",
       "      <td>mobile</td>\n",
       "      <td>Apple</td>\n",
       "      <td>iPhone</td>\n",
       "      <td>&lt;Other&gt;</td>\n",
       "      <td>None</td>\n",
       "      <td>Web</td>\n",
       "      <td>&lt;Other&gt;</td>\n",
       "      <td>None</td>\n",
       "      <td>None</td>\n",
       "      <td>en-us</td>\n",
       "      <td>No</td>\n",
       "      <td>None</td>\n",
       "      <td>{'browser': 'Safari', 'browser_version': '13.1'}</td>\n",
       "    </tr>\n",
       "    <tr>\n",
       "      <th>2</th>\n",
       "      <td>mobile</td>\n",
       "      <td>Apple</td>\n",
       "      <td>iPhone</td>\n",
       "      <td>&lt;Other&gt;</td>\n",
       "      <td>None</td>\n",
       "      <td>Web</td>\n",
       "      <td>&lt;Other&gt;</td>\n",
       "      <td>None</td>\n",
       "      <td>None</td>\n",
       "      <td>en-us</td>\n",
       "      <td>No</td>\n",
       "      <td>None</td>\n",
       "      <td>{'browser': 'Safari', 'browser_version': '13.1'}</td>\n",
       "    </tr>\n",
       "    <tr>\n",
       "      <th>3</th>\n",
       "      <td>mobile</td>\n",
       "      <td>Apple</td>\n",
       "      <td>iPhone</td>\n",
       "      <td>&lt;Other&gt;</td>\n",
       "      <td>None</td>\n",
       "      <td>Web</td>\n",
       "      <td>&lt;Other&gt;</td>\n",
       "      <td>None</td>\n",
       "      <td>None</td>\n",
       "      <td>en-us</td>\n",
       "      <td>No</td>\n",
       "      <td>None</td>\n",
       "      <td>{'browser': 'Safari', 'browser_version': '13.1'}</td>\n",
       "    </tr>\n",
       "    <tr>\n",
       "      <th>4</th>\n",
       "      <td>mobile</td>\n",
       "      <td>Apple</td>\n",
       "      <td>iPhone</td>\n",
       "      <td>&lt;Other&gt;</td>\n",
       "      <td>None</td>\n",
       "      <td>Web</td>\n",
       "      <td>&lt;Other&gt;</td>\n",
       "      <td>None</td>\n",
       "      <td>None</td>\n",
       "      <td>en-us</td>\n",
       "      <td>No</td>\n",
       "      <td>None</td>\n",
       "      <td>{'browser': 'Safari', 'browser_version': '13.1'}</td>\n",
       "    </tr>\n",
       "    <tr>\n",
       "      <th>...</th>\n",
       "      <td>...</td>\n",
       "      <td>...</td>\n",
       "      <td>...</td>\n",
       "      <td>...</td>\n",
       "      <td>...</td>\n",
       "      <td>...</td>\n",
       "      <td>...</td>\n",
       "      <td>...</td>\n",
       "      <td>...</td>\n",
       "      <td>...</td>\n",
       "      <td>...</td>\n",
       "      <td>...</td>\n",
       "      <td>...</td>\n",
       "    </tr>\n",
       "    <tr>\n",
       "      <th>26484</th>\n",
       "      <td>mobile</td>\n",
       "      <td>Apple</td>\n",
       "      <td>iPhone</td>\n",
       "      <td>&lt;Other&gt;</td>\n",
       "      <td>None</td>\n",
       "      <td>iOS</td>\n",
       "      <td>iOS 14.2</td>\n",
       "      <td>None</td>\n",
       "      <td>None</td>\n",
       "      <td>en-us</td>\n",
       "      <td>No</td>\n",
       "      <td>None</td>\n",
       "      <td>{'browser': 'Safari', 'browser_version': '14.0'}</td>\n",
       "    </tr>\n",
       "    <tr>\n",
       "      <th>26485</th>\n",
       "      <td>mobile</td>\n",
       "      <td>Apple</td>\n",
       "      <td>iPhone</td>\n",
       "      <td>&lt;Other&gt;</td>\n",
       "      <td>None</td>\n",
       "      <td>iOS</td>\n",
       "      <td>iOS 14.2</td>\n",
       "      <td>None</td>\n",
       "      <td>None</td>\n",
       "      <td>en-us</td>\n",
       "      <td>No</td>\n",
       "      <td>None</td>\n",
       "      <td>{'browser': 'Safari', 'browser_version': '14.0'}</td>\n",
       "    </tr>\n",
       "    <tr>\n",
       "      <th>26486</th>\n",
       "      <td>mobile</td>\n",
       "      <td>Apple</td>\n",
       "      <td>iPhone</td>\n",
       "      <td>&lt;Other&gt;</td>\n",
       "      <td>None</td>\n",
       "      <td>iOS</td>\n",
       "      <td>iOS 14.2</td>\n",
       "      <td>None</td>\n",
       "      <td>None</td>\n",
       "      <td>en-us</td>\n",
       "      <td>No</td>\n",
       "      <td>None</td>\n",
       "      <td>{'browser': 'Safari', 'browser_version': '14.0'}</td>\n",
       "    </tr>\n",
       "    <tr>\n",
       "      <th>26487</th>\n",
       "      <td>mobile</td>\n",
       "      <td>Apple</td>\n",
       "      <td>iPhone</td>\n",
       "      <td>&lt;Other&gt;</td>\n",
       "      <td>None</td>\n",
       "      <td>iOS</td>\n",
       "      <td>iOS 14.2</td>\n",
       "      <td>None</td>\n",
       "      <td>None</td>\n",
       "      <td>en-us</td>\n",
       "      <td>No</td>\n",
       "      <td>None</td>\n",
       "      <td>{'browser': 'Safari', 'browser_version': '14.0'}</td>\n",
       "    </tr>\n",
       "    <tr>\n",
       "      <th>26488</th>\n",
       "      <td>desktop</td>\n",
       "      <td>Google</td>\n",
       "      <td>Chrome</td>\n",
       "      <td>&lt;Other&gt;</td>\n",
       "      <td>None</td>\n",
       "      <td>Web</td>\n",
       "      <td>10</td>\n",
       "      <td>None</td>\n",
       "      <td>None</td>\n",
       "      <td>en-us</td>\n",
       "      <td>No</td>\n",
       "      <td>None</td>\n",
       "      <td>{'browser': 'Chrome', 'browser_version': '86.0'}</td>\n",
       "    </tr>\n",
       "  </tbody>\n",
       "</table>\n",
       "<p>26489 rows × 13 columns</p>\n",
       "</div>"
      ],
      "text/plain": [
       "      category mobile_brand_name mobile_model_name mobile_marketing_name  \\\n",
       "0       mobile             Apple            iPhone               <Other>   \n",
       "1       mobile             Apple            iPhone               <Other>   \n",
       "2       mobile             Apple            iPhone               <Other>   \n",
       "3       mobile             Apple            iPhone               <Other>   \n",
       "4       mobile             Apple            iPhone               <Other>   \n",
       "...        ...               ...               ...                   ...   \n",
       "26484   mobile             Apple            iPhone               <Other>   \n",
       "26485   mobile             Apple            iPhone               <Other>   \n",
       "26486   mobile             Apple            iPhone               <Other>   \n",
       "26487   mobile             Apple            iPhone               <Other>   \n",
       "26488  desktop            Google            Chrome               <Other>   \n",
       "\n",
       "      mobile_os_hardware_model operating_system operating_system_version  \\\n",
       "0                         None              Web                  <Other>   \n",
       "1                         None              Web                  <Other>   \n",
       "2                         None              Web                  <Other>   \n",
       "3                         None              Web                  <Other>   \n",
       "4                         None              Web                  <Other>   \n",
       "...                        ...              ...                      ...   \n",
       "26484                     None              iOS                 iOS 14.2   \n",
       "26485                     None              iOS                 iOS 14.2   \n",
       "26486                     None              iOS                 iOS 14.2   \n",
       "26487                     None              iOS                 iOS 14.2   \n",
       "26488                     None              Web                       10   \n",
       "\n",
       "      vendor_id advertising_id language is_limited_ad_tracking  \\\n",
       "0          None           None    en-us                     No   \n",
       "1          None           None    en-us                     No   \n",
       "2          None           None    en-us                     No   \n",
       "3          None           None    en-us                     No   \n",
       "4          None           None    en-us                     No   \n",
       "...         ...            ...      ...                    ...   \n",
       "26484      None           None    en-us                     No   \n",
       "26485      None           None    en-us                     No   \n",
       "26486      None           None    en-us                     No   \n",
       "26487      None           None    en-us                     No   \n",
       "26488      None           None    en-us                     No   \n",
       "\n",
       "      time_zone_offset_seconds  \\\n",
       "0                         None   \n",
       "1                         None   \n",
       "2                         None   \n",
       "3                         None   \n",
       "4                         None   \n",
       "...                        ...   \n",
       "26484                     None   \n",
       "26485                     None   \n",
       "26486                     None   \n",
       "26487                     None   \n",
       "26488                     None   \n",
       "\n",
       "                                               web_info  \n",
       "0      {'browser': 'Safari', 'browser_version': '13.1'}  \n",
       "1      {'browser': 'Safari', 'browser_version': '13.1'}  \n",
       "2      {'browser': 'Safari', 'browser_version': '13.1'}  \n",
       "3      {'browser': 'Safari', 'browser_version': '13.1'}  \n",
       "4      {'browser': 'Safari', 'browser_version': '13.1'}  \n",
       "...                                                 ...  \n",
       "26484  {'browser': 'Safari', 'browser_version': '14.0'}  \n",
       "26485  {'browser': 'Safari', 'browser_version': '14.0'}  \n",
       "26486  {'browser': 'Safari', 'browser_version': '14.0'}  \n",
       "26487  {'browser': 'Safari', 'browser_version': '14.0'}  \n",
       "26488  {'browser': 'Chrome', 'browser_version': '86.0'}  \n",
       "\n",
       "[26489 rows x 13 columns]"
      ]
     },
     "execution_count": 29,
     "metadata": {},
     "output_type": "execute_result"
    }
   ],
   "source": [
    "# converting string to dictionary\n",
    "dict_list = []\n",
    "for i in data['device']:\n",
    "    dict_list.append(ast.literal_eval(i)) # creating list of dictionaries representing each cell\n",
    "\n",
    "# conversion of list to series in form of a dataset\n",
    "data['device'] = dict_list\n",
    "device = data['device'].apply(pd.Series)\n",
    "device"
   ]
  },
  {
   "cell_type": "code",
   "execution_count": 30,
   "id": "53a09e39",
   "metadata": {},
   "outputs": [
    {
     "data": {
      "text/html": [
       "<div>\n",
       "<style scoped>\n",
       "    .dataframe tbody tr th:only-of-type {\n",
       "        vertical-align: middle;\n",
       "    }\n",
       "\n",
       "    .dataframe tbody tr th {\n",
       "        vertical-align: top;\n",
       "    }\n",
       "\n",
       "    .dataframe thead th {\n",
       "        text-align: right;\n",
       "    }\n",
       "</style>\n",
       "<table border=\"1\" class=\"dataframe\">\n",
       "  <thead>\n",
       "    <tr style=\"text-align: right;\">\n",
       "      <th></th>\n",
       "      <th>category</th>\n",
       "      <th>mobile_brand_name</th>\n",
       "      <th>mobile_model_name</th>\n",
       "      <th>mobile_marketing_name</th>\n",
       "      <th>mobile_os_hardware_model</th>\n",
       "      <th>operating_system</th>\n",
       "      <th>operating_system_version</th>\n",
       "      <th>vendor_id</th>\n",
       "      <th>advertising_id</th>\n",
       "      <th>language</th>\n",
       "      <th>is_limited_ad_tracking</th>\n",
       "      <th>time_zone_offset_seconds</th>\n",
       "      <th>web_info</th>\n",
       "    </tr>\n",
       "  </thead>\n",
       "  <tbody>\n",
       "    <tr>\n",
       "      <th>0</th>\n",
       "      <td>mobile</td>\n",
       "      <td>Apple</td>\n",
       "      <td>iPhone</td>\n",
       "      <td>&lt;Other&gt;</td>\n",
       "      <td>None</td>\n",
       "      <td>Web</td>\n",
       "      <td>&lt;Other&gt;</td>\n",
       "      <td>None</td>\n",
       "      <td>None</td>\n",
       "      <td>en-us</td>\n",
       "      <td>No</td>\n",
       "      <td>None</td>\n",
       "      <td>{'browser': 'Safari', 'browser_version': '13.1'}</td>\n",
       "    </tr>\n",
       "    <tr>\n",
       "      <th>1</th>\n",
       "      <td>mobile</td>\n",
       "      <td>Apple</td>\n",
       "      <td>iPhone</td>\n",
       "      <td>&lt;Other&gt;</td>\n",
       "      <td>None</td>\n",
       "      <td>Web</td>\n",
       "      <td>&lt;Other&gt;</td>\n",
       "      <td>None</td>\n",
       "      <td>None</td>\n",
       "      <td>en-us</td>\n",
       "      <td>No</td>\n",
       "      <td>None</td>\n",
       "      <td>{'browser': 'Safari', 'browser_version': '13.1'}</td>\n",
       "    </tr>\n",
       "    <tr>\n",
       "      <th>2</th>\n",
       "      <td>mobile</td>\n",
       "      <td>Apple</td>\n",
       "      <td>iPhone</td>\n",
       "      <td>&lt;Other&gt;</td>\n",
       "      <td>None</td>\n",
       "      <td>Web</td>\n",
       "      <td>&lt;Other&gt;</td>\n",
       "      <td>None</td>\n",
       "      <td>None</td>\n",
       "      <td>en-us</td>\n",
       "      <td>No</td>\n",
       "      <td>None</td>\n",
       "      <td>{'browser': 'Safari', 'browser_version': '13.1'}</td>\n",
       "    </tr>\n",
       "    <tr>\n",
       "      <th>3</th>\n",
       "      <td>mobile</td>\n",
       "      <td>Apple</td>\n",
       "      <td>iPhone</td>\n",
       "      <td>&lt;Other&gt;</td>\n",
       "      <td>None</td>\n",
       "      <td>Web</td>\n",
       "      <td>&lt;Other&gt;</td>\n",
       "      <td>None</td>\n",
       "      <td>None</td>\n",
       "      <td>en-us</td>\n",
       "      <td>No</td>\n",
       "      <td>None</td>\n",
       "      <td>{'browser': 'Safari', 'browser_version': '13.1'}</td>\n",
       "    </tr>\n",
       "    <tr>\n",
       "      <th>4</th>\n",
       "      <td>mobile</td>\n",
       "      <td>Apple</td>\n",
       "      <td>iPhone</td>\n",
       "      <td>&lt;Other&gt;</td>\n",
       "      <td>None</td>\n",
       "      <td>Web</td>\n",
       "      <td>&lt;Other&gt;</td>\n",
       "      <td>None</td>\n",
       "      <td>None</td>\n",
       "      <td>en-us</td>\n",
       "      <td>No</td>\n",
       "      <td>None</td>\n",
       "      <td>{'browser': 'Safari', 'browser_version': '13.1'}</td>\n",
       "    </tr>\n",
       "    <tr>\n",
       "      <th>...</th>\n",
       "      <td>...</td>\n",
       "      <td>...</td>\n",
       "      <td>...</td>\n",
       "      <td>...</td>\n",
       "      <td>...</td>\n",
       "      <td>...</td>\n",
       "      <td>...</td>\n",
       "      <td>...</td>\n",
       "      <td>...</td>\n",
       "      <td>...</td>\n",
       "      <td>...</td>\n",
       "      <td>...</td>\n",
       "      <td>...</td>\n",
       "    </tr>\n",
       "    <tr>\n",
       "      <th>26484</th>\n",
       "      <td>mobile</td>\n",
       "      <td>Apple</td>\n",
       "      <td>iPhone</td>\n",
       "      <td>&lt;Other&gt;</td>\n",
       "      <td>None</td>\n",
       "      <td>iOS</td>\n",
       "      <td>iOS 14.2</td>\n",
       "      <td>None</td>\n",
       "      <td>None</td>\n",
       "      <td>en-us</td>\n",
       "      <td>No</td>\n",
       "      <td>None</td>\n",
       "      <td>{'browser': 'Safari', 'browser_version': '14.0'}</td>\n",
       "    </tr>\n",
       "    <tr>\n",
       "      <th>26485</th>\n",
       "      <td>mobile</td>\n",
       "      <td>Apple</td>\n",
       "      <td>iPhone</td>\n",
       "      <td>&lt;Other&gt;</td>\n",
       "      <td>None</td>\n",
       "      <td>iOS</td>\n",
       "      <td>iOS 14.2</td>\n",
       "      <td>None</td>\n",
       "      <td>None</td>\n",
       "      <td>en-us</td>\n",
       "      <td>No</td>\n",
       "      <td>None</td>\n",
       "      <td>{'browser': 'Safari', 'browser_version': '14.0'}</td>\n",
       "    </tr>\n",
       "    <tr>\n",
       "      <th>26486</th>\n",
       "      <td>mobile</td>\n",
       "      <td>Apple</td>\n",
       "      <td>iPhone</td>\n",
       "      <td>&lt;Other&gt;</td>\n",
       "      <td>None</td>\n",
       "      <td>iOS</td>\n",
       "      <td>iOS 14.2</td>\n",
       "      <td>None</td>\n",
       "      <td>None</td>\n",
       "      <td>en-us</td>\n",
       "      <td>No</td>\n",
       "      <td>None</td>\n",
       "      <td>{'browser': 'Safari', 'browser_version': '14.0'}</td>\n",
       "    </tr>\n",
       "    <tr>\n",
       "      <th>26487</th>\n",
       "      <td>mobile</td>\n",
       "      <td>Apple</td>\n",
       "      <td>iPhone</td>\n",
       "      <td>&lt;Other&gt;</td>\n",
       "      <td>None</td>\n",
       "      <td>iOS</td>\n",
       "      <td>iOS 14.2</td>\n",
       "      <td>None</td>\n",
       "      <td>None</td>\n",
       "      <td>en-us</td>\n",
       "      <td>No</td>\n",
       "      <td>None</td>\n",
       "      <td>{'browser': 'Safari', 'browser_version': '14.0'}</td>\n",
       "    </tr>\n",
       "    <tr>\n",
       "      <th>26488</th>\n",
       "      <td>desktop</td>\n",
       "      <td>Google</td>\n",
       "      <td>Chrome</td>\n",
       "      <td>&lt;Other&gt;</td>\n",
       "      <td>None</td>\n",
       "      <td>Web</td>\n",
       "      <td>10</td>\n",
       "      <td>None</td>\n",
       "      <td>None</td>\n",
       "      <td>en-us</td>\n",
       "      <td>No</td>\n",
       "      <td>None</td>\n",
       "      <td>{'browser': 'Chrome', 'browser_version': '86.0'}</td>\n",
       "    </tr>\n",
       "  </tbody>\n",
       "</table>\n",
       "<p>26489 rows × 13 columns</p>\n",
       "</div>"
      ],
      "text/plain": [
       "      category mobile_brand_name mobile_model_name mobile_marketing_name  \\\n",
       "0       mobile             Apple            iPhone               <Other>   \n",
       "1       mobile             Apple            iPhone               <Other>   \n",
       "2       mobile             Apple            iPhone               <Other>   \n",
       "3       mobile             Apple            iPhone               <Other>   \n",
       "4       mobile             Apple            iPhone               <Other>   \n",
       "...        ...               ...               ...                   ...   \n",
       "26484   mobile             Apple            iPhone               <Other>   \n",
       "26485   mobile             Apple            iPhone               <Other>   \n",
       "26486   mobile             Apple            iPhone               <Other>   \n",
       "26487   mobile             Apple            iPhone               <Other>   \n",
       "26488  desktop            Google            Chrome               <Other>   \n",
       "\n",
       "      mobile_os_hardware_model operating_system operating_system_version  \\\n",
       "0                         None              Web                  <Other>   \n",
       "1                         None              Web                  <Other>   \n",
       "2                         None              Web                  <Other>   \n",
       "3                         None              Web                  <Other>   \n",
       "4                         None              Web                  <Other>   \n",
       "...                        ...              ...                      ...   \n",
       "26484                     None              iOS                 iOS 14.2   \n",
       "26485                     None              iOS                 iOS 14.2   \n",
       "26486                     None              iOS                 iOS 14.2   \n",
       "26487                     None              iOS                 iOS 14.2   \n",
       "26488                     None              Web                       10   \n",
       "\n",
       "      vendor_id advertising_id language is_limited_ad_tracking  \\\n",
       "0          None           None    en-us                     No   \n",
       "1          None           None    en-us                     No   \n",
       "2          None           None    en-us                     No   \n",
       "3          None           None    en-us                     No   \n",
       "4          None           None    en-us                     No   \n",
       "...         ...            ...      ...                    ...   \n",
       "26484      None           None    en-us                     No   \n",
       "26485      None           None    en-us                     No   \n",
       "26486      None           None    en-us                     No   \n",
       "26487      None           None    en-us                     No   \n",
       "26488      None           None    en-us                     No   \n",
       "\n",
       "      time_zone_offset_seconds  \\\n",
       "0                         None   \n",
       "1                         None   \n",
       "2                         None   \n",
       "3                         None   \n",
       "4                         None   \n",
       "...                        ...   \n",
       "26484                     None   \n",
       "26485                     None   \n",
       "26486                     None   \n",
       "26487                     None   \n",
       "26488                     None   \n",
       "\n",
       "                                               web_info  \n",
       "0      {'browser': 'Safari', 'browser_version': '13.1'}  \n",
       "1      {'browser': 'Safari', 'browser_version': '13.1'}  \n",
       "2      {'browser': 'Safari', 'browser_version': '13.1'}  \n",
       "3      {'browser': 'Safari', 'browser_version': '13.1'}  \n",
       "4      {'browser': 'Safari', 'browser_version': '13.1'}  \n",
       "...                                                 ...  \n",
       "26484  {'browser': 'Safari', 'browser_version': '14.0'}  \n",
       "26485  {'browser': 'Safari', 'browser_version': '14.0'}  \n",
       "26486  {'browser': 'Safari', 'browser_version': '14.0'}  \n",
       "26487  {'browser': 'Safari', 'browser_version': '14.0'}  \n",
       "26488  {'browser': 'Chrome', 'browser_version': '86.0'}  \n",
       "\n",
       "[26489 rows x 13 columns]"
      ]
     },
     "execution_count": 30,
     "metadata": {},
     "output_type": "execute_result"
    }
   ],
   "source": [
    "device"
   ]
  },
  {
   "cell_type": "markdown",
   "id": "eb09a44d",
   "metadata": {},
   "source": [
    "As you can see web info is a column that further contains dictionaries, hence these also need to be broken down"
   ]
  },
  {
   "cell_type": "code",
   "execution_count": 31,
   "id": "19e956e6",
   "metadata": {},
   "outputs": [
    {
     "data": {
      "text/html": [
       "<div>\n",
       "<style scoped>\n",
       "    .dataframe tbody tr th:only-of-type {\n",
       "        vertical-align: middle;\n",
       "    }\n",
       "\n",
       "    .dataframe tbody tr th {\n",
       "        vertical-align: top;\n",
       "    }\n",
       "\n",
       "    .dataframe thead th {\n",
       "        text-align: right;\n",
       "    }\n",
       "</style>\n",
       "<table border=\"1\" class=\"dataframe\">\n",
       "  <thead>\n",
       "    <tr style=\"text-align: right;\">\n",
       "      <th></th>\n",
       "      <th>browser</th>\n",
       "      <th>browser_version</th>\n",
       "    </tr>\n",
       "  </thead>\n",
       "  <tbody>\n",
       "    <tr>\n",
       "      <th>0</th>\n",
       "      <td>Safari</td>\n",
       "      <td>13.1</td>\n",
       "    </tr>\n",
       "    <tr>\n",
       "      <th>1</th>\n",
       "      <td>Safari</td>\n",
       "      <td>13.1</td>\n",
       "    </tr>\n",
       "    <tr>\n",
       "      <th>2</th>\n",
       "      <td>Safari</td>\n",
       "      <td>13.1</td>\n",
       "    </tr>\n",
       "    <tr>\n",
       "      <th>3</th>\n",
       "      <td>Safari</td>\n",
       "      <td>13.1</td>\n",
       "    </tr>\n",
       "    <tr>\n",
       "      <th>4</th>\n",
       "      <td>Safari</td>\n",
       "      <td>13.1</td>\n",
       "    </tr>\n",
       "    <tr>\n",
       "      <th>...</th>\n",
       "      <td>...</td>\n",
       "      <td>...</td>\n",
       "    </tr>\n",
       "    <tr>\n",
       "      <th>26484</th>\n",
       "      <td>Safari</td>\n",
       "      <td>14.0</td>\n",
       "    </tr>\n",
       "    <tr>\n",
       "      <th>26485</th>\n",
       "      <td>Safari</td>\n",
       "      <td>14.0</td>\n",
       "    </tr>\n",
       "    <tr>\n",
       "      <th>26486</th>\n",
       "      <td>Safari</td>\n",
       "      <td>14.0</td>\n",
       "    </tr>\n",
       "    <tr>\n",
       "      <th>26487</th>\n",
       "      <td>Safari</td>\n",
       "      <td>14.0</td>\n",
       "    </tr>\n",
       "    <tr>\n",
       "      <th>26488</th>\n",
       "      <td>Chrome</td>\n",
       "      <td>86.0</td>\n",
       "    </tr>\n",
       "  </tbody>\n",
       "</table>\n",
       "<p>26489 rows × 2 columns</p>\n",
       "</div>"
      ],
      "text/plain": [
       "      browser browser_version\n",
       "0      Safari            13.1\n",
       "1      Safari            13.1\n",
       "2      Safari            13.1\n",
       "3      Safari            13.1\n",
       "4      Safari            13.1\n",
       "...       ...             ...\n",
       "26484  Safari            14.0\n",
       "26485  Safari            14.0\n",
       "26486  Safari            14.0\n",
       "26487  Safari            14.0\n",
       "26488  Chrome            86.0\n",
       "\n",
       "[26489 rows x 2 columns]"
      ]
     },
     "execution_count": 31,
     "metadata": {},
     "output_type": "execute_result"
    }
   ],
   "source": [
    "web_info = device['web_info'].apply(pd.Series)\n",
    "web_info"
   ]
  },
  {
   "cell_type": "code",
   "execution_count": 32,
   "id": "d6047b0f",
   "metadata": {},
   "outputs": [
    {
     "name": "stdout",
     "output_type": "stream",
     "text": [
      "['category', 'mobile_brand_name', 'mobile_model_name', 'mobile_marketing_name', 'mobile_os_hardware_model', 'operating_system', 'operating_system_version', 'vendor_id', 'advertising_id', 'language', 'is_limited_ad_tracking', 'time_zone_offset_seconds']\n"
     ]
    }
   ],
   "source": [
    "# Removing web info column as it has been processed\n",
    "cols = device.columns.to_list()\n",
    "cols.pop(-1)\n",
    "print(cols)"
   ]
  },
  {
   "cell_type": "code",
   "execution_count": 33,
   "id": "4b97d1d0",
   "metadata": {},
   "outputs": [
    {
     "data": {
      "text/html": [
       "<div>\n",
       "<style scoped>\n",
       "    .dataframe tbody tr th:only-of-type {\n",
       "        vertical-align: middle;\n",
       "    }\n",
       "\n",
       "    .dataframe tbody tr th {\n",
       "        vertical-align: top;\n",
       "    }\n",
       "\n",
       "    .dataframe thead th {\n",
       "        text-align: right;\n",
       "    }\n",
       "</style>\n",
       "<table border=\"1\" class=\"dataframe\">\n",
       "  <thead>\n",
       "    <tr style=\"text-align: right;\">\n",
       "      <th></th>\n",
       "      <th>event_date</th>\n",
       "      <th>event_timestamp</th>\n",
       "      <th>event_name</th>\n",
       "      <th>event_params</th>\n",
       "      <th>event_bundle_sequence_id</th>\n",
       "      <th>user_pseudo_id</th>\n",
       "      <th>privacy_info</th>\n",
       "      <th>user_first_touch_timestamp</th>\n",
       "      <th>user_ltv</th>\n",
       "      <th>device</th>\n",
       "      <th>...</th>\n",
       "      <th>mobile_model_name</th>\n",
       "      <th>mobile_marketing_name</th>\n",
       "      <th>mobile_os_hardware_model</th>\n",
       "      <th>operating_system</th>\n",
       "      <th>operating_system_version</th>\n",
       "      <th>vendor_id</th>\n",
       "      <th>advertising_id</th>\n",
       "      <th>language</th>\n",
       "      <th>is_limited_ad_tracking</th>\n",
       "      <th>time_zone_offset_seconds</th>\n",
       "    </tr>\n",
       "  </thead>\n",
       "  <tbody>\n",
       "    <tr>\n",
       "      <th>0</th>\n",
       "      <td>2021-01-31</td>\n",
       "      <td>1970-01-19 15:47:49.510766593</td>\n",
       "      <td>page_view</td>\n",
       "      <td>[{'key': 'gclid', 'value': {'string_value': No...</td>\n",
       "      <td>6595101026</td>\n",
       "      <td>1.026454e+06</td>\n",
       "      <td>{'analytics_storage': None, 'ads_storage': Non...</td>\n",
       "      <td>1.612070e+15</td>\n",
       "      <td>{'revenue': 0.0, 'currency': 'USD'}</td>\n",
       "      <td>{'category': 'mobile', 'mobile_brand_name': 'A...</td>\n",
       "      <td>...</td>\n",
       "      <td>iPhone</td>\n",
       "      <td>&lt;Other&gt;</td>\n",
       "      <td>None</td>\n",
       "      <td>Web</td>\n",
       "      <td>&lt;Other&gt;</td>\n",
       "      <td>None</td>\n",
       "      <td>None</td>\n",
       "      <td>en-us</td>\n",
       "      <td>No</td>\n",
       "      <td>None</td>\n",
       "    </tr>\n",
       "    <tr>\n",
       "      <th>1</th>\n",
       "      <td>2021-01-31</td>\n",
       "      <td>1970-01-19 15:47:49.529243877</td>\n",
       "      <td>scroll</td>\n",
       "      <td>[{'key': 'debug_mode', 'value': {'string_value...</td>\n",
       "      <td>9011338476</td>\n",
       "      <td>1.026454e+06</td>\n",
       "      <td>{'analytics_storage': None, 'ads_storage': Non...</td>\n",
       "      <td>1.612070e+15</td>\n",
       "      <td>{'revenue': 0.0, 'currency': 'USD'}</td>\n",
       "      <td>{'category': 'mobile', 'mobile_brand_name': 'A...</td>\n",
       "      <td>...</td>\n",
       "      <td>iPhone</td>\n",
       "      <td>&lt;Other&gt;</td>\n",
       "      <td>None</td>\n",
       "      <td>Web</td>\n",
       "      <td>&lt;Other&gt;</td>\n",
       "      <td>None</td>\n",
       "      <td>None</td>\n",
       "      <td>en-us</td>\n",
       "      <td>No</td>\n",
       "      <td>None</td>\n",
       "    </tr>\n",
       "  </tbody>\n",
       "</table>\n",
       "<p>2 rows × 33 columns</p>\n",
       "</div>"
      ],
      "text/plain": [
       "   event_date               event_timestamp event_name  \\\n",
       "0  2021-01-31 1970-01-19 15:47:49.510766593  page_view   \n",
       "1  2021-01-31 1970-01-19 15:47:49.529243877     scroll   \n",
       "\n",
       "                                        event_params  \\\n",
       "0  [{'key': 'gclid', 'value': {'string_value': No...   \n",
       "1  [{'key': 'debug_mode', 'value': {'string_value...   \n",
       "\n",
       "   event_bundle_sequence_id  user_pseudo_id  \\\n",
       "0                6595101026    1.026454e+06   \n",
       "1                9011338476    1.026454e+06   \n",
       "\n",
       "                                        privacy_info  \\\n",
       "0  {'analytics_storage': None, 'ads_storage': Non...   \n",
       "1  {'analytics_storage': None, 'ads_storage': Non...   \n",
       "\n",
       "   user_first_touch_timestamp                             user_ltv  \\\n",
       "0                1.612070e+15  {'revenue': 0.0, 'currency': 'USD'}   \n",
       "1                1.612070e+15  {'revenue': 0.0, 'currency': 'USD'}   \n",
       "\n",
       "                                              device  ... mobile_model_name  \\\n",
       "0  {'category': 'mobile', 'mobile_brand_name': 'A...  ...            iPhone   \n",
       "1  {'category': 'mobile', 'mobile_brand_name': 'A...  ...            iPhone   \n",
       "\n",
       "  mobile_marketing_name  mobile_os_hardware_model operating_system  \\\n",
       "0               <Other>                      None              Web   \n",
       "1               <Other>                      None              Web   \n",
       "\n",
       "  operating_system_version vendor_id advertising_id language  \\\n",
       "0                  <Other>      None           None    en-us   \n",
       "1                  <Other>      None           None    en-us   \n",
       "\n",
       "  is_limited_ad_tracking  time_zone_offset_seconds  \n",
       "0                     No                      None  \n",
       "1                     No                      None  \n",
       "\n",
       "[2 rows x 33 columns]"
      ]
     },
     "execution_count": 33,
     "metadata": {},
     "output_type": "execute_result"
    }
   ],
   "source": [
    "for i in cols: # adding columns\n",
    "    data[i] = device[i]\n",
    "data.head(2)"
   ]
  },
  {
   "cell_type": "code",
   "execution_count": 34,
   "id": "58e8b831",
   "metadata": {},
   "outputs": [],
   "source": [
    "data['browser'] = web_info['browser']\n",
    "data['browser_version'] = web_info['browser_version']"
   ]
  },
  {
   "cell_type": "code",
   "execution_count": 35,
   "id": "f9481667",
   "metadata": {},
   "outputs": [
    {
     "data": {
      "text/html": [
       "<div>\n",
       "<style scoped>\n",
       "    .dataframe tbody tr th:only-of-type {\n",
       "        vertical-align: middle;\n",
       "    }\n",
       "\n",
       "    .dataframe tbody tr th {\n",
       "        vertical-align: top;\n",
       "    }\n",
       "\n",
       "    .dataframe thead th {\n",
       "        text-align: right;\n",
       "    }\n",
       "</style>\n",
       "<table border=\"1\" class=\"dataframe\">\n",
       "  <thead>\n",
       "    <tr style=\"text-align: right;\">\n",
       "      <th></th>\n",
       "      <th>medium</th>\n",
       "      <th>name</th>\n",
       "      <th>source</th>\n",
       "    </tr>\n",
       "  </thead>\n",
       "  <tbody>\n",
       "    <tr>\n",
       "      <th>0</th>\n",
       "      <td>organic</td>\n",
       "      <td>(organic)</td>\n",
       "      <td>google</td>\n",
       "    </tr>\n",
       "    <tr>\n",
       "      <th>1</th>\n",
       "      <td>organic</td>\n",
       "      <td>(organic)</td>\n",
       "      <td>google</td>\n",
       "    </tr>\n",
       "    <tr>\n",
       "      <th>2</th>\n",
       "      <td>organic</td>\n",
       "      <td>(organic)</td>\n",
       "      <td>google</td>\n",
       "    </tr>\n",
       "    <tr>\n",
       "      <th>3</th>\n",
       "      <td>organic</td>\n",
       "      <td>(organic)</td>\n",
       "      <td>google</td>\n",
       "    </tr>\n",
       "    <tr>\n",
       "      <th>4</th>\n",
       "      <td>organic</td>\n",
       "      <td>(organic)</td>\n",
       "      <td>google</td>\n",
       "    </tr>\n",
       "    <tr>\n",
       "      <th>...</th>\n",
       "      <td>...</td>\n",
       "      <td>...</td>\n",
       "      <td>...</td>\n",
       "    </tr>\n",
       "    <tr>\n",
       "      <th>26484</th>\n",
       "      <td>referral</td>\n",
       "      <td>(referral)</td>\n",
       "      <td>shop.googlemerchandisestore.com</td>\n",
       "    </tr>\n",
       "    <tr>\n",
       "      <th>26485</th>\n",
       "      <td>referral</td>\n",
       "      <td>(referral)</td>\n",
       "      <td>shop.googlemerchandisestore.com</td>\n",
       "    </tr>\n",
       "    <tr>\n",
       "      <th>26486</th>\n",
       "      <td>referral</td>\n",
       "      <td>(referral)</td>\n",
       "      <td>shop.googlemerchandisestore.com</td>\n",
       "    </tr>\n",
       "    <tr>\n",
       "      <th>26487</th>\n",
       "      <td>referral</td>\n",
       "      <td>(referral)</td>\n",
       "      <td>shop.googlemerchandisestore.com</td>\n",
       "    </tr>\n",
       "    <tr>\n",
       "      <th>26488</th>\n",
       "      <td>organic</td>\n",
       "      <td>(organic)</td>\n",
       "      <td>google</td>\n",
       "    </tr>\n",
       "  </tbody>\n",
       "</table>\n",
       "<p>26489 rows × 3 columns</p>\n",
       "</div>"
      ],
      "text/plain": [
       "         medium        name                           source\n",
       "0       organic   (organic)                           google\n",
       "1       organic   (organic)                           google\n",
       "2       organic   (organic)                           google\n",
       "3       organic   (organic)                           google\n",
       "4       organic   (organic)                           google\n",
       "...         ...         ...                              ...\n",
       "26484  referral  (referral)  shop.googlemerchandisestore.com\n",
       "26485  referral  (referral)  shop.googlemerchandisestore.com\n",
       "26486  referral  (referral)  shop.googlemerchandisestore.com\n",
       "26487  referral  (referral)  shop.googlemerchandisestore.com\n",
       "26488   organic   (organic)                           google\n",
       "\n",
       "[26489 rows x 3 columns]"
      ]
     },
     "execution_count": 35,
     "metadata": {},
     "output_type": "execute_result"
    }
   ],
   "source": [
    "# converting string to dictionary\n",
    "dict_list = []\n",
    "for i in data['traffic_source']:\n",
    "    dict_list.append(ast.literal_eval(i)) # creating list of dictionaries representing each cell\n",
    "\n",
    "# conversion of list to series in form of a dataset\n",
    "data['traffic_source'] = dict_list\n",
    "traffic = data['traffic_source'].apply(pd.Series)\n",
    "traffic"
   ]
  },
  {
   "cell_type": "code",
   "execution_count": 36,
   "id": "7f4d822a",
   "metadata": {},
   "outputs": [],
   "source": [
    "data['medium'] = traffic['medium']\n",
    "data['name'] = traffic['name']\n",
    "data['source'] = traffic['source']"
   ]
  },
  {
   "cell_type": "code",
   "execution_count": 37,
   "id": "fdac0715",
   "metadata": {},
   "outputs": [
    {
     "data": {
      "text/html": [
       "<div>\n",
       "<style scoped>\n",
       "    .dataframe tbody tr th:only-of-type {\n",
       "        vertical-align: middle;\n",
       "    }\n",
       "\n",
       "    .dataframe tbody tr th {\n",
       "        vertical-align: top;\n",
       "    }\n",
       "\n",
       "    .dataframe thead th {\n",
       "        text-align: right;\n",
       "    }\n",
       "</style>\n",
       "<table border=\"1\" class=\"dataframe\">\n",
       "  <thead>\n",
       "    <tr style=\"text-align: right;\">\n",
       "      <th></th>\n",
       "      <th>total_item_quantity</th>\n",
       "      <th>purchase_revenue_in_usd</th>\n",
       "      <th>purchase_revenue</th>\n",
       "      <th>refund_value_in_usd</th>\n",
       "      <th>refund_value</th>\n",
       "      <th>shipping_value_in_usd</th>\n",
       "      <th>shipping_value</th>\n",
       "      <th>tax_value_in_usd</th>\n",
       "      <th>tax_value</th>\n",
       "      <th>unique_items</th>\n",
       "      <th>transaction_id</th>\n",
       "    </tr>\n",
       "  </thead>\n",
       "  <tbody>\n",
       "    <tr>\n",
       "      <th>0</th>\n",
       "      <td>NaN</td>\n",
       "      <td>NaN</td>\n",
       "      <td>None</td>\n",
       "      <td>None</td>\n",
       "      <td>None</td>\n",
       "      <td>None</td>\n",
       "      <td>None</td>\n",
       "      <td>None</td>\n",
       "      <td>None</td>\n",
       "      <td>NaN</td>\n",
       "      <td>None</td>\n",
       "    </tr>\n",
       "    <tr>\n",
       "      <th>1</th>\n",
       "      <td>NaN</td>\n",
       "      <td>NaN</td>\n",
       "      <td>None</td>\n",
       "      <td>None</td>\n",
       "      <td>None</td>\n",
       "      <td>None</td>\n",
       "      <td>None</td>\n",
       "      <td>None</td>\n",
       "      <td>None</td>\n",
       "      <td>NaN</td>\n",
       "      <td>None</td>\n",
       "    </tr>\n",
       "    <tr>\n",
       "      <th>2</th>\n",
       "      <td>NaN</td>\n",
       "      <td>NaN</td>\n",
       "      <td>None</td>\n",
       "      <td>None</td>\n",
       "      <td>None</td>\n",
       "      <td>None</td>\n",
       "      <td>None</td>\n",
       "      <td>None</td>\n",
       "      <td>None</td>\n",
       "      <td>NaN</td>\n",
       "      <td>None</td>\n",
       "    </tr>\n",
       "    <tr>\n",
       "      <th>3</th>\n",
       "      <td>NaN</td>\n",
       "      <td>NaN</td>\n",
       "      <td>None</td>\n",
       "      <td>None</td>\n",
       "      <td>None</td>\n",
       "      <td>None</td>\n",
       "      <td>None</td>\n",
       "      <td>None</td>\n",
       "      <td>None</td>\n",
       "      <td>NaN</td>\n",
       "      <td>None</td>\n",
       "    </tr>\n",
       "    <tr>\n",
       "      <th>4</th>\n",
       "      <td>NaN</td>\n",
       "      <td>NaN</td>\n",
       "      <td>None</td>\n",
       "      <td>None</td>\n",
       "      <td>None</td>\n",
       "      <td>None</td>\n",
       "      <td>None</td>\n",
       "      <td>None</td>\n",
       "      <td>None</td>\n",
       "      <td>NaN</td>\n",
       "      <td>None</td>\n",
       "    </tr>\n",
       "    <tr>\n",
       "      <th>...</th>\n",
       "      <td>...</td>\n",
       "      <td>...</td>\n",
       "      <td>...</td>\n",
       "      <td>...</td>\n",
       "      <td>...</td>\n",
       "      <td>...</td>\n",
       "      <td>...</td>\n",
       "      <td>...</td>\n",
       "      <td>...</td>\n",
       "      <td>...</td>\n",
       "      <td>...</td>\n",
       "    </tr>\n",
       "    <tr>\n",
       "      <th>26484</th>\n",
       "      <td>NaN</td>\n",
       "      <td>NaN</td>\n",
       "      <td>None</td>\n",
       "      <td>None</td>\n",
       "      <td>None</td>\n",
       "      <td>None</td>\n",
       "      <td>None</td>\n",
       "      <td>None</td>\n",
       "      <td>None</td>\n",
       "      <td>1.0</td>\n",
       "      <td>(not set)</td>\n",
       "    </tr>\n",
       "    <tr>\n",
       "      <th>26485</th>\n",
       "      <td>NaN</td>\n",
       "      <td>NaN</td>\n",
       "      <td>None</td>\n",
       "      <td>None</td>\n",
       "      <td>None</td>\n",
       "      <td>None</td>\n",
       "      <td>None</td>\n",
       "      <td>None</td>\n",
       "      <td>None</td>\n",
       "      <td>1.0</td>\n",
       "      <td>(not set)</td>\n",
       "    </tr>\n",
       "    <tr>\n",
       "      <th>26486</th>\n",
       "      <td>NaN</td>\n",
       "      <td>NaN</td>\n",
       "      <td>None</td>\n",
       "      <td>None</td>\n",
       "      <td>None</td>\n",
       "      <td>None</td>\n",
       "      <td>None</td>\n",
       "      <td>None</td>\n",
       "      <td>None</td>\n",
       "      <td>1.0</td>\n",
       "      <td>(not set)</td>\n",
       "    </tr>\n",
       "    <tr>\n",
       "      <th>26487</th>\n",
       "      <td>NaN</td>\n",
       "      <td>NaN</td>\n",
       "      <td>None</td>\n",
       "      <td>None</td>\n",
       "      <td>None</td>\n",
       "      <td>None</td>\n",
       "      <td>None</td>\n",
       "      <td>None</td>\n",
       "      <td>None</td>\n",
       "      <td>1.0</td>\n",
       "      <td>(not set)</td>\n",
       "    </tr>\n",
       "    <tr>\n",
       "      <th>26488</th>\n",
       "      <td>NaN</td>\n",
       "      <td>NaN</td>\n",
       "      <td>None</td>\n",
       "      <td>None</td>\n",
       "      <td>None</td>\n",
       "      <td>None</td>\n",
       "      <td>None</td>\n",
       "      <td>None</td>\n",
       "      <td>None</td>\n",
       "      <td>1.0</td>\n",
       "      <td>(not set)</td>\n",
       "    </tr>\n",
       "  </tbody>\n",
       "</table>\n",
       "<p>26489 rows × 11 columns</p>\n",
       "</div>"
      ],
      "text/plain": [
       "       total_item_quantity  purchase_revenue_in_usd purchase_revenue  \\\n",
       "0                      NaN                      NaN             None   \n",
       "1                      NaN                      NaN             None   \n",
       "2                      NaN                      NaN             None   \n",
       "3                      NaN                      NaN             None   \n",
       "4                      NaN                      NaN             None   \n",
       "...                    ...                      ...              ...   \n",
       "26484                  NaN                      NaN             None   \n",
       "26485                  NaN                      NaN             None   \n",
       "26486                  NaN                      NaN             None   \n",
       "26487                  NaN                      NaN             None   \n",
       "26488                  NaN                      NaN             None   \n",
       "\n",
       "      refund_value_in_usd refund_value shipping_value_in_usd shipping_value  \\\n",
       "0                    None         None                  None           None   \n",
       "1                    None         None                  None           None   \n",
       "2                    None         None                  None           None   \n",
       "3                    None         None                  None           None   \n",
       "4                    None         None                  None           None   \n",
       "...                   ...          ...                   ...            ...   \n",
       "26484                None         None                  None           None   \n",
       "26485                None         None                  None           None   \n",
       "26486                None         None                  None           None   \n",
       "26487                None         None                  None           None   \n",
       "26488                None         None                  None           None   \n",
       "\n",
       "      tax_value_in_usd tax_value  unique_items transaction_id  \n",
       "0                 None      None           NaN           None  \n",
       "1                 None      None           NaN           None  \n",
       "2                 None      None           NaN           None  \n",
       "3                 None      None           NaN           None  \n",
       "4                 None      None           NaN           None  \n",
       "...                ...       ...           ...            ...  \n",
       "26484             None      None           1.0      (not set)  \n",
       "26485             None      None           1.0      (not set)  \n",
       "26486             None      None           1.0      (not set)  \n",
       "26487             None      None           1.0      (not set)  \n",
       "26488             None      None           1.0      (not set)  \n",
       "\n",
       "[26489 rows x 11 columns]"
      ]
     },
     "execution_count": 37,
     "metadata": {},
     "output_type": "execute_result"
    }
   ],
   "source": [
    "# converting string to dictionary\n",
    "dict_list = []\n",
    "for i in data['ecommerce']:\n",
    "    dict_list.append(ast.literal_eval(i)) # creating list of dictionaries representing each cell\n",
    "\n",
    "# conversion of list to series in form of a dataset\n",
    "data['ecommerce'] = dict_list\n",
    "ecommerce = data['ecommerce'].apply(pd.Series)\n",
    "ecommerce"
   ]
  },
  {
   "cell_type": "code",
   "execution_count": 38,
   "id": "42921f50",
   "metadata": {},
   "outputs": [
    {
     "data": {
      "text/html": [
       "<div>\n",
       "<style scoped>\n",
       "    .dataframe tbody tr th:only-of-type {\n",
       "        vertical-align: middle;\n",
       "    }\n",
       "\n",
       "    .dataframe tbody tr th {\n",
       "        vertical-align: top;\n",
       "    }\n",
       "\n",
       "    .dataframe thead th {\n",
       "        text-align: right;\n",
       "    }\n",
       "</style>\n",
       "<table border=\"1\" class=\"dataframe\">\n",
       "  <thead>\n",
       "    <tr style=\"text-align: right;\">\n",
       "      <th></th>\n",
       "      <th>event_date</th>\n",
       "      <th>event_timestamp</th>\n",
       "      <th>event_name</th>\n",
       "      <th>event_params</th>\n",
       "      <th>event_bundle_sequence_id</th>\n",
       "      <th>user_pseudo_id</th>\n",
       "      <th>privacy_info</th>\n",
       "      <th>user_first_touch_timestamp</th>\n",
       "      <th>user_ltv</th>\n",
       "      <th>device</th>\n",
       "      <th>...</th>\n",
       "      <th>purchase_revenue_in_usd</th>\n",
       "      <th>purchase_revenue</th>\n",
       "      <th>refund_value_in_usd</th>\n",
       "      <th>refund_value</th>\n",
       "      <th>shipping_value_in_usd</th>\n",
       "      <th>shipping_value</th>\n",
       "      <th>tax_value_in_usd</th>\n",
       "      <th>tax_value</th>\n",
       "      <th>unique_items</th>\n",
       "      <th>transaction_id</th>\n",
       "    </tr>\n",
       "  </thead>\n",
       "  <tbody>\n",
       "    <tr>\n",
       "      <th>0</th>\n",
       "      <td>2021-01-31</td>\n",
       "      <td>1970-01-19 15:47:49.510766593</td>\n",
       "      <td>page_view</td>\n",
       "      <td>[{'key': 'gclid', 'value': {'string_value': No...</td>\n",
       "      <td>6595101026</td>\n",
       "      <td>1.026454e+06</td>\n",
       "      <td>{'analytics_storage': None, 'ads_storage': Non...</td>\n",
       "      <td>1.612070e+15</td>\n",
       "      <td>{'revenue': 0.0, 'currency': 'USD'}</td>\n",
       "      <td>{'category': 'mobile', 'mobile_brand_name': 'A...</td>\n",
       "      <td>...</td>\n",
       "      <td>NaN</td>\n",
       "      <td>None</td>\n",
       "      <td>None</td>\n",
       "      <td>None</td>\n",
       "      <td>None</td>\n",
       "      <td>None</td>\n",
       "      <td>None</td>\n",
       "      <td>None</td>\n",
       "      <td>NaN</td>\n",
       "      <td>None</td>\n",
       "    </tr>\n",
       "    <tr>\n",
       "      <th>1</th>\n",
       "      <td>2021-01-31</td>\n",
       "      <td>1970-01-19 15:47:49.529243877</td>\n",
       "      <td>scroll</td>\n",
       "      <td>[{'key': 'debug_mode', 'value': {'string_value...</td>\n",
       "      <td>9011338476</td>\n",
       "      <td>1.026454e+06</td>\n",
       "      <td>{'analytics_storage': None, 'ads_storage': Non...</td>\n",
       "      <td>1.612070e+15</td>\n",
       "      <td>{'revenue': 0.0, 'currency': 'USD'}</td>\n",
       "      <td>{'category': 'mobile', 'mobile_brand_name': 'A...</td>\n",
       "      <td>...</td>\n",
       "      <td>NaN</td>\n",
       "      <td>None</td>\n",
       "      <td>None</td>\n",
       "      <td>None</td>\n",
       "      <td>None</td>\n",
       "      <td>None</td>\n",
       "      <td>None</td>\n",
       "      <td>None</td>\n",
       "      <td>NaN</td>\n",
       "      <td>None</td>\n",
       "    </tr>\n",
       "  </tbody>\n",
       "</table>\n",
       "<p>2 rows × 49 columns</p>\n",
       "</div>"
      ],
      "text/plain": [
       "   event_date               event_timestamp event_name  \\\n",
       "0  2021-01-31 1970-01-19 15:47:49.510766593  page_view   \n",
       "1  2021-01-31 1970-01-19 15:47:49.529243877     scroll   \n",
       "\n",
       "                                        event_params  \\\n",
       "0  [{'key': 'gclid', 'value': {'string_value': No...   \n",
       "1  [{'key': 'debug_mode', 'value': {'string_value...   \n",
       "\n",
       "   event_bundle_sequence_id  user_pseudo_id  \\\n",
       "0                6595101026    1.026454e+06   \n",
       "1                9011338476    1.026454e+06   \n",
       "\n",
       "                                        privacy_info  \\\n",
       "0  {'analytics_storage': None, 'ads_storage': Non...   \n",
       "1  {'analytics_storage': None, 'ads_storage': Non...   \n",
       "\n",
       "   user_first_touch_timestamp                             user_ltv  \\\n",
       "0                1.612070e+15  {'revenue': 0.0, 'currency': 'USD'}   \n",
       "1                1.612070e+15  {'revenue': 0.0, 'currency': 'USD'}   \n",
       "\n",
       "                                              device  ...  \\\n",
       "0  {'category': 'mobile', 'mobile_brand_name': 'A...  ...   \n",
       "1  {'category': 'mobile', 'mobile_brand_name': 'A...  ...   \n",
       "\n",
       "  purchase_revenue_in_usd purchase_revenue  refund_value_in_usd refund_value  \\\n",
       "0                     NaN             None                 None         None   \n",
       "1                     NaN             None                 None         None   \n",
       "\n",
       "  shipping_value_in_usd shipping_value tax_value_in_usd tax_value  \\\n",
       "0                  None           None             None      None   \n",
       "1                  None           None             None      None   \n",
       "\n",
       "  unique_items  transaction_id  \n",
       "0          NaN            None  \n",
       "1          NaN            None  \n",
       "\n",
       "[2 rows x 49 columns]"
      ]
     },
     "execution_count": 38,
     "metadata": {},
     "output_type": "execute_result"
    }
   ],
   "source": [
    "for i in ecommerce.columns: # adding columns\n",
    "    data[i] = ecommerce[i]\n",
    "data.head(2)"
   ]
  },
  {
   "cell_type": "code",
   "execution_count": 39,
   "id": "3538a792",
   "metadata": {},
   "outputs": [
    {
     "data": {
      "text/plain": [
       "Index(['event_date', 'event_timestamp', 'event_name', 'event_params',\n",
       "       'event_bundle_sequence_id', 'user_pseudo_id', 'privacy_info',\n",
       "       'user_first_touch_timestamp', 'user_ltv', 'device', 'geo',\n",
       "       'traffic_source', 'stream_id', 'platform', 'ecommerce', 'items',\n",
       "       'analytics_storage', 'ads_storage', 'uses_transient_token', 'revenue',\n",
       "       'currency', 'category', 'mobile_brand_name', 'mobile_model_name',\n",
       "       'mobile_marketing_name', 'mobile_os_hardware_model', 'operating_system',\n",
       "       'operating_system_version', 'vendor_id', 'advertising_id', 'language',\n",
       "       'is_limited_ad_tracking', 'time_zone_offset_seconds', 'browser',\n",
       "       'browser_version', 'medium', 'name', 'source', 'total_item_quantity',\n",
       "       'purchase_revenue_in_usd', 'purchase_revenue', 'refund_value_in_usd',\n",
       "       'refund_value', 'shipping_value_in_usd', 'shipping_value',\n",
       "       'tax_value_in_usd', 'tax_value', 'unique_items', 'transaction_id'],\n",
       "      dtype='object')"
      ]
     },
     "execution_count": 39,
     "metadata": {},
     "output_type": "execute_result"
    }
   ],
   "source": [
    "data.columns"
   ]
  },
  {
   "cell_type": "code",
   "execution_count": 40,
   "id": "7c754825",
   "metadata": {},
   "outputs": [
    {
     "data": {
      "text/plain": [
       "0        {'continent': 'Americas', 'sub_continent': 'No...\n",
       "1        {'continent': 'Americas', 'sub_continent': 'No...\n",
       "2        {'continent': 'Americas', 'sub_continent': 'No...\n",
       "3        {'continent': 'Americas', 'sub_continent': 'No...\n",
       "4        {'continent': 'Americas', 'sub_continent': 'No...\n",
       "                               ...                        \n",
       "26484    {'continent': 'Americas', 'sub_continent': 'No...\n",
       "26485    {'continent': 'Americas', 'sub_continent': 'No...\n",
       "26486    {'continent': 'Americas', 'sub_continent': 'No...\n",
       "26487    {'continent': 'Americas', 'sub_continent': 'No...\n",
       "26488    {'continent': 'Americas', 'sub_continent': 'No...\n",
       "Name: geo, Length: 26489, dtype: object"
      ]
     },
     "execution_count": 40,
     "metadata": {},
     "output_type": "execute_result"
    }
   ],
   "source": [
    "data['geo']"
   ]
  },
  {
   "cell_type": "code",
   "execution_count": 41,
   "id": "71bdb8d3",
   "metadata": {},
   "outputs": [
    {
     "data": {
      "text/plain": [
       "0        [{'key': 'gclid', 'value': {'string_value': No...\n",
       "1        [{'key': 'debug_mode', 'value': {'string_value...\n",
       "2        [{'key': 'debug_mode', 'value': {'string_value...\n",
       "3        [{'key': 'page_location', 'value': {'string_va...\n",
       "4        [{'key': 'ga_session_number', 'value': {'strin...\n",
       "                               ...                        \n",
       "26484    [{'key': 'engaged_session_event', 'value': {'s...\n",
       "26485    [{'key': 'engaged_session_event', 'value': {'s...\n",
       "26486    [{'key': 'session_engaged', 'value': {'string_...\n",
       "26487    [{'key': 'page_location', 'value': {'string_va...\n",
       "26488    [{'key': 'page_title', 'value': {'string_value...\n",
       "Name: event_params, Length: 26489, dtype: object"
      ]
     },
     "execution_count": 41,
     "metadata": {},
     "output_type": "execute_result"
    }
   ],
   "source": [
    "data['event_params']"
   ]
  },
  {
   "cell_type": "code",
   "execution_count": 42,
   "id": "05a5a6dd",
   "metadata": {},
   "outputs": [
    {
     "data": {
      "text/plain": [
       "0                                                       []\n",
       "1                                                       []\n",
       "2                                                       []\n",
       "3                                                       []\n",
       "4                                                       []\n",
       "                               ...                        \n",
       "26484    [{'item_id': '(not set)', 'item_name': '(not s...\n",
       "26485    [{'item_id': '(not set)', 'item_name': '(not s...\n",
       "26486    [{'item_id': '(not set)', 'item_name': '(not s...\n",
       "26487    [{'item_id': '(not set)', 'item_name': '(not s...\n",
       "26488    [{'item_id': '(not set)', 'item_name': '(not s...\n",
       "Name: items, Length: 26489, dtype: object"
      ]
     },
     "execution_count": 42,
     "metadata": {},
     "output_type": "execute_result"
    }
   ],
   "source": [
    "data['items']"
   ]
  },
  {
   "cell_type": "code",
   "execution_count": 43,
   "id": "30555fa6",
   "metadata": {},
   "outputs": [
    {
     "data": {
      "text/html": [
       "<div>\n",
       "<style scoped>\n",
       "    .dataframe tbody tr th:only-of-type {\n",
       "        vertical-align: middle;\n",
       "    }\n",
       "\n",
       "    .dataframe tbody tr th {\n",
       "        vertical-align: top;\n",
       "    }\n",
       "\n",
       "    .dataframe thead th {\n",
       "        text-align: right;\n",
       "    }\n",
       "</style>\n",
       "<table border=\"1\" class=\"dataframe\">\n",
       "  <thead>\n",
       "    <tr style=\"text-align: right;\">\n",
       "      <th></th>\n",
       "      <th>continent</th>\n",
       "      <th>sub_continent</th>\n",
       "      <th>country</th>\n",
       "      <th>region</th>\n",
       "      <th>city</th>\n",
       "      <th>metro</th>\n",
       "    </tr>\n",
       "  </thead>\n",
       "  <tbody>\n",
       "    <tr>\n",
       "      <th>0</th>\n",
       "      <td>Americas</td>\n",
       "      <td>Northern America</td>\n",
       "      <td>United States</td>\n",
       "      <td>California</td>\n",
       "      <td>San Carlos</td>\n",
       "      <td>(not set)</td>\n",
       "    </tr>\n",
       "    <tr>\n",
       "      <th>1</th>\n",
       "      <td>Americas</td>\n",
       "      <td>Northern America</td>\n",
       "      <td>United States</td>\n",
       "      <td>California</td>\n",
       "      <td>San Carlos</td>\n",
       "      <td>(not set)</td>\n",
       "    </tr>\n",
       "    <tr>\n",
       "      <th>2</th>\n",
       "      <td>Americas</td>\n",
       "      <td>Northern America</td>\n",
       "      <td>United States</td>\n",
       "      <td>California</td>\n",
       "      <td>San Carlos</td>\n",
       "      <td>(not set)</td>\n",
       "    </tr>\n",
       "    <tr>\n",
       "      <th>3</th>\n",
       "      <td>Americas</td>\n",
       "      <td>Northern America</td>\n",
       "      <td>United States</td>\n",
       "      <td>California</td>\n",
       "      <td>San Carlos</td>\n",
       "      <td>(not set)</td>\n",
       "    </tr>\n",
       "    <tr>\n",
       "      <th>4</th>\n",
       "      <td>Americas</td>\n",
       "      <td>Northern America</td>\n",
       "      <td>United States</td>\n",
       "      <td>California</td>\n",
       "      <td>San Carlos</td>\n",
       "      <td>(not set)</td>\n",
       "    </tr>\n",
       "    <tr>\n",
       "      <th>...</th>\n",
       "      <td>...</td>\n",
       "      <td>...</td>\n",
       "      <td>...</td>\n",
       "      <td>...</td>\n",
       "      <td>...</td>\n",
       "      <td>...</td>\n",
       "    </tr>\n",
       "    <tr>\n",
       "      <th>26484</th>\n",
       "      <td>Americas</td>\n",
       "      <td>Northern America</td>\n",
       "      <td>United States</td>\n",
       "      <td>Maine</td>\n",
       "      <td>Turner</td>\n",
       "      <td>(not set)</td>\n",
       "    </tr>\n",
       "    <tr>\n",
       "      <th>26485</th>\n",
       "      <td>Americas</td>\n",
       "      <td>Northern America</td>\n",
       "      <td>United States</td>\n",
       "      <td>Maine</td>\n",
       "      <td>Turner</td>\n",
       "      <td>(not set)</td>\n",
       "    </tr>\n",
       "    <tr>\n",
       "      <th>26486</th>\n",
       "      <td>Americas</td>\n",
       "      <td>Northern America</td>\n",
       "      <td>United States</td>\n",
       "      <td>Maine</td>\n",
       "      <td>Turner</td>\n",
       "      <td>(not set)</td>\n",
       "    </tr>\n",
       "    <tr>\n",
       "      <th>26487</th>\n",
       "      <td>Americas</td>\n",
       "      <td>Northern America</td>\n",
       "      <td>United States</td>\n",
       "      <td>Maine</td>\n",
       "      <td>Turner</td>\n",
       "      <td>(not set)</td>\n",
       "    </tr>\n",
       "    <tr>\n",
       "      <th>26488</th>\n",
       "      <td>Americas</td>\n",
       "      <td>Northern America</td>\n",
       "      <td>United States</td>\n",
       "      <td>California</td>\n",
       "      <td>San Francisco</td>\n",
       "      <td>(not set)</td>\n",
       "    </tr>\n",
       "  </tbody>\n",
       "</table>\n",
       "<p>26489 rows × 6 columns</p>\n",
       "</div>"
      ],
      "text/plain": [
       "      continent     sub_continent        country      region           city  \\\n",
       "0      Americas  Northern America  United States  California     San Carlos   \n",
       "1      Americas  Northern America  United States  California     San Carlos   \n",
       "2      Americas  Northern America  United States  California     San Carlos   \n",
       "3      Americas  Northern America  United States  California     San Carlos   \n",
       "4      Americas  Northern America  United States  California     San Carlos   \n",
       "...         ...               ...            ...         ...            ...   \n",
       "26484  Americas  Northern America  United States       Maine         Turner   \n",
       "26485  Americas  Northern America  United States       Maine         Turner   \n",
       "26486  Americas  Northern America  United States       Maine         Turner   \n",
       "26487  Americas  Northern America  United States       Maine         Turner   \n",
       "26488  Americas  Northern America  United States  California  San Francisco   \n",
       "\n",
       "           metro  \n",
       "0      (not set)  \n",
       "1      (not set)  \n",
       "2      (not set)  \n",
       "3      (not set)  \n",
       "4      (not set)  \n",
       "...          ...  \n",
       "26484  (not set)  \n",
       "26485  (not set)  \n",
       "26486  (not set)  \n",
       "26487  (not set)  \n",
       "26488  (not set)  \n",
       "\n",
       "[26489 rows x 6 columns]"
      ]
     },
     "execution_count": 43,
     "metadata": {},
     "output_type": "execute_result"
    }
   ],
   "source": [
    "# converting string to dictionary\n",
    "dict_list = []\n",
    "for i in data['geo']:\n",
    "    dict_list.append(ast.literal_eval(i)) # creating list of dictionaries representing each cell\n",
    "\n",
    "# conversion of list to series in form of a dataset\n",
    "data['geo'] = dict_list\n",
    "geo = data['geo'].apply(pd.Series)\n",
    "geo"
   ]
  },
  {
   "cell_type": "code",
   "execution_count": 44,
   "id": "4c937d3f",
   "metadata": {},
   "outputs": [],
   "source": [
    "data['continent'] = geo['continent']\n",
    "data['sub_continent'] = geo['sub_continent']\n",
    "data['country'] = geo['country']\n",
    "data['region'] = geo['region']\n",
    "data['city'] = geo['city']\n",
    "data['metro'] = geo['metro']"
   ]
  },
  {
   "cell_type": "markdown",
   "id": "0817adb1",
   "metadata": {},
   "source": [
    "As seen below the event_params column contains information that is not decodeable without background knowledge hence we can omit this column"
   ]
  },
  {
   "cell_type": "code",
   "execution_count": 45,
   "id": "0a135102",
   "metadata": {},
   "outputs": [
    {
     "data": {
      "text/plain": [
       "\"[{'key': 'debug_mode', 'value': {'string_value': None, 'int_value': 1, 'float_value': None, 'double_value': None}}\\n {'key': 'session_engaged', 'value': {'string_value': '1', 'int_value': None, 'float_value': None, 'double_value': None}}\\n {'key': 'engaged_session_event', 'value': {'string_value': None, 'int_value': 1, 'float_value': None, 'double_value': None}}\\n {'key': 'page_location', 'value': {'string_value': 'https://shop.googlemerchandisestore.com/', 'int_value': None, 'float_value': None, 'double_value': None}}\\n {'key': 'gclid', 'value': {'string_value': None, 'int_value': None, 'float_value': None, 'double_value': None}}\\n {'key': 'ga_session_id', 'value': {'string_value': None, 'int_value': 661084800, 'float_value': None, 'double_value': None}}\\n {'key': 'page_title', 'value': {'string_value': 'Home', 'int_value': None, 'float_value': None, 'double_value': None}}\\n {'key': 'percent_scrolled', 'value': {'string_value': None, 'int_value': 90, 'float_value': None, 'double_value': None}}\\n {'key': 'gclsrc', 'value': {'string_value': None, 'int_value': None, 'float_value': None, 'double_value': None}}\\n {'key': 'ga_session_number', 'value': {'string_value': None, 'int_value': 1, 'float_value': None, 'double_value': None}}\\n {'key': 'engagement_time_msec', 'value': {'string_value': None, 'int_value': 11873, 'float_value': None, 'double_value': None}}]\""
      ]
     },
     "execution_count": 45,
     "metadata": {},
     "output_type": "execute_result"
    }
   ],
   "source": [
    "data['event_params'][1] "
   ]
  },
  {
   "cell_type": "markdown",
   "id": "fd6ca637",
   "metadata": {},
   "source": [
    "Now we can drop all the columns converted from dictionaries to columns"
   ]
  },
  {
   "cell_type": "code",
   "execution_count": 46,
   "id": "4cbbffe9",
   "metadata": {},
   "outputs": [
    {
     "data": {
      "text/plain": [
       "Index(['event_date', 'event_timestamp', 'event_name',\n",
       "       'event_bundle_sequence_id', 'user_pseudo_id',\n",
       "       'user_first_touch_timestamp', 'stream_id', 'platform', 'items',\n",
       "       'analytics_storage', 'ads_storage', 'uses_transient_token', 'revenue',\n",
       "       'currency', 'category', 'mobile_brand_name', 'mobile_model_name',\n",
       "       'mobile_marketing_name', 'mobile_os_hardware_model', 'operating_system',\n",
       "       'operating_system_version', 'vendor_id', 'advertising_id', 'language',\n",
       "       'is_limited_ad_tracking', 'time_zone_offset_seconds', 'browser',\n",
       "       'browser_version', 'medium', 'name', 'source', 'total_item_quantity',\n",
       "       'purchase_revenue_in_usd', 'purchase_revenue', 'refund_value_in_usd',\n",
       "       'refund_value', 'shipping_value_in_usd', 'shipping_value',\n",
       "       'tax_value_in_usd', 'tax_value', 'unique_items', 'transaction_id',\n",
       "       'continent', 'sub_continent', 'country', 'region', 'city', 'metro'],\n",
       "      dtype='object')"
      ]
     },
     "execution_count": 46,
     "metadata": {},
     "output_type": "execute_result"
    }
   ],
   "source": [
    "data.drop(['geo', 'event_params', 'ecommerce', 'device', 'privacy_info',\"user_ltv\", \"traffic_source\"], axis=1, inplace=True)\n",
    "data.columns"
   ]
  },
  {
   "cell_type": "markdown",
   "id": "110ff263",
   "metadata": {},
   "source": [
    "From these columns, the ones that are empty need to be removed"
   ]
  },
  {
   "cell_type": "code",
   "execution_count": 47,
   "id": "410b31d8",
   "metadata": {},
   "outputs": [
    {
     "data": {
      "text/plain": [
       "event_date                        0\n",
       "event_timestamp                   0\n",
       "event_name                        0\n",
       "event_bundle_sequence_id          0\n",
       "user_pseudo_id                    0\n",
       "user_first_touch_timestamp      958\n",
       "stream_id                         0\n",
       "platform                          0\n",
       "items                             0\n",
       "analytics_storage             26489\n",
       "ads_storage                   26489\n",
       "uses_transient_token              0\n",
       "revenue                           0\n",
       "currency                          0\n",
       "category                          0\n",
       "mobile_brand_name                 0\n",
       "mobile_model_name                 0\n",
       "mobile_marketing_name             0\n",
       "mobile_os_hardware_model      26489\n",
       "operating_system                  0\n",
       "operating_system_version          0\n",
       "vendor_id                     26489\n",
       "advertising_id                26489\n",
       "language                       9941\n",
       "is_limited_ad_tracking            0\n",
       "time_zone_offset_seconds      26489\n",
       "browser                           0\n",
       "browser_version                   0\n",
       "medium                            0\n",
       "name                              0\n",
       "source                            0\n",
       "total_item_quantity           26146\n",
       "purchase_revenue_in_usd       26470\n",
       "purchase_revenue              26489\n",
       "refund_value_in_usd           26489\n",
       "refund_value                  26489\n",
       "shipping_value_in_usd         26489\n",
       "shipping_value                26489\n",
       "tax_value_in_usd              26489\n",
       "tax_value                     26489\n",
       "unique_items                  23530\n",
       "transaction_id                22461\n",
       "continent                         0\n",
       "sub_continent                     0\n",
       "country                           0\n",
       "region                            0\n",
       "city                              0\n",
       "metro                             0\n",
       "dtype: int64"
      ]
     },
     "execution_count": 47,
     "metadata": {},
     "output_type": "execute_result"
    }
   ],
   "source": [
    "data.isnull().sum() # number of null values in each column"
   ]
  },
  {
   "cell_type": "markdown",
   "id": "5927441c",
   "metadata": {},
   "source": [
    "As visible analytics_storage, ads_storage, vendor_id, advertising_id, time_zone_offset_seconds, purchase_revenue, refund_value_in_usd,refund_value, shipping_value_in_usd, shipping_value, tax_value_in_usd, tax_value need to be removed since these columns are empty"
   ]
  },
  {
   "cell_type": "code",
   "execution_count": 48,
   "id": "cb95fb04",
   "metadata": {},
   "outputs": [
    {
     "data": {
      "text/plain": [
       "Index(['event_date', 'event_timestamp', 'event_name',\n",
       "       'event_bundle_sequence_id', 'user_pseudo_id',\n",
       "       'user_first_touch_timestamp', 'stream_id', 'platform', 'items',\n",
       "       'uses_transient_token', 'revenue', 'currency', 'category',\n",
       "       'mobile_brand_name', 'mobile_model_name', 'mobile_marketing_name',\n",
       "       'mobile_os_hardware_model', 'operating_system',\n",
       "       'operating_system_version', 'language', 'is_limited_ad_tracking',\n",
       "       'browser', 'browser_version', 'medium', 'name', 'source',\n",
       "       'total_item_quantity', 'purchase_revenue_in_usd', 'unique_items',\n",
       "       'transaction_id', 'continent', 'sub_continent', 'country', 'region',\n",
       "       'city', 'metro'],\n",
       "      dtype='object')"
      ]
     },
     "execution_count": 48,
     "metadata": {},
     "output_type": "execute_result"
    }
   ],
   "source": [
    "data.drop(['analytics_storage', 'ads_storage', 'vendor_id', 'advertising_id', 'time_zone_offset_seconds', \n",
    "           'purchase_revenue','refund_value_in_usd','refund_value', 'shipping_value_in_usd', 'shipping_value', \n",
    "           'tax_value_in_usd', 'tax_value'], axis=1, inplace=True)\n",
    "data.columns # user_properties column is deleted"
   ]
  },
  {
   "cell_type": "code",
   "execution_count": 49,
   "id": "b116d053",
   "metadata": {},
   "outputs": [
    {
     "data": {
      "text/plain": [
       "event_date                        0\n",
       "event_timestamp                   0\n",
       "event_name                        0\n",
       "event_bundle_sequence_id          0\n",
       "user_pseudo_id                    0\n",
       "user_first_touch_timestamp      958\n",
       "stream_id                         0\n",
       "platform                          0\n",
       "items                             0\n",
       "uses_transient_token              0\n",
       "revenue                           0\n",
       "currency                          0\n",
       "category                          0\n",
       "mobile_brand_name                 0\n",
       "mobile_model_name                 0\n",
       "mobile_marketing_name             0\n",
       "mobile_os_hardware_model      26489\n",
       "operating_system                  0\n",
       "operating_system_version          0\n",
       "language                       9941\n",
       "is_limited_ad_tracking            0\n",
       "browser                           0\n",
       "browser_version                   0\n",
       "medium                            0\n",
       "name                              0\n",
       "source                            0\n",
       "total_item_quantity           26146\n",
       "purchase_revenue_in_usd       26470\n",
       "unique_items                  23530\n",
       "transaction_id                22461\n",
       "continent                         0\n",
       "sub_continent                     0\n",
       "country                           0\n",
       "region                            0\n",
       "city                              0\n",
       "metro                             0\n",
       "dtype: int64"
      ]
     },
     "execution_count": 49,
     "metadata": {},
     "output_type": "execute_result"
    }
   ],
   "source": [
    "data.isnull().sum() # number of null values in each column"
   ]
  },
  {
   "cell_type": "markdown",
   "id": "92b34189",
   "metadata": {},
   "source": [
    "Now we try and explore items column of the dataset since most of it is empty but the records themselves provide useful information regarding the items that were sold and their relevant information. Hence, it is important to retreive whatever information we can so that in future, if needed during analysis, it can help in providing insights."
   ]
  },
  {
   "cell_type": "code",
   "execution_count": 50,
   "id": "89a628f3",
   "metadata": {},
   "outputs": [],
   "source": [
    "dict_list = []\n",
    "for i in data['items']:\n",
    "    dict_list.append(i.replace(\"[\",\"\").replace(\"]\",\"\"))\n",
    "data['items']=dict_list"
   ]
  },
  {
   "cell_type": "code",
   "execution_count": 51,
   "id": "1fc9ce9d",
   "metadata": {},
   "outputs": [
    {
     "data": {
      "text/plain": [
       "array([\"{'item_id': 'GGOEAFBA115599', 'item_name': 'Android Super Hero 3D Framed Art', 'item_brand': 'Android', 'item_variant': '(not set)', 'item_category': '', 'item_category2': '(not set)', 'item_category3': '(not set)', 'item_category4': '(not set)', 'item_category5': '(not set)', 'price_in_usd': None, 'price': 40.0, 'quantity': None, 'item_revenue_in_usd': None, 'item_revenue': None, 'item_refund_in_usd': None, 'item_refund': None, 'coupon': '(not set)', 'affiliation': '(not set)', 'location_id': '(not set)', 'item_list_id': '(not set)', 'item_list_name': '(not set)', 'item_list_index': '4', 'promotion_id': '(not set)', 'promotion_name': '(not set)', 'creative_name': '(not set)', 'creative_slot': '(not set)'}\",\n",
       "       \"{'item_id': '9190330', 'item_name': 'Google Crew Socks', 'item_brand': 'Google', 'item_variant': '', 'item_category': '', 'item_category2': '(not set)', 'item_category3': '(not set)', 'item_category4': '(not set)', 'item_category5': '(not set)', 'price_in_usd': None, 'price': 16.0, 'quantity': 1, 'item_revenue_in_usd': None, 'item_revenue': None, 'item_refund_in_usd': None, 'item_refund': None, 'coupon': '(not set)', 'affiliation': '(not set)', 'location_id': '(not set)', 'item_list_id': '(not set)', 'item_list_name': '(not set)', 'item_list_index': '1', 'promotion_id': '(not set)', 'promotion_name': '(not set)', 'creative_name': '(not set)', 'creative_slot': '(not set)'}\",\n",
       "       \"{'item_id': 'GGOEGAEB105210', 'item_name': 'Google Crew Socks', 'item_brand': 'Google', 'item_variant': '(not set)', 'item_category': '', 'item_category2': '(not set)', 'item_category3': '(not set)', 'item_category4': '(not set)', 'item_category5': '(not set)', 'price_in_usd': None, 'price': 16.0, 'quantity': None, 'item_revenue_in_usd': None, 'item_revenue': None, 'item_refund_in_usd': None, 'item_refund': None, 'coupon': '(not set)', 'affiliation': '(not set)', 'location_id': '(not set)', 'item_list_id': '(not set)', 'item_list_name': '(not set)', 'item_list_index': '1', 'promotion_id': '(not set)', 'promotion_name': '(not set)', 'creative_name': '(not set)', 'creative_slot': '(not set)'}\",\n",
       "       ...,\n",
       "       \"{'item_id': '(not set)', 'item_name': '(not set)', 'item_brand': '(not set)', 'item_variant': '(not set)', 'item_category': '(not set)', 'item_category2': '(not set)', 'item_category3': '(not set)', 'item_category4': '(not set)', 'item_category5': '(not set)', 'price_in_usd': None, 'price': None, 'quantity': None, 'item_revenue_in_usd': None, 'item_revenue': None, 'item_refund_in_usd': None, 'item_refund': None, 'coupon': '(not set)', 'affiliation': '(not set)', 'location_id': '(not set)', 'item_list_id': '(not set)', 'item_list_name': '(not set)', 'item_list_index': 'Slide 1', 'promotion_id': '(not set)', 'promotion_name': 'Reach New Heights', 'creative_name': 'Front Page Carousel', 'creative_slot': '(not set)'}\",\n",
       "       \"{'item_id': '(not set)', 'item_name': '(not set)', 'item_brand': '(not set)', 'item_variant': '(not set)', 'item_category': '(not set)', 'item_category2': '(not set)', 'item_category3': '(not set)', 'item_category4': '(not set)', 'item_category5': '(not set)', 'price_in_usd': None, 'price': None, 'quantity': None, 'item_revenue_in_usd': None, 'item_revenue': None, 'item_refund_in_usd': None, 'item_refund': None, 'coupon': '(not set)', 'affiliation': '(not set)', 'location_id': '(not set)', 'item_list_id': '(not set)', 'item_list_name': '(not set)', 'item_list_index': 'Slide 4', 'promotion_id': '(not set)', 'promotion_name': 'Google Mural Collection', 'creative_name': 'Front Page Carousel', 'creative_slot': '(not set)'}\",\n",
       "       \"{'item_id': '(not set)', 'item_name': '(not set)', 'item_brand': '(not set)', 'item_variant': '(not set)', 'item_category': '(not set)', 'item_category2': '(not set)', 'item_category3': '(not set)', 'item_category4': '(not set)', 'item_category5': '(not set)', 'price_in_usd': None, 'price': None, 'quantity': None, 'item_revenue_in_usd': None, 'item_revenue': None, 'item_refund_in_usd': None, 'item_refund': None, 'coupon': '(not set)', 'affiliation': '(not set)', 'location_id': '(not set)', 'item_list_id': '(not set)', 'item_list_name': '(not set)', 'item_list_index': 'Slide 2', 'promotion_id': '(not set)', 'promotion_name': 'Act Responsible', 'creative_name': 'Front Page Carousel', 'creative_slot': '(not set)'}\"],\n",
       "      dtype=object)"
      ]
     },
     "execution_count": 51,
     "metadata": {},
     "output_type": "execute_result"
    }
   ],
   "source": [
    "# keeping only non null cells\n",
    "items = data['items'].unique()\n",
    "items = np.delete(items,0)\n",
    "items"
   ]
  },
  {
   "cell_type": "code",
   "execution_count": 52,
   "id": "1e702786",
   "metadata": {},
   "outputs": [
    {
     "data": {
      "text/html": [
       "<div>\n",
       "<style scoped>\n",
       "    .dataframe tbody tr th:only-of-type {\n",
       "        vertical-align: middle;\n",
       "    }\n",
       "\n",
       "    .dataframe tbody tr th {\n",
       "        vertical-align: top;\n",
       "    }\n",
       "\n",
       "    .dataframe thead th {\n",
       "        text-align: right;\n",
       "    }\n",
       "</style>\n",
       "<table border=\"1\" class=\"dataframe\">\n",
       "  <thead>\n",
       "    <tr style=\"text-align: right;\">\n",
       "      <th></th>\n",
       "      <th>0</th>\n",
       "    </tr>\n",
       "  </thead>\n",
       "  <tbody>\n",
       "    <tr>\n",
       "      <th>0</th>\n",
       "      <td>{'item_id': 'GGOEAFBA115599', 'item_name': 'An...</td>\n",
       "    </tr>\n",
       "    <tr>\n",
       "      <th>1</th>\n",
       "      <td>{'item_id': '9190330', 'item_name': 'Google Cr...</td>\n",
       "    </tr>\n",
       "    <tr>\n",
       "      <th>2</th>\n",
       "      <td>{'item_id': 'GGOEGAEB105210', 'item_name': 'Go...</td>\n",
       "    </tr>\n",
       "    <tr>\n",
       "      <th>3</th>\n",
       "      <td>{'item_id': 'GGOEAFBA115499', 'item_name': 'An...</td>\n",
       "    </tr>\n",
       "    <tr>\n",
       "      <th>4</th>\n",
       "      <td>{'item_id': '(not set)', 'item_name': '(not se...</td>\n",
       "    </tr>\n",
       "    <tr>\n",
       "      <th>...</th>\n",
       "      <td>...</td>\n",
       "    </tr>\n",
       "    <tr>\n",
       "      <th>1697</th>\n",
       "      <td>{'item_id': 'GGOEGBJJ103799', 'item_name': 'Go...</td>\n",
       "    </tr>\n",
       "    <tr>\n",
       "      <th>1698</th>\n",
       "      <td>{'item_id': '(not set)', 'item_name': '(not se...</td>\n",
       "    </tr>\n",
       "    <tr>\n",
       "      <th>1699</th>\n",
       "      <td>{'item_id': '(not set)', 'item_name': '(not se...</td>\n",
       "    </tr>\n",
       "    <tr>\n",
       "      <th>1700</th>\n",
       "      <td>{'item_id': '(not set)', 'item_name': '(not se...</td>\n",
       "    </tr>\n",
       "    <tr>\n",
       "      <th>1701</th>\n",
       "      <td>{'item_id': '(not set)', 'item_name': '(not se...</td>\n",
       "    </tr>\n",
       "  </tbody>\n",
       "</table>\n",
       "<p>1702 rows × 1 columns</p>\n",
       "</div>"
      ],
      "text/plain": [
       "                                                      0\n",
       "0     {'item_id': 'GGOEAFBA115599', 'item_name': 'An...\n",
       "1     {'item_id': '9190330', 'item_name': 'Google Cr...\n",
       "2     {'item_id': 'GGOEGAEB105210', 'item_name': 'Go...\n",
       "3     {'item_id': 'GGOEAFBA115499', 'item_name': 'An...\n",
       "4     {'item_id': '(not set)', 'item_name': '(not se...\n",
       "...                                                 ...\n",
       "1697  {'item_id': 'GGOEGBJJ103799', 'item_name': 'Go...\n",
       "1698  {'item_id': '(not set)', 'item_name': '(not se...\n",
       "1699  {'item_id': '(not set)', 'item_name': '(not se...\n",
       "1700  {'item_id': '(not set)', 'item_name': '(not se...\n",
       "1701  {'item_id': '(not set)', 'item_name': '(not se...\n",
       "\n",
       "[1702 rows x 1 columns]"
      ]
     },
     "execution_count": 52,
     "metadata": {},
     "output_type": "execute_result"
    }
   ],
   "source": [
    "# convert items to series\n",
    "items = pd.DataFrame(items)\n",
    "items"
   ]
  },
  {
   "cell_type": "code",
   "execution_count": 53,
   "id": "28a3becd",
   "metadata": {},
   "outputs": [
    {
     "name": "stdout",
     "output_type": "stream",
     "text": [
      "{'item_id': 'GGOEAFBA115599', 'item_name': 'Android Super Hero 3D Framed Art', 'item_brand': 'Android', 'item_variant': '(not set)', 'item_category': '', 'item_category2': '(not set)', 'item_category3': '(not set)', 'item_category4': '(not set)', 'item_category5': '(not set)', 'price_in_usd': None, 'price': 40.0, 'quantity': None, 'item_revenue_in_usd': None, 'item_revenue': None, 'item_refund_in_usd': None, 'item_refund': None, 'coupon': '(not set)', 'affiliation': '(not set)', 'location_id': '(not set)', 'item_list_id': '(not set)', 'item_list_name': '(not set)', 'item_list_index': '4', 'promotion_id': '(not set)', 'promotion_name': '(not set)', 'creative_name': '(not set)', 'creative_slot': '(not set)'}\n"
     ]
    }
   ],
   "source": [
    "# formation of column\n",
    "for i in items[0]:\n",
    "    print(i)\n",
    "    break"
   ]
  },
  {
   "cell_type": "markdown",
   "id": "b2909941",
   "metadata": {},
   "source": [
    "## Website Performance"
   ]
  },
  {
   "cell_type": "code",
   "execution_count": 54,
   "id": "94dc7f24",
   "metadata": {},
   "outputs": [
    {
     "data": {
      "text/plain": [
       "Index(['event_date', 'event_timestamp', 'event_name',\n",
       "       'event_bundle_sequence_id', 'user_pseudo_id',\n",
       "       'user_first_touch_timestamp', 'stream_id', 'platform', 'items',\n",
       "       'uses_transient_token', 'revenue', 'currency', 'category',\n",
       "       'mobile_brand_name', 'mobile_model_name', 'mobile_marketing_name',\n",
       "       'mobile_os_hardware_model', 'operating_system',\n",
       "       'operating_system_version', 'language', 'is_limited_ad_tracking',\n",
       "       'browser', 'browser_version', 'medium', 'name', 'source',\n",
       "       'total_item_quantity', 'purchase_revenue_in_usd', 'unique_items',\n",
       "       'transaction_id', 'continent', 'sub_continent', 'country', 'region',\n",
       "       'city', 'metro'],\n",
       "      dtype='object')"
      ]
     },
     "execution_count": 54,
     "metadata": {},
     "output_type": "execute_result"
    }
   ],
   "source": [
    "data.columns"
   ]
  },
  {
   "cell_type": "markdown",
   "id": "8f78a819",
   "metadata": {},
   "source": [
    "### Variation of Revenue Over Time"
   ]
  },
  {
   "cell_type": "code",
   "execution_count": 55,
   "id": "8d6de22f",
   "metadata": {},
   "outputs": [
    {
     "data": {
      "image/png": "[encoded data removed]",
      "text/plain": [
       "<Figure size 1440x576 with 1 Axes>"
      ]
     },
     "metadata": {
      "needs_background": "light"
     },
     "output_type": "display_data"
    }
   ],
   "source": [
    "# plotting the trend using line graph\n",
    "plt.figure(figsize=(20, 8))\n",
    "plt.scatter(data['event_date'], data['revenue'])\n",
    "\n",
    "#add horizontal line at mean,max and min value of y\n",
    "plt.axhline(y=np.nanmean(data['revenue']),color='red', linestyle='--', linewidth=3, label='Avg')\n",
    "plt.axhline(y=max(data['revenue']),color='blue', linestyle='--', linewidth=3, label='Max')\n",
    "plt.axhline(y=min(data['revenue']),color='green', linestyle='--', linewidth=3, label='Min')\n",
    "\n",
    "plt.title('Revenue Over Time', fontsize=14)\n",
    "plt.xlabel('Date', fontsize=14)\n",
    "plt.ylabel('Revenue', fontsize=14)\n",
    "plt.grid(True)\n",
    "plt.show()"
   ]
  },
  {
   "cell_type": "code",
   "execution_count": 56,
   "id": "3a2d11b9",
   "metadata": {},
   "outputs": [
    {
     "name": "stdout",
     "output_type": "stream",
     "text": [
      "1.515270489637208\n",
      "209.0\n",
      "0.0\n"
     ]
    }
   ],
   "source": [
    "print(np.nanmean(data['revenue']))# average\n",
    "print(max(data['revenue'])) #max\n",
    "print(min(data['revenue'])) #min"
   ]
  },
  {
   "cell_type": "code",
   "execution_count": 57,
   "id": "ff887eaf",
   "metadata": {},
   "outputs": [
    {
     "data": {
      "text/plain": [
       "array(['2021-01-31'], dtype=object)"
      ]
     },
     "execution_count": 57,
     "metadata": {},
     "output_type": "execute_result"
    }
   ],
   "source": [
    "data['event_date'].unique()"
   ]
  },
  {
   "cell_type": "code",
   "execution_count": 58,
   "id": "66f52659",
   "metadata": {},
   "outputs": [
    {
     "data": {
      "text/plain": [
       "3784     2021-01-31\n",
       "3785     2021-01-31\n",
       "3786     2021-01-31\n",
       "3787     2021-01-31\n",
       "3788     2021-01-31\n",
       "3789     2021-01-31\n",
       "3790     2021-01-31\n",
       "3791     2021-01-31\n",
       "3792     2021-01-31\n",
       "3793     2021-01-31\n",
       "3794     2021-01-31\n",
       "3795     2021-01-31\n",
       "3796     2021-01-31\n",
       "3797     2021-01-31\n",
       "3798     2021-01-31\n",
       "3799     2021-01-31\n",
       "3800     2021-01-31\n",
       "3801     2021-01-31\n",
       "3802     2021-01-31\n",
       "3803     2021-01-31\n",
       "3804     2021-01-31\n",
       "3805     2021-01-31\n",
       "3806     2021-01-31\n",
       "3807     2021-01-31\n",
       "3808     2021-01-31\n",
       "3809     2021-01-31\n",
       "3810     2021-01-31\n",
       "3811     2021-01-31\n",
       "3812     2021-01-31\n",
       "3813     2021-01-31\n",
       "3814     2021-01-31\n",
       "3815     2021-01-31\n",
       "3816     2021-01-31\n",
       "3817     2021-01-31\n",
       "3818     2021-01-31\n",
       "3819     2021-01-31\n",
       "3820     2021-01-31\n",
       "3821     2021-01-31\n",
       "3822     2021-01-31\n",
       "24054    2021-01-31\n",
       "24055    2021-01-31\n",
       "24056    2021-01-31\n",
       "24057    2021-01-31\n",
       "24380    2021-01-31\n",
       "24381    2021-01-31\n",
       "24382    2021-01-31\n",
       "24383    2021-01-31\n",
       "Name: event_date, dtype: object"
      ]
     },
     "execution_count": 58,
     "metadata": {},
     "output_type": "execute_result"
    }
   ],
   "source": [
    "data.loc[data['revenue'] == max(data['revenue']), 'event_date']"
   ]
  },
  {
   "cell_type": "code",
   "execution_count": 59,
   "id": "63fa9675",
   "metadata": {},
   "outputs": [
    {
     "data": {
      "text/plain": [
       "0        2021-01-31\n",
       "1        2021-01-31\n",
       "2        2021-01-31\n",
       "3        2021-01-31\n",
       "4        2021-01-31\n",
       "            ...    \n",
       "26484    2021-01-31\n",
       "26485    2021-01-31\n",
       "26486    2021-01-31\n",
       "26487    2021-01-31\n",
       "26488    2021-01-31\n",
       "Name: event_date, Length: 26036, dtype: object"
      ]
     },
     "execution_count": 59,
     "metadata": {},
     "output_type": "execute_result"
    }
   ],
   "source": [
    "data.loc[data['revenue'] == min(data['revenue']), 'event_date']"
   ]
  },
  {
   "cell_type": "code",
   "execution_count": 60,
   "id": "d7ff4148",
   "metadata": {},
   "outputs": [
    {
     "data": {
      "text/plain": [
       "array(['USD'], dtype=object)"
      ]
     },
     "execution_count": 60,
     "metadata": {},
     "output_type": "execute_result"
    }
   ],
   "source": [
    "data['currency'].unique() # revenue is in usd"
   ]
  },
  {
   "cell_type": "markdown",
   "id": "eed85465",
   "metadata": {},
   "source": [
    "From above we can conclude that over time during the day, the revenue was at it's maximum of 209 dollars on on 15:48, with no revenue generated at 15:47. This line graph does not provide us enough useful information because the timestamps consist of the same day with a slight variation in time from 15:47 to 15:48 which is just a minute long. Hence this cannot be trusted to provide us with sound information."
   ]
  },
  {
   "cell_type": "markdown",
   "id": "76c7cf90",
   "metadata": {},
   "source": [
    "### Revenue Per Product Category"
   ]
  },
  {
   "cell_type": "code",
   "execution_count": 61,
   "id": "8d9c6af1",
   "metadata": {},
   "outputs": [
    {
     "data": {
      "text/html": [
       "<div>\n",
       "<style scoped>\n",
       "    .dataframe tbody tr th:only-of-type {\n",
       "        vertical-align: middle;\n",
       "    }\n",
       "\n",
       "    .dataframe tbody tr th {\n",
       "        vertical-align: top;\n",
       "    }\n",
       "\n",
       "    .dataframe thead th {\n",
       "        text-align: right;\n",
       "    }\n",
       "</style>\n",
       "<table border=\"1\" class=\"dataframe\">\n",
       "  <thead>\n",
       "    <tr style=\"text-align: right;\">\n",
       "      <th></th>\n",
       "      <th>event_bundle_sequence_id</th>\n",
       "      <th>user_pseudo_id</th>\n",
       "      <th>user_first_touch_timestamp</th>\n",
       "      <th>stream_id</th>\n",
       "      <th>revenue</th>\n",
       "      <th>total_item_quantity</th>\n",
       "      <th>purchase_revenue_in_usd</th>\n",
       "      <th>unique_items</th>\n",
       "    </tr>\n",
       "    <tr>\n",
       "      <th>category</th>\n",
       "      <th></th>\n",
       "      <th></th>\n",
       "      <th></th>\n",
       "      <th></th>\n",
       "      <th></th>\n",
       "      <th></th>\n",
       "      <th></th>\n",
       "      <th></th>\n",
       "    </tr>\n",
       "  </thead>\n",
       "  <tbody>\n",
       "    <tr>\n",
       "      <th>desktop</th>\n",
       "      <td>-2.436162e+07</td>\n",
       "      <td>2.002450e+08</td>\n",
       "      <td>1.611368e+15</td>\n",
       "      <td>2.100450e+09</td>\n",
       "      <td>1.966730</td>\n",
       "      <td>1.753555</td>\n",
       "      <td>0.0</td>\n",
       "      <td>6.958382</td>\n",
       "    </tr>\n",
       "    <tr>\n",
       "      <th>mobile</th>\n",
       "      <td>1.346675e+08</td>\n",
       "      <td>4.587778e+08</td>\n",
       "      <td>1.611198e+15</td>\n",
       "      <td>2.100450e+09</td>\n",
       "      <td>0.956984</td>\n",
       "      <td>1.088000</td>\n",
       "      <td>0.0</td>\n",
       "      <td>6.458120</td>\n",
       "    </tr>\n",
       "    <tr>\n",
       "      <th>tablet</th>\n",
       "      <td>-2.894222e+08</td>\n",
       "      <td>3.353767e+08</td>\n",
       "      <td>1.611889e+15</td>\n",
       "      <td>2.100450e+09</td>\n",
       "      <td>0.000000</td>\n",
       "      <td>1.000000</td>\n",
       "      <td>0.0</td>\n",
       "      <td>4.627119</td>\n",
       "    </tr>\n",
       "  </tbody>\n",
       "</table>\n",
       "</div>"
      ],
      "text/plain": [
       "          event_bundle_sequence_id  user_pseudo_id  \\\n",
       "category                                             \n",
       "desktop              -2.436162e+07    2.002450e+08   \n",
       "mobile                1.346675e+08    4.587778e+08   \n",
       "tablet               -2.894222e+08    3.353767e+08   \n",
       "\n",
       "          user_first_touch_timestamp     stream_id   revenue  \\\n",
       "category                                                       \n",
       "desktop                 1.611368e+15  2.100450e+09  1.966730   \n",
       "mobile                  1.611198e+15  2.100450e+09  0.956984   \n",
       "tablet                  1.611889e+15  2.100450e+09  0.000000   \n",
       "\n",
       "          total_item_quantity  purchase_revenue_in_usd  unique_items  \n",
       "category                                                              \n",
       "desktop              1.753555                      0.0      6.958382  \n",
       "mobile               1.088000                      0.0      6.458120  \n",
       "tablet               1.000000                      0.0      4.627119  "
      ]
     },
     "execution_count": 61,
     "metadata": {},
     "output_type": "execute_result"
    }
   ],
   "source": [
    "products = data.groupby('category').agg(np.mean)\n",
    "products"
   ]
  },
  {
   "cell_type": "code",
   "execution_count": 62,
   "id": "06efe95a",
   "metadata": {},
   "outputs": [
    {
     "data": {
      "text/plain": [
       "category\n",
       "desktop    1.966730\n",
       "mobile     0.956984\n",
       "tablet     0.000000\n",
       "Name: revenue, dtype: float64"
      ]
     },
     "execution_count": 62,
     "metadata": {},
     "output_type": "execute_result"
    }
   ],
   "source": [
    "products['revenue']"
   ]
  },
  {
   "cell_type": "code",
   "execution_count": 63,
   "id": "adbeae86",
   "metadata": {},
   "outputs": [
    {
     "data": {
      "text/plain": [
       "array(['WEB'], dtype=object)"
      ]
     },
     "execution_count": 63,
     "metadata": {},
     "output_type": "execute_result"
    }
   ],
   "source": [
    "data['platform'].unique()"
   ]
  },
  {
   "cell_type": "markdown",
   "id": "62dcb268",
   "metadata": {},
   "source": [
    "As seen here the average revenue from orders on the website under desktop cateogry is 1.97 dollars and 0.96 dollars for mobile cateogory. The tablet cateogry is not contributing anything to the revenue."
   ]
  },
  {
   "cell_type": "markdown",
   "id": "b0dd3e34",
   "metadata": {},
   "source": [
    "### Website Performance Across Operating Systems"
   ]
  },
  {
   "cell_type": "code",
   "execution_count": 64,
   "id": "08391809",
   "metadata": {},
   "outputs": [
    {
     "data": {
      "text/html": [
       "<div>\n",
       "<style scoped>\n",
       "    .dataframe tbody tr th:only-of-type {\n",
       "        vertical-align: middle;\n",
       "    }\n",
       "\n",
       "    .dataframe tbody tr th {\n",
       "        vertical-align: top;\n",
       "    }\n",
       "\n",
       "    .dataframe thead th {\n",
       "        text-align: right;\n",
       "    }\n",
       "</style>\n",
       "<table border=\"1\" class=\"dataframe\">\n",
       "  <thead>\n",
       "    <tr style=\"text-align: right;\">\n",
       "      <th></th>\n",
       "      <th>event_bundle_sequence_id</th>\n",
       "      <th>user_pseudo_id</th>\n",
       "      <th>user_first_touch_timestamp</th>\n",
       "      <th>stream_id</th>\n",
       "      <th>revenue</th>\n",
       "      <th>total_item_quantity</th>\n",
       "      <th>purchase_revenue_in_usd</th>\n",
       "      <th>unique_items</th>\n",
       "    </tr>\n",
       "    <tr>\n",
       "      <th>operating_system</th>\n",
       "      <th></th>\n",
       "      <th></th>\n",
       "      <th></th>\n",
       "      <th></th>\n",
       "      <th></th>\n",
       "      <th></th>\n",
       "      <th></th>\n",
       "      <th></th>\n",
       "    </tr>\n",
       "  </thead>\n",
       "  <tbody>\n",
       "    <tr>\n",
       "      <th>&lt;Other&gt;</th>\n",
       "      <td>2.132285e+08</td>\n",
       "      <td>3.489488e+08</td>\n",
       "      <td>1.611372e+15</td>\n",
       "      <td>2.100450e+09</td>\n",
       "      <td>0.000000</td>\n",
       "      <td>1.000000</td>\n",
       "      <td>NaN</td>\n",
       "      <td>5.718750</td>\n",
       "    </tr>\n",
       "    <tr>\n",
       "      <th>Android</th>\n",
       "      <td>3.319043e+08</td>\n",
       "      <td>2.363165e+08</td>\n",
       "      <td>1.611616e+15</td>\n",
       "      <td>2.100450e+09</td>\n",
       "      <td>2.745902</td>\n",
       "      <td>1.379310</td>\n",
       "      <td>0.0</td>\n",
       "      <td>6.864662</td>\n",
       "    </tr>\n",
       "    <tr>\n",
       "      <th>Macintosh</th>\n",
       "      <td>-9.722722e+07</td>\n",
       "      <td>1.574258e+08</td>\n",
       "      <td>1.611176e+15</td>\n",
       "      <td>2.100450e+09</td>\n",
       "      <td>6.291465</td>\n",
       "      <td>1.115385</td>\n",
       "      <td>NaN</td>\n",
       "      <td>5.976526</td>\n",
       "    </tr>\n",
       "    <tr>\n",
       "      <th>Web</th>\n",
       "      <td>-8.656264e+06</td>\n",
       "      <td>2.735052e+08</td>\n",
       "      <td>1.611635e+15</td>\n",
       "      <td>2.100450e+09</td>\n",
       "      <td>0.535102</td>\n",
       "      <td>1.111650</td>\n",
       "      <td>0.0</td>\n",
       "      <td>6.782924</td>\n",
       "    </tr>\n",
       "    <tr>\n",
       "      <th>Windows</th>\n",
       "      <td>3.322069e+07</td>\n",
       "      <td>1.331415e+08</td>\n",
       "      <td>1.610498e+15</td>\n",
       "      <td>2.100450e+09</td>\n",
       "      <td>4.053727</td>\n",
       "      <td>3.509434</td>\n",
       "      <td>0.0</td>\n",
       "      <td>7.408964</td>\n",
       "    </tr>\n",
       "    <tr>\n",
       "      <th>iOS</th>\n",
       "      <td>8.387165e+07</td>\n",
       "      <td>8.059119e+08</td>\n",
       "      <td>1.610301e+15</td>\n",
       "      <td>2.100450e+09</td>\n",
       "      <td>0.111739</td>\n",
       "      <td>1.000000</td>\n",
       "      <td>0.0</td>\n",
       "      <td>5.969900</td>\n",
       "    </tr>\n",
       "  </tbody>\n",
       "</table>\n",
       "</div>"
      ],
      "text/plain": [
       "                  event_bundle_sequence_id  user_pseudo_id  \\\n",
       "operating_system                                             \n",
       "<Other>                       2.132285e+08    3.489488e+08   \n",
       "Android                       3.319043e+08    2.363165e+08   \n",
       "Macintosh                    -9.722722e+07    1.574258e+08   \n",
       "Web                          -8.656264e+06    2.735052e+08   \n",
       "Windows                       3.322069e+07    1.331415e+08   \n",
       "iOS                           8.387165e+07    8.059119e+08   \n",
       "\n",
       "                  user_first_touch_timestamp     stream_id   revenue  \\\n",
       "operating_system                                                       \n",
       "<Other>                         1.611372e+15  2.100450e+09  0.000000   \n",
       "Android                         1.611616e+15  2.100450e+09  2.745902   \n",
       "Macintosh                       1.611176e+15  2.100450e+09  6.291465   \n",
       "Web                             1.611635e+15  2.100450e+09  0.535102   \n",
       "Windows                         1.610498e+15  2.100450e+09  4.053727   \n",
       "iOS                             1.610301e+15  2.100450e+09  0.111739   \n",
       "\n",
       "                  total_item_quantity  purchase_revenue_in_usd  unique_items  \n",
       "operating_system                                                              \n",
       "<Other>                      1.000000                      NaN      5.718750  \n",
       "Android                      1.379310                      0.0      6.864662  \n",
       "Macintosh                    1.115385                      NaN      5.976526  \n",
       "Web                          1.111650                      0.0      6.782924  \n",
       "Windows                      3.509434                      0.0      7.408964  \n",
       "iOS                          1.000000                      0.0      5.969900  "
      ]
     },
     "execution_count": 64,
     "metadata": {},
     "output_type": "execute_result"
    }
   ],
   "source": [
    "os = data.groupby('operating_system').agg(np.mean)\n",
    "os"
   ]
  },
  {
   "cell_type": "code",
   "execution_count": 65,
   "id": "879234e3",
   "metadata": {},
   "outputs": [
    {
     "data": {
      "text/plain": [
       "operating_system\n",
       "<Other>      0.000000\n",
       "Android      2.745902\n",
       "Macintosh    6.291465\n",
       "Web          0.535102\n",
       "Windows      4.053727\n",
       "iOS          0.111739\n",
       "Name: revenue, dtype: float64"
      ]
     },
     "execution_count": 65,
     "metadata": {},
     "output_type": "execute_result"
    }
   ],
   "source": [
    "os['revenue']"
   ]
  },
  {
   "cell_type": "markdown",
   "id": "a8f26a47",
   "metadata": {},
   "source": [
    "This shows that users with macintosh operating system contribute most to the revenue generated by the website.\n",
    "### Measuring Performance based on Event"
   ]
  },
  {
   "cell_type": "code",
   "execution_count": 66,
   "id": "21f9db1c",
   "metadata": {},
   "outputs": [
    {
     "data": {
      "text/plain": [
       "Index(['event_date', 'event_timestamp', 'event_name',\n",
       "       'event_bundle_sequence_id', 'user_pseudo_id',\n",
       "       'user_first_touch_timestamp', 'stream_id', 'platform', 'items',\n",
       "       'uses_transient_token', 'revenue', 'currency', 'category',\n",
       "       'mobile_brand_name', 'mobile_model_name', 'mobile_marketing_name',\n",
       "       'mobile_os_hardware_model', 'operating_system',\n",
       "       'operating_system_version', 'language', 'is_limited_ad_tracking',\n",
       "       'browser', 'browser_version', 'medium', 'name', 'source',\n",
       "       'total_item_quantity', 'purchase_revenue_in_usd', 'unique_items',\n",
       "       'transaction_id', 'continent', 'sub_continent', 'country', 'region',\n",
       "       'city', 'metro'],\n",
       "      dtype='object')"
      ]
     },
     "execution_count": 66,
     "metadata": {},
     "output_type": "execute_result"
    }
   ],
   "source": [
    "data.columns"
   ]
  },
  {
   "cell_type": "code",
   "execution_count": 67,
   "id": "4a9f6a97",
   "metadata": {},
   "outputs": [
    {
     "data": {
      "text/plain": [
       "page_view              9498\n",
       "user_engagement        5005\n",
       "scroll                 2870\n",
       "session_start          2760\n",
       "first_visit            2127\n",
       "view_item              1829\n",
       "view_promotion         1190\n",
       "add_to_cart             295\n",
       "select_item             237\n",
       "begin_checkout          234\n",
       "view_search_results     198\n",
       "add_shipping_info       100\n",
       "select_promotion         71\n",
       "add_payment_info         53\n",
       "purchase                 19\n",
       "click                     3\n",
       "Name: event_name, dtype: int64"
      ]
     },
     "execution_count": 67,
     "metadata": {},
     "output_type": "execute_result"
    }
   ],
   "source": [
    "event_counts = data['event_name'].value_counts()\n",
    "event_counts"
   ]
  },
  {
   "cell_type": "markdown",
   "id": "c35ac4f4",
   "metadata": {},
   "source": [
    "Here we can consider that events named begin_checkout, select_promotion and add_payment_info all lead to increased probability of the client placing the order. Here first_event shall  be used to detect any new customer traffic on the website. While view_promotion and select_promotion events can be used to see how much traffic is on the website due to the promotions. "
   ]
  },
  {
   "cell_type": "code",
   "execution_count": 68,
   "id": "6a05c5f9",
   "metadata": {},
   "outputs": [
    {
     "data": {
      "image/png": "[encoded data removed]",
      "text/plain": [
       "<Figure size 2160x576 with 1 Axes>"
      ]
     },
     "metadata": {},
     "output_type": "display_data"
    }
   ],
   "source": [
    "plt.figure(figsize=(30, 8))\n",
    "y = (event_counts/event_counts.sum()) * 100\n",
    "mylabels = event_counts.index\n",
    "labels = ['{0} - {1:1.2f} %'.format(i,j) for i,j in zip(mylabels, y)]\n",
    "plt.pie(y)\n",
    "plt.legend(labels,title = \"Event Type\",loc='right',bbox_to_anchor=(0, 0.5))\n",
    "plt.title('User Traffic According to Event Type',fontdict={'fontsize': 19})\n",
    "plt.show() "
   ]
  },
  {
   "cell_type": "markdown",
   "id": "8dc19faf",
   "metadata": {},
   "source": [
    "As explained above following observations can be made:\n",
    "    - Only 1.35% of the users that visit the website have increased chances of making a purchase <br>\n",
    "    - Of all the users, 0.08% are new customers that the store has acquired<br>\n",
    "    - Due to the promotions 8.03% of the users visit the website of the store<br>\n",
    "    - Only 19 users make a purchase which eventually shows that most visitors on the website do not place an order. There is only 0.07% purchases out of all the events users carry out<br>\n",
    "    \n",
    "## Conversion Rate Analysis\n",
    "This section will judge conversion of events on the website to purchases to assess the performance of the store\n",
    "### Overall Conversion rate"
   ]
  },
  {
   "cell_type": "code",
   "execution_count": 69,
   "id": "f2722019",
   "metadata": {},
   "outputs": [
    {
     "data": {
      "text/plain": [
       "0.07172788704745367"
      ]
     },
     "execution_count": 69,
     "metadata": {},
     "output_type": "execute_result"
    }
   ],
   "source": [
    "conversion_rate = event_counts['purchase']/event_counts.sum()\n",
    "conversion_rate*100"
   ]
  },
  {
   "cell_type": "markdown",
   "id": "d4f0e441",
   "metadata": {},
   "source": [
    "As seen above, only 19 orders were placed which makes it 0.07 percent of the users placing an order on the website\n",
    "### Conversion Rates According to Location\n",
    "#### Location: Continent"
   ]
  },
  {
   "cell_type": "code",
   "execution_count": 70,
   "id": "7ac4aa4d",
   "metadata": {},
   "outputs": [
    {
     "data": {
      "text/plain": [
       "event_name         continent\n",
       "page_view          Americas     5130\n",
       "user_engagement    Americas     2645\n",
       "page_view          Asia         2353\n",
       "                   Europe       1741\n",
       "scroll             Americas     1499\n",
       "                                ... \n",
       "select_promotion   Africa          1\n",
       "scroll             (not set)       1\n",
       "click              Asia            1\n",
       "add_shipping_info  Oceania         1\n",
       "add_payment_info   Oceania         1\n",
       "Length: 81, dtype: int64"
      ]
     },
     "execution_count": 70,
     "metadata": {},
     "output_type": "execute_result"
    }
   ],
   "source": [
    "continent = data[['event_name', 'continent']].value_counts(dropna=False)\n",
    "continent"
   ]
  },
  {
   "cell_type": "code",
   "execution_count": 71,
   "id": "c737313b",
   "metadata": {},
   "outputs": [
    {
     "data": {
      "text/plain": [
       "event_name        continent\n",
       "purchase          Asia          11\n",
       "                  Americas       6\n",
       "                  Europe         2\n",
       "begin_checkout    Americas     120\n",
       "                  Asia          48\n",
       "                  Europe        44\n",
       "                  Africa        19\n",
       "                  Oceania        3\n",
       "select_promotion  Americas      38\n",
       "                  Asia          19\n",
       "                  Europe        12\n",
       "                  Oceania        1\n",
       "                  Africa         1\n",
       "add_payment_info  Americas      21\n",
       "                  Asia          18\n",
       "                  Europe        11\n",
       "                  Africa         2\n",
       "                  Oceania        1\n",
       "dtype: int64"
      ]
     },
     "execution_count": 71,
     "metadata": {},
     "output_type": "execute_result"
    }
   ],
   "source": [
    "continent[['purchase', 'begin_checkout', 'select_promotion', 'add_payment_info']]"
   ]
  },
  {
   "cell_type": "code",
   "execution_count": 72,
   "id": "deb0f3a6",
   "metadata": {},
   "outputs": [],
   "source": [
    "def form_bins(locations, events):\n",
    "    '''This function is a utility function that creates a list for each location with its elements representing\n",
    "    [begin_checkout user count wrt location,select_promotion user count wrt location,add_payment_info user count wrt\n",
    "    location]'''\n",
    "    america = []\n",
    "    asia=[]\n",
    "    europe=[]\n",
    "    africa=[]\n",
    "    oceania=[]\n",
    "    for i in locations:\n",
    "        for j in events:\n",
    "            if i == 'Americas':\n",
    "                america.append(continent[j][i])\n",
    "            elif i == 'Asia':\n",
    "                asia.append(continent[j][i])\n",
    "            elif i == 'Europe':\n",
    "                europe.append(continent[j][i])\n",
    "            elif i == 'Africa':\n",
    "                africa.append(continent[j][i])\n",
    "            else:\n",
    "                oceania.append(continent[j][i])\n",
    "    \n",
    "    # for each location you get counts of the three events selected \n",
    "    # ex: america = [120,38,21]\n",
    "    return america,asia,europe,africa,oceania"
   ]
  },
  {
   "cell_type": "code",
   "execution_count": 73,
   "id": "6124146e",
   "metadata": {},
   "outputs": [
    {
     "data": {
      "text/plain": [
       "[120, 38, 21]"
      ]
     },
     "execution_count": 73,
     "metadata": {},
     "output_type": "execute_result"
    }
   ],
   "source": [
    "\n",
    "locations = ['Americas','Asia','Europe','Africa','Oceania']\n",
    "events = ['begin_checkout', 'select_promotion', 'add_payment_info']\n",
    "\n",
    "# Each of these lists is used to create the grouped bar chart below by segmenting user counts according to locations\n",
    "america,asia,europe,africa,oceania = form_bins(locations,events)\n",
    "america"
   ]
  },
  {
   "cell_type": "code",
   "execution_count": 74,
   "id": "f49735b8",
   "metadata": {},
   "outputs": [
    {
     "data": {
      "text/plain": [
       "<Figure size 1440x576 with 0 Axes>"
      ]
     },
     "metadata": {},
     "output_type": "display_data"
    },
    {
     "data": {
      "image/png": "[encoded data removed]",
      "text/plain": [
       "<Figure size 720x432 with 1 Axes>"
      ]
     },
     "metadata": {
      "needs_background": "light"
     },
     "output_type": "display_data"
    }
   ],
   "source": [
    "plt.figure(figsize=(20, 8))\n",
    "locs = {\n",
    "    'Americas': america,\n",
    "    'Asia': asia,\n",
    "    'Europe': europe,\n",
    "    'Africa': africa,\n",
    "    'Oceania': oceania\n",
    "}\n",
    "\n",
    "x = np.arange(len(events))  # the label locations\n",
    "width = 0.15  # the width of the bars\n",
    "multiplier = 0\n",
    "\n",
    "fig, ax = plt.subplots(layout='constrained',figsize = (10,6))\n",
    "\n",
    "for attribute, measurement in locs.items():\n",
    "    offset = width * multiplier\n",
    "    rects = ax.bar(x + offset, measurement, width, label=attribute)\n",
    "    ax.bar_label(rects, padding=5)\n",
    "    multiplier += 1\n",
    "\n",
    "# Add some text for labels, title and custom x-axis tick labels, etc.\n",
    "ax.set_ylabel('User Count')\n",
    "ax.set_title('Contribution of Continents to Increase Chances of Purchase',fontsize=20)\n",
    "ax.set_xticks(x + width, events)\n",
    "ax.legend(loc='upper left')\n",
    "ax.set_ylim(0, 250)\n",
    "\n",
    "plt.show()"
   ]
  },
  {
   "cell_type": "markdown",
   "id": "2ffe99a4",
   "metadata": {},
   "source": [
    "Here it can be observed that most people in america begin to checkout which is an indicator of increased chances of making a purchase.On second, it would be Asia. It must also be noticed that Oceania and Africa are contributing almost nothing to increase chances of a purchase."
   ]
  },
  {
   "cell_type": "code",
   "execution_count": 75,
   "id": "c781c7c4",
   "metadata": {},
   "outputs": [
    {
     "data": {
      "text/plain": [
       "Text(0.5, 1.0, 'Contribution of Continents to Purchases')"
      ]
     },
     "execution_count": 75,
     "metadata": {},
     "output_type": "execute_result"
    },
    {
     "data": {
      "image/png": "[encoded data removed]",
      "text/plain": [
       "<Figure size 504x360 with 1 Axes>"
      ]
     },
     "metadata": {
      "needs_background": "light"
     },
     "output_type": "display_data"
    }
   ],
   "source": [
    "plt.figure(figsize=(7, 5))\n",
    "counts =[6,11,2,0,0]\n",
    "plt.bar(locations,counts)\n",
    "plt.ylabel('User Count')\n",
    "plt.xlabel('Continent')\n",
    "plt.title('Contribution of Continents to Purchases',fontsize=15)\n"
   ]
  },
  {
   "cell_type": "markdown",
   "id": "9398eee0",
   "metadata": {},
   "source": [
    "As noticeable Asia contributes the most to conversion rate and then on second is America. It can also be seen that no purchases have been made from Africa and Oceania, hence they donot contribute anything to the conversion rate\n",
    "\n",
    "#### Location: Country"
   ]
  },
  {
   "cell_type": "code",
   "execution_count": 76,
   "id": "9883683c",
   "metadata": {},
   "outputs": [
    {
     "data": {
      "text/plain": [
       "event_name         country      \n",
       "page_view          United States    4129\n",
       "user_engagement    United States    2104\n",
       "session_start      United States    1198\n",
       "scroll             United States    1174\n",
       "first_visit        United States     904\n",
       "                                    ... \n",
       "                   Uruguay             1\n",
       "view_item          South Africa        1\n",
       "add_shipping_info  Portugal            1\n",
       "session_start      Estonia             1\n",
       "add_payment_info   Australia           1\n",
       "Length: 729, dtype: int64"
      ]
     },
     "execution_count": 76,
     "metadata": {},
     "output_type": "execute_result"
    }
   ],
   "source": [
    "country = data[['event_name', 'country']].value_counts(dropna=False)\n",
    "country"
   ]
  },
  {
   "cell_type": "code",
   "execution_count": 77,
   "id": "9c64fcff",
   "metadata": {},
   "outputs": [
    {
     "data": {
      "text/plain": [
       "country\n",
       "United States    5\n",
       "Japan            3\n",
       "Singapore        2\n",
       "Iraq             2\n",
       "India            2\n",
       "South Korea      1\n",
       "Thailand         1\n",
       "Canada           1\n",
       "Italy            1\n",
       "Netherlands      1\n",
       "dtype: int64"
      ]
     },
     "execution_count": 77,
     "metadata": {},
     "output_type": "execute_result"
    }
   ],
   "source": [
    "country['purchase']"
   ]
  },
  {
   "cell_type": "code",
   "execution_count": 78,
   "id": "9aea56e8",
   "metadata": {},
   "outputs": [
    {
     "data": {
      "text/plain": [
       "Text(0.5, 1.0, 'Contribution of Countries to Purchases')"
      ]
     },
     "execution_count": 78,
     "metadata": {},
     "output_type": "execute_result"
    },
    {
     "data": {
      "image/png": "[encoded data removed]",
      "text/plain": [
       "<Figure size 720x360 with 1 Axes>"
      ]
     },
     "metadata": {
      "needs_background": "light"
     },
     "output_type": "display_data"
    }
   ],
   "source": [
    "plt.figure(figsize=(10, 5))\n",
    "\n",
    "plt.bar(country['purchase'].index,country['purchase'])\n",
    "\n",
    "plt.ylabel('User Count')\n",
    "plt.xlabel('Country')\n",
    "plt.title('Contribution of Countries to Purchases',fontsize=15)"
   ]
  },
  {
   "cell_type": "markdown",
   "id": "41a1a8bf",
   "metadata": {},
   "source": [
    "As observed here, customers from US purchase most products and then on second is Japan. \n",
    "#### Location: Region"
   ]
  },
  {
   "cell_type": "code",
   "execution_count": 79,
   "id": "d1e7f57c",
   "metadata": {},
   "outputs": [
    {
     "data": {
      "text/plain": [
       "event_name       region      \n",
       "page_view        (not set)       1029\n",
       "                 California       710\n",
       "user_engagement  (not set)        614\n",
       "page_view        Texas            437\n",
       "user_engagement  California       352\n",
       "                                 ... \n",
       "                 Antalya            1\n",
       "first_visit      North Dakota       1\n",
       "user_engagement  Berlin             1\n",
       "scroll           Antalya            1\n",
       "user_engagement  Brandenburg        1\n",
       "Length: 2062, dtype: int64"
      ]
     },
     "execution_count": 79,
     "metadata": {},
     "output_type": "execute_result"
    }
   ],
   "source": [
    "region = data[['event_name', 'region']].value_counts(dropna=False)\n",
    "region"
   ]
  },
  {
   "cell_type": "code",
   "execution_count": 80,
   "id": "be518acb",
   "metadata": {},
   "outputs": [
    {
     "data": {
      "text/plain": [
       "region\n",
       "(not set)               5\n",
       "Lazio                   1\n",
       "Hyogo                   1\n",
       "Gyeonggi-do             1\n",
       "Gujarat                 1\n",
       "Fukuoka                 1\n",
       "Bangkok                 1\n",
       "Nebraska                1\n",
       "Virginia                1\n",
       "Tennessee               1\n",
       "Rajasthan               1\n",
       "Prince Edward Island    1\n",
       "North Holland           1\n",
       "North Carolina          1\n",
       "New York                1\n",
       "dtype: int64"
      ]
     },
     "execution_count": 80,
     "metadata": {},
     "output_type": "execute_result"
    }
   ],
   "source": [
    "region['purchase']"
   ]
  },
  {
   "cell_type": "markdown",
   "id": "eed7368c",
   "metadata": {},
   "source": [
    "As observed from the data, the region with most purchases is not labelled and all other regions consist of a single purchase which does'nt contribute to our understanding of the data. Hence we donot proceed with this perspective"
   ]
  },
  {
   "cell_type": "markdown",
   "id": "e4dbaac8",
   "metadata": {},
   "source": [
    "### Conversion Rates According to Mediums and Sources"
   ]
  },
  {
   "cell_type": "code",
   "execution_count": 81,
   "id": "f8a8e588",
   "metadata": {},
   "outputs": [
    {
     "data": {
      "text/plain": [
       "array(['organic', '(none)', '<Other>', 'cpc', 'referral',\n",
       "       '(data deleted)'], dtype=object)"
      ]
     },
     "execution_count": 81,
     "metadata": {},
     "output_type": "execute_result"
    }
   ],
   "source": [
    "data['medium'].unique()"
   ]
  },
  {
   "cell_type": "markdown",
   "id": "fd0c3f9b",
   "metadata": {},
   "source": [
    "Medium: Every referral to a website also has a medium. Possible medium include: “organic” (unpaid search), “cpc” (cost per click, i.e. paid search), “referral” (referral), “email” (the name of a custom medium you have created), “none” (direct traffic has a medium of “none”)."
   ]
  },
  {
   "cell_type": "code",
   "execution_count": 82,
   "id": "5281d82b",
   "metadata": {},
   "outputs": [
    {
     "data": {
      "text/plain": [
       "array(['google', '(direct)', '<Other>', 'shop.googlemerchandisestore.com',\n",
       "       '(data deleted)'], dtype=object)"
      ]
     },
     "execution_count": 82,
     "metadata": {},
     "output_type": "execute_result"
    }
   ],
   "source": [
    "data['source'].unique()"
   ]
  },
  {
   "cell_type": "markdown",
   "id": "5dc75608",
   "metadata": {},
   "source": [
    "Direct traffic can come from different sources:<br>\n",
    "If a visitor knows your URL and enters it directly into his/her browser's address bar <br>\n",
    "If a visitor has bookmarked your site or saved it as a favourite in his/her browser <br>\n",
    "If a visitor clicks on a link contained in an email (the URL has been shared by a third person.<br>"
   ]
  },
  {
   "cell_type": "code",
   "execution_count": 83,
   "id": "063773df",
   "metadata": {},
   "outputs": [
    {
     "data": {
      "text/plain": [
       "event_name        medium        \n",
       "page_view         organic           3077\n",
       "                  (none)            2447\n",
       "                  referral          1638\n",
       "user_engagement   organic           1540\n",
       "                  (none)            1375\n",
       "                                    ... \n",
       "click             referral             1\n",
       "first_visit       (data deleted)       1\n",
       "purchase          referral             1\n",
       "select_promotion  (data deleted)       1\n",
       "click             <Other>              1\n",
       "Length: 92, dtype: int64"
      ]
     },
     "execution_count": 83,
     "metadata": {},
     "output_type": "execute_result"
    }
   ],
   "source": [
    "medium = data[['event_name', 'medium']].value_counts(dropna=False)\n",
    "medium"
   ]
  },
  {
   "cell_type": "code",
   "execution_count": 84,
   "id": "d44b4d36",
   "metadata": {},
   "outputs": [
    {
     "data": {
      "text/plain": [
       "medium\n",
       "(none)            7\n",
       "organic           5\n",
       "<Other>           4\n",
       "(data deleted)    2\n",
       "referral          1\n",
       "dtype: int64"
      ]
     },
     "execution_count": 84,
     "metadata": {},
     "output_type": "execute_result"
    }
   ],
   "source": [
    "medium['purchase']"
   ]
  },
  {
   "cell_type": "markdown",
   "id": "cd7ad753",
   "metadata": {},
   "source": [
    "It can be observed that the purchases made on the website were majorly organic but comparitively other mediums also seem to play an eqivalent part in brining in the orders."
   ]
  },
  {
   "cell_type": "code",
   "execution_count": 85,
   "id": "f181a106",
   "metadata": {},
   "outputs": [
    {
     "data": {
      "text/plain": [
       "event_name       source                         \n",
       "page_view        google                             3338\n",
       "                 (direct)                           2447\n",
       "                 <Other>                            2353\n",
       "user_engagement  google                             1669\n",
       "                 (direct)                           1375\n",
       "                                                    ... \n",
       "purchase         shop.googlemerchandisestore.com       1\n",
       "first_visit      (data deleted)                        1\n",
       "click            shop.googlemerchandisestore.com       1\n",
       "                 google                                1\n",
       "                 <Other>                               1\n",
       "Length: 78, dtype: int64"
      ]
     },
     "execution_count": 85,
     "metadata": {},
     "output_type": "execute_result"
    }
   ],
   "source": [
    "source = data[['event_name', 'source']].value_counts(dropna=False)\n",
    "source"
   ]
  },
  {
   "cell_type": "code",
   "execution_count": 86,
   "id": "7bcebfde",
   "metadata": {},
   "outputs": [
    {
     "data": {
      "text/plain": [
       "source\n",
       "(direct)                           7\n",
       "google                             5\n",
       "<Other>                            4\n",
       "(data deleted)                     2\n",
       "shop.googlemerchandisestore.com    1\n",
       "dtype: int64"
      ]
     },
     "execution_count": 86,
     "metadata": {},
     "output_type": "execute_result"
    }
   ],
   "source": [
    "source['purchase']"
   ]
  },
  {
   "cell_type": "markdown",
   "id": "f63ac52e",
   "metadata": {},
   "source": [
    "As observed most purchases are made through direct sources which is also an indicator of regular and loyal customers of the store. Second is google which is also equivalent to organic traffic that is through a search engine and naturally earned. Hence we can conclude that the conversion rate is boosted through purchases made by organic and direct sources.\n",
    "\n",
    "## User Traffic/Engagement Analysis"
   ]
  },
  {
   "cell_type": "code",
   "execution_count": 87,
   "id": "08edfabd",
   "metadata": {},
   "outputs": [
    {
     "data": {
      "text/plain": [
       "organic           8538\n",
       "(none)            7064\n",
       "referral          4368\n",
       "<Other>           3709\n",
       "(data deleted)    1448\n",
       "cpc               1362\n",
       "Name: medium, dtype: int64"
      ]
     },
     "execution_count": 87,
     "metadata": {},
     "output_type": "execute_result"
    }
   ],
   "source": [
    "data['medium'].value_counts()"
   ]
  },
  {
   "cell_type": "code",
   "execution_count": 88,
   "id": "7e89f476",
   "metadata": {},
   "outputs": [
    {
     "data": {
      "text/plain": [
       "Text(0.5, 1.0, 'User Traffic From Different Mediums')"
      ]
     },
     "execution_count": 88,
     "metadata": {},
     "output_type": "execute_result"
    },
    {
     "data": {
      "image/png": "[encoded data removed]",
      "text/plain": [
       "<Figure size 720x360 with 1 Axes>"
      ]
     },
     "metadata": {
      "needs_background": "light"
     },
     "output_type": "display_data"
    }
   ],
   "source": [
    "plt.figure(figsize=(10, 5))\n",
    "\n",
    "plt.bar(data['medium'].value_counts().index,data['medium'].value_counts())\n",
    "\n",
    "plt.ylabel('User Count')\n",
    "plt.xlabel('Medium')\n",
    "plt.title('User Traffic From Different Mediums',fontsize=15)"
   ]
  },
  {
   "cell_type": "code",
   "execution_count": 89,
   "id": "eaabef8b",
   "metadata": {},
   "outputs": [
    {
     "data": {
      "text/plain": [
       "16.48986371701461"
      ]
     },
     "execution_count": 89,
     "metadata": {},
     "output_type": "execute_result"
    }
   ],
   "source": [
    "# percentage of users that come by reference\n",
    "data['medium'].value_counts()['referral']/data['medium'].value_counts().sum() * 100"
   ]
  },
  {
   "cell_type": "code",
   "execution_count": 90,
   "id": "2ffcb70d",
   "metadata": {},
   "outputs": [
    {
     "data": {
      "text/plain": [
       "5.141756955717468"
      ]
     },
     "execution_count": 90,
     "metadata": {},
     "output_type": "execute_result"
    }
   ],
   "source": [
    "# percentage of users that come through paid ads\n",
    "data['medium'].value_counts()['cpc']/data['medium'].value_counts().sum() * 100"
   ]
  },
  {
   "cell_type": "markdown",
   "id": "4e311b09",
   "metadata": {},
   "source": [
    "As obseved, most users that engage on the website are organic users while only 16.5% users visit the website through referral.It is also significant to note that only 5.14% of the traffic on the website is due to cost per click ads, hence indicating that the advertising strategy of the store is not able to bring customers let alone purchases. "
   ]
  },
  {
   "cell_type": "code",
   "execution_count": 91,
   "id": "26776c31",
   "metadata": {},
   "outputs": [
    {
     "data": {
      "text/plain": [
       "google                             9261\n",
       "(direct)                           7064\n",
       "<Other>                            6578\n",
       "shop.googlemerchandisestore.com    2149\n",
       "(data deleted)                     1437\n",
       "Name: source, dtype: int64"
      ]
     },
     "execution_count": 91,
     "metadata": {},
     "output_type": "execute_result"
    }
   ],
   "source": [
    "src = data['source'].value_counts()\n",
    "src"
   ]
  },
  {
   "cell_type": "code",
   "execution_count": 92,
   "id": "64a789a7",
   "metadata": {
    "scrolled": false
   },
   "outputs": [
    {
     "data": {
      "image/png": "[encoded data removed]",
      "text/plain": [
       "<Figure size 2160x576 with 1 Axes>"
      ]
     },
     "metadata": {},
     "output_type": "display_data"
    }
   ],
   "source": [
    "plt.figure(figsize=(30, 8))\n",
    "y = (src/src.sum())*100\n",
    "mylabels = src.index\n",
    "labels = ['{0} - {1:1.2f} %'.format(i,j) for i,j in zip(mylabels, y)]\n",
    "plt.pie(y)\n",
    "plt.legend(labels,title = \"Source\",loc='right',bbox_to_anchor=(0, 0.5))\n",
    "plt.title('User Traffic From Different Sources',fontdict={'fontsize': 19})\n",
    "plt.show() "
   ]
  },
  {
   "cell_type": "markdown",
   "id": "30e28b5e",
   "metadata": {},
   "source": [
    "As observed most people access the website through direct and organic sources like google which is a search engine\n",
    "\n",
    "## Mobile Optimization\n",
    "Mobile optimization refers to the process of designing and adapting a website, application, or digital content to provide an optimal and seamless user experience on mobile devices, such as smartphones and tablets. It involves optimizing the layout, design, functionality, and performance of the digital asset to ensure it is easily accessible, usable, and visually appealing on smaller screens with touch-based interactions.<br><br>\n",
    "Here we will analyse data to see what needs to be done when it comes to mobile optimization"
   ]
  },
  {
   "cell_type": "code",
   "execution_count": 93,
   "id": "e86e08af",
   "metadata": {},
   "outputs": [
    {
     "data": {
      "text/plain": [
       "array(['Apple', 'Google', '<Other>', 'Microsoft', 'Xiaomi', 'Samsung',\n",
       "       'Mozilla', 'Huawei'], dtype=object)"
      ]
     },
     "execution_count": 93,
     "metadata": {},
     "output_type": "execute_result"
    }
   ],
   "source": [
    "data['mobile_brand_name'].unique() #all available brand categories"
   ]
  },
  {
   "cell_type": "code",
   "execution_count": 94,
   "id": "8fee4048",
   "metadata": {},
   "outputs": [
    {
     "data": {
      "text/plain": [
       "array(['<Other>'], dtype=object)"
      ]
     },
     "execution_count": 94,
     "metadata": {},
     "output_type": "execute_result"
    }
   ],
   "source": [
    "data['mobile_marketing_name'].unique()"
   ]
  },
  {
   "cell_type": "code",
   "execution_count": 95,
   "id": "1c8ac783",
   "metadata": {},
   "outputs": [
    {
     "data": {
      "text/plain": [
       "array(['iPhone', 'Chrome', '<Other>', 'Edge', 'Safari', 'ChromeBook',\n",
       "       'Firefox', 'Pixel 4 XL', 'iPad', 'Pixel 3'], dtype=object)"
      ]
     },
     "execution_count": 95,
     "metadata": {},
     "output_type": "execute_result"
    }
   ],
   "source": [
    "data['mobile_model_name'].unique()"
   ]
  },
  {
   "cell_type": "code",
   "execution_count": 96,
   "id": "aee3fef8",
   "metadata": {},
   "outputs": [
    {
     "data": {
      "text/plain": [
       "array([None], dtype=object)"
      ]
     },
     "execution_count": 96,
     "metadata": {},
     "output_type": "execute_result"
    }
   ],
   "source": [
    "data['mobile_os_hardware_model'].unique()"
   ]
  },
  {
   "cell_type": "markdown",
   "id": "d49d1020",
   "metadata": {},
   "source": [
    "This reveals that mobile_model_name and mobile_brand_name columns can be used to look for user traffic"
   ]
  },
  {
   "cell_type": "code",
   "execution_count": 97,
   "id": "f451776c",
   "metadata": {},
   "outputs": [
    {
     "data": {
      "text/plain": [
       "Apple        11272\n",
       "Google        8973\n",
       "<Other>       2163\n",
       "Samsung       1893\n",
       "Microsoft      822\n",
       "Xiaomi         640\n",
       "Huawei         388\n",
       "Mozilla        338\n",
       "Name: mobile_brand_name, dtype: int64"
      ]
     },
     "execution_count": 97,
     "metadata": {},
     "output_type": "execute_result"
    }
   ],
   "source": [
    "mob = data['mobile_brand_name'].value_counts()\n",
    "mob"
   ]
  },
  {
   "cell_type": "code",
   "execution_count": 98,
   "id": "980eac0a",
   "metadata": {},
   "outputs": [
    {
     "data": {
      "image/png": "[encoded data removed]",
      "text/plain": [
       "<Figure size 648x360 with 1 Axes>"
      ]
     },
     "metadata": {
      "needs_background": "light"
     },
     "output_type": "display_data"
    }
   ],
   "source": [
    "plt.figure(figsize=(9, 5))\n",
    "# Plot horizontal bar chart\n",
    "bars = plt.barh(mob.index,mob)\n",
    "\n",
    "# To get data labels\n",
    "for  bar in bars:\n",
    "    width = bar.get_width()\n",
    "    label_y = bar.get_y() + bar.get_height() / 2\n",
    "    plt.text(width, label_y, s=f'{width}')\n",
    "\n",
    "# Define axes labels\n",
    "plt.xlabel(\"No. of Users\")\n",
    "plt.ylabel(\"Mobile Brand\")\n",
    "plt.title('Mobile Brands in Use by Customers',fontdict={'fontsize': 15})\n",
    "\n",
    "# Display a bar chart   \n",
    "plt.show()"
   ]
  },
  {
   "cell_type": "markdown",
   "id": "aa0a3b7e",
   "metadata": {},
   "source": [
    "As observed most customers own mobile phone of Apple and at Second of Google. Hence, it is important to invest in mobile optimization of website for users with phones from these brands "
   ]
  },
  {
   "cell_type": "code",
   "execution_count": 99,
   "id": "12a461e9",
   "metadata": {},
   "outputs": [
    {
     "data": {
      "text/plain": [
       "Chrome        7351\n",
       "<Other>       5495\n",
       "Safari        5442\n",
       "iPhone        5441\n",
       "ChromeBook    1022\n",
       "Edge           791\n",
       "iPad           389\n",
       "Firefox        338\n",
       "Pixel 4 XL     159\n",
       "Pixel 3         61\n",
       "Name: mobile_model_name, dtype: int64"
      ]
     },
     "execution_count": 99,
     "metadata": {},
     "output_type": "execute_result"
    }
   ],
   "source": [
    "mod = data['mobile_model_name'].value_counts()\n",
    "mod"
   ]
  },
  {
   "cell_type": "code",
   "execution_count": 100,
   "id": "4689ea56",
   "metadata": {},
   "outputs": [
    {
     "data": {
      "image/png": "[encoded data removed]",
      "text/plain": [
       "<Figure size 648x360 with 1 Axes>"
      ]
     },
     "metadata": {
      "needs_background": "light"
     },
     "output_type": "display_data"
    }
   ],
   "source": [
    "plt.figure(figsize=(9, 5))\n",
    "# Plot horizontal bar chart\n",
    "bars = plt.barh(mod.index,mod)\n",
    "\n",
    "# To get data labels\n",
    "for  bar in bars:\n",
    "    width = bar.get_width()\n",
    "    label_y = bar.get_y() + bar.get_height() / 2\n",
    "    plt.text(width, label_y, s=f'{width}')\n",
    "\n",
    "# Define axes labels\n",
    "plt.xlabel(\"No. of Users\")\n",
    "plt.ylabel(\"Mobile Model\")\n",
    "plt.title('Mobile Models in Use by Customers',fontdict={'fontsize': 15})\n",
    "\n",
    "# Display a bar chart   \n",
    "plt.show()"
   ]
  },
  {
   "cell_type": "markdown",
   "id": "1def300a",
   "metadata": {},
   "source": [
    "As observed most customers use chrome to access the website, hence most investment should be directed towards optimizing website for chrome users. Secondly, Safari and iPhone users also need attention in order to direct more customers to the website because as it was seen earlier most customers own Apple phones.This will be a great way to generate more traffic and eventually increasing chances of purchase."
   ]
  },
  {
   "cell_type": "code",
   "execution_count": null,
   "id": "24bee21b",
   "metadata": {},
   "outputs": [],
   "source": []
  }
 ],
 "metadata": {
  "kernelspec": {
   "display_name": "Python 3 (ipykernel)",
   "language": "python",
   "name": "python3"
  },
  "language_info": {
   "codemirror_mode": {
    "name": "ipython",
    "version": 3
   },
   "file_extension": ".py",
   "mimetype": "text/x-python",
   "name": "python",
   "nbconvert_exporter": "python",
   "pygments_lexer": "ipython3",
   "version": "3.10.5"
  }
 },
 "nbformat": 4,
 "nbformat_minor": 5
}
